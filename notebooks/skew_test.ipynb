{
 "cells": [
  {
   "cell_type": "code",
   "execution_count": 1,
   "metadata": {},
   "outputs": [
    {
     "name": "stdout",
     "output_type": "stream",
     "text": [
      "\u001b[32m2024-08-09 13:51:47.327\u001b[0m | \u001b[1mINFO    \u001b[0m | \u001b[36mstochastic_volatility_models.config\u001b[0m:\u001b[36minitialise\u001b[0m:\u001b[36m30\u001b[0m - \u001b[1mLoaded module `stochastic_volatility_models` from project directory path `/Users/mayurankv/Documents/Mayuran/Programming/Projects/Academic/Imperial College London/MSc Statistics/Dissertation/Project/modules`\u001b[0m\n"
     ]
    }
   ],
   "source": [
    "from stochastic_volatility_models.src.models.rough_bergomi.rough_bergomi import RoughBergomi\n",
    "from stochastic_volatility_models.src.models.heston.heston import Heston\n",
    "from stochastic_volatility_models.src.core.evaluation_functions import surface_atm_skew, surface_evaluation\n",
    "from stochastic_volatility_models.src.utils.options.skew import atm_skew\n",
    "\n",
    "from notebook_utils import Notebook"
   ]
  },
  {
   "cell_type": "code",
   "execution_count": 2,
   "metadata": {},
   "outputs": [],
   "source": [
    "nb_e = Notebook(\n",
    "\tmodel=None,\n",
    ")\n",
    "nb_h = Notebook(\n",
    "\tmodel=Heston(\n",
    "\t\tparameters={\n",
    "\t\t\t\"initial_variance\": 0.10006713187966065,\n",
    "\t\t\t\"long_term_variance\": 0.03159120049914011,\n",
    "\t\t\t\"volatility_of_volatility\": 3.4949236489765254,\n",
    "\t\t\t\"mean_reversion_rate\": 6.106005002941104,\n",
    "\t\t\t\"wiener_correlation\": -0.7977506958223608,\n",
    "\t\t},\n",
    "\t),\n",
    ")\n",
    "nb_rb = Notebook(\n",
    "\tmodel=RoughBergomi(\n",
    "\t\tparameters={\n",
    "\t\t\t\"hurst_index\": 0.600784070323841,\n",
    "\t\t\t\"wiener_correlation\": -0.9283329233829251,\n",
    "\t\t\t\"volatility_of_volatility\": 6.196125566995583,\n",
    "\t\t},\n",
    "\t),\n",
    ")"
   ]
  },
  {
   "cell_type": "code",
   "execution_count": 3,
   "metadata": {},
   "outputs": [],
   "source": [
    "volatility_surface = nb_rb.spx_vs\n",
    "surfaces = [\n",
    "\tvolatility_surface.surface_quantities(\n",
    "\t\ttime=nb_rb.time,\n",
    "\t\tquantity_method=\"empirical_pricing_implied_volatility\",\n",
    "\t\tprice_types=[\"Mid\"],\n",
    "\t\tpricing_model=nb_e.pricing_model,\n",
    "\t)[0],\n",
    "\tvolatility_surface.surface_quantities(\n",
    "\t\ttime=nb_rb.time,\n",
    "\t\tquantity_method=\"model_pricing_implied_volatility\",\n",
    "\t\tprice_types=[\"Mid\"],\n",
    "\t\tmodel=nb_rb.model,\n",
    "\t\tpricing_model=nb_rb.pricing_model,\n",
    "\t)[0],\n",
    "]\n",
    "\n",
    "atm_skews = [\n",
    "\tatm_skew(\n",
    "\t\tsurface=surface,\n",
    "\t\tvolatility_surface=volatility_surface,\n",
    "\t\ttime=nb_rb.time,\n",
    "\t).values\n",
    "\tfor surface in surfaces\n",
    "]"
   ]
  },
  {
   "cell_type": "code",
   "execution_count": 4,
   "metadata": {},
   "outputs": [
    {
     "data": {
      "text/plain": [
       "[array([[1.98547473],\n",
       "        [1.97002743],\n",
       "        [1.6173868 ],\n",
       "        [1.41155758],\n",
       "        [1.29418723],\n",
       "        [1.17658411],\n",
       "        [1.19820093],\n",
       "        [1.18522719],\n",
       "        [1.11691653],\n",
       "        [1.04858406],\n",
       "        [0.97011532],\n",
       "        [0.92689096],\n",
       "        [0.82860037],\n",
       "        [0.79450431],\n",
       "        [0.74192256],\n",
       "        [0.70467937],\n",
       "        [0.65944621],\n",
       "        [0.62420632],\n",
       "        [0.57344434]]),\n",
       " array([[1.7927948 ],\n",
       "        [1.63922197],\n",
       "        [1.30990256],\n",
       "        [1.46712251],\n",
       "        [1.68639569],\n",
       "        [1.24162735],\n",
       "        [1.24722422],\n",
       "        [1.21168172],\n",
       "        [1.13931828],\n",
       "        [0.85553458],\n",
       "        [1.06097024],\n",
       "        [0.96333149],\n",
       "        [1.08923454],\n",
       "        [0.92924415],\n",
       "        [0.7454452 ],\n",
       "        [0.78459982],\n",
       "        [0.77599776],\n",
       "        [0.72309421],\n",
       "        [0.64307117]])]"
      ]
     },
     "execution_count": 4,
     "metadata": {},
     "output_type": "execute_result"
    }
   ],
   "source": [
    "atm_skews"
   ]
  },
  {
   "cell_type": "code",
   "execution_count": 9,
   "metadata": {},
   "outputs": [
    {
     "data": {
      "text/plain": [
       "0.008686053463315194"
      ]
     },
     "execution_count": 9,
     "metadata": {},
     "output_type": "execute_result"
    }
   ],
   "source": [
    "surface_atm_skew(\n",
    "\tvolatility_surface=nb_rb.spx_vs,\n",
    "\ttime=nb_rb.time,\n",
    "\tmodel=nb_rb.model,  # type: ignore\n",
    "\tempirical_pricing_model=nb_rb.empirical_pricing_model,\n",
    "\tmodel_pricing_model=nb_rb.pricing_model,\n",
    ") * 0.01"
   ]
  },
  {
   "cell_type": "code",
   "execution_count": 6,
   "metadata": {},
   "outputs": [
    {
     "data": {
      "text/plain": [
       "0.004689040317522883"
      ]
     },
     "execution_count": 6,
     "metadata": {},
     "output_type": "execute_result"
    }
   ],
   "source": [
    "surface_evaluation(\n",
    "\tvolatility_surface=nb_rb.spx_vs,\n",
    "\ttime=nb_rb.time,\n",
    "\tmodel=nb_rb.model,  # type: ignore\n",
    "\tempirical_pricing_model=nb_rb.empirical_pricing_model,\n",
    "\tmodel_pricing_model=nb_rb.pricing_model,\n",
    ")"
   ]
  },
  {
   "cell_type": "code",
   "execution_count": 14,
   "metadata": {},
   "outputs": [
    {
     "data": {
      "text/html": [
       "<div>\n",
       "<style scoped>\n",
       "    .dataframe tbody tr th:only-of-type {\n",
       "        vertical-align: middle;\n",
       "    }\n",
       "\n",
       "    .dataframe tbody tr th {\n",
       "        vertical-align: top;\n",
       "    }\n",
       "\n",
       "    .dataframe thead th {\n",
       "        text-align: right;\n",
       "    }\n",
       "</style>\n",
       "<table border=\"1\" class=\"dataframe\">\n",
       "  <thead>\n",
       "    <tr style=\"text-align: right;\">\n",
       "      <th></th>\n",
       "      <th></th>\n",
       "      <th>Symbol</th>\n",
       "    </tr>\n",
       "    <tr>\n",
       "      <th>Strike</th>\n",
       "      <th>Expiry</th>\n",
       "      <th></th>\n",
       "    </tr>\n",
       "  </thead>\n",
       "  <tbody>\n",
       "    <tr>\n",
       "      <th rowspan=\"5\" valign=\"top\">2200</th>\n",
       "      <th>2022-03-09</th>\n",
       "      <td>0.414393</td>\n",
       "    </tr>\n",
       "    <tr>\n",
       "      <th>2022-03-11</th>\n",
       "      <td>0.443971</td>\n",
       "    </tr>\n",
       "    <tr>\n",
       "      <th>2022-03-18</th>\n",
       "      <td>0.259215</td>\n",
       "    </tr>\n",
       "    <tr>\n",
       "      <th>2022-03-23</th>\n",
       "      <td>0.099381</td>\n",
       "    </tr>\n",
       "    <tr>\n",
       "      <th>2022-03-25</th>\n",
       "      <td>0.010705</td>\n",
       "    </tr>\n",
       "    <tr>\n",
       "      <th>...</th>\n",
       "      <th>...</th>\n",
       "      <td>...</td>\n",
       "    </tr>\n",
       "    <tr>\n",
       "      <th rowspan=\"5\" valign=\"top\">5400</th>\n",
       "      <th>2022-06-17</th>\n",
       "      <td>0.151833</td>\n",
       "    </tr>\n",
       "    <tr>\n",
       "      <th>2022-06-30</th>\n",
       "      <td>0.143241</td>\n",
       "    </tr>\n",
       "    <tr>\n",
       "      <th>2022-07-15</th>\n",
       "      <td>0.135097</td>\n",
       "    </tr>\n",
       "    <tr>\n",
       "      <th>2022-07-29</th>\n",
       "      <td>0.128619</td>\n",
       "    </tr>\n",
       "    <tr>\n",
       "      <th>2022-08-31</th>\n",
       "      <td>0.117029</td>\n",
       "    </tr>\n",
       "  </tbody>\n",
       "</table>\n",
       "<p>1577 rows × 1 columns</p>\n",
       "</div>"
      ],
      "text/plain": [
       "                     Symbol\n",
       "Strike Expiry              \n",
       "2200   2022-03-09  0.414393\n",
       "       2022-03-11  0.443971\n",
       "       2022-03-18  0.259215\n",
       "       2022-03-23  0.099381\n",
       "       2022-03-25  0.010705\n",
       "...                     ...\n",
       "5400   2022-06-17  0.151833\n",
       "       2022-06-30  0.143241\n",
       "       2022-07-15  0.135097\n",
       "       2022-07-29  0.128619\n",
       "       2022-08-31  0.117029\n",
       "\n",
       "[1577 rows x 1 columns]"
      ]
     },
     "execution_count": 14,
     "metadata": {},
     "output_type": "execute_result"
    },
    {
     "ename": "",
     "evalue": "",
     "output_type": "error",
     "traceback": [
      "\u001b[1;31mThe Kernel crashed while executing code in the current cell or a previous cell. \n",
      "\u001b[1;31mPlease review the code in the cell(s) to identify a possible cause of the failure. \n",
      "\u001b[1;31mClick <a href='https://aka.ms/vscodeJupyterKernelCrash'>here</a> for more info. \n",
      "\u001b[1;31mView Jupyter <a href='command:jupyter.viewOutput'>log</a> for further details."
     ]
    }
   ],
   "source": [
    "surfaces = [\n",
    "\tvolatility_surface.surface_quantities(\n",
    "\t\ttime=nb_rb.time,\n",
    "\t\tquantity_method=\"model_pricing_implied_volatility\",\n",
    "\t\tprice_types=[\"Mid\"],\n",
    "\t\tmodel=nb_rb.model,\n",
    "\t\tpricing_model=nb_rb.pricing_model,\n",
    "\t\tcall=True,\n",
    "\t)[0],\n",
    "\tvolatility_surface.surface_quantities(\n",
    "\t\ttime=nb_rb.time,\n",
    "\t\tquantity_method=\"model_pricing_implied_volatility\",\n",
    "\t\tprice_types=[\"Mid\"],\n",
    "\t\tmodel=nb_rb.model,\n",
    "\t\tpricing_model=nb_rb.pricing_model,\n",
    "\t\tcall=False,\n",
    "\t)[0],\n",
    "]\n",
    "diff = surfaces[0] - surfaces[1]\n",
    "diff"
   ]
  }
 ],
 "metadata": {
  "kernelspec": {
   "display_name": ".venv",
   "language": "python",
   "name": "python3"
  },
  "language_info": {
   "codemirror_mode": {
    "name": "ipython",
    "version": 3
   },
   "file_extension": ".py",
   "mimetype": "text/x-python",
   "name": "python",
   "nbconvert_exporter": "python",
   "pygments_lexer": "ipython3",
   "version": "3.12.4"
  }
 },
 "nbformat": 4,
 "nbformat_minor": 2
}
