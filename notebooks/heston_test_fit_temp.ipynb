{
 "cells": [
  {
   "cell_type": "code",
   "execution_count": 1,
   "metadata": {},
   "outputs": [
    {
     "name": "stdout",
     "output_type": "stream",
     "text": [
      "\u001b[32m2024-08-26 22:14:08.894\u001b[0m | \u001b[1mINFO    \u001b[0m | \u001b[36mstochastic_volatility_models.config\u001b[0m:\u001b[36minitialise\u001b[0m:\u001b[36m30\u001b[0m - \u001b[1mLoaded module `stochastic_volatility_models` from project directory path `/Users/mayurankv/Documents/Mayuran/Programming/Projects/Academic/Imperial College London/MSc Statistics/Dissertation/Project/modules`\u001b[0m\n"
     ]
    }
   ],
   "source": []
  },
  {
   "cell_type": "code",
   "execution_count": 3,
   "metadata": {},
   "outputs": [
    {
     "name": "stdout",
     "output_type": "stream",
     "text": [
      "2647.58\n",
      "11.28\n"
     ]
    }
   ],
   "source": [
    "from stochastic_volatility_models.src.core.underlying import Underlying\n",
    "from stochastic_volatility_models.src.data.strikes import get_strikes_of_expiries\n",
    "from stochastic_volatility_models.src.data.expiries import get_expiries_of_strikes\n",
    "\n",
    "import numpy as np\n",
    "\n",
    "time = np.datetime64(\"2017-11-30\")\n",
    "spx = Underlying(\"SPX\")\n",
    "vix = Underlying(\"VIX\")\n",
    "\n",
    "print(spx.price(time))\n",
    "print(vix.price(time))"
   ]
  },
  {
   "cell_type": "code",
   "execution_count": 6,
   "metadata": {},
   "outputs": [
    {
     "data": {
      "text/plain": [
       "(1100,\n",
       " 1200,\n",
       " 1300,\n",
       " 1325,\n",
       " 1350,\n",
       " 1375,\n",
       " 1400,\n",
       " 1425,\n",
       " 1450,\n",
       " 1475,\n",
       " 1500,\n",
       " 1525,\n",
       " 1550,\n",
       " 1575,\n",
       " 1600,\n",
       " 1625,\n",
       " 1650,\n",
       " 1675,\n",
       " 1700,\n",
       " 1725,\n",
       " 1750,\n",
       " 1775,\n",
       " 1800,\n",
       " 1825,\n",
       " 1850,\n",
       " 1875,\n",
       " 1900,\n",
       " 1925,\n",
       " 1950,\n",
       " 1975,\n",
       " 2000,\n",
       " 2025,\n",
       " 2050,\n",
       " 2075,\n",
       " 2100,\n",
       " 2125,\n",
       " 2150,\n",
       " 2175,\n",
       " 2200,\n",
       " 2225,\n",
       " 2250,\n",
       " 2275,\n",
       " 2300,\n",
       " 2325,\n",
       " 2350,\n",
       " 2375,\n",
       " 2400,\n",
       " 2425,\n",
       " 2450,\n",
       " 2475,\n",
       " 2500,\n",
       " 2525,\n",
       " 2550,\n",
       " 2575,\n",
       " 2600,\n",
       " 2625,\n",
       " 2650,\n",
       " 2675,\n",
       " 2700,\n",
       " 2725,\n",
       " 2750,\n",
       " 2775,\n",
       " 2800,\n",
       " 2825,\n",
       " 2900,\n",
       " 3000)"
      ]
     },
     "execution_count": 6,
     "metadata": {},
     "output_type": "execute_result"
    }
   ],
   "source": [
    "# print(get_strikes_of_expiry(spx.ticker, np.datetime64(\"2017-01-03\"), time, monthly=False))\n",
    "get_expiries_of_strikes(vix.ticker, np.array([11]), time, monthly=True)\n",
    "tuple(np.array(get_strikes_of_expiries(spx.ticker, np.array([\"2017-12-15\", \"2018-01-19\", \"2018-02-16\", \"2018-03-16\", \"2018-06-15\", \"2018-09-21\", \"2018-12-21\", \"2019-01-18\", \"2019-06-21\", \"2019-12-20\"], dtype=np.datetime64), time, monthly=True), dtype=np.int64))"
   ]
  }
 ],
 "metadata": {
  "kernelspec": {
   "display_name": ".venv",
   "language": "python",
   "name": "python3"
  },
  "language_info": {
   "codemirror_mode": {
    "name": "ipython",
    "version": 3
   },
   "file_extension": ".py",
   "mimetype": "text/x-python",
   "name": "python",
   "nbconvert_exporter": "python",
   "pygments_lexer": "ipython3",
   "version": "3.12.4"
  }
 },
 "nbformat": 4,
 "nbformat_minor": 2
}
