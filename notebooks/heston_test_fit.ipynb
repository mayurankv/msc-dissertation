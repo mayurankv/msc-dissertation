{
 "cells": [
  {
   "cell_type": "code",
   "execution_count": 2,
   "metadata": {},
   "outputs": [
    {
     "name": "stdout",
     "output_type": "stream",
     "text": [
      "\u001b[32m2024-09-03 08:13:31.573\u001b[0m | \u001b[1mINFO    \u001b[0m | \u001b[36mstochastic_volatility_models.config\u001b[0m:\u001b[36minitialise\u001b[0m:\u001b[36m30\u001b[0m - \u001b[1mLoaded module `stochastic_volatility_models` from project directory path `/Users/mayurankv/Documents/Mayuran/Programming/Projects/Academic/Imperial College London/MSc Statistics/Dissertation/Project/modules`\u001b[0m\n"
     ]
    }
   ],
   "source": [
    "from stochastic_volatility_models.src.models.heston.heston import Heston\n",
    "from notebook_utils import Notebook"
   ]
  },
  {
   "cell_type": "code",
   "execution_count": 3,
   "metadata": {},
   "outputs": [],
   "source": [
    "# time = \"2013-07-11\"\n",
    "time = \"2015-09-01\"\n",
    "# time = \"2017-11-30\"\n",
    "nb = Notebook(\n",
    "\ttime=time,\n",
    "\tmodel=Heston(\n",
    "\t\tparameters={},\n",
    "\t),\n",
    ")"
   ]
  },
  {
   "cell_type": "code",
   "execution_count": 9,
   "metadata": {},
   "outputs": [],
   "source": [
    "from stochastic_volatility_models.src.data.realised_measures import get_realised_measure_maximum\n",
    "from pandas import Index\n",
    "\n",
    "nb.model.fix_initial_variance(nb.underlying.realised_volatility(Index([nb.time.astype(str)])).iloc[0])\n",
    "nb.model.set_upper_long_term_variance(get_realised_measure_maximum(nb.underlying.ticker))"
   ]
  },
  {
   "cell_type": "code",
   "execution_count": 10,
   "metadata": {},
   "outputs": [
    {
     "name": "stdout",
     "output_type": "stream",
     "text": [
      "\u001b[32m2024-08-29 18:24:07.805\u001b[0m | \u001b[34m\u001b[1mDEBUG   \u001b[0m | \u001b[36mstochastic_volatility_models.src.core.calibration\u001b[0m:\u001b[36mminimise_cost_function\u001b[0m:\u001b[36m130\u001b[0m - \u001b[34m\u001b[1mCost is 0.07693259129326475 with parameters {'initial_variance': 0.0895791230480412, 'long_term_variance': 0.021324001262787995, 'volatility_of_volatility': 2.969583797208843, 'mean_reversion_rate': 9.443457070939235, 'wiener_correlation': -0.9129100964090834}\u001b[0m\n",
      "\u001b[32m2024-08-29 18:24:20.420\u001b[0m | \u001b[34m\u001b[1mDEBUG   \u001b[0m | \u001b[36mstochastic_volatility_models.src.core.calibration\u001b[0m:\u001b[36mminimise_cost_function\u001b[0m:\u001b[36m130\u001b[0m - \u001b[34m\u001b[1mCost is 2.168150374442282 with parameters {'initial_variance': 0.0895791230480412, 'long_term_variance': 0.8635525663476027, 'volatility_of_volatility': 6.166290475963339, 'mean_reversion_rate': 5.81724057335167, 'wiener_correlation': 0.5374330598881447}\u001b[0m\n",
      "\u001b[32m2024-08-29 18:24:35.030\u001b[0m | \u001b[34m\u001b[1mDEBUG   \u001b[0m | \u001b[36mstochastic_volatility_models.src.core.calibration\u001b[0m:\u001b[36mminimise_cost_function\u001b[0m:\u001b[36m130\u001b[0m - \u001b[34m\u001b[1mCost is 2.317049884931498 with parameters {'initial_variance': 0.0895791230480412, 'long_term_variance': 0.8147789115601466, 'volatility_of_volatility': 1.1545247761837043, 'mean_reversion_rate': 0.653231331808561, 'wiener_correlation': -0.21636488184493663}\u001b[0m\n",
      "\u001b[32m2024-08-29 18:24:50.320\u001b[0m | \u001b[34m\u001b[1mDEBUG   \u001b[0m | \u001b[36mstochastic_volatility_models.src.core.calibration\u001b[0m:\u001b[36mminimise_cost_function\u001b[0m:\u001b[36m130\u001b[0m - \u001b[34m\u001b[1mCost is 1.9578385703924452 with parameters {'initial_variance': 0.0895791230480412, 'long_term_variance': 0.9780898288158393, 'volatility_of_volatility': 3.692167154146601, 'mean_reversion_rate': 12.953804848147941, 'wiener_correlation': 0.16088061271105047}\u001b[0m\n",
      "\u001b[32m2024-08-29 18:25:09.738\u001b[0m | \u001b[34m\u001b[1mDEBUG   \u001b[0m | \u001b[36mstochastic_volatility_models.src.core.calibration\u001b[0m:\u001b[36mminimise_cost_function\u001b[0m:\u001b[36m130\u001b[0m - \u001b[34m\u001b[1mCost is 0.7735045554180148 with parameters {'initial_variance': 0.0895791230480412, 'long_term_variance': 0.12349687637507056, 'volatility_of_volatility': 3.0775254872486206, 'mean_reversion_rate': 3.607221865712411, 'wiener_correlation': 0.5215327101312655}\u001b[0m\n",
      "\u001b[32m2024-08-29 18:25:21.465\u001b[0m | \u001b[34m\u001b[1mDEBUG   \u001b[0m | \u001b[36mstochastic_volatility_models.src.core.calibration\u001b[0m:\u001b[36mminimise_cost_function\u001b[0m:\u001b[36m130\u001b[0m - \u001b[34m\u001b[1mCost is 1.8144849049401397 with parameters {'initial_variance': 0.0895791230480412, 'long_term_variance': 1.1408940329789523, 'volatility_of_volatility': 10.21623519046096, 'mean_reversion_rate': 5.283134688912558, 'wiener_correlation': 0.09834248403733237}\u001b[0m\n",
      "\u001b[32m2024-08-29 18:25:37.927\u001b[0m | \u001b[34m\u001b[1mDEBUG   \u001b[0m | \u001b[36mstochastic_volatility_models.src.core.calibration\u001b[0m:\u001b[36mminimise_cost_function\u001b[0m:\u001b[36m130\u001b[0m - \u001b[34m\u001b[1mCost is 3.2808991198888404 with parameters {'initial_variance': 0.0895791230480412, 'long_term_variance': 0.2684165157652419, 'volatility_of_volatility': 6.54800684463767, 'mean_reversion_rate': 8.738024361991044, 'wiener_correlation': -0.7502710023159587}\u001b[0m\n",
      "\u001b[32m2024-08-29 18:25:49.866\u001b[0m | \u001b[34m\u001b[1mDEBUG   \u001b[0m | \u001b[36mstochastic_volatility_models.src.core.calibration\u001b[0m:\u001b[36mminimise_cost_function\u001b[0m:\u001b[36m130\u001b[0m - \u001b[34m\u001b[1mCost is 0.7470853957490379 with parameters {'initial_variance': 0.0895791230480412, 'long_term_variance': 0.2844028421160139, 'volatility_of_volatility': 2.591278930886957, 'mean_reversion_rate': 0.34976607032948337, 'wiener_correlation': -0.9170960116682598}\u001b[0m\n",
      "\u001b[32m2024-08-29 18:26:02.831\u001b[0m | \u001b[34m\u001b[1mDEBUG   \u001b[0m | \u001b[36mstochastic_volatility_models.src.core.calibration\u001b[0m:\u001b[36mminimise_cost_function\u001b[0m:\u001b[36m130\u001b[0m - \u001b[34m\u001b[1mCost is 2.028331746482384 with parameters {'initial_variance': 0.0895791230480412, 'long_term_variance': 0.6694315986828525, 'volatility_of_volatility': 8.682380624157718, 'mean_reversion_rate': 10.039375644034717, 'wiener_correlation': -0.1272643079945407}\u001b[0m\n",
      "\u001b[32m2024-08-29 18:26:14.188\u001b[0m | \u001b[34m\u001b[1mDEBUG   \u001b[0m | \u001b[36mstochastic_volatility_models.src.core.calibration\u001b[0m:\u001b[36mminimise_cost_function\u001b[0m:\u001b[36m130\u001b[0m - \u001b[34m\u001b[1mCost is 2.8596574171241818 with parameters {'initial_variance': 0.0895791230480412, 'long_term_variance': 0.42766671177553794, 'volatility_of_volatility': 6.476567953239756, 'mean_reversion_rate': 8.228581143107583, 'wiener_correlation': 0.19209012192124786}\u001b[0m\n",
      "\u001b[32m2024-08-29 18:26:26.805\u001b[0m | \u001b[34m\u001b[1mDEBUG   \u001b[0m | \u001b[36mstochastic_volatility_models.src.core.calibration\u001b[0m:\u001b[36mminimise_cost_function\u001b[0m:\u001b[36m130\u001b[0m - \u001b[34m\u001b[1mCost is 2.143710588993624 with parameters {'initial_variance': 0.0895791230480412, 'long_term_variance': 0.7890878060134265, 'volatility_of_volatility': 5.614152247261508, 'mean_reversion_rate': 13.094038259453589, 'wiener_correlation': -0.3986494327602865}\u001b[0m\n",
      "\u001b[32m2024-08-29 18:26:35.336\u001b[0m | \u001b[34m\u001b[1mDEBUG   \u001b[0m | \u001b[36mstochastic_volatility_models.src.core.calibration\u001b[0m:\u001b[36mminimise_cost_function\u001b[0m:\u001b[36m130\u001b[0m - \u001b[34m\u001b[1mCost is 2.8313022598629485 with parameters {'initial_variance': 0.0895791230480412, 'long_term_variance': 0.8365504909369021, 'volatility_of_volatility': 9.583123974835779, 'mean_reversion_rate': 2.8689619770575225, 'wiener_correlation': -0.9473445244449296}\u001b[0m\n",
      "\u001b[32m2024-08-29 18:26:47.274\u001b[0m | \u001b[34m\u001b[1mDEBUG   \u001b[0m | \u001b[36mstochastic_volatility_models.src.core.calibration\u001b[0m:\u001b[36mminimise_cost_function\u001b[0m:\u001b[36m130\u001b[0m - \u001b[34m\u001b[1mCost is 3.2029784805842185 with parameters {'initial_variance': 0.0895791230480412, 'long_term_variance': 0.8403677044703779, 'volatility_of_volatility': 10.784469008028204, 'mean_reversion_rate': 1.1727230183730066, 'wiener_correlation': -0.597271271348234}\u001b[0m\n",
      "\u001b[32m2024-08-29 18:26:56.216\u001b[0m | \u001b[34m\u001b[1mDEBUG   \u001b[0m | \u001b[36mstochastic_volatility_models.src.core.calibration\u001b[0m:\u001b[36mminimise_cost_function\u001b[0m:\u001b[36m130\u001b[0m - \u001b[34m\u001b[1mCost is 2.525180210488912 with parameters {'initial_variance': 0.0895791230480412, 'long_term_variance': 0.7476676544012164, 'volatility_of_volatility': 7.028904067680113, 'mean_reversion_rate': 5.525811733431134, 'wiener_correlation': 0.48852492179057605}\u001b[0m\n",
      "\u001b[32m2024-08-29 18:27:06.610\u001b[0m | \u001b[34m\u001b[1mDEBUG   \u001b[0m | \u001b[36mstochastic_volatility_models.src.core.calibration\u001b[0m:\u001b[36mminimise_cost_function\u001b[0m:\u001b[36m130\u001b[0m - \u001b[34m\u001b[1mCost is 1.459532468894267 with parameters {'initial_variance': 0.0895791230480412, 'long_term_variance': 1.2723453410623278, 'volatility_of_volatility': 13.197137212023868, 'mean_reversion_rate': 7.221423476820057, 'wiener_correlation': -0.7854501204923658}\u001b[0m\n",
      "\u001b[32m2024-08-29 18:27:15.570\u001b[0m | \u001b[34m\u001b[1mDEBUG   \u001b[0m | \u001b[36mstochastic_volatility_models.src.core.calibration\u001b[0m:\u001b[36mminimise_cost_function\u001b[0m:\u001b[36m130\u001b[0m - \u001b[34m\u001b[1mCost is 3.1232159490852185 with parameters {'initial_variance': 0.0895791230480412, 'long_term_variance': 0.25141766843894675, 'volatility_of_volatility': 0.5286944387283112, 'mean_reversion_rate': 13.638394582576687, 'wiener_correlation': 0.042133113312014414}\u001b[0m\n",
      "\u001b[32m2024-08-29 18:27:25.898\u001b[0m | \u001b[34m\u001b[1mDEBUG   \u001b[0m | \u001b[36mstochastic_volatility_models.src.core.calibration\u001b[0m:\u001b[36mminimise_cost_function\u001b[0m:\u001b[36m130\u001b[0m - \u001b[34m\u001b[1mCost is 3.3581151817422925 with parameters {'initial_variance': 0.0895791230480412, 'long_term_variance': 0.221767179589677, 'volatility_of_volatility': 11.0247799495255, 'mean_reversion_rate': 11.121860933081122, 'wiener_correlation': -0.5395892011782691}\u001b[0m\n",
      "\u001b[32m2024-08-29 18:27:35.626\u001b[0m | \u001b[34m\u001b[1mDEBUG   \u001b[0m | \u001b[36mstochastic_volatility_models.src.core.calibration\u001b[0m:\u001b[36mminimise_cost_function\u001b[0m:\u001b[36m130\u001b[0m - \u001b[34m\u001b[1mCost is 2.944900998512268 with parameters {'initial_variance': 0.0895791230480412, 'long_term_variance': 0.610409584553023, 'volatility_of_volatility': 13.415904010506413, 'mean_reversion_rate': 1.7680434702883137, 'wiener_correlation': 0.7438255333570216}\u001b[0m\n",
      "\u001b[32m2024-08-29 18:27:44.229\u001b[0m | \u001b[34m\u001b[1mDEBUG   \u001b[0m | \u001b[36mstochastic_volatility_models.src.core.calibration\u001b[0m:\u001b[36mminimise_cost_function\u001b[0m:\u001b[36m130\u001b[0m - \u001b[34m\u001b[1mCost is 1.9945959562946292 with parameters {'initial_variance': 0.0895791230480412, 'long_term_variance': 1.0162907295768524, 'volatility_of_volatility': 9.279544047965235, 'mean_reversion_rate': 4.570736674762088, 'wiener_correlation': 0.3604972655431462}\u001b[0m\n",
      "\u001b[32m2024-08-29 18:27:52.533\u001b[0m | \u001b[34m\u001b[1mDEBUG   \u001b[0m | \u001b[36mstochastic_volatility_models.src.core.calibration\u001b[0m:\u001b[36mminimise_cost_function\u001b[0m:\u001b[36m130\u001b[0m - \u001b[34m\u001b[1mCost is 1.9562326267070216 with parameters {'initial_variance': 0.0895791230480412, 'long_term_variance': 0.6309879221250724, 'volatility_of_volatility': 0.03594249379513759, 'mean_reversion_rate': 9.37107152397909, 'wiener_correlation': -0.9926442951078419}\u001b[0m\n",
      "\u001b[32m2024-08-29 18:28:01.434\u001b[0m | \u001b[34m\u001b[1mDEBUG   \u001b[0m | \u001b[36mstochastic_volatility_models.src.core.calibration\u001b[0m:\u001b[36mminimise_cost_function\u001b[0m:\u001b[36m130\u001b[0m - \u001b[34m\u001b[1mCost is 1.277443944251526 with parameters {'initial_variance': 0.0895791230480412, 'long_term_variance': 1.2579363919669404, 'volatility_of_volatility': 14.239439768800437, 'mean_reversion_rate': 7.5728699826879184, 'wiener_correlation': 0.10472501043883731}\u001b[0m\n",
      "\u001b[32m2024-08-29 18:28:10.763\u001b[0m | \u001b[34m\u001b[1mDEBUG   \u001b[0m | \u001b[36mstochastic_volatility_models.src.core.calibration\u001b[0m:\u001b[36mminimise_cost_function\u001b[0m:\u001b[36m130\u001b[0m - \u001b[34m\u001b[1mCost is 3.192013762456597 with parameters {'initial_variance': 0.0895791230480412, 'long_term_variance': 0.18505691412862557, 'volatility_of_volatility': 8.082141400296976, 'mean_reversion_rate': 11.937640548616177, 'wiener_correlation': 0.442743610419152}\u001b[0m\n",
      "\u001b[32m2024-08-29 18:28:20.007\u001b[0m | \u001b[34m\u001b[1mDEBUG   \u001b[0m | \u001b[36mstochastic_volatility_models.src.core.calibration\u001b[0m:\u001b[36mminimise_cost_function\u001b[0m:\u001b[36m130\u001b[0m - \u001b[34m\u001b[1mCost is 0.4576432223076745 with parameters {'initial_variance': 0.0895791230480412, 'long_term_variance': 0.08108186021408004, 'volatility_of_volatility': 5.4340977034947855, 'mean_reversion_rate': 14.27347410461844, 'wiener_correlation': -0.05736834835454174}\u001b[0m\n",
      "\u001b[32m2024-08-29 18:28:29.474\u001b[0m | \u001b[34m\u001b[1mDEBUG   \u001b[0m | \u001b[36mstochastic_volatility_models.src.core.calibration\u001b[0m:\u001b[36mminimise_cost_function\u001b[0m:\u001b[36m130\u001b[0m - \u001b[34m\u001b[1mCost is 2.35575162625811 with parameters {'initial_variance': 0.0895791230480412, 'long_term_variance': 0.19573846228919795, 'volatility_of_volatility': 2.9241691333516933, 'mean_reversion_rate': 7.939493162166588, 'wiener_correlation': -0.2771522827803705}\u001b[0m\n",
      "\u001b[32m2024-08-29 18:28:38.678\u001b[0m | \u001b[34m\u001b[1mDEBUG   \u001b[0m | \u001b[36mstochastic_volatility_models.src.core.calibration\u001b[0m:\u001b[36mminimise_cost_function\u001b[0m:\u001b[36m130\u001b[0m - \u001b[34m\u001b[1mCost is 3.5216803112863015 with parameters {'initial_variance': 0.0895791230480412, 'long_term_variance': 0.04213084604585082, 'volatility_of_volatility': 13.837751822494747, 'mean_reversion_rate': 6.657001017756618, 'wiener_correlation': 0.676291045351324}\u001b[0m\n",
      "\u001b[32m2024-08-29 18:28:45.955\u001b[0m | \u001b[34m\u001b[1mDEBUG   \u001b[0m | \u001b[36mstochastic_volatility_models.src.core.calibration\u001b[0m:\u001b[36mminimise_cost_function\u001b[0m:\u001b[36m130\u001b[0m - \u001b[34m\u001b[1mCost is 2.8012720646281988 with parameters {'initial_variance': 0.0895791230480412, 'long_term_variance': 0.359777725064339, 'volatility_of_volatility': 14.501905940967191, 'mean_reversion_rate': 12.661906566290028, 'wiener_correlation': -0.7297011192088384}\u001b[0m\n",
      "\u001b[32m2024-08-29 18:28:54.679\u001b[0m | \u001b[34m\u001b[1mDEBUG   \u001b[0m | \u001b[36mstochastic_volatility_models.src.core.calibration\u001b[0m:\u001b[36mminimise_cost_function\u001b[0m:\u001b[36m130\u001b[0m - \u001b[34m\u001b[1mCost is 3.4010227656915264 with parameters {'initial_variance': 0.0895791230480412, 'long_term_variance': 0.3118283388157948, 'volatility_of_volatility': 12.265181235377016, 'mean_reversion_rate': 3.1524420728301017, 'wiener_correlation': 0.3168347004311005}\u001b[0m\n",
      "\u001b[32m2024-08-29 18:29:03.234\u001b[0m | \u001b[34m\u001b[1mDEBUG   \u001b[0m | \u001b[36mstochastic_volatility_models.src.core.calibration\u001b[0m:\u001b[36mminimise_cost_function\u001b[0m:\u001b[36m130\u001b[0m - \u001b[34m\u001b[1mCost is 2.717527103390458 with parameters {'initial_variance': 0.0895791230480412, 'long_term_variance': 0.579931689421213, 'volatility_of_volatility': 7.922630767427803, 'mean_reversion_rate': 8.837562100906739, 'wiener_correlation': -0.6859732778567719}\u001b[0m\n",
      "\u001b[32m2024-08-29 18:29:14.932\u001b[0m | \u001b[34m\u001b[1mDEBUG   \u001b[0m | \u001b[36mstochastic_volatility_models.src.core.calibration\u001b[0m:\u001b[36mminimise_cost_function\u001b[0m:\u001b[36m130\u001b[0m - \u001b[34m\u001b[1mCost is 2.9640777660786144 with parameters {'initial_variance': 0.0895791230480412, 'long_term_variance': 0.019551552336377176, 'volatility_of_volatility': 11.779981507774918, 'mean_reversion_rate': 4.25603525948003, 'wiener_correlation': -0.5248293489957655}\u001b[0m\n",
      "\u001b[32m2024-08-29 18:29:26.444\u001b[0m | \u001b[34m\u001b[1mDEBUG   \u001b[0m | \u001b[36mstochastic_volatility_models.src.core.calibration\u001b[0m:\u001b[36mminimise_cost_function\u001b[0m:\u001b[36m130\u001b[0m - \u001b[34m\u001b[1mCost is 0.4595917208520174 with parameters {'initial_variance': 0.0895791230480412, 'long_term_variance': 0.14681380437857355, 'volatility_of_volatility': 1.5427541016540625, 'mean_reversion_rate': 2.2844540506865494, 'wiener_correlation': 0.7264310044570097}\u001b[0m\n",
      "\u001b[32m2024-08-29 18:29:35.613\u001b[0m | \u001b[34m\u001b[1mDEBUG   \u001b[0m | \u001b[36mstochastic_volatility_models.src.core.calibration\u001b[0m:\u001b[36mminimise_cost_function\u001b[0m:\u001b[36m130\u001b[0m - \u001b[34m\u001b[1mCost is 2.122165908157679 with parameters {'initial_variance': 0.0895791230480412, 'long_term_variance': 0.6637788056226904, 'volatility_of_volatility': 12.836192838087996, 'mean_reversion_rate': 12.285365703408306, 'wiener_correlation': 0.8400766633040395}\u001b[0m\n",
      "\u001b[32m2024-08-29 18:29:45.185\u001b[0m | \u001b[34m\u001b[1mDEBUG   \u001b[0m | \u001b[36mstochastic_volatility_models.src.core.calibration\u001b[0m:\u001b[36mminimise_cost_function\u001b[0m:\u001b[36m130\u001b[0m - \u001b[34m\u001b[1mCost is 2.5841198370682585 with parameters {'initial_variance': 0.0895791230480412, 'long_term_variance': 0.3741780046293342, 'volatility_of_volatility': 8.831072196585117, 'mean_reversion_rate': 14.934714788644847, 'wiener_correlation': 0.6618276303236206}\u001b[0m\n",
      "\u001b[32m2024-08-29 18:29:53.455\u001b[0m | \u001b[34m\u001b[1mDEBUG   \u001b[0m | \u001b[36mstochastic_volatility_models.src.core.calibration\u001b[0m:\u001b[36mminimise_cost_function\u001b[0m:\u001b[36m130\u001b[0m - \u001b[34m\u001b[1mCost is 0.673972904510059 with parameters {'initial_variance': 0.0895791230480412, 'long_term_variance': 1.2201390402897534, 'volatility_of_volatility': 2.279954924415878, 'mean_reversion_rate': 0.06568921665735505, 'wiener_correlation': -0.15556707315871277}\u001b[0m\n",
      "\u001b[32m2024-08-29 18:30:02.824\u001b[0m | \u001b[34m\u001b[1mDEBUG   \u001b[0m | \u001b[36mstochastic_volatility_models.src.core.calibration\u001b[0m:\u001b[36mminimise_cost_function\u001b[0m:\u001b[36m130\u001b[0m - \u001b[34m\u001b[1mCost is 2.298104495485556 with parameters {'initial_variance': 0.0895791230480412, 'long_term_variance': 0.05868113676094022, 'volatility_of_volatility': 11.291310461904688, 'mean_reversion_rate': 9.551738448346748, 'wiener_correlation': 0.3832097577634248}\u001b[0m\n",
      "\u001b[32m2024-08-29 18:30:13.397\u001b[0m | \u001b[34m\u001b[1mDEBUG   \u001b[0m | \u001b[36mstochastic_volatility_models.src.core.calibration\u001b[0m:\u001b[36mminimise_cost_function\u001b[0m:\u001b[36m130\u001b[0m - \u001b[34m\u001b[1mCost is 3.1899465273059766 with parameters {'initial_variance': 0.0895791230480412, 'long_term_variance': 0.7518427246069457, 'volatility_of_volatility': 5.012261626753197, 'mean_reversion_rate': 1.6748256568219517, 'wiener_correlation': -0.4921208646771599}\u001b[0m\n",
      "\u001b[32m2024-08-29 18:30:24.807\u001b[0m | \u001b[34m\u001b[1mDEBUG   \u001b[0m | \u001b[36mstochastic_volatility_models.src.core.calibration\u001b[0m:\u001b[36mminimise_cost_function\u001b[0m:\u001b[36m130\u001b[0m - \u001b[34m\u001b[1mCost is 2.3290517070020424 with parameters {'initial_variance': 0.0895791230480412, 'long_term_variance': 1.0372568295308937, 'volatility_of_volatility': 8.252852708174387, 'mean_reversion_rate': 7.472530031573244, 'wiener_correlation': 0.617405104045698}\u001b[0m\n",
      "\u001b[32m2024-08-29 18:30:33.074\u001b[0m | \u001b[34m\u001b[1mDEBUG   \u001b[0m | \u001b[36mstochastic_volatility_models.src.core.calibration\u001b[0m:\u001b[36mminimise_cost_function\u001b[0m:\u001b[36m130\u001b[0m - \u001b[34m\u001b[1mCost is 2.841558565778245 with parameters {'initial_variance': 0.0895791230480412, 'long_term_variance': 0.4544135763650674, 'volatility_of_volatility': 13.50011987975791, 'mean_reversion_rate': 3.9600733394395924, 'wiener_correlation': -0.8984419764101153}\u001b[0m\n",
      "\u001b[32m2024-08-29 18:30:40.862\u001b[0m | \u001b[34m\u001b[1mDEBUG   \u001b[0m | \u001b[36mstochastic_volatility_models.src.core.calibration\u001b[0m:\u001b[36mminimise_cost_function\u001b[0m:\u001b[36m130\u001b[0m - \u001b[34m\u001b[1mCost is 2.3470897174615155 with parameters {'initial_variance': 0.0895791230480412, 'long_term_variance': 0.9643614786269947, 'volatility_of_volatility': 1.3737335386521679, 'mean_reversion_rate': 4.2345957978913065, 'wiener_correlation': 0.03044584976457232}\u001b[0m\n",
      "\u001b[32m2024-08-29 18:30:49.458\u001b[0m | \u001b[34m\u001b[1mDEBUG   \u001b[0m | \u001b[36mstochastic_volatility_models.src.core.calibration\u001b[0m:\u001b[36mminimise_cost_function\u001b[0m:\u001b[36m130\u001b[0m - \u001b[34m\u001b[1mCost is 1.825131970496569 with parameters {'initial_variance': 0.0895791230480412, 'long_term_variance': 0.9277872517313819, 'volatility_of_volatility': 10.480037642399811, 'mean_reversion_rate': 9.813196581062142, 'wiener_correlation': 0.9950686028788907}\u001b[0m\n",
      "\u001b[32m2024-08-29 18:30:58.341\u001b[0m | \u001b[34m\u001b[1mDEBUG   \u001b[0m | \u001b[36mstochastic_volatility_models.src.core.calibration\u001b[0m:\u001b[36mminimise_cost_function\u001b[0m:\u001b[36m130\u001b[0m - \u001b[34m\u001b[1mCost is 2.05203637537248 with parameters {'initial_variance': 0.0895791230480412, 'long_term_variance': 0.6911846878094838, 'volatility_of_volatility': 3.2695505304821584, 'mean_reversion_rate': 12.104650220551019, 'wiener_correlation': 0.23860936248706266}\u001b[0m\n",
      "\u001b[32m2024-08-29 18:31:08.612\u001b[0m | \u001b[34m\u001b[1mDEBUG   \u001b[0m | \u001b[36mstochastic_volatility_models.src.core.calibration\u001b[0m:\u001b[36mminimise_cost_function\u001b[0m:\u001b[36m130\u001b[0m - \u001b[34m\u001b[1mCost is 0.353442049237519 with parameters {'initial_variance': 0.0895791230480412, 'long_term_variance': 0.09270476725997256, 'volatility_of_volatility': 3.7836873681520906, 'mean_reversion_rate': 11.258813489921092, 'wiener_correlation': -0.8372965874398414}\u001b[0m\n",
      "\u001b[32m2024-08-29 18:31:19.742\u001b[0m | \u001b[34m\u001b[1mDEBUG   \u001b[0m | \u001b[36mstochastic_volatility_models.src.core.calibration\u001b[0m:\u001b[36mminimise_cost_function\u001b[0m:\u001b[36m130\u001b[0m - \u001b[34m\u001b[1mCost is 2.2962050918312458 with parameters {'initial_variance': 0.0895791230480412, 'long_term_variance': 0.15838061494209887, 'volatility_of_volatility': 5.876377357342198, 'mean_reversion_rate': 3.2971951210322548, 'wiener_correlation': -0.3547896681284688}\u001b[0m\n",
      "\u001b[32m2024-08-29 18:31:29.541\u001b[0m | \u001b[34m\u001b[1mDEBUG   \u001b[0m | \u001b[36mstochastic_volatility_models.src.core.calibration\u001b[0m:\u001b[36mminimise_cost_function\u001b[0m:\u001b[36m130\u001b[0m - \u001b[34m\u001b[1mCost is 3.1955891396559464 with parameters {'initial_variance': 0.0895791230480412, 'long_term_variance': 0.49779146035186767, 'volatility_of_volatility': 6.791284373226464, 'mean_reversion_rate': 2.186892052596048, 'wiener_correlation': -0.08318079701794989}\u001b[0m\n",
      "\u001b[32m2024-08-29 18:31:38.798\u001b[0m | \u001b[34m\u001b[1mDEBUG   \u001b[0m | \u001b[36mstochastic_volatility_models.src.core.calibration\u001b[0m:\u001b[36mminimise_cost_function\u001b[0m:\u001b[36m130\u001b[0m - \u001b[34m\u001b[1mCost is 3.020352830871901 with parameters {'initial_variance': 0.0895791230480412, 'long_term_variance': 1.1817641383607411, 'volatility_of_volatility': 4.044588276851643, 'mean_reversion_rate': 0.9631905832936001, 'wiener_correlation': -0.03063784008054815}\u001b[0m\n",
      "\u001b[32m2024-08-29 18:31:48.291\u001b[0m | \u001b[34m\u001b[1mDEBUG   \u001b[0m | \u001b[36mstochastic_volatility_models.src.core.calibration\u001b[0m:\u001b[36mminimise_cost_function\u001b[0m:\u001b[36m130\u001b[0m - \u001b[34m\u001b[1mCost is 2.126306758880382 with parameters {'initial_variance': 0.0895791230480412, 'long_term_variance': 0.5189981020426542, 'volatility_of_volatility': 9.056433006035576, 'mean_reversion_rate': 14.561777078947433, 'wiener_correlation': -0.3069212894352584}\u001b[0m\n",
      "\u001b[32m2024-08-29 18:31:58.684\u001b[0m | \u001b[34m\u001b[1mDEBUG   \u001b[0m | \u001b[36mstochastic_volatility_models.src.core.calibration\u001b[0m:\u001b[36mminimise_cost_function\u001b[0m:\u001b[36m130\u001b[0m - \u001b[34m\u001b[1mCost is 2.501447594448369 with parameters {'initial_variance': 0.0895791230480412, 'long_term_variance': 0.7219096584990855, 'volatility_of_volatility': 4.987859103542968, 'mean_reversion_rate': 6.9896939524214945, 'wiener_correlation': 0.5877814833154562}\u001b[0m\n",
      "\u001b[32m2024-08-29 18:32:09.470\u001b[0m | \u001b[34m\u001b[1mDEBUG   \u001b[0m | \u001b[36mstochastic_volatility_models.src.core.calibration\u001b[0m:\u001b[36mminimise_cost_function\u001b[0m:\u001b[36m130\u001b[0m - \u001b[34m\u001b[1mCost is 3.367512881962396 with parameters {'initial_variance': 0.0895791230480412, 'long_term_variance': 0.3863736726885247, 'volatility_of_volatility': 14.851065957287044, 'mean_reversion_rate': 1.4406227003247238, 'wiener_correlation': 0.9388965484895051}\u001b[0m\n",
      "\u001b[32m2024-08-29 18:32:21.537\u001b[0m | \u001b[34m\u001b[1mDEBUG   \u001b[0m | \u001b[36mstochastic_volatility_models.src.core.calibration\u001b[0m:\u001b[36mminimise_cost_function\u001b[0m:\u001b[36m130\u001b[0m - \u001b[34m\u001b[1mCost is 2.487919081211213 with parameters {'initial_variance': 0.0895791230480412, 'long_term_variance': 0.5487505098343837, 'volatility_of_volatility': 0.2724117262137531, 'mean_reversion_rate': 8.369293879703614, 'wiener_correlation': -0.6140447693038626}\u001b[0m\n",
      "\u001b[32m2024-08-29 18:32:33.798\u001b[0m | \u001b[34m\u001b[1mDEBUG   \u001b[0m | \u001b[36mstochastic_volatility_models.src.core.calibration\u001b[0m:\u001b[36mminimise_cost_function\u001b[0m:\u001b[36m130\u001b[0m - \u001b[34m\u001b[1mCost is 3.1045700676658803 with parameters {'initial_variance': 0.0895791230480412, 'long_term_variance': 1.0664831229703013, 'volatility_of_volatility': 7.446699879671264, 'mean_reversion_rate': 2.600315319094193, 'wiener_correlation': -0.643802127714252}\u001b[0m\n",
      "\u001b[32m2024-08-29 18:32:43.459\u001b[0m | \u001b[34m\u001b[1mDEBUG   \u001b[0m | \u001b[36mstochastic_volatility_models.src.core.calibration\u001b[0m:\u001b[36mminimise_cost_function\u001b[0m:\u001b[36m130\u001b[0m - \u001b[34m\u001b[1mCost is 2.03273091978779 with parameters {'initial_variance': 0.0895791230480412, 'long_term_variance': 1.0818339813844975, 'volatility_of_volatility': 12.503759345193249, 'mean_reversion_rate': 6.299918991793059, 'wiener_correlation': 0.796910960064013}\u001b[0m\n",
      "\u001b[32m2024-08-29 18:32:52.529\u001b[0m | \u001b[34m\u001b[1mDEBUG   \u001b[0m | \u001b[36mstochastic_volatility_models.src.core.calibration\u001b[0m:\u001b[36mminimise_cost_function\u001b[0m:\u001b[36m130\u001b[0m - \u001b[34m\u001b[1mCost is 1.1523153024661614 with parameters {'initial_variance': 0.0895791230480412, 'long_term_variance': 1.1302784404954722, 'volatility_of_volatility': 12.21416813460786, 'mean_reversion_rate': 14.184274854130305, 'wiener_correlation': 0.4049462253206211}\u001b[0m\n",
      "\u001b[32m2024-08-29 18:33:03.050\u001b[0m | \u001b[34m\u001b[1mDEBUG   \u001b[0m | \u001b[36mstochastic_volatility_models.src.core.calibration\u001b[0m:\u001b[36mminimise_cost_function\u001b[0m:\u001b[36m130\u001b[0m - \u001b[34m\u001b[1mCost is 3.0836277938164294 with parameters {'initial_variance': 0.0895791230480412, 'long_term_variance': 0.3413337499402255, 'volatility_of_volatility': 0.8421931655666359, 'mean_reversion_rate': 10.775616598979305, 'wiener_correlation': -0.24664085848144734}\u001b[0m\n",
      "\u001b[32m2024-08-29 18:33:12.432\u001b[0m | \u001b[34m\u001b[1mDEBUG   \u001b[0m | \u001b[36mstochastic_volatility_models.src.core.calibration\u001b[0m:\u001b[36mminimise_cost_function\u001b[0m:\u001b[36m130\u001b[0m - \u001b[34m\u001b[1mCost is 1.9301237483138975 with parameters {'initial_variance': 0.0895791230480412, 'long_term_variance': 0.9172161515857427, 'volatility_of_volatility': 10.74301586405613, 'mean_reversion_rate': 6.21813529249204, 'wiener_correlation': 0.9308609438465358}\u001b[0m\n",
      "\u001b[32m2024-08-29 18:33:23.980\u001b[0m | \u001b[34m\u001b[1mDEBUG   \u001b[0m | \u001b[36mstochastic_volatility_models.src.core.calibration\u001b[0m:\u001b[36mminimise_cost_function\u001b[0m:\u001b[36m130\u001b[0m - \u001b[34m\u001b[1mCost is 1.262405287330774 with parameters {'initial_variance': 0.0895791230480412, 'long_term_variance': 1.225000454886443, 'volatility_of_volatility': 4.630126703898398, 'mean_reversion_rate': 9.202714540215393, 'wiener_correlation': 0.8916833538109263}\u001b[0m\n",
      "\u001b[32m2024-08-29 18:33:33.327\u001b[0m | \u001b[34m\u001b[1mDEBUG   \u001b[0m | \u001b[36mstochastic_volatility_models.src.core.calibration\u001b[0m:\u001b[36mminimise_cost_function\u001b[0m:\u001b[36m130\u001b[0m - \u001b[34m\u001b[1mCost is 2.1603802275952546 with parameters {'initial_variance': 0.0895791230480412, 'long_term_variance': 0.5717527835051235, 'volatility_of_volatility': 7.715938078590982, 'mean_reversion_rate': 13.477230212977513, 'wiener_correlation': -0.4321463972998012}\u001b[0m\n",
      "\u001b[32m2024-08-29 18:33:43.238\u001b[0m | \u001b[34m\u001b[1mDEBUG   \u001b[0m | \u001b[36mstochastic_volatility_models.src.core.calibration\u001b[0m:\u001b[36mminimise_cost_function\u001b[0m:\u001b[36m130\u001b[0m - \u001b[34m\u001b[1mCost is 1.8790377880891214 with parameters {'initial_variance': 0.0895791230480412, 'long_term_variance': 1.0965401485889332, 'volatility_of_volatility': 4.3962192318043884, 'mean_reversion_rate': 4.902596971985149, 'wiener_correlation': 0.2846694594992627}\u001b[0m\n",
      "\u001b[32m2024-08-29 18:33:51.201\u001b[0m | \u001b[34m\u001b[1mDEBUG   \u001b[0m | \u001b[36mstochastic_volatility_models.src.core.calibration\u001b[0m:\u001b[36mminimise_cost_function\u001b[0m:\u001b[36m130\u001b[0m - \u001b[34m\u001b[1mCost is 2.726608576888528 with parameters {'initial_variance': 0.0895791230480412, 'long_term_variance': 0.44285019067920556, 'volatility_of_volatility': 14.427478171206193, 'mean_reversion_rate': 5.088014098285063, 'wiener_correlation': -0.8227701793334625}\u001b[0m\n",
      "\u001b[32m2024-08-29 18:34:00.934\u001b[0m | \u001b[34m\u001b[1mDEBUG   \u001b[0m | \u001b[36mstochastic_volatility_models.src.core.calibration\u001b[0m:\u001b[36mminimise_cost_function\u001b[0m:\u001b[36m130\u001b[0m - \u001b[34m\u001b[1mCost is 1.499947946250869 with parameters {'initial_variance': 0.0895791230480412, 'long_term_variance': 1.1776158141052475, 'volatility_of_volatility': 1.9751143930875346, 'mean_reversion_rate': 10.629144791306516, 'wiener_correlation': -0.19460710026307726}\u001b[0m\n",
      "\u001b[32m2024-08-29 18:34:12.033\u001b[0m | \u001b[34m\u001b[1mDEBUG   \u001b[0m | \u001b[36mstochastic_volatility_models.src.core.calibration\u001b[0m:\u001b[36mminimise_cost_function\u001b[0m:\u001b[36m130\u001b[0m - \u001b[34m\u001b[1mCost is 1.298662985266946 with parameters {'initial_variance': 0.0895791230480412, 'long_term_variance': 0.996203438774468, 'volatility_of_volatility': 11.673017753204503, 'mean_reversion_rate': 10.33447708504588, 'wiener_correlation': -0.4585166111679103}\u001b[0m\n",
      "\u001b[32m2024-08-29 18:34:24.236\u001b[0m | \u001b[34m\u001b[1mDEBUG   \u001b[0m | \u001b[36mstochastic_volatility_models.src.core.calibration\u001b[0m:\u001b[36mminimise_cost_function\u001b[0m:\u001b[36m130\u001b[0m - \u001b[34m\u001b[1mCost is 2.0204572363875086 with parameters {'initial_variance': 0.0895791230480412, 'long_term_variance': 0.8849098733785222, 'volatility_of_volatility': 9.976909091639843, 'mean_reversion_rate': 11.564402825785825, 'wiener_correlation': 0.8290310313739193}\u001b[0m\n",
      "\u001b[32m2024-08-29 18:34:33.311\u001b[0m | \u001b[34m\u001b[1mDEBUG   \u001b[0m | \u001b[36mstochastic_volatility_models.src.core.calibration\u001b[0m:\u001b[36mminimise_cost_function\u001b[0m:\u001b[36m130\u001b[0m - \u001b[34m\u001b[1mCost is 0.10434654345462802 with parameters {'initial_variance': 0.0895791230480412, 'long_term_variance': 0.021324001262787995, 'volatility_of_volatility': 2.5229183472202577, 'mean_reversion_rate': 9.443457070939235, 'wiener_correlation': -0.9457021390235494}\u001b[0m\n",
      "\u001b[32m2024-08-29 18:34:44.213\u001b[0m | \u001b[34m\u001b[1mDEBUG   \u001b[0m | \u001b[36mstochastic_volatility_models.src.core.calibration\u001b[0m:\u001b[36mminimise_cost_function\u001b[0m:\u001b[36m130\u001b[0m - \u001b[34m\u001b[1mCost is 1.0147633331273527 with parameters {'initial_variance': 0.0895791230480412, 'long_term_variance': 0.04967131163668115, 'volatility_of_volatility': 6.166290475963339, 'mean_reversion_rate': 5.81724057335167, 'wiener_correlation': 0.5374330598881447}\u001b[0m\n",
      "\u001b[32m2024-08-29 18:34:53.193\u001b[0m | \u001b[34m\u001b[1mDEBUG   \u001b[0m | \u001b[36mstochastic_volatility_models.src.core.calibration\u001b[0m:\u001b[36mminimise_cost_function\u001b[0m:\u001b[36m130\u001b[0m - \u001b[34m\u001b[1mCost is 2.3178463083043086 with parameters {'initial_variance': 0.0895791230480412, 'long_term_variance': 0.8147789115601466, 'volatility_of_volatility': 1.1545247761837043, 'mean_reversion_rate': 0.653231331808561, 'wiener_correlation': -0.21636488184493663}\u001b[0m\n",
      "\u001b[32m2024-08-29 18:35:02.946\u001b[0m | \u001b[34m\u001b[1mDEBUG   \u001b[0m | \u001b[36mstochastic_volatility_models.src.core.calibration\u001b[0m:\u001b[36mminimise_cost_function\u001b[0m:\u001b[36m130\u001b[0m - \u001b[34m\u001b[1mCost is 0.08252379842736617 with parameters {'initial_variance': 0.0895791230480412, 'long_term_variance': 0.028907233183553704, 'volatility_of_volatility': 3.692167154146601, 'mean_reversion_rate': 12.953804848147941, 'wiener_correlation': -0.9270266866698257}\u001b[0m\n",
      "\u001b[32m2024-08-29 18:35:13.085\u001b[0m | \u001b[34m\u001b[1mDEBUG   \u001b[0m | \u001b[36mstochastic_volatility_models.src.core.calibration\u001b[0m:\u001b[36mminimise_cost_function\u001b[0m:\u001b[36m130\u001b[0m - \u001b[34m\u001b[1mCost is 0.7628153454163046 with parameters {'initial_variance': 0.0895791230480412, 'long_term_variance': 0.12349687637507056, 'volatility_of_volatility': 3.0775254872486206, 'mean_reversion_rate': 3.607221865712411, 'wiener_correlation': 0.5215327101312655}\u001b[0m\n",
      "\u001b[32m2024-08-29 18:35:25.013\u001b[0m | \u001b[34m\u001b[1mDEBUG   \u001b[0m | \u001b[36mstochastic_volatility_models.src.core.calibration\u001b[0m:\u001b[36mminimise_cost_function\u001b[0m:\u001b[36m130\u001b[0m - \u001b[34m\u001b[1mCost is 1.7677761321489167 with parameters {'initial_variance': 0.0895791230480412, 'long_term_variance': 1.1408940329789523, 'volatility_of_volatility': 10.21623519046096, 'mean_reversion_rate': 5.283134688912558, 'wiener_correlation': -0.8995745865326519}\u001b[0m\n",
      "\u001b[32m2024-08-29 18:35:34.856\u001b[0m | \u001b[34m\u001b[1mDEBUG   \u001b[0m | \u001b[36mstochastic_volatility_models.src.core.calibration\u001b[0m:\u001b[36mminimise_cost_function\u001b[0m:\u001b[36m130\u001b[0m - \u001b[34m\u001b[1mCost is 3.1311370401829985 with parameters {'initial_variance': 0.0895791230480412, 'long_term_variance': 0.2684165157652419, 'volatility_of_volatility': 3.4548275970577533, 'mean_reversion_rate': 8.738024361991044, 'wiener_correlation': -0.7502710023159587}\u001b[0m\n",
      "\u001b[32m2024-08-29 18:35:44.547\u001b[0m | \u001b[34m\u001b[1mDEBUG   \u001b[0m | \u001b[36mstochastic_volatility_models.src.core.calibration\u001b[0m:\u001b[36mminimise_cost_function\u001b[0m:\u001b[36m130\u001b[0m - \u001b[34m\u001b[1mCost is 0.5247693851628171 with parameters {'initial_variance': 0.0895791230480412, 'long_term_variance': 0.04061492587721871, 'volatility_of_volatility': 2.591278930886957, 'mean_reversion_rate': 0.34976607032948337, 'wiener_correlation': -0.9170960116682598}\u001b[0m\n",
      "\u001b[32m2024-08-29 18:35:54.006\u001b[0m | \u001b[34m\u001b[1mDEBUG   \u001b[0m | \u001b[36mstochastic_volatility_models.src.core.calibration\u001b[0m:\u001b[36mminimise_cost_function\u001b[0m:\u001b[36m130\u001b[0m - \u001b[34m\u001b[1mCost is 0.8687448145963761 with parameters {'initial_variance': 0.0895791230480412, 'long_term_variance': 0.021964061100700927, 'volatility_of_volatility': 8.682380624157718, 'mean_reversion_rate': 10.039375644034717, 'wiener_correlation': -0.1272643079945407}\u001b[0m\n",
      "\u001b[32m2024-08-29 18:36:02.756\u001b[0m | \u001b[34m\u001b[1mDEBUG   \u001b[0m | \u001b[36mstochastic_volatility_models.src.core.calibration\u001b[0m:\u001b[36mminimise_cost_function\u001b[0m:\u001b[36m130\u001b[0m - \u001b[34m\u001b[1mCost is 2.990780128145786 with parameters {'initial_variance': 0.0895791230480412, 'long_term_variance': 0.42766671177553794, 'volatility_of_volatility': 3.041990796330884, 'mean_reversion_rate': 8.228581143107583, 'wiener_correlation': 0.19209012192124786}\u001b[0m\n",
      "\u001b[32m2024-08-29 18:36:13.457\u001b[0m | \u001b[34m\u001b[1mDEBUG   \u001b[0m | \u001b[36mstochastic_volatility_models.src.core.calibration\u001b[0m:\u001b[36mminimise_cost_function\u001b[0m:\u001b[36m130\u001b[0m - \u001b[34m\u001b[1mCost is 2.0769215323721584 with parameters {'initial_variance': 0.0895791230480412, 'long_term_variance': 0.7890878060134265, 'volatility_of_volatility': 5.614152247261508, 'mean_reversion_rate': 9.537560182232799, 'wiener_correlation': -0.3986494327602865}\u001b[0m\n",
      "\u001b[32m2024-08-29 18:36:23.656\u001b[0m | \u001b[34m\u001b[1mDEBUG   \u001b[0m | \u001b[36mstochastic_volatility_models.src.core.calibration\u001b[0m:\u001b[36mminimise_cost_function\u001b[0m:\u001b[36m130\u001b[0m - \u001b[34m\u001b[1mCost is 0.08018903413664843 with parameters {'initial_variance': 0.0895791230480412, 'long_term_variance': 0.035544260720051124, 'volatility_of_volatility': 2.8257936197086293, 'mean_reversion_rate': 8.944180718516789, 'wiener_correlation': -0.9473445244449296}\u001b[0m\n",
      "\u001b[32m2024-08-29 18:36:32.896\u001b[0m | \u001b[34m\u001b[1mDEBUG   \u001b[0m | \u001b[36mstochastic_volatility_models.src.core.calibration\u001b[0m:\u001b[36mminimise_cost_function\u001b[0m:\u001b[36m130\u001b[0m - \u001b[34m\u001b[1mCost is 1.9760765573305425 with parameters {'initial_variance': 0.0895791230480412, 'long_term_variance': 0.05330618107067586, 'volatility_of_volatility': 10.784469008028204, 'mean_reversion_rate': 9.746565648813075, 'wiener_correlation': -0.597271271348234}\u001b[0m\n",
      "\u001b[32m2024-08-29 18:36:43.138\u001b[0m | \u001b[34m\u001b[1mDEBUG   \u001b[0m | \u001b[36mstochastic_volatility_models.src.core.calibration\u001b[0m:\u001b[36mminimise_cost_function\u001b[0m:\u001b[36m130\u001b[0m - \u001b[34m\u001b[1mCost is 2.5543898885932688 with parameters {'initial_variance': 0.0895791230480412, 'long_term_variance': 0.7476676544012164, 'volatility_of_volatility': 7.028904067680113, 'mean_reversion_rate': 5.525811733431134, 'wiener_correlation': -0.8838481203656372}\u001b[0m\n",
      "\u001b[32m2024-08-29 18:36:52.239\u001b[0m | \u001b[34m\u001b[1mDEBUG   \u001b[0m | \u001b[36mstochastic_volatility_models.src.core.calibration\u001b[0m:\u001b[36mminimise_cost_function\u001b[0m:\u001b[36m130\u001b[0m - \u001b[34m\u001b[1mCost is 3.3105389805630687 with parameters {'initial_variance': 0.0895791230480412, 'long_term_variance': 0.045893917544954754, 'volatility_of_volatility': 13.197137212023868, 'mean_reversion_rate': 7.221423476820057, 'wiener_correlation': -0.7854501204923658}\u001b[0m\n",
      "\u001b[32m2024-08-29 18:37:00.595\u001b[0m | \u001b[34m\u001b[1mDEBUG   \u001b[0m | \u001b[36mstochastic_volatility_models.src.core.calibration\u001b[0m:\u001b[36mminimise_cost_function\u001b[0m:\u001b[36m130\u001b[0m - \u001b[34m\u001b[1mCost is 3.2552485257490558 with parameters {'initial_variance': 0.0895791230480412, 'long_term_variance': 0.25141766843894675, 'volatility_of_volatility': 0.5286944387283112, 'mean_reversion_rate': 9.420470510226457, 'wiener_correlation': 0.042133113312014414}\u001b[0m\n",
      "\u001b[32m2024-08-29 18:37:09.305\u001b[0m | \u001b[34m\u001b[1mDEBUG   \u001b[0m | \u001b[36mstochastic_volatility_models.src.core.calibration\u001b[0m:\u001b[36mminimise_cost_function\u001b[0m:\u001b[36m130\u001b[0m - \u001b[34m\u001b[1mCost is 2.94709773889045 with parameters {'initial_variance': 0.0895791230480412, 'long_term_variance': 0.221767179589677, 'volatility_of_volatility': 2.709962018718813, 'mean_reversion_rate': 11.121860933081122, 'wiener_correlation': -0.5395892011782691}\u001b[0m\n",
      "\u001b[32m2024-08-29 18:37:22.718\u001b[0m | \u001b[34m\u001b[1mDEBUG   \u001b[0m | \u001b[36mstochastic_volatility_models.src.core.calibration\u001b[0m:\u001b[36mminimise_cost_function\u001b[0m:\u001b[36m130\u001b[0m - \u001b[34m\u001b[1mCost is 2.930031203985274 with parameters {'initial_variance': 0.0895791230480412, 'long_term_variance': 0.610409584553023, 'volatility_of_volatility': 13.415904010506413, 'mean_reversion_rate': 1.7680434702883137, 'wiener_correlation': -0.9146878210484817}\u001b[0m\n",
      "\u001b[32m2024-08-29 18:37:33.062\u001b[0m | \u001b[34m\u001b[1mDEBUG   \u001b[0m | \u001b[36mstochastic_volatility_models.src.core.calibration\u001b[0m:\u001b[36mminimise_cost_function\u001b[0m:\u001b[36m130\u001b[0m - \u001b[34m\u001b[1mCost is 2.1175923827632865 with parameters {'initial_variance': 0.0895791230480412, 'long_term_variance': 1.0162907295768524, 'volatility_of_volatility': 2.9432054839860005, 'mean_reversion_rate': 4.570736674762088, 'wiener_correlation': 0.3604972655431462}\u001b[0m\n",
      "\u001b[32m2024-08-29 18:37:42.753\u001b[0m | \u001b[34m\u001b[1mDEBUG   \u001b[0m | \u001b[36mstochastic_volatility_models.src.core.calibration\u001b[0m:\u001b[36mminimise_cost_function\u001b[0m:\u001b[36m130\u001b[0m - \u001b[34m\u001b[1mCost is 1.9565945271651928 with parameters {'initial_variance': 0.0895791230480412, 'long_term_variance': 0.6309879221250724, 'volatility_of_volatility': 0.03594249379513759, 'mean_reversion_rate': 9.3730236088623, 'wiener_correlation': -0.9926442951078419}\u001b[0m\n",
      "\u001b[32m2024-08-29 18:37:51.331\u001b[0m | \u001b[34m\u001b[1mDEBUG   \u001b[0m | \u001b[36mstochastic_volatility_models.src.core.calibration\u001b[0m:\u001b[36mminimise_cost_function\u001b[0m:\u001b[36m130\u001b[0m - \u001b[34m\u001b[1mCost is 0.09445974201030202 with parameters {'initial_variance': 0.0895791230480412, 'long_term_variance': 0.020655209335757818, 'volatility_of_volatility': 2.669914744286058, 'mean_reversion_rate': 7.5728699826879184, 'wiener_correlation': 0.10472501043883731}\u001b[0m\n",
      "\u001b[32m2024-08-29 18:38:00.683\u001b[0m | \u001b[34m\u001b[1mDEBUG   \u001b[0m | \u001b[36mstochastic_volatility_models.src.core.calibration\u001b[0m:\u001b[36mminimise_cost_function\u001b[0m:\u001b[36m130\u001b[0m - \u001b[34m\u001b[1mCost is 0.6573532451723121 with parameters {'initial_variance': 0.0895791230480412, 'long_term_variance': 0.008062043244204897, 'volatility_of_volatility': 8.082141400296976, 'mean_reversion_rate': 9.259132221184194, 'wiener_correlation': 0.442743610419152}\u001b[0m\n",
      "\u001b[32m2024-08-29 18:38:10.691\u001b[0m | \u001b[34m\u001b[1mDEBUG   \u001b[0m | \u001b[36mstochastic_volatility_models.src.core.calibration\u001b[0m:\u001b[36mminimise_cost_function\u001b[0m:\u001b[36m130\u001b[0m - \u001b[34m\u001b[1mCost is 0.8020149727823903 with parameters {'initial_variance': 0.0895791230480412, 'long_term_variance': 0.08108186021408004, 'volatility_of_volatility': 5.4340977034947855, 'mean_reversion_rate': 9.36554734916838, 'wiener_correlation': -0.05736834835454174}\u001b[0m\n",
      "\u001b[32m2024-08-29 18:38:21.322\u001b[0m | \u001b[34m\u001b[1mDEBUG   \u001b[0m | \u001b[36mstochastic_volatility_models.src.core.calibration\u001b[0m:\u001b[36mminimise_cost_function\u001b[0m:\u001b[36m130\u001b[0m - \u001b[34m\u001b[1mCost is 2.347850189814349 with parameters {'initial_variance': 0.0895791230480412, 'long_term_variance': 0.19573846228919795, 'volatility_of_volatility': 3.312606341272481, 'mean_reversion_rate': 7.939493162166588, 'wiener_correlation': -0.9366147896463599}\u001b[0m\n",
      "\u001b[32m2024-08-29 18:38:31.909\u001b[0m | \u001b[34m\u001b[1mDEBUG   \u001b[0m | \u001b[36mstochastic_volatility_models.src.core.calibration\u001b[0m:\u001b[36mminimise_cost_function\u001b[0m:\u001b[36m130\u001b[0m - \u001b[34m\u001b[1mCost is 2.4499025288558003 with parameters {'initial_variance': 0.0895791230480412, 'long_term_variance': 0.008865691041022972, 'volatility_of_volatility': 13.837751822494747, 'mean_reversion_rate': 6.657001017756618, 'wiener_correlation': 0.676291045351324}\u001b[0m\n",
      "\u001b[32m2024-08-29 18:38:40.425\u001b[0m | \u001b[34m\u001b[1mDEBUG   \u001b[0m | \u001b[36mstochastic_volatility_models.src.core.calibration\u001b[0m:\u001b[36mminimise_cost_function\u001b[0m:\u001b[36m130\u001b[0m - \u001b[34m\u001b[1mCost is 2.6394036822327243 with parameters {'initial_variance': 0.0895791230480412, 'long_term_variance': 0.026669916437555452, 'volatility_of_volatility': 14.501905940967191, 'mean_reversion_rate': 9.373879048094448, 'wiener_correlation': -0.7297011192088384}\u001b[0m\n",
      "\u001b[32m2024-08-29 18:38:48.471\u001b[0m | \u001b[34m\u001b[1mDEBUG   \u001b[0m | \u001b[36mstochastic_volatility_models.src.core.calibration\u001b[0m:\u001b[36mminimise_cost_function\u001b[0m:\u001b[36m130\u001b[0m - \u001b[34m\u001b[1mCost is 3.1009690130990823 with parameters {'initial_variance': 0.0895791230480412, 'long_term_variance': 0.3118283388157948, 'volatility_of_volatility': 12.265181235377016, 'mean_reversion_rate': 9.42509600336558, 'wiener_correlation': -0.8936891491580067}\u001b[0m\n",
      "\u001b[32m2024-08-29 18:38:57.528\u001b[0m | \u001b[34m\u001b[1mDEBUG   \u001b[0m | \u001b[36mstochastic_volatility_models.src.core.calibration\u001b[0m:\u001b[36mminimise_cost_function\u001b[0m:\u001b[36m130\u001b[0m - \u001b[34m\u001b[1mCost is 0.07846231239882409 with parameters {'initial_variance': 0.0895791230480412, 'long_term_variance': 0.03602265034497376, 'volatility_of_volatility': 2.758576940997978, 'mean_reversion_rate': 8.837562100906739, 'wiener_correlation': -0.6859732778567719}\u001b[0m\n",
      "\u001b[32m2024-08-29 18:39:05.755\u001b[0m | \u001b[34m\u001b[1mDEBUG   \u001b[0m | \u001b[36mstochastic_volatility_models.src.core.calibration\u001b[0m:\u001b[36mminimise_cost_function\u001b[0m:\u001b[36m130\u001b[0m - \u001b[34m\u001b[1mCost is 1.638013859644105 with parameters {'initial_variance': 0.0895791230480412, 'long_term_variance': 0.019551552336377176, 'volatility_of_volatility': 11.779981507774918, 'mean_reversion_rate': 9.358716843573863, 'wiener_correlation': -0.5248293489957655}\u001b[0m\n",
      "\u001b[32m2024-08-29 18:39:14.703\u001b[0m | \u001b[34m\u001b[1mDEBUG   \u001b[0m | \u001b[36mstochastic_volatility_models.src.core.calibration\u001b[0m:\u001b[36mminimise_cost_function\u001b[0m:\u001b[36m130\u001b[0m - \u001b[34m\u001b[1mCost is 1.485393890358978 with parameters {'initial_variance': 0.0895791230480412, 'long_term_variance': 0.14681380437857355, 'volatility_of_volatility': 1.5427541016540625, 'mean_reversion_rate': 9.778814445531626, 'wiener_correlation': -0.9427556126740138}\u001b[0m\n",
      "\u001b[32m2024-08-29 18:39:25.041\u001b[0m | \u001b[34m\u001b[1mDEBUG   \u001b[0m | \u001b[36mstochastic_volatility_models.src.core.calibration\u001b[0m:\u001b[36mminimise_cost_function\u001b[0m:\u001b[36m130\u001b[0m - \u001b[34m\u001b[1mCost is 1.356302135505311 with parameters {'initial_variance': 0.0895791230480412, 'long_term_variance': 0.015546213899594985, 'volatility_of_volatility': 12.836192838087996, 'mean_reversion_rate': 12.285365703408306, 'wiener_correlation': 0.8400766633040395}\u001b[0m\n",
      "\u001b[32m2024-08-29 18:39:34.613\u001b[0m | \u001b[34m\u001b[1mDEBUG   \u001b[0m | \u001b[36mstochastic_volatility_models.src.core.calibration\u001b[0m:\u001b[36mminimise_cost_function\u001b[0m:\u001b[36m130\u001b[0m - \u001b[34m\u001b[1mCost is 3.21087252330394 with parameters {'initial_variance': 0.0895791230480412, 'long_term_variance': 0.3741780046293342, 'volatility_of_volatility': 2.882287510839478, 'mean_reversion_rate': 14.934714788644847, 'wiener_correlation': 0.6618276303236206}\u001b[0m\n",
      "\u001b[32m2024-08-29 18:39:43.570\u001b[0m | \u001b[34m\u001b[1mDEBUG   \u001b[0m | \u001b[36mstochastic_volatility_models.src.core.calibration\u001b[0m:\u001b[36mminimise_cost_function\u001b[0m:\u001b[36m130\u001b[0m - \u001b[34m\u001b[1mCost is 0.1356172559208531 with parameters {'initial_variance': 0.0895791230480412, 'long_term_variance': 0.019726943071254888, 'volatility_of_volatility': 2.279954924415878, 'mean_reversion_rate': 9.845074871730505, 'wiener_correlation': -0.9347075342323476}\u001b[0m\n",
      "\u001b[32m2024-08-29 18:39:52.729\u001b[0m | \u001b[34m\u001b[1mDEBUG   \u001b[0m | \u001b[36mstochastic_volatility_models.src.core.calibration\u001b[0m:\u001b[36mminimise_cost_function\u001b[0m:\u001b[36m130\u001b[0m - \u001b[34m\u001b[1mCost is 2.298017616306247 with parameters {'initial_variance': 0.0895791230480412, 'long_term_variance': 0.05868113676094022, 'volatility_of_volatility': 11.291310461904688, 'mean_reversion_rate': 9.648136181776527, 'wiener_correlation': 0.3832097577634248}\u001b[0m\n",
      "\u001b[32m2024-08-29 18:40:02.040\u001b[0m | \u001b[34m\u001b[1mDEBUG   \u001b[0m | \u001b[36mstochastic_volatility_models.src.core.calibration\u001b[0m:\u001b[36mminimise_cost_function\u001b[0m:\u001b[36m130\u001b[0m - \u001b[34m\u001b[1mCost is 0.431683156862752 with parameters {'initial_variance': 0.0895791230480412, 'long_term_variance': 0.02159191900259705, 'volatility_of_volatility': 2.93443120191606, 'mean_reversion_rate': 1.6748256568219517, 'wiener_correlation': -0.4921208646771599}\u001b[0m\n",
      "\u001b[32m2024-08-29 18:40:10.888\u001b[0m | \u001b[34m\u001b[1mDEBUG   \u001b[0m | \u001b[36mstochastic_volatility_models.src.core.calibration\u001b[0m:\u001b[36mminimise_cost_function\u001b[0m:\u001b[36m130\u001b[0m - \u001b[34m\u001b[1mCost is 0.991988578318722 with parameters {'initial_variance': 0.0895791230480412, 'long_term_variance': 0.017107233812975298, 'volatility_of_volatility': 8.252852708174387, 'mean_reversion_rate': 7.472530031573244, 'wiener_correlation': 0.617405104045698}\u001b[0m\n",
      "\u001b[32m2024-08-29 18:40:23.238\u001b[0m | \u001b[34m\u001b[1mDEBUG   \u001b[0m | \u001b[36mstochastic_volatility_models.src.core.calibration\u001b[0m:\u001b[36mminimise_cost_function\u001b[0m:\u001b[36m130\u001b[0m - \u001b[34m\u001b[1mCost is 3.080104814366509 with parameters {'initial_variance': 0.0895791230480412, 'long_term_variance': 0.0060480259070871956, 'volatility_of_volatility': 13.50011987975791, 'mean_reversion_rate': 3.9600733394395924, 'wiener_correlation': -0.8984419764101153}\u001b[0m\n",
      "\u001b[32m2024-08-29 18:40:33.371\u001b[0m | \u001b[34m\u001b[1mDEBUG   \u001b[0m | \u001b[36mstochastic_volatility_models.src.core.calibration\u001b[0m:\u001b[36mminimise_cost_function\u001b[0m:\u001b[36m130\u001b[0m - \u001b[34m\u001b[1mCost is 2.564339148601909 with parameters {'initial_variance': 0.0895791230480412, 'long_term_variance': 0.9643614786269947, 'volatility_of_volatility': 2.530213121852734, 'mean_reversion_rate': 4.2345957978913065, 'wiener_correlation': -0.9077592646552899}\u001b[0m\n",
      "\u001b[32m2024-08-29 18:40:44.304\u001b[0m | \u001b[34m\u001b[1mDEBUG   \u001b[0m | \u001b[36mstochastic_volatility_models.src.core.calibration\u001b[0m:\u001b[36mminimise_cost_function\u001b[0m:\u001b[36m130\u001b[0m - \u001b[34m\u001b[1mCost is 0.8790842980924612 with parameters {'initial_variance': 0.0895791230480412, 'long_term_variance': 0.0023810572260415386, 'volatility_of_volatility': 10.480037642399811, 'mean_reversion_rate': 9.360129915189662, 'wiener_correlation': 0.9950686028788907}\u001b[0m\n",
      "\u001b[32m2024-08-29 18:40:54.136\u001b[0m | \u001b[34m\u001b[1mDEBUG   \u001b[0m | \u001b[36mstochastic_volatility_models.src.core.calibration\u001b[0m:\u001b[36mminimise_cost_function\u001b[0m:\u001b[36m130\u001b[0m - \u001b[34m\u001b[1mCost is 2.039914407245975 with parameters {'initial_variance': 0.0895791230480412, 'long_term_variance': 0.6911846878094838, 'volatility_of_volatility': 3.3490375962710273, 'mean_reversion_rate': 12.104650220551019, 'wiener_correlation': 0.23860936248706266}\u001b[0m\n",
      "\u001b[32m2024-08-29 18:41:03.507\u001b[0m | \u001b[34m\u001b[1mDEBUG   \u001b[0m | \u001b[36mstochastic_volatility_models.src.core.calibration\u001b[0m:\u001b[36mminimise_cost_function\u001b[0m:\u001b[36m130\u001b[0m - \u001b[34m\u001b[1mCost is 0.4207976538918678 with parameters {'initial_variance': 0.0895791230480412, 'long_term_variance': 0.09270476725997256, 'volatility_of_volatility': 3.7836873681520906, 'mean_reversion_rate': 9.638797678981543, 'wiener_correlation': -0.8372965874398414}\u001b[0m\n",
      "\u001b[32m2024-08-29 18:41:13.941\u001b[0m | \u001b[34m\u001b[1mDEBUG   \u001b[0m | \u001b[36mstochastic_volatility_models.src.core.calibration\u001b[0m:\u001b[36mminimise_cost_function\u001b[0m:\u001b[36m130\u001b[0m - \u001b[34m\u001b[1mCost is 1.1461876275515426 with parameters {'initial_variance': 0.0895791230480412, 'long_term_variance': 0.15838061494209887, 'volatility_of_volatility': 3.2789762000587475, 'mean_reversion_rate': 3.2971951210322548, 'wiener_correlation': -0.3547896681284688}\u001b[0m\n",
      "\u001b[32m2024-08-29 18:41:24.343\u001b[0m | \u001b[34m\u001b[1mDEBUG   \u001b[0m | \u001b[36mstochastic_volatility_models.src.core.calibration\u001b[0m:\u001b[36mminimise_cost_function\u001b[0m:\u001b[36m130\u001b[0m - \u001b[34m\u001b[1mCost is 2.6972997560513567 with parameters {'initial_variance': 0.0895791230480412, 'long_term_variance': 0.49779146035186767, 'volatility_of_volatility': 2.9155454553493714, 'mean_reversion_rate': 9.455785488327164, 'wiener_correlation': -0.9827033528782618}\u001b[0m\n",
      "\u001b[32m2024-08-29 18:41:33.803\u001b[0m | \u001b[34m\u001b[1mDEBUG   \u001b[0m | \u001b[36mstochastic_volatility_models.src.core.calibration\u001b[0m:\u001b[36mminimise_cost_function\u001b[0m:\u001b[36m130\u001b[0m - \u001b[34m\u001b[1mCost is 0.09316472999630769 with parameters {'initial_variance': 0.0895791230480412, 'long_term_variance': 0.045893917544954754, 'volatility_of_volatility': 2.5594866821756437, 'mean_reversion_rate': 9.248018482873086, 'wiener_correlation': -0.03063784008054815}\u001b[0m\n",
      "\u001b[32m2024-08-29 18:41:43.904\u001b[0m | \u001b[34m\u001b[1mDEBUG   \u001b[0m | \u001b[36mstochastic_volatility_models.src.core.calibration\u001b[0m:\u001b[36mminimise_cost_function\u001b[0m:\u001b[36m130\u001b[0m - \u001b[34m\u001b[1mCost is 2.793823853231049 with parameters {'initial_variance': 0.0895791230480412, 'long_term_variance': 0.5189981020426542, 'volatility_of_volatility': 3.3366474741780223, 'mean_reversion_rate': 9.720722764359369, 'wiener_correlation': -0.3069212894352584}\u001b[0m\n",
      "\u001b[32m2024-08-29 18:41:53.184\u001b[0m | \u001b[34m\u001b[1mDEBUG   \u001b[0m | \u001b[36mstochastic_volatility_models.src.core.calibration\u001b[0m:\u001b[36mminimise_cost_function\u001b[0m:\u001b[36m130\u001b[0m - \u001b[34m\u001b[1mCost is 0.3001290207820226 with parameters {'initial_variance': 0.0895791230480412, 'long_term_variance': 0.02191957280809187, 'volatility_of_volatility': 4.987859103542968, 'mean_reversion_rate': 9.40953558469877, 'wiener_correlation': 0.5877814833154562}\u001b[0m\n",
      "\u001b[32m2024-08-29 18:42:02.828\u001b[0m | \u001b[34m\u001b[1mDEBUG   \u001b[0m | \u001b[36mstochastic_volatility_models.src.core.calibration\u001b[0m:\u001b[36mminimise_cost_function\u001b[0m:\u001b[36m130\u001b[0m - \u001b[34m\u001b[1mCost is 0.15246154926835484 with parameters {'initial_variance': 0.0895791230480412, 'long_term_variance': 0.005998743539145424, 'volatility_of_volatility': 2.826251382419465, 'mean_reversion_rate': 9.418767492228406, 'wiener_correlation': 0.9388965484895051}\u001b[0m\n",
      "\u001b[32m2024-08-29 18:42:13.456\u001b[0m | \u001b[34m\u001b[1mDEBUG   \u001b[0m | \u001b[36mstochastic_volatility_models.src.core.calibration\u001b[0m:\u001b[36mminimise_cost_function\u001b[0m:\u001b[36m130\u001b[0m - \u001b[34m\u001b[1mCost is 2.8789115720318503 with parameters {'initial_variance': 0.0895791230480412, 'long_term_variance': 0.5487505098343837, 'volatility_of_volatility': 3.099562961362655, 'mean_reversion_rate': 9.445581373313578, 'wiener_correlation': -0.9298140837131839}\u001b[0m\n",
      "\u001b[32m2024-08-29 18:42:23.725\u001b[0m | \u001b[34m\u001b[1mDEBUG   \u001b[0m | \u001b[36mstochastic_volatility_models.src.core.calibration\u001b[0m:\u001b[36mminimise_cost_function\u001b[0m:\u001b[36m130\u001b[0m - \u001b[34m\u001b[1mCost is 1.1060661713087996 with parameters {'initial_variance': 0.0895791230480412, 'long_term_variance': 0.0018307935715355939, 'volatility_of_volatility': 7.446699879671264, 'mean_reversion_rate': 2.600315319094193, 'wiener_correlation': -0.643802127714252}\u001b[0m\n",
      "\u001b[32m2024-08-29 18:42:42.403\u001b[0m | \u001b[34m\u001b[1mDEBUG   \u001b[0m | \u001b[36mstochastic_volatility_models.src.core.calibration\u001b[0m:\u001b[36mminimise_cost_function\u001b[0m:\u001b[36m130\u001b[0m - \u001b[34m\u001b[1mCost is 3.449812806479713 with parameters {'initial_variance': 0.0895791230480412, 'long_term_variance': 0.06379287003138889, 'volatility_of_volatility': 12.503759345193249, 'mean_reversion_rate': 6.299918991793059, 'wiener_correlation': 0.796910960064013}\u001b[0m\n",
      "\u001b[32m2024-08-29 18:42:53.416\u001b[0m | \u001b[34m\u001b[1mDEBUG   \u001b[0m | \u001b[36mstochastic_volatility_models.src.core.calibration\u001b[0m:\u001b[36mminimise_cost_function\u001b[0m:\u001b[36m130\u001b[0m - \u001b[34m\u001b[1mCost is 1.4918783332152195 with parameters {'initial_variance': 0.0895791230480412, 'long_term_variance': 1.1302784404954722, 'volatility_of_volatility': 2.6951557957711385, 'mean_reversion_rate': 8.967135136747286, 'wiener_correlation': 0.4049462253206211}\u001b[0m\n",
      "\u001b[32m2024-08-29 18:43:02.708\u001b[0m | \u001b[34m\u001b[1mDEBUG   \u001b[0m | \u001b[36mstochastic_volatility_models.src.core.calibration\u001b[0m:\u001b[36mminimise_cost_function\u001b[0m:\u001b[36m130\u001b[0m - \u001b[34m\u001b[1mCost is 0.08955178247132389 with parameters {'initial_variance': 0.0895791230480412, 'long_term_variance': 0.03737528035994875, 'volatility_of_volatility': 3.1681191833770317, 'mean_reversion_rate': 10.775616598979305, 'wiener_correlation': -0.24664085848144734}\u001b[0m\n",
      "\u001b[32m2024-08-29 18:43:12.861\u001b[0m | \u001b[34m\u001b[1mDEBUG   \u001b[0m | \u001b[36mstochastic_volatility_models.src.core.calibration\u001b[0m:\u001b[36mminimise_cost_function\u001b[0m:\u001b[36m130\u001b[0m - \u001b[34m\u001b[1mCost is 1.3105651461940326 with parameters {'initial_variance': 0.0895791230480412, 'long_term_variance': 1.2821583659728955, 'volatility_of_volatility': 10.74301586405613, 'mean_reversion_rate': 9.771299070401344, 'wiener_correlation': 0.9308609438465358}\u001b[0m\n",
      "\u001b[32m2024-08-29 18:43:23.293\u001b[0m | \u001b[34m\u001b[1mDEBUG   \u001b[0m | \u001b[36mstochastic_volatility_models.src.core.calibration\u001b[0m:\u001b[36mminimise_cost_function\u001b[0m:\u001b[36m130\u001b[0m - \u001b[34m\u001b[1mCost is 1.2892724486373501 with parameters {'initial_variance': 0.0895791230480412, 'long_term_variance': 1.225000454886443, 'volatility_of_volatility': 4.630126703898398, 'mean_reversion_rate': 9.41828824375794, 'wiener_correlation': 0.8916833538109263}\u001b[0m\n",
      "\u001b[32m2024-08-29 18:43:35.165\u001b[0m | \u001b[34m\u001b[1mDEBUG   \u001b[0m | \u001b[36mstochastic_volatility_models.src.core.calibration\u001b[0m:\u001b[36mminimise_cost_function\u001b[0m:\u001b[36m130\u001b[0m - \u001b[34m\u001b[1mCost is 0.1239249958282159 with parameters {'initial_variance': 0.0895791230480412, 'long_term_variance': 0.040115896064385925, 'volatility_of_volatility': 2.747660804147543, 'mean_reversion_rate': 13.477230212977513, 'wiener_correlation': -0.4321463972998012}\u001b[0m\n",
      "\u001b[32m2024-08-29 18:43:46.086\u001b[0m | \u001b[34m\u001b[1mDEBUG   \u001b[0m | \u001b[36mstochastic_volatility_models.src.core.calibration\u001b[0m:\u001b[36mminimise_cost_function\u001b[0m:\u001b[36m130\u001b[0m - \u001b[34m\u001b[1mCost is 2.2041218476107276 with parameters {'initial_variance': 0.0895791230480412, 'long_term_variance': 1.0965401485889332, 'volatility_of_volatility': 4.3962192318043884, 'mean_reversion_rate': 9.469299955392941, 'wiener_correlation': 0.2846694594992627}\u001b[0m\n",
      "\u001b[32m2024-08-29 18:43:56.111\u001b[0m | \u001b[34m\u001b[1mDEBUG   \u001b[0m | \u001b[36mstochastic_volatility_models.src.core.calibration\u001b[0m:\u001b[36mminimise_cost_function\u001b[0m:\u001b[36m130\u001b[0m - \u001b[34m\u001b[1mCost is 2.8217620725304013 with parameters {'initial_variance': 0.0895791230480412, 'long_term_variance': 0.44285019067920556, 'volatility_of_volatility': 14.427478171206193, 'mean_reversion_rate': 5.088014098285063, 'wiener_correlation': -0.8948638329614174}\u001b[0m\n",
      "\u001b[32m2024-08-29 18:44:05.934\u001b[0m | \u001b[34m\u001b[1mDEBUG   \u001b[0m | \u001b[36mstochastic_volatility_models.src.core.calibration\u001b[0m:\u001b[36mminimise_cost_function\u001b[0m:\u001b[36m130\u001b[0m - \u001b[34m\u001b[1mCost is 0.19546040671837983 with parameters {'initial_variance': 0.0895791230480412, 'long_term_variance': 0.0033536876672054516, 'volatility_of_volatility': 1.9751143930875346, 'mean_reversion_rate': 10.629144791306516, 'wiener_correlation': -0.9315498920702796}\u001b[0m\n",
      "\u001b[32m2024-08-29 18:44:14.946\u001b[0m | \u001b[34m\u001b[1mDEBUG   \u001b[0m | \u001b[36mstochastic_volatility_models.src.core.calibration\u001b[0m:\u001b[36mminimise_cost_function\u001b[0m:\u001b[36m130\u001b[0m - \u001b[34m\u001b[1mCost is 1.4706199980586756 with parameters {'initial_variance': 0.0895791230480412, 'long_term_variance': 0.02001051925871855, 'volatility_of_volatility': 11.673017753204503, 'mean_reversion_rate': 10.33447708504588, 'wiener_correlation': -0.8799138144481998}\u001b[0m\n",
      "\u001b[32m2024-08-29 18:44:24.677\u001b[0m | \u001b[34m\u001b[1mDEBUG   \u001b[0m | \u001b[36mstochastic_volatility_models.src.core.calibration\u001b[0m:\u001b[36mminimise_cost_function\u001b[0m:\u001b[36m130\u001b[0m - \u001b[34m\u001b[1mCost is 1.88756320466811 with parameters {'initial_variance': 0.0895791230480412, 'long_term_variance': 0.8849098733785222, 'volatility_of_volatility': 9.976909091639843, 'mean_reversion_rate': 9.302654816952638, 'wiener_correlation': 0.8290310313739193}\u001b[0m\n",
      "\u001b[32m2024-08-29 18:44:47.418\u001b[0m | \u001b[34m\u001b[1mDEBUG   \u001b[0m | \u001b[36mstochastic_volatility_models.src.core.calibration\u001b[0m:\u001b[36mminimise_cost_function\u001b[0m:\u001b[36m130\u001b[0m - \u001b[34m\u001b[1mCost is 0.07703704052394889 with parameters {'initial_variance': 0.0895791230480412, 'long_term_variance': 0.02102703253052607, 'volatility_of_volatility': 2.969583797208843, 'mean_reversion_rate': 9.443457070939235, 'wiener_correlation': -0.9129100964090834}\u001b[0m\n",
      "\u001b[32m2024-08-29 18:44:58.354\u001b[0m | \u001b[34m\u001b[1mDEBUG   \u001b[0m | \u001b[36mstochastic_volatility_models.src.core.calibration\u001b[0m:\u001b[36mminimise_cost_function\u001b[0m:\u001b[36m130\u001b[0m - \u001b[34m\u001b[1mCost is 1.0013137312950153 with parameters {'initial_variance': 0.0895791230480412, 'long_term_variance': 0.04967131163668115, 'volatility_of_volatility': 6.166290475963339, 'mean_reversion_rate': 5.81724057335167, 'wiener_correlation': -0.9125933834233494}\u001b[0m\n",
      "\u001b[32m2024-08-29 18:45:09.123\u001b[0m | \u001b[34m\u001b[1mDEBUG   \u001b[0m | \u001b[36mstochastic_volatility_models.src.core.calibration\u001b[0m:\u001b[36mminimise_cost_function\u001b[0m:\u001b[36m130\u001b[0m - \u001b[34m\u001b[1mCost is 2.8465170750451376 with parameters {'initial_variance': 0.0895791230480412, 'long_term_variance': 0.4543601864290807, 'volatility_of_volatility': 1.1545247761837043, 'mean_reversion_rate': 9.24947153456693, 'wiener_correlation': -0.21636488184493663}\u001b[0m\n",
      "\u001b[32m2024-08-29 18:45:18.597\u001b[0m | \u001b[34m\u001b[1mDEBUG   \u001b[0m | \u001b[36mstochastic_volatility_models.src.core.calibration\u001b[0m:\u001b[36mminimise_cost_function\u001b[0m:\u001b[36m130\u001b[0m - \u001b[34m\u001b[1mCost is 0.10796758917578757 with parameters {'initial_variance': 0.0895791230480412, 'long_term_variance': 0.017100764269680435, 'volatility_of_volatility': 3.692167154146601, 'mean_reversion_rate': 9.356022650782343, 'wiener_correlation': -0.9270266866698257}\u001b[0m\n",
      "\u001b[32m2024-08-29 18:45:28.409\u001b[0m | \u001b[34m\u001b[1mDEBUG   \u001b[0m | \u001b[36mstochastic_volatility_models.src.core.calibration\u001b[0m:\u001b[36mminimise_cost_function\u001b[0m:\u001b[36m130\u001b[0m - \u001b[34m\u001b[1mCost is 0.7382030570905743 with parameters {'initial_variance': 0.0895791230480412, 'long_term_variance': 0.12349687637507056, 'volatility_of_volatility': 3.0290890561340884, 'mean_reversion_rate': 3.607221865712411, 'wiener_correlation': 0.5215327101312655}\u001b[0m\n",
      "\u001b[32m2024-08-29 18:45:38.445\u001b[0m | \u001b[34m\u001b[1mDEBUG   \u001b[0m | \u001b[36mstochastic_volatility_models.src.core.calibration\u001b[0m:\u001b[36mminimise_cost_function\u001b[0m:\u001b[36m130\u001b[0m - \u001b[34m\u001b[1mCost is 1.3820993180286947 with parameters {'initial_variance': 0.0895791230480412, 'long_term_variance': 1.1408940329789523, 'volatility_of_volatility': 10.21623519046096, 'mean_reversion_rate': 9.240077228785234, 'wiener_correlation': -0.9155455972267317}\u001b[0m\n",
      "\u001b[32m2024-08-29 18:45:49.896\u001b[0m | \u001b[34m\u001b[1mDEBUG   \u001b[0m | \u001b[36mstochastic_volatility_models.src.core.calibration\u001b[0m:\u001b[36mminimise_cost_function\u001b[0m:\u001b[36m130\u001b[0m - \u001b[34m\u001b[1mCost is 3.11227877470269 with parameters {'initial_variance': 0.0895791230480412, 'long_term_variance': 0.2684165157652419, 'volatility_of_volatility': 2.880433330171778, 'mean_reversion_rate': 8.738024361991044, 'wiener_correlation': -0.7502710023159587}\u001b[0m\n",
      "\u001b[32m2024-08-29 18:46:01.486\u001b[0m | \u001b[34m\u001b[1mDEBUG   \u001b[0m | \u001b[36mstochastic_volatility_models.src.core.calibration\u001b[0m:\u001b[36mminimise_cost_function\u001b[0m:\u001b[36m130\u001b[0m - \u001b[34m\u001b[1mCost is 0.5658461101484911 with parameters {'initial_variance': 0.0895791230480412, 'long_term_variance': 0.007346826913360194, 'volatility_of_volatility': 3.1325087431153467, 'mean_reversion_rate': 0.34976607032948337, 'wiener_correlation': -0.9170960116682598}\u001b[0m\n",
      "\u001b[32m2024-08-29 18:46:12.757\u001b[0m | \u001b[34m\u001b[1mDEBUG   \u001b[0m | \u001b[36mstochastic_volatility_models.src.core.calibration\u001b[0m:\u001b[36mminimise_cost_function\u001b[0m:\u001b[36m130\u001b[0m - \u001b[34m\u001b[1mCost is 0.09337893208118951 with parameters {'initial_variance': 0.0895791230480412, 'long_term_variance': 0.04471794108386917, 'volatility_of_volatility': 2.9850109648223295, 'mean_reversion_rate': 9.267039249959586, 'wiener_correlation': -0.8863594474773271}\u001b[0m\n",
      "\u001b[32m2024-08-29 18:46:22.204\u001b[0m | \u001b[34m\u001b[1mDEBUG   \u001b[0m | \u001b[36mstochastic_volatility_models.src.core.calibration\u001b[0m:\u001b[36mminimise_cost_function\u001b[0m:\u001b[36m130\u001b[0m - \u001b[34m\u001b[1mCost is 0.7161446769557609 with parameters {'initial_variance': 0.0895791230480412, 'long_term_variance': 0.035579266008236354, 'volatility_of_volatility': 6.476567953239756, 'mean_reversion_rate': 8.228581143107583, 'wiener_correlation': 0.19209012192124786}\u001b[0m\n",
      "\u001b[32m2024-08-29 18:46:32.956\u001b[0m | \u001b[34m\u001b[1mDEBUG   \u001b[0m | \u001b[36mstochastic_volatility_models.src.core.calibration\u001b[0m:\u001b[36mminimise_cost_function\u001b[0m:\u001b[36m130\u001b[0m - \u001b[34m\u001b[1mCost is 2.0321038011210484 with parameters {'initial_variance': 0.0895791230480412, 'long_term_variance': 0.7890878060134265, 'volatility_of_volatility': 2.958952115602793, 'mean_reversion_rate': 9.537560182232799, 'wiener_correlation': -0.3986494327602865}\u001b[0m\n",
      "\u001b[32m2024-08-29 18:46:43.420\u001b[0m | \u001b[34m\u001b[1mDEBUG   \u001b[0m | \u001b[36mstochastic_volatility_models.src.core.calibration\u001b[0m:\u001b[36mminimise_cost_function\u001b[0m:\u001b[36m130\u001b[0m - \u001b[34m\u001b[1mCost is 0.07609415447805153 with parameters {'initial_variance': 0.0895791230480412, 'long_term_variance': 0.035544260720051124, 'volatility_of_volatility': 2.730366832494804, 'mean_reversion_rate': 9.50094644013944, 'wiener_correlation': -0.9473445244449296}\u001b[0m\n",
      "\u001b[32m2024-08-29 18:46:54.337\u001b[0m | \u001b[34m\u001b[1mDEBUG   \u001b[0m | \u001b[36mstochastic_volatility_models.src.core.calibration\u001b[0m:\u001b[36mminimise_cost_function\u001b[0m:\u001b[36m130\u001b[0m - \u001b[34m\u001b[1mCost is 0.07829316476700274 with parameters {'initial_variance': 0.0895791230480412, 'long_term_variance': 0.03743135450050872, 'volatility_of_volatility': 2.7273204085946903, 'mean_reversion_rate': 9.746565648813075, 'wiener_correlation': -0.597271271348234}\u001b[0m\n",
      "\u001b[32m2024-08-29 18:47:05.807\u001b[0m | \u001b[34m\u001b[1mDEBUG   \u001b[0m | \u001b[36mstochastic_volatility_models.src.core.calibration\u001b[0m:\u001b[36mminimise_cost_function\u001b[0m:\u001b[36m130\u001b[0m - \u001b[34m\u001b[1mCost is 2.2293508895866228 with parameters {'initial_variance': 0.0895791230480412, 'long_term_variance': 0.7476676544012164, 'volatility_of_volatility': 2.9286617127506194, 'mean_reversion_rate': 9.49782990956529, 'wiener_correlation': 0.48852492179057605}\u001b[0m\n",
      "\u001b[32m2024-08-29 18:47:17.483\u001b[0m | \u001b[34m\u001b[1mDEBUG   \u001b[0m | \u001b[36mstochastic_volatility_models.src.core.calibration\u001b[0m:\u001b[36mminimise_cost_function\u001b[0m:\u001b[36m130\u001b[0m - \u001b[34m\u001b[1mCost is 0.09387759276933247 with parameters {'initial_variance': 0.0895791230480412, 'long_term_variance': 0.03513249329534063, 'volatility_of_volatility': 2.735229602337956, 'mean_reversion_rate': 7.221423476820057, 'wiener_correlation': -0.7854501204923658}\u001b[0m\n",
      "\u001b[32m2024-08-29 18:47:28.319\u001b[0m | \u001b[34m\u001b[1mDEBUG   \u001b[0m | \u001b[36mstochastic_volatility_models.src.core.calibration\u001b[0m:\u001b[36mminimise_cost_function\u001b[0m:\u001b[36m130\u001b[0m - \u001b[34m\u001b[1mCost is 0.25605576856124285 with parameters {'initial_variance': 0.0895791230480412, 'long_term_variance': 0.038838036670145515, 'volatility_of_volatility': 0.5286944387283112, 'mean_reversion_rate': 13.638394582576687, 'wiener_correlation': -0.9648200492760167}\u001b[0m\n",
      "\u001b[32m2024-08-29 18:47:38.660\u001b[0m | \u001b[34m\u001b[1mDEBUG   \u001b[0m | \u001b[36mstochastic_volatility_models.src.core.calibration\u001b[0m:\u001b[36mminimise_cost_function\u001b[0m:\u001b[36m130\u001b[0m - \u001b[34m\u001b[1mCost is 0.09763533716378467 with parameters {'initial_variance': 0.0895791230480412, 'long_term_variance': 0.0394542225196286, 'volatility_of_volatility': 2.709962018718813, 'mean_reversion_rate': 11.121860933081122, 'wiener_correlation': -0.5395892011782691}\u001b[0m\n",
      "\u001b[32m2024-08-29 18:47:49.403\u001b[0m | \u001b[34m\u001b[1mDEBUG   \u001b[0m | \u001b[36mstochastic_volatility_models.src.core.calibration\u001b[0m:\u001b[36mminimise_cost_function\u001b[0m:\u001b[36m130\u001b[0m - \u001b[34m\u001b[1mCost is 2.782783729666317 with parameters {'initial_variance': 0.0895791230480412, 'long_term_variance': 0.610409584553023, 'volatility_of_volatility': 2.730984971530372, 'mean_reversion_rate': 1.7680434702883137, 'wiener_correlation': -0.941617365675829}\u001b[0m\n",
      "\u001b[32m2024-08-29 18:47:59.828\u001b[0m | \u001b[34m\u001b[1mDEBUG   \u001b[0m | \u001b[36mstochastic_volatility_models.src.core.calibration\u001b[0m:\u001b[36mminimise_cost_function\u001b[0m:\u001b[36m130\u001b[0m - \u001b[34m\u001b[1mCost is 1.9649448075082354 with parameters {'initial_variance': 0.0895791230480412, 'long_term_variance': 1.0162907295768524, 'volatility_of_volatility': 9.279544047965235, 'mean_reversion_rate': 4.570736674762088, 'wiener_correlation': -0.9266860097911956}\u001b[0m\n",
      "\u001b[32m2024-08-29 18:48:11.696\u001b[0m | \u001b[34m\u001b[1mDEBUG   \u001b[0m | \u001b[36mstochastic_volatility_models.src.core.calibration\u001b[0m:\u001b[36mminimise_cost_function\u001b[0m:\u001b[36m130\u001b[0m - \u001b[34m\u001b[1mCost is 2.424311956280113 with parameters {'initial_variance': 0.0895791230480412, 'long_term_variance': 0.6309879221250724, 'volatility_of_volatility': 2.847701506449644, 'mean_reversion_rate': 9.490265813766655, 'wiener_correlation': -0.9926442951078419}\u001b[0m\n",
      "\u001b[32m2024-08-29 18:48:22.580\u001b[0m | \u001b[34m\u001b[1mDEBUG   \u001b[0m | \u001b[36mstochastic_volatility_models.src.core.calibration\u001b[0m:\u001b[36mminimise_cost_function\u001b[0m:\u001b[36m130\u001b[0m - \u001b[34m\u001b[1mCost is 0.09480169582886068 with parameters {'initial_variance': 0.0895791230480412, 'long_term_variance': 0.021914458412908955, 'volatility_of_volatility': 2.669914744286058, 'mean_reversion_rate': 7.5728699826879184, 'wiener_correlation': 0.10472501043883731}\u001b[0m\n",
      "\u001b[32m2024-08-29 18:48:32.413\u001b[0m | \u001b[34m\u001b[1mDEBUG   \u001b[0m | \u001b[36mstochastic_volatility_models.src.core.calibration\u001b[0m:\u001b[36mminimise_cost_function\u001b[0m:\u001b[36m130\u001b[0m - \u001b[34m\u001b[1mCost is 0.6265547715359644 with parameters {'initial_variance': 0.0895791230480412, 'long_term_variance': 0.008062043244204897, 'volatility_of_volatility': 8.082141400296976, 'mean_reversion_rate': 9.544590136427269, 'wiener_correlation': -0.9462694605548927}\u001b[0m\n",
      "\u001b[32m2024-08-29 18:48:42.347\u001b[0m | \u001b[34m\u001b[1mDEBUG   \u001b[0m | \u001b[36mstochastic_volatility_models.src.core.calibration\u001b[0m:\u001b[36mminimise_cost_function\u001b[0m:\u001b[36m130\u001b[0m - \u001b[34m\u001b[1mCost is 0.21304780400667847 with parameters {'initial_variance': 0.0895791230480412, 'long_term_variance': 0.03493925574597023, 'volatility_of_volatility': 5.4340977034947855, 'mean_reversion_rate': 14.27347410461844, 'wiener_correlation': -0.9143940815391416}\u001b[0m\n",
      "\u001b[32m2024-08-29 18:48:52.160\u001b[0m | \u001b[34m\u001b[1mDEBUG   \u001b[0m | \u001b[36mstochastic_volatility_models.src.core.calibration\u001b[0m:\u001b[36mminimise_cost_function\u001b[0m:\u001b[36m130\u001b[0m - \u001b[34m\u001b[1mCost is 0.09786773293670037 with parameters {'initial_variance': 0.0895791230480412, 'long_term_variance': 0.04604559702643296, 'volatility_of_volatility': 2.731423611340264, 'mean_reversion_rate': 7.939493162166588, 'wiener_correlation': -0.9366147896463599}\u001b[0m\n",
      "\u001b[32m2024-08-29 18:49:00.485\u001b[0m | \u001b[34m\u001b[1mDEBUG   \u001b[0m | \u001b[36mstochastic_volatility_models.src.core.calibration\u001b[0m:\u001b[36mminimise_cost_function\u001b[0m:\u001b[36m130\u001b[0m - \u001b[34m\u001b[1mCost is 2.428614525729461 with parameters {'initial_variance': 0.0895791230480412, 'long_term_variance': 0.008865691041022972, 'volatility_of_volatility': 13.837751822494747, 'mean_reversion_rate': 6.657001017756618, 'wiener_correlation': 0.676291045351324}\u001b[0m\n",
      "\u001b[32m2024-08-29 18:49:10.941\u001b[0m | \u001b[34m\u001b[1mDEBUG   \u001b[0m | \u001b[36mstochastic_volatility_models.src.core.calibration\u001b[0m:\u001b[36mminimise_cost_function\u001b[0m:\u001b[36m130\u001b[0m - \u001b[34m\u001b[1mCost is 3.4559565514385566 with parameters {'initial_variance': 0.0895791230480412, 'long_term_variance': 0.05738093596018157, 'volatility_of_volatility': 14.501905940967191, 'mean_reversion_rate': 9.385375302723675, 'wiener_correlation': -0.7297011192088384}\u001b[0m\n",
      "\u001b[32m2024-08-29 18:49:24.344\u001b[0m | \u001b[34m\u001b[1mDEBUG   \u001b[0m | \u001b[36mstochastic_volatility_models.src.core.calibration\u001b[0m:\u001b[36mminimise_cost_function\u001b[0m:\u001b[36m130\u001b[0m - \u001b[34m\u001b[1mCost is 2.592846158921129 with parameters {'initial_variance': 0.0895791230480412, 'long_term_variance': 0.054559525642698725, 'volatility_of_volatility': 12.265181235377016, 'mean_reversion_rate': 9.541048078517626, 'wiener_correlation': -0.8936891491580067}\u001b[0m\n",
      "\u001b[32m2024-08-29 18:49:36.704\u001b[0m | \u001b[34m\u001b[1mDEBUG   \u001b[0m | \u001b[36mstochastic_volatility_models.src.core.calibration\u001b[0m:\u001b[36mminimise_cost_function\u001b[0m:\u001b[36m130\u001b[0m - \u001b[34m\u001b[1mCost is 0.07541647299008455 with parameters {'initial_variance': 0.0895791230480412, 'long_term_variance': 0.03602265034497376, 'volatility_of_volatility': 2.8058558680317915, 'mean_reversion_rate': 9.657071009007467, 'wiener_correlation': -0.6859732778567719}\u001b[0m\n",
      "\u001b[32m2024-08-29 18:49:47.782\u001b[0m | \u001b[34m\u001b[1mDEBUG   \u001b[0m | \u001b[36mstochastic_volatility_models.src.core.calibration\u001b[0m:\u001b[36mminimise_cost_function\u001b[0m:\u001b[36m130\u001b[0m - \u001b[34m\u001b[1mCost is 2.104906023110093 with parameters {'initial_variance': 0.0895791230480412, 'long_term_variance': 0.040381316738854034, 'volatility_of_volatility': 11.779981507774918, 'mean_reversion_rate': 9.358716843573863, 'wiener_correlation': -0.5248293489957655}\u001b[0m\n",
      "\u001b[32m2024-08-29 18:49:58.751\u001b[0m | \u001b[34m\u001b[1mDEBUG   \u001b[0m | \u001b[36mstochastic_volatility_models.src.core.calibration\u001b[0m:\u001b[36mminimise_cost_function\u001b[0m:\u001b[36m130\u001b[0m - \u001b[34m\u001b[1mCost is 1.4675787659982504 with parameters {'initial_variance': 0.0895791230480412, 'long_term_variance': 0.14681380437857355, 'volatility_of_volatility': 1.5427541016540625, 'mean_reversion_rate': 9.571793372324791, 'wiener_correlation': -0.6779195602651877}\u001b[0m\n",
      "\u001b[32m2024-08-29 18:50:12.509\u001b[0m | \u001b[34m\u001b[1mDEBUG   \u001b[0m | \u001b[36mstochastic_volatility_models.src.core.calibration\u001b[0m:\u001b[36mminimise_cost_function\u001b[0m:\u001b[36m130\u001b[0m - \u001b[34m\u001b[1mCost is 0.1819351455280669 with parameters {'initial_variance': 0.0895791230480412, 'long_term_variance': 0.015546213899594985, 'volatility_of_volatility': 2.5712428034948296, 'mean_reversion_rate': 12.285365703408306, 'wiener_correlation': 0.8400766633040395}\u001b[0m\n",
      "\u001b[32m2024-08-29 18:50:23.217\u001b[0m | \u001b[34m\u001b[1mDEBUG   \u001b[0m | \u001b[36mstochastic_volatility_models.src.core.calibration\u001b[0m:\u001b[36mminimise_cost_function\u001b[0m:\u001b[36m130\u001b[0m - \u001b[34m\u001b[1mCost is 0.9768098174730271 with parameters {'initial_variance': 0.0895791230480412, 'long_term_variance': 0.05967558983669474, 'volatility_of_volatility': 8.831072196585117, 'mean_reversion_rate': 14.934714788644847, 'wiener_correlation': -0.6903153020714696}\u001b[0m\n",
      "\u001b[32m2024-08-29 18:50:35.443\u001b[0m | \u001b[34m\u001b[1mDEBUG   \u001b[0m | \u001b[36mstochastic_volatility_models.src.core.calibration\u001b[0m:\u001b[36mminimise_cost_function\u001b[0m:\u001b[36m130\u001b[0m - \u001b[34m\u001b[1mCost is 0.08900941616899011 with parameters {'initial_variance': 0.0895791230480412, 'long_term_variance': 0.04349880910274195, 'volatility_of_volatility': 3.008655878649206, 'mean_reversion_rate': 9.845074871730505, 'wiener_correlation': -0.9347075342323476}\u001b[0m\n",
      "\u001b[32m2024-08-29 18:50:45.121\u001b[0m | \u001b[34m\u001b[1mDEBUG   \u001b[0m | \u001b[36mstochastic_volatility_models.src.core.calibration\u001b[0m:\u001b[36mminimise_cost_function\u001b[0m:\u001b[36m130\u001b[0m - \u001b[34m\u001b[1mCost is 2.323929091466666 with parameters {'initial_variance': 0.0895791230480412, 'long_term_variance': 0.05868113676094022, 'volatility_of_volatility': 11.291310461904688, 'mean_reversion_rate': 9.628572650678771, 'wiener_correlation': 0.3832097577634248}\u001b[0m\n",
      "\u001b[32m2024-08-29 18:50:55.722\u001b[0m | \u001b[34m\u001b[1mDEBUG   \u001b[0m | \u001b[36mstochastic_volatility_models.src.core.calibration\u001b[0m:\u001b[36mminimise_cost_function\u001b[0m:\u001b[36m130\u001b[0m - \u001b[34m\u001b[1mCost is 0.43515537513360714 with parameters {'initial_variance': 0.0895791230480412, 'long_term_variance': 0.02159191900259705, 'volatility_of_volatility': 2.9251769045968237, 'mean_reversion_rate': 1.6748256568219517, 'wiener_correlation': -0.6952372165688288}\u001b[0m\n",
      "\u001b[32m2024-08-29 18:51:06.874\u001b[0m | \u001b[34m\u001b[1mDEBUG   \u001b[0m | \u001b[36mstochastic_volatility_models.src.core.calibration\u001b[0m:\u001b[36mminimise_cost_function\u001b[0m:\u001b[36m130\u001b[0m - \u001b[34m\u001b[1mCost is 0.9730693838730905 with parameters {'initial_variance': 0.0895791230480412, 'long_term_variance': 0.036331676549045566, 'volatility_of_volatility': 8.252852708174387, 'mean_reversion_rate': 9.662494997661533, 'wiener_correlation': -0.7138837532642901}\u001b[0m\n",
      "\u001b[32m2024-08-29 18:51:19.577\u001b[0m | \u001b[34m\u001b[1mDEBUG   \u001b[0m | \u001b[36mstochastic_volatility_models.src.core.calibration\u001b[0m:\u001b[36mminimise_cost_function\u001b[0m:\u001b[36m130\u001b[0m - \u001b[34m\u001b[1mCost is 3.463357924317568 with parameters {'initial_variance': 0.0895791230480412, 'long_term_variance': 0.03560170252870942, 'volatility_of_volatility': 13.50011987975791, 'mean_reversion_rate': 3.9600733394395924, 'wiener_correlation': -0.8984419764101153}\u001b[0m\n",
      "\u001b[32m2024-08-29 18:51:29.082\u001b[0m | \u001b[34m\u001b[1mDEBUG   \u001b[0m | \u001b[36mstochastic_volatility_models.src.core.calibration\u001b[0m:\u001b[36mminimise_cost_function\u001b[0m:\u001b[36m130\u001b[0m - \u001b[34m\u001b[1mCost is 2.53593313640468 with parameters {'initial_variance': 0.0895791230480412, 'long_term_variance': 0.9643614786269947, 'volatility_of_volatility': 3.0178301197438886, 'mean_reversion_rate': 4.2345957978913065, 'wiener_correlation': -0.6854603874006386}\u001b[0m\n",
      "\u001b[32m2024-08-29 18:51:39.441\u001b[0m | \u001b[34m\u001b[1mDEBUG   \u001b[0m | \u001b[36mstochastic_volatility_models.src.core.calibration\u001b[0m:\u001b[36mminimise_cost_function\u001b[0m:\u001b[36m130\u001b[0m - \u001b[34m\u001b[1mCost is 0.8435961574319307 with parameters {'initial_variance': 0.0895791230480412, 'long_term_variance': 0.0023810572260415386, 'volatility_of_volatility': 10.480037642399811, 'mean_reversion_rate': 9.68260183616573, 'wiener_correlation': 0.9950686028788907}\u001b[0m\n",
      "\u001b[32m2024-08-29 18:51:49.968\u001b[0m | \u001b[34m\u001b[1mDEBUG   \u001b[0m | \u001b[36mstochastic_volatility_models.src.core.calibration\u001b[0m:\u001b[36mminimise_cost_function\u001b[0m:\u001b[36m130\u001b[0m - \u001b[34m\u001b[1mCost is 2.0351241706297056 with parameters {'initial_variance': 0.0895791230480412, 'long_term_variance': 0.6911846878094838, 'volatility_of_volatility': 3.3490375962710273, 'mean_reversion_rate': 12.104650220551019, 'wiener_correlation': -0.6865481150596491}\u001b[0m\n",
      "\u001b[32m2024-08-29 18:52:00.941\u001b[0m | \u001b[34m\u001b[1mDEBUG   \u001b[0m | \u001b[36mstochastic_volatility_models.src.core.calibration\u001b[0m:\u001b[36mminimise_cost_function\u001b[0m:\u001b[36m130\u001b[0m - \u001b[34m\u001b[1mCost is 0.10464379883484293 with parameters {'initial_variance': 0.0895791230480412, 'long_term_variance': 0.01265090900244037, 'volatility_of_volatility': 3.7836873681520906, 'mean_reversion_rate': 9.527669447936132, 'wiener_correlation': -0.8372965874398414}\u001b[0m\n",
      "\u001b[32m2024-08-29 18:52:10.649\u001b[0m | \u001b[34m\u001b[1mDEBUG   \u001b[0m | \u001b[36mstochastic_volatility_models.src.core.calibration\u001b[0m:\u001b[36mminimise_cost_function\u001b[0m:\u001b[36m130\u001b[0m - \u001b[34m\u001b[1mCost is 1.1439786794621776 with parameters {'initial_variance': 0.0895791230480412, 'long_term_variance': 0.15838061494209887, 'volatility_of_volatility': 3.2789762000587475, 'mean_reversion_rate': 3.2971951210322548, 'wiener_correlation': -0.6867716161921322}\u001b[0m\n",
      "\u001b[32m2024-08-29 18:52:24.341\u001b[0m | \u001b[34m\u001b[1mDEBUG   \u001b[0m | \u001b[36mstochastic_volatility_models.src.core.calibration\u001b[0m:\u001b[36mminimise_cost_function\u001b[0m:\u001b[36m130\u001b[0m - \u001b[34m\u001b[1mCost is 2.7532899489360294 with parameters {'initial_variance': 0.0895791230480412, 'long_term_variance': 0.49779146035186767, 'volatility_of_volatility': 2.9155454553493714, 'mean_reversion_rate': 9.562028274151189, 'wiener_correlation': -0.6596742022060905}\u001b[0m\n",
      "\u001b[32m2024-08-29 18:52:35.473\u001b[0m | \u001b[34m\u001b[1mDEBUG   \u001b[0m | \u001b[36mstochastic_volatility_models.src.core.calibration\u001b[0m:\u001b[36mminimise_cost_function\u001b[0m:\u001b[36m130\u001b[0m - \u001b[34m\u001b[1mCost is 0.09259100080762607 with parameters {'initial_variance': 0.0895791230480412, 'long_term_variance': 0.045893917544954754, 'volatility_of_volatility': 2.5594866821756437, 'mean_reversion_rate': 9.55580792572577, 'wiener_correlation': -0.03063784008054815}\u001b[0m\n",
      "\u001b[32m2024-08-29 18:52:45.086\u001b[0m | \u001b[34m\u001b[1mDEBUG   \u001b[0m | \u001b[36mstochastic_volatility_models.src.core.calibration\u001b[0m:\u001b[36mminimise_cost_function\u001b[0m:\u001b[36m130\u001b[0m - \u001b[34m\u001b[1mCost is 2.159279158777416 with parameters {'initial_variance': 0.0895791230480412, 'long_term_variance': 0.5189981020426542, 'volatility_of_volatility': 2.7357903352377804, 'mean_reversion_rate': 14.561777078947433, 'wiener_correlation': -0.3069212894352584}\u001b[0m\n",
      "\u001b[32m2024-08-29 18:52:59.497\u001b[0m | \u001b[34m\u001b[1mDEBUG   \u001b[0m | \u001b[36mstochastic_volatility_models.src.core.calibration\u001b[0m:\u001b[36mminimise_cost_function\u001b[0m:\u001b[36m130\u001b[0m - \u001b[34m\u001b[1mCost is 0.27991431375268006 with parameters {'initial_variance': 0.0895791230480412, 'long_term_variance': 0.02191957280809187, 'volatility_of_volatility': 4.987859103542968, 'mean_reversion_rate': 9.79229962608866, 'wiener_correlation': 0.5877814833154562}\u001b[0m\n",
      "\u001b[32m2024-08-29 18:53:10.365\u001b[0m | \u001b[34m\u001b[1mDEBUG   \u001b[0m | \u001b[36mstochastic_volatility_models.src.core.calibration\u001b[0m:\u001b[36mminimise_cost_function\u001b[0m:\u001b[36m130\u001b[0m - \u001b[34m\u001b[1mCost is 0.07932693504366814 with parameters {'initial_variance': 0.0895791230480412, 'long_term_variance': 0.036484190342414013, 'volatility_of_volatility': 2.6045132979257453, 'mean_reversion_rate': 9.418767492228406, 'wiener_correlation': -0.6945686129836327}\u001b[0m\n",
      "\u001b[32m2024-08-29 18:53:23.462\u001b[0m | \u001b[34m\u001b[1mDEBUG   \u001b[0m | \u001b[36mstochastic_volatility_models.src.core.calibration\u001b[0m:\u001b[36mminimise_cost_function\u001b[0m:\u001b[36m130\u001b[0m - \u001b[34m\u001b[1mCost is 0.25657735764498607 with parameters {'initial_variance': 0.0895791230480412, 'long_term_variance': 0.052870434840728175, 'volatility_of_volatility': 0.2724117262137531, 'mean_reversion_rate': 8.369293879703614, 'wiener_correlation': -0.6140447693038626}\u001b[0m\n",
      "\u001b[32m2024-08-29 18:53:35.116\u001b[0m | \u001b[34m\u001b[1mDEBUG   \u001b[0m | \u001b[36mstochastic_volatility_models.src.core.calibration\u001b[0m:\u001b[36mminimise_cost_function\u001b[0m:\u001b[36m130\u001b[0m - \u001b[34m\u001b[1mCost is 0.4294845112828741 with parameters {'initial_variance': 0.0895791230480412, 'long_term_variance': 0.0018307935715355939, 'volatility_of_volatility': 7.446699879671264, 'mean_reversion_rate': 9.659227792481683, 'wiener_correlation': -0.7074575482082912}\u001b[0m\n",
      "\u001b[32m2024-08-29 18:53:44.333\u001b[0m | \u001b[34m\u001b[1mDEBUG   \u001b[0m | \u001b[36mstochastic_volatility_models.src.core.calibration\u001b[0m:\u001b[36mminimise_cost_function\u001b[0m:\u001b[36m130\u001b[0m - \u001b[34m\u001b[1mCost is 1.8361738110418766 with parameters {'initial_variance': 0.0895791230480412, 'long_term_variance': 1.0818339813844975, 'volatility_of_volatility': 2.9877773157846814, 'mean_reversion_rate': 6.299918991793059, 'wiener_correlation': 0.796910960064013}\u001b[0m\n",
      "\u001b[32m2024-08-29 18:53:53.617\u001b[0m | \u001b[34m\u001b[1mDEBUG   \u001b[0m | \u001b[36mstochastic_volatility_models.src.core.calibration\u001b[0m:\u001b[36mminimise_cost_function\u001b[0m:\u001b[36m130\u001b[0m - \u001b[34m\u001b[1mCost is 1.9119081336494397 with parameters {'initial_variance': 0.0895791230480412, 'long_term_variance': 0.05742706204059389, 'volatility_of_volatility': 12.21416813460786, 'mean_reversion_rate': 14.184274854130305, 'wiener_correlation': -0.6944553312994433}\u001b[0m\n",
      "\u001b[32m2024-08-29 18:54:03.223\u001b[0m | \u001b[34m\u001b[1mDEBUG   \u001b[0m | \u001b[36mstochastic_volatility_models.src.core.calibration\u001b[0m:\u001b[36mminimise_cost_function\u001b[0m:\u001b[36m130\u001b[0m - \u001b[34m\u001b[1mCost is 0.09568668733827805 with parameters {'initial_variance': 0.0895791230480412, 'long_term_variance': 0.03589532642204274, 'volatility_of_volatility': 3.1681191833770317, 'mean_reversion_rate': 9.629049055559182, 'wiener_correlation': -0.7078250885829845}\u001b[0m\n",
      "\u001b[32m2024-08-29 18:54:13.623\u001b[0m | \u001b[34m\u001b[1mDEBUG   \u001b[0m | \u001b[36mstochastic_volatility_models.src.core.calibration\u001b[0m:\u001b[36mminimise_cost_function\u001b[0m:\u001b[36m130\u001b[0m - \u001b[34m\u001b[1mCost is 1.6184545073597145 with parameters {'initial_variance': 0.0895791230480412, 'long_term_variance': 1.2821583659728955, 'volatility_of_volatility': 2.9692608448471276, 'mean_reversion_rate': 9.771299070401344, 'wiener_correlation': -0.7017665741931098}\u001b[0m\n",
      "\u001b[32m2024-08-29 18:54:23.326\u001b[0m | \u001b[34m\u001b[1mDEBUG   \u001b[0m | \u001b[36mstochastic_volatility_models.src.core.calibration\u001b[0m:\u001b[36mminimise_cost_function\u001b[0m:\u001b[36m130\u001b[0m - \u001b[34m\u001b[1mCost is 0.30868601112251115 with parameters {'initial_variance': 0.0895791230480412, 'long_term_variance': 0.036877663730251364, 'volatility_of_volatility': 4.630126703898398, 'mean_reversion_rate': 9.202714540215393, 'wiener_correlation': -0.7033941768922214}\u001b[0m\n",
      "\u001b[32m2024-08-29 18:54:33.124\u001b[0m | \u001b[34m\u001b[1mDEBUG   \u001b[0m | \u001b[36mstochastic_volatility_models.src.core.calibration\u001b[0m:\u001b[36mminimise_cost_function\u001b[0m:\u001b[36m130\u001b[0m - \u001b[34m\u001b[1mCost is 0.12041862379439687 with parameters {'initial_variance': 0.0895791230480412, 'long_term_variance': 0.040115896064385925, 'volatility_of_volatility': 2.747660804147543, 'mean_reversion_rate': 13.477230212977513, 'wiener_correlation': -0.7055331272585971}\u001b[0m\n",
      "\u001b[32m2024-08-29 18:54:42.019\u001b[0m | \u001b[34m\u001b[1mDEBUG   \u001b[0m | \u001b[36mstochastic_volatility_models.src.core.calibration\u001b[0m:\u001b[36mminimise_cost_function\u001b[0m:\u001b[36m130\u001b[0m - \u001b[34m\u001b[1mCost is 1.6476991206369305 with parameters {'initial_variance': 0.0895791230480412, 'long_term_variance': 1.0965401485889332, 'volatility_of_volatility': 4.3962192318043884, 'mean_reversion_rate': 9.850941872121286, 'wiener_correlation': 0.2846694594992627}\u001b[0m\n",
      "\u001b[32m2024-08-29 18:54:52.207\u001b[0m | \u001b[34m\u001b[1mDEBUG   \u001b[0m | \u001b[36mstochastic_volatility_models.src.core.calibration\u001b[0m:\u001b[36mminimise_cost_function\u001b[0m:\u001b[36m130\u001b[0m - \u001b[34m\u001b[1mCost is 3.2954635978592917 with parameters {'initial_variance': 0.0895791230480412, 'long_term_variance': 0.051635699023775516, 'volatility_of_volatility': 14.427478171206193, 'mean_reversion_rate': 9.7069515572067, 'wiener_correlation': -0.6580579756562863}\u001b[0m\n",
      "\u001b[32m2024-08-29 18:55:00.827\u001b[0m | \u001b[34m\u001b[1mDEBUG   \u001b[0m | \u001b[36mstochastic_volatility_models.src.core.calibration\u001b[0m:\u001b[36mminimise_cost_function\u001b[0m:\u001b[36m130\u001b[0m - \u001b[34m\u001b[1mCost is 0.0841019435798162 with parameters {'initial_variance': 0.0895791230480412, 'long_term_variance': 0.03611296296186173, 'volatility_of_volatility': 2.784516441399866, 'mean_reversion_rate': 10.629144791306516, 'wiener_correlation': -0.9315498920702796}\u001b[0m\n",
      "\u001b[32m2024-08-29 18:55:10.283\u001b[0m | \u001b[34m\u001b[1mDEBUG   \u001b[0m | \u001b[36mstochastic_volatility_models.src.core.calibration\u001b[0m:\u001b[36mminimise_cost_function\u001b[0m:\u001b[36m130\u001b[0m - \u001b[34m\u001b[1mCost is 1.8379806270426597 with parameters {'initial_variance': 0.0895791230480412, 'long_term_variance': 0.996203438774468, 'volatility_of_volatility': 2.8557690793538306, 'mean_reversion_rate': 10.33447708504588, 'wiener_correlation': -0.4585166111679103}\u001b[0m\n",
      "\u001b[32m2024-08-29 18:55:19.669\u001b[0m | \u001b[34m\u001b[1mDEBUG   \u001b[0m | \u001b[36mstochastic_volatility_models.src.core.calibration\u001b[0m:\u001b[36mminimise_cost_function\u001b[0m:\u001b[36m130\u001b[0m - \u001b[34m\u001b[1mCost is 1.5266089221526051 with parameters {'initial_variance': 0.0895791230480412, 'long_term_variance': 0.04070867817818702, 'volatility_of_volatility': 9.976909091639843, 'mean_reversion_rate': 9.639475177867144, 'wiener_correlation': 0.8290310313739193}\u001b[0m\n",
      "\u001b[32m2024-08-29 18:55:34.941\u001b[0m | \u001b[34m\u001b[1mDEBUG   \u001b[0m | \u001b[36mstochastic_volatility_models.src.core.calibration\u001b[0m:\u001b[36mminimise_cost_function\u001b[0m:\u001b[36m130\u001b[0m - \u001b[34m\u001b[1mCost is 0.09346703848832759 with parameters {'initial_variance': 0.0895791230480412, 'long_term_variance': 0.020573090741549782, 'volatility_of_volatility': 2.8058558680317915, 'mean_reversion_rate': 9.657071009007467, 'wiener_correlation': -0.6859732778567719}\u001b[0m\n",
      "\u001b[32m2024-08-29 18:55:44.474\u001b[0m | \u001b[34m\u001b[1mDEBUG   \u001b[0m | \u001b[36mstochastic_volatility_models.src.core.calibration\u001b[0m:\u001b[36mminimise_cost_function\u001b[0m:\u001b[36m130\u001b[0m - \u001b[34m\u001b[1mCost is 0.19376976844341287 with parameters {'initial_variance': 0.0895791230480412, 'long_term_variance': 0.04967131163668115, 'volatility_of_volatility': 2.7798746248120736, 'mean_reversion_rate': 5.81724057335167, 'wiener_correlation': -0.6741063225287782}\u001b[0m\n",
      "\u001b[32m2024-08-29 18:55:55.030\u001b[0m | \u001b[34m\u001b[1mDEBUG   \u001b[0m | \u001b[36mstochastic_volatility_models.src.core.calibration\u001b[0m:\u001b[36mminimise_cost_function\u001b[0m:\u001b[36m130\u001b[0m - \u001b[34m\u001b[1mCost is 2.158957397086024 with parameters {'initial_variance': 0.0895791230480412, 'long_term_variance': 0.8147789115601466, 'volatility_of_volatility': 2.8065365270252016, 'mean_reversion_rate': 0.653231331808561, 'wiener_correlation': -0.21636488184493663}\u001b[0m\n",
      "\u001b[32m2024-08-29 18:56:04.839\u001b[0m | \u001b[34m\u001b[1mDEBUG   \u001b[0m | \u001b[36mstochastic_volatility_models.src.core.calibration\u001b[0m:\u001b[36mminimise_cost_function\u001b[0m:\u001b[36m130\u001b[0m - \u001b[34m\u001b[1mCost is 0.08204982527840023 with parameters {'initial_variance': 0.0895791230480412, 'long_term_variance': 0.028481912863045022, 'volatility_of_volatility': 3.692167154146601, 'mean_reversion_rate': 12.953804848147941, 'wiener_correlation': -0.9270266866698257}\u001b[0m\n",
      "\u001b[32m2024-08-29 18:56:15.749\u001b[0m | \u001b[34m\u001b[1mDEBUG   \u001b[0m | \u001b[36mstochastic_volatility_models.src.core.calibration\u001b[0m:\u001b[36mminimise_cost_function\u001b[0m:\u001b[36m130\u001b[0m - \u001b[34m\u001b[1mCost is 0.28988512822617685 with parameters {'initial_variance': 0.0895791230480412, 'long_term_variance': 0.03613222639634206, 'volatility_of_volatility': 2.790089208354379, 'mean_reversion_rate': 3.607221865712411, 'wiener_correlation': 0.5215327101312655}\u001b[0m\n",
      "\u001b[32m2024-08-29 18:56:25.393\u001b[0m | \u001b[34m\u001b[1mDEBUG   \u001b[0m | \u001b[36mstochastic_volatility_models.src.core.calibration\u001b[0m:\u001b[36mminimise_cost_function\u001b[0m:\u001b[36m130\u001b[0m - \u001b[34m\u001b[1mCost is 1.5548201830875579 with parameters {'initial_variance': 0.0895791230480412, 'long_term_variance': 0.03593721749275969, 'volatility_of_volatility': 10.21623519046096, 'mean_reversion_rate': 9.240077228785234, 'wiener_correlation': -0.6718092328719447}\u001b[0m\n",
      "\u001b[32m2024-08-29 18:56:39.524\u001b[0m | \u001b[34m\u001b[1mDEBUG   \u001b[0m | \u001b[36mstochastic_volatility_models.src.core.calibration\u001b[0m:\u001b[36mminimise_cost_function\u001b[0m:\u001b[36m130\u001b[0m - \u001b[34m\u001b[1mCost is 3.3526966854322633 with parameters {'initial_variance': 0.0895791230480412, 'long_term_variance': 0.2684165157652419, 'volatility_of_volatility': 2.7176791545970564, 'mean_reversion_rate': 9.656351928326462, 'wiener_correlation': -0.7502710023159587}\u001b[0m\n",
      "\u001b[32m2024-08-29 18:56:48.977\u001b[0m | \u001b[34m\u001b[1mDEBUG   \u001b[0m | \u001b[36mstochastic_volatility_models.src.core.calibration\u001b[0m:\u001b[36mminimise_cost_function\u001b[0m:\u001b[36m130\u001b[0m - \u001b[34m\u001b[1mCost is 0.5239420295095435 with parameters {'initial_variance': 0.0895791230480412, 'long_term_variance': 0.035926912269391154, 'volatility_of_volatility': 2.624306689553894, 'mean_reversion_rate': 0.34976607032948337, 'wiener_correlation': -0.7024042066151963}\u001b[0m\n",
      "\u001b[32m2024-08-29 18:57:02.669\u001b[0m | \u001b[34m\u001b[1mDEBUG   \u001b[0m | \u001b[36mstochastic_volatility_models.src.core.calibration\u001b[0m:\u001b[36mminimise_cost_function\u001b[0m:\u001b[36m130\u001b[0m - \u001b[34m\u001b[1mCost is 0.07784571067884079 with parameters {'initial_variance': 0.0895791230480412, 'long_term_variance': 0.02929431270035343, 'volatility_of_volatility': 2.9850109648223295, 'mean_reversion_rate': 9.267039249959586, 'wiener_correlation': -0.8863594474773271}\u001b[0m\n",
      "\u001b[32m2024-08-29 18:57:15.215\u001b[0m | \u001b[34m\u001b[1mDEBUG   \u001b[0m | \u001b[36mstochastic_volatility_models.src.core.calibration\u001b[0m:\u001b[36mminimise_cost_function\u001b[0m:\u001b[36m130\u001b[0m - \u001b[34m\u001b[1mCost is 0.7381093301064818 with parameters {'initial_variance': 0.0895791230480412, 'long_term_variance': 0.052127320843798786, 'volatility_of_volatility': 6.476567953239756, 'mean_reversion_rate': 9.507670793671055, 'wiener_correlation': 0.19209012192124786}\u001b[0m\n",
      "\u001b[32m2024-08-29 18:57:28.792\u001b[0m | \u001b[34m\u001b[1mDEBUG   \u001b[0m | \u001b[36mstochastic_volatility_models.src.core.calibration\u001b[0m:\u001b[36mminimise_cost_function\u001b[0m:\u001b[36m130\u001b[0m - \u001b[34m\u001b[1mCost is 0.0822004334838289 with parameters {'initial_variance': 0.0895791230480412, 'long_term_variance': 0.03624722033665062, 'volatility_of_volatility': 2.958952115602793, 'mean_reversion_rate': 9.537560182232799, 'wiener_correlation': -0.6819152072000454}\u001b[0m\n",
      "\u001b[32m2024-08-29 18:57:42.180\u001b[0m | \u001b[34m\u001b[1mDEBUG   \u001b[0m | \u001b[36mstochastic_volatility_models.src.core.calibration\u001b[0m:\u001b[36mminimise_cost_function\u001b[0m:\u001b[36m130\u001b[0m - \u001b[34m\u001b[1mCost is 0.0834320765216508 with parameters {'initial_variance': 0.0895791230480412, 'long_term_variance': 0.03647158085533131, 'volatility_of_volatility': 2.969583797208843, 'mean_reversion_rate': 9.443457070939235, 'wiener_correlation': -0.9129100964090834}\u001b[0m\n",
      "\u001b[32m2024-08-29 18:57:56.344\u001b[0m | \u001b[34m\u001b[1mDEBUG   \u001b[0m | \u001b[36mstochastic_volatility_models.src.core.calibration\u001b[0m:\u001b[36mminimise_cost_function\u001b[0m:\u001b[36m130\u001b[0m - \u001b[34m\u001b[1mCost is 0.07710258652795439 with parameters {'initial_variance': 0.0895791230480412, 'long_term_variance': 0.03743135450050872, 'volatility_of_volatility': 2.7273204085946903, 'mean_reversion_rate': 9.511345955689983, 'wiener_correlation': -0.6975871575953128}\u001b[0m\n",
      "\u001b[32m2024-08-29 18:58:07.243\u001b[0m | \u001b[34m\u001b[1mDEBUG   \u001b[0m | \u001b[36mstochastic_volatility_models.src.core.calibration\u001b[0m:\u001b[36mminimise_cost_function\u001b[0m:\u001b[36m130\u001b[0m - \u001b[34m\u001b[1mCost is 2.2090672549241557 with parameters {'initial_variance': 0.0895791230480412, 'long_term_variance': 0.7476676544012164, 'volatility_of_volatility': 2.9286617127506194, 'mean_reversion_rate': 9.49782990956529, 'wiener_correlation': -0.6877864456728756}\u001b[0m\n",
      "\u001b[32m2024-08-29 18:58:19.870\u001b[0m | \u001b[34m\u001b[1mDEBUG   \u001b[0m | \u001b[36mstochastic_volatility_models.src.core.calibration\u001b[0m:\u001b[36mminimise_cost_function\u001b[0m:\u001b[36m130\u001b[0m - \u001b[34m\u001b[1mCost is 0.09693307851566953 with parameters {'initial_variance': 0.0895791230480412, 'long_term_variance': 0.03603892313545365, 'volatility_of_volatility': 2.735229602337956, 'mean_reversion_rate': 7.221423476820057, 'wiener_correlation': -0.7854501204923658}\u001b[0m\n",
      "\u001b[32m2024-08-29 18:58:31.194\u001b[0m | \u001b[34m\u001b[1mDEBUG   \u001b[0m | \u001b[36mstochastic_volatility_models.src.core.calibration\u001b[0m:\u001b[36mminimise_cost_function\u001b[0m:\u001b[36m130\u001b[0m - \u001b[34m\u001b[1mCost is 0.09450239278681313 with parameters {'initial_variance': 0.0895791230480412, 'long_term_variance': 0.02934290326559441, 'volatility_of_volatility': 2.6130821543589677, 'mean_reversion_rate': 9.729950548434202, 'wiener_correlation': -0.9648200492760167}\u001b[0m\n",
      "\u001b[32m2024-08-29 18:58:44.049\u001b[0m | \u001b[34m\u001b[1mDEBUG   \u001b[0m | \u001b[36mstochastic_volatility_models.src.core.calibration\u001b[0m:\u001b[36mminimise_cost_function\u001b[0m:\u001b[36m130\u001b[0m - \u001b[34m\u001b[1mCost is 0.08230382168121617 with parameters {'initial_variance': 0.0895791230480412, 'long_term_variance': 0.0394542225196286, 'volatility_of_volatility': 2.6207751921221316, 'mean_reversion_rate': 9.702574325320203, 'wiener_correlation': -0.5395892011782691}\u001b[0m\n",
      "\u001b[32m2024-08-29 18:58:55.172\u001b[0m | \u001b[34m\u001b[1mDEBUG   \u001b[0m | \u001b[36mstochastic_volatility_models.src.core.calibration\u001b[0m:\u001b[36mminimise_cost_function\u001b[0m:\u001b[36m130\u001b[0m - \u001b[34m\u001b[1mCost is 0.4547825663370261 with parameters {'initial_variance': 0.0895791230480412, 'long_term_variance': 0.04388402528559454, 'volatility_of_volatility': 2.809902919817289, 'mean_reversion_rate': 1.7680434702883137, 'wiener_correlation': -0.941617365675829}\u001b[0m\n",
      "\u001b[32m2024-08-29 18:59:07.126\u001b[0m | \u001b[34m\u001b[1mDEBUG   \u001b[0m | \u001b[36mstochastic_volatility_models.src.core.calibration\u001b[0m:\u001b[36mminimise_cost_function\u001b[0m:\u001b[36m130\u001b[0m - \u001b[34m\u001b[1mCost is 2.132267939417345 with parameters {'initial_variance': 0.0895791230480412, 'long_term_variance': 1.0162907295768524, 'volatility_of_volatility': 2.7861255094481647, 'mean_reversion_rate': 4.570736674762088, 'wiener_correlation': -0.9266860097911956}\u001b[0m\n",
      "\u001b[32m2024-08-29 18:59:17.869\u001b[0m | \u001b[34m\u001b[1mDEBUG   \u001b[0m | \u001b[36mstochastic_volatility_models.src.core.calibration\u001b[0m:\u001b[36mminimise_cost_function\u001b[0m:\u001b[36m130\u001b[0m - \u001b[34m\u001b[1mCost is 0.2625146873961266 with parameters {'initial_variance': 0.0895791230480412, 'long_term_variance': 0.019618396607918975, 'volatility_of_volatility': 0.03594249379513759, 'mean_reversion_rate': 9.706534648596936, 'wiener_correlation': -0.9926442951078419}\u001b[0m\n",
      "\u001b[32m2024-08-29 18:59:29.026\u001b[0m | \u001b[34m\u001b[1mDEBUG   \u001b[0m | \u001b[36mstochastic_volatility_models.src.core.calibration\u001b[0m:\u001b[36mminimise_cost_function\u001b[0m:\u001b[36m130\u001b[0m - \u001b[34m\u001b[1mCost is 0.07513493465415286 with parameters {'initial_variance': 0.0895791230480412, 'long_term_variance': 0.020655209335757818, 'volatility_of_volatility': 2.669914744286058, 'mean_reversion_rate': 7.5728699826879184, 'wiener_correlation': -0.7119188367806222}\u001b[0m\n",
      "\u001b[32m2024-08-29 18:59:39.195\u001b[0m | \u001b[34m\u001b[1mDEBUG   \u001b[0m | \u001b[36mstochastic_volatility_models.src.core.calibration\u001b[0m:\u001b[36mminimise_cost_function\u001b[0m:\u001b[36m130\u001b[0m - \u001b[34m\u001b[1mCost is 0.7924086291118176 with parameters {'initial_variance': 0.0895791230480412, 'long_term_variance': 0.008062043244204897, 'volatility_of_volatility': 8.082141400296976, 'mean_reversion_rate': 7.573092675275361, 'wiener_correlation': -0.7120803149138455}\u001b[0m\n",
      "\u001b[32m2024-08-29 18:59:49.949\u001b[0m | \u001b[34m\u001b[1mDEBUG   \u001b[0m | \u001b[36mstochastic_volatility_models.src.core.calibration\u001b[0m:\u001b[36mminimise_cost_function\u001b[0m:\u001b[36m130\u001b[0m - \u001b[34m\u001b[1mCost is 0.16905163569229278 with parameters {'initial_variance': 0.0895791230480412, 'long_term_variance': 0.02118333385946425, 'volatility_of_volatility': 5.4340977034947855, 'mean_reversion_rate': 14.27347410461844, 'wiener_correlation': -0.7079524255640313}\u001b[0m\n",
      "\u001b[32m2024-08-29 19:00:01.944\u001b[0m | \u001b[34m\u001b[1mDEBUG   \u001b[0m | \u001b[36mstochastic_volatility_models.src.core.calibration\u001b[0m:\u001b[36mminimise_cost_function\u001b[0m:\u001b[36m130\u001b[0m - \u001b[34m\u001b[1mCost is 0.11088609841084164 with parameters {'initial_variance': 0.0895791230480412, 'long_term_variance': 0.04604559702643296, 'volatility_of_volatility': 2.731423611340264, 'mean_reversion_rate': 7.497879365232132, 'wiener_correlation': -0.9366147896463599}\u001b[0m\n",
      "\u001b[32m2024-08-29 19:00:14.233\u001b[0m | \u001b[34m\u001b[1mDEBUG   \u001b[0m | \u001b[36mstochastic_volatility_models.src.core.calibration\u001b[0m:\u001b[36mminimise_cost_function\u001b[0m:\u001b[36m130\u001b[0m - \u001b[34m\u001b[1mCost is 2.1867575257372356 with parameters {'initial_variance': 0.0895791230480412, 'long_term_variance': 0.008865691041022972, 'volatility_of_volatility': 13.837751822494747, 'mean_reversion_rate': 7.5945527621868205, 'wiener_correlation': -0.7306746355195265}\u001b[0m\n",
      "\u001b[32m2024-08-29 19:00:25.695\u001b[0m | \u001b[34m\u001b[1mDEBUG   \u001b[0m | \u001b[36mstochastic_volatility_models.src.core.calibration\u001b[0m:\u001b[36mminimise_cost_function\u001b[0m:\u001b[36m130\u001b[0m - \u001b[34m\u001b[1mCost is 2.640868781968257 with parameters {'initial_variance': 0.0895791230480412, 'long_term_variance': 0.026669916437555452, 'volatility_of_volatility': 14.501905940967191, 'mean_reversion_rate': 9.373879048094448, 'wiener_correlation': -0.7156028652237243}\u001b[0m\n",
      "\u001b[32m2024-08-29 19:00:38.281\u001b[0m | \u001b[34m\u001b[1mDEBUG   \u001b[0m | \u001b[36mstochastic_volatility_models.src.core.calibration\u001b[0m:\u001b[36mminimise_cost_function\u001b[0m:\u001b[36m130\u001b[0m - \u001b[34m\u001b[1mCost is 0.08709308653755082 with parameters {'initial_variance': 0.0895791230480412, 'long_term_variance': 0.054559525642698725, 'volatility_of_volatility': 2.7673799307712335, 'mean_reversion_rate': 9.541048078517626, 'wiener_correlation': -0.7071014034150909}\u001b[0m\n",
      "\u001b[32m2024-08-29 19:00:52.803\u001b[0m | \u001b[34m\u001b[1mDEBUG   \u001b[0m | \u001b[36mstochastic_volatility_models.src.core.calibration\u001b[0m:\u001b[36mminimise_cost_function\u001b[0m:\u001b[36m130\u001b[0m - \u001b[34m\u001b[1mCost is 0.08448387544121108 with parameters {'initial_variance': 0.0895791230480412, 'long_term_variance': 0.035544260720051124, 'volatility_of_volatility': 2.5378468344363716, 'mean_reversion_rate': 9.50094644013944, 'wiener_correlation': -0.7387494141461308}\u001b[0m\n",
      "\u001b[32m2024-08-29 19:01:09.436\u001b[0m | \u001b[34m\u001b[1mDEBUG   \u001b[0m | \u001b[36mstochastic_volatility_models.src.core.calibration\u001b[0m:\u001b[36mminimise_cost_function\u001b[0m:\u001b[36m130\u001b[0m - \u001b[34m\u001b[1mCost is 1.9883982207778554 with parameters {'initial_variance': 0.0895791230480412, 'long_term_variance': 0.019551552336377176, 'volatility_of_volatility': 11.779981507774918, 'mean_reversion_rate': 7.55323262801577, 'wiener_correlation': -0.5248293489957655}\u001b[0m\n",
      "\u001b[32m2024-08-29 19:01:23.139\u001b[0m | \u001b[34m\u001b[1mDEBUG   \u001b[0m | \u001b[36mstochastic_volatility_models.src.core.calibration\u001b[0m:\u001b[36mminimise_cost_function\u001b[0m:\u001b[36m130\u001b[0m - \u001b[34m\u001b[1mCost is 0.7193357259866358 with parameters {'initial_variance': 0.0895791230480412, 'long_term_variance': 0.14681380437857355, 'volatility_of_volatility': 2.5537866672395184, 'mean_reversion_rate': 2.2844540506865494, 'wiener_correlation': -0.7369101697136311}\u001b[0m\n",
      "\u001b[32m2024-08-29 19:01:35.588\u001b[0m | \u001b[34m\u001b[1mDEBUG   \u001b[0m | \u001b[36mstochastic_volatility_models.src.core.calibration\u001b[0m:\u001b[36mminimise_cost_function\u001b[0m:\u001b[36m130\u001b[0m - \u001b[34m\u001b[1mCost is 0.14638998273191622 with parameters {'initial_variance': 0.0895791230480412, 'long_term_variance': 0.020377325758612508, 'volatility_of_volatility': 2.5712428034948296, 'mean_reversion_rate': 12.285365703408306, 'wiener_correlation': -0.7168299804903475}\u001b[0m\n",
      "\u001b[32m2024-08-29 19:01:45.916\u001b[0m | \u001b[34m\u001b[1mDEBUG   \u001b[0m | \u001b[36mstochastic_volatility_models.src.core.calibration\u001b[0m:\u001b[36mminimise_cost_function\u001b[0m:\u001b[36m130\u001b[0m - \u001b[34m\u001b[1mCost is 1.775566409937002 with parameters {'initial_variance': 0.0895791230480412, 'long_term_variance': 0.05967558983669474, 'volatility_of_volatility': 8.831072196585117, 'mean_reversion_rate': 7.657545654406132, 'wiener_correlation': -0.6903153020714696}\u001b[0m\n",
      "\u001b[32m2024-08-29 19:01:59.841\u001b[0m | \u001b[34m\u001b[1mDEBUG   \u001b[0m | \u001b[36mstochastic_volatility_models.src.core.calibration\u001b[0m:\u001b[36mminimise_cost_function\u001b[0m:\u001b[36m130\u001b[0m - \u001b[34m\u001b[1mCost is 0.09181434180613728 with parameters {'initial_variance': 0.0895791230480412, 'long_term_variance': 0.020802127071604448, 'volatility_of_volatility': 3.008655878649206, 'mean_reversion_rate': 7.523139542183298, 'wiener_correlation': -0.9347075342323476}\u001b[0m\n",
      "\u001b[32m2024-08-29 19:02:14.866\u001b[0m | \u001b[34m\u001b[1mDEBUG   \u001b[0m | \u001b[36mstochastic_volatility_models.src.core.calibration\u001b[0m:\u001b[36mminimise_cost_function\u001b[0m:\u001b[36m130\u001b[0m - \u001b[34m\u001b[1mCost is 0.15658234684670255 with parameters {'initial_variance': 0.0895791230480412, 'long_term_variance': 0.05868113676094022, 'volatility_of_volatility': 2.667557446154163, 'mean_reversion_rate': 7.421432916446415, 'wiener_correlation': 0.3832097577634248}\u001b[0m\n",
      "\u001b[32m2024-08-29 19:02:25.438\u001b[0m | \u001b[34m\u001b[1mDEBUG   \u001b[0m | \u001b[36mstochastic_volatility_models.src.core.calibration\u001b[0m:\u001b[36mminimise_cost_function\u001b[0m:\u001b[36m130\u001b[0m - \u001b[34m\u001b[1mCost is 0.08664212673800789 with parameters {'initial_variance': 0.0895791230480412, 'long_term_variance': 0.013761731981662417, 'volatility_of_volatility': 2.4937143006368325, 'mean_reversion_rate': 7.666734648432639, 'wiener_correlation': -0.4921208646771599}\u001b[0m\n",
      "\u001b[32m2024-08-29 19:02:39.064\u001b[0m | \u001b[34m\u001b[1mDEBUG   \u001b[0m | \u001b[36mstochastic_volatility_models.src.core.calibration\u001b[0m:\u001b[36mminimise_cost_function\u001b[0m:\u001b[36m130\u001b[0m - \u001b[34m\u001b[1mCost is 1.011992967824322 with parameters {'initial_variance': 0.0895791230480412, 'long_term_variance': 0.02036630557809682, 'volatility_of_volatility': 8.252852708174387, 'mean_reversion_rate': 7.574348311424205, 'wiener_correlation': -0.7138837532642901}\u001b[0m\n",
      "\u001b[32m2024-08-29 19:02:54.162\u001b[0m | \u001b[34m\u001b[1mDEBUG   \u001b[0m | \u001b[36mstochastic_volatility_models.src.core.calibration\u001b[0m:\u001b[36mminimise_cost_function\u001b[0m:\u001b[36m130\u001b[0m - \u001b[34m\u001b[1mCost is 2.9734593870029653 with parameters {'initial_variance': 0.0895791230480412, 'long_term_variance': 0.4544135763650674, 'volatility_of_volatility': 2.6710783941954768, 'mean_reversion_rate': 7.613000109948102, 'wiener_correlation': -0.8984419764101153}\u001b[0m\n",
      "\u001b[32m2024-08-29 19:03:05.642\u001b[0m | \u001b[34m\u001b[1mDEBUG   \u001b[0m | \u001b[36mstochastic_volatility_models.src.core.calibration\u001b[0m:\u001b[36mminimise_cost_function\u001b[0m:\u001b[36m130\u001b[0m - \u001b[34m\u001b[1mCost is 0.20094832172427413 with parameters {'initial_variance': 0.0895791230480412, 'long_term_variance': 0.022678504453509163, 'volatility_of_volatility': 1.3737335386521679, 'mean_reversion_rate': 7.491619659716417, 'wiener_correlation': 0.03044584976457232}\u001b[0m\n",
      "\u001b[32m2024-08-29 19:03:17.047\u001b[0m | \u001b[34m\u001b[1mDEBUG   \u001b[0m | \u001b[36mstochastic_volatility_models.src.core.calibration\u001b[0m:\u001b[36mminimise_cost_function\u001b[0m:\u001b[36m130\u001b[0m - \u001b[34m\u001b[1mCost is 1.0549426615990798 with parameters {'initial_variance': 0.0895791230480412, 'long_term_variance': 0.0023810572260415386, 'volatility_of_volatility': 10.480037642399811, 'mean_reversion_rate': 7.553537522827361, 'wiener_correlation': 0.9950686028788907}\u001b[0m\n",
      "\u001b[32m2024-08-29 19:03:27.458\u001b[0m | \u001b[34m\u001b[1mDEBUG   \u001b[0m | \u001b[36mstochastic_volatility_models.src.core.calibration\u001b[0m:\u001b[36mminimise_cost_function\u001b[0m:\u001b[36m130\u001b[0m - \u001b[34m\u001b[1mCost is 0.09470293414451578 with parameters {'initial_variance': 0.0895791230480412, 'long_term_variance': 0.01996233340930076, 'volatility_of_volatility': 3.3490375962710273, 'mean_reversion_rate': 12.104650220551019, 'wiener_correlation': -0.6865481150596491}\u001b[0m\n",
      "\u001b[32m2024-08-29 19:03:38.657\u001b[0m | \u001b[34m\u001b[1mDEBUG   \u001b[0m | \u001b[36mstochastic_volatility_models.src.core.calibration\u001b[0m:\u001b[36mminimise_cost_function\u001b[0m:\u001b[36m130\u001b[0m - \u001b[34m\u001b[1mCost is 0.10514379964729631 with parameters {'initial_variance': 0.0895791230480412, 'long_term_variance': 0.01265090900244037, 'volatility_of_volatility': 3.7836873681520906, 'mean_reversion_rate': 9.527669447936132, 'wiener_correlation': -0.7341994004351353}\u001b[0m\n",
      "\u001b[32m2024-08-29 19:03:49.087\u001b[0m | \u001b[34m\u001b[1mDEBUG   \u001b[0m | \u001b[36mstochastic_volatility_models.src.core.calibration\u001b[0m:\u001b[36mminimise_cost_function\u001b[0m:\u001b[36m130\u001b[0m - \u001b[34m\u001b[1mCost is 1.136541614255357 with parameters {'initial_variance': 0.0895791230480412, 'long_term_variance': 0.15838061494209887, 'volatility_of_volatility': 3.2789762000587475, 'mean_reversion_rate': 3.2971951210322548, 'wiener_correlation': -0.7192989677535948}\u001b[0m\n",
      "\u001b[32m2024-08-29 19:04:00.795\u001b[0m | \u001b[34m\u001b[1mDEBUG   \u001b[0m | \u001b[36mstochastic_volatility_models.src.core.calibration\u001b[0m:\u001b[36mminimise_cost_function\u001b[0m:\u001b[36m130\u001b[0m - \u001b[34m\u001b[1mCost is 0.07816055496188973 with parameters {'initial_variance': 0.0895791230480412, 'long_term_variance': 0.021043431031457005, 'volatility_of_volatility': 2.9155454553493714, 'mean_reversion_rate': 9.455785488327164, 'wiener_correlation': -0.9827033528782618}\u001b[0m\n",
      "\u001b[32m2024-08-29 19:04:12.246\u001b[0m | \u001b[34m\u001b[1mDEBUG   \u001b[0m | \u001b[36mstochastic_volatility_models.src.core.calibration\u001b[0m:\u001b[36mminimise_cost_function\u001b[0m:\u001b[36m130\u001b[0m - \u001b[34m\u001b[1mCost is 0.10651429805249026 with parameters {'initial_variance': 0.0895791230480412, 'long_term_variance': 0.030170886591897594, 'volatility_of_volatility': 2.5931322996391515, 'mean_reversion_rate': 9.55580792572577, 'wiener_correlation': -0.03063784008054815}\u001b[0m\n",
      "\u001b[32m2024-08-29 19:04:24.594\u001b[0m | \u001b[34m\u001b[1mDEBUG   \u001b[0m | \u001b[36mstochastic_volatility_models.src.core.calibration\u001b[0m:\u001b[36mminimise_cost_function\u001b[0m:\u001b[36m130\u001b[0m - \u001b[34m\u001b[1mCost is 0.46493190122365546 with parameters {'initial_variance': 0.0895791230480412, 'long_term_variance': 0.008544953175364967, 'volatility_of_volatility': 9.056433006035576, 'mean_reversion_rate': 14.561777078947433, 'wiener_correlation': -0.3069212894352584}\u001b[0m\n",
      "\u001b[32m2024-08-29 19:04:33.572\u001b[0m | \u001b[34m\u001b[1mDEBUG   \u001b[0m | \u001b[36mstochastic_volatility_models.src.core.calibration\u001b[0m:\u001b[36mminimise_cost_function\u001b[0m:\u001b[36m130\u001b[0m - \u001b[34m\u001b[1mCost is 0.13847647382068853 with parameters {'initial_variance': 0.0895791230480412, 'long_term_variance': 0.02191957280809187, 'volatility_of_volatility': 2.5784375022151345, 'mean_reversion_rate': 9.79229962608866, 'wiener_correlation': 0.5877814833154562}\u001b[0m\n",
      "\u001b[32m2024-08-29 19:04:43.832\u001b[0m | \u001b[34m\u001b[1mDEBUG   \u001b[0m | \u001b[36mstochastic_volatility_models.src.core.calibration\u001b[0m:\u001b[36mminimise_cost_function\u001b[0m:\u001b[36m130\u001b[0m - \u001b[34m\u001b[1mCost is 0.07913002448532486 with parameters {'initial_variance': 0.0895791230480412, 'long_term_variance': 0.036484190342414013, 'volatility_of_volatility': 2.6045132979257453, 'mean_reversion_rate': 9.418767492228406, 'wiener_correlation': -0.6945686129836327}\u001b[0m\n",
      "\u001b[32m2024-08-29 19:04:56.387\u001b[0m | \u001b[34m\u001b[1mDEBUG   \u001b[0m | \u001b[36mstochastic_volatility_models.src.core.calibration\u001b[0m:\u001b[36mminimise_cost_function\u001b[0m:\u001b[36m130\u001b[0m - \u001b[34m\u001b[1mCost is 0.07691607494064152 with parameters {'initial_variance': 0.0895791230480412, 'long_term_variance': 0.020899008965524213, 'volatility_of_volatility': 2.6675694369714638, 'mean_reversion_rate': 7.6660161522085755, 'wiener_correlation': -0.6140447693038626}\u001b[0m\n",
      "\u001b[32m2024-08-29 19:05:09.809\u001b[0m | \u001b[34m\u001b[1mDEBUG   \u001b[0m | \u001b[36mstochastic_volatility_models.src.core.calibration\u001b[0m:\u001b[36mminimise_cost_function\u001b[0m:\u001b[36m130\u001b[0m - \u001b[34m\u001b[1mCost is 0.6554211503585948 with parameters {'initial_variance': 0.0895791230480412, 'long_term_variance': 0.02038612311400967, 'volatility_of_volatility': 7.446699879671264, 'mean_reversion_rate': 9.659227792481683, 'wiener_correlation': -0.7074575482082912}\u001b[0m\n",
      "\u001b[32m2024-08-29 19:05:23.122\u001b[0m | \u001b[34m\u001b[1mDEBUG   \u001b[0m | \u001b[36mstochastic_volatility_models.src.core.calibration\u001b[0m:\u001b[36mminimise_cost_function\u001b[0m:\u001b[36m130\u001b[0m - \u001b[34m\u001b[1mCost is 0.12811610631951037 with parameters {'initial_variance': 0.0895791230480412, 'long_term_variance': 0.020779806521769695, 'volatility_of_volatility': 2.6777552479731916, 'mean_reversion_rate': 7.602143552027886, 'wiener_correlation': 0.796910960064013}\u001b[0m\n",
      "\u001b[32m2024-08-29 19:05:32.997\u001b[0m | \u001b[34m\u001b[1mDEBUG   \u001b[0m | \u001b[36mstochastic_volatility_models.src.core.calibration\u001b[0m:\u001b[36mminimise_cost_function\u001b[0m:\u001b[36m130\u001b[0m - \u001b[34m\u001b[1mCost is 1.29668672014037 with parameters {'initial_variance': 0.0895791230480412, 'long_term_variance': 1.1302784404954722, 'volatility_of_volatility': 2.67297232335015, 'mean_reversion_rate': 14.184274854130305, 'wiener_correlation': 0.4049462253206211}\u001b[0m\n",
      "\u001b[32m2024-08-29 19:05:43.024\u001b[0m | \u001b[34m\u001b[1mDEBUG   \u001b[0m | \u001b[36mstochastic_volatility_models.src.core.calibration\u001b[0m:\u001b[36mminimise_cost_function\u001b[0m:\u001b[36m130\u001b[0m - \u001b[34m\u001b[1mCost is 0.09755806242213502 with parameters {'initial_variance': 0.0895791230480412, 'long_term_variance': 0.020675877952441857, 'volatility_of_volatility': 3.1681191833770317, 'mean_reversion_rate': 10.775616598979305, 'wiener_correlation': -0.24664085848144734}\u001b[0m\n",
      "\u001b[32m2024-08-29 19:05:53.722\u001b[0m | \u001b[34m\u001b[1mDEBUG   \u001b[0m | \u001b[36mstochastic_volatility_models.src.core.calibration\u001b[0m:\u001b[36mminimise_cost_function\u001b[0m:\u001b[36m130\u001b[0m - \u001b[34m\u001b[1mCost is 1.6836991539304242 with parameters {'initial_variance': 0.0895791230480412, 'long_term_variance': 0.020901661289229323, 'volatility_of_volatility': 10.74301586405613, 'mean_reversion_rate': 7.56315588234535, 'wiener_correlation': 0.9308609438465358}\u001b[0m\n",
      "\u001b[32m2024-08-29 19:06:04.554\u001b[0m | \u001b[34m\u001b[1mDEBUG   \u001b[0m | \u001b[36mstochastic_volatility_models.src.core.calibration\u001b[0m:\u001b[36mminimise_cost_function\u001b[0m:\u001b[36m130\u001b[0m - \u001b[34m\u001b[1mCost is 0.305618737219317 with parameters {'initial_variance': 0.0895791230480412, 'long_term_variance': 0.036877663730251364, 'volatility_of_volatility': 4.630126703898398, 'mean_reversion_rate': 9.202714540215393, 'wiener_correlation': -0.7033941768922214}\u001b[0m\n",
      "\u001b[32m2024-08-29 19:06:23.021\u001b[0m | \u001b[34m\u001b[1mDEBUG   \u001b[0m | \u001b[36mstochastic_volatility_models.src.core.calibration\u001b[0m:\u001b[36mminimise_cost_function\u001b[0m:\u001b[36m130\u001b[0m - \u001b[34m\u001b[1mCost is 0.0930619701107902 with parameters {'initial_variance': 0.0895791230480412, 'long_term_variance': 0.040115896064385925, 'volatility_of_volatility': 2.747660804147543, 'mean_reversion_rate': 7.674551797581911, 'wiener_correlation': -0.7055331272585971}\u001b[0m\n",
      "\u001b[32m2024-08-29 19:06:52.553\u001b[0m | \u001b[34m\u001b[1mDEBUG   \u001b[0m | \u001b[36mstochastic_volatility_models.src.core.calibration\u001b[0m:\u001b[36mminimise_cost_function\u001b[0m:\u001b[36m130\u001b[0m - \u001b[34m\u001b[1mCost is 1.6105063383397062 with parameters {'initial_variance': 0.0895791230480412, 'long_term_variance': 1.0965401485889332, 'volatility_of_volatility': 2.521096750507695, 'mean_reversion_rate': 9.850941872121286, 'wiener_correlation': 0.2846694594992627}\u001b[0m\n",
      "\u001b[32m2024-08-29 19:07:10.037\u001b[0m | \u001b[34m\u001b[1mDEBUG   \u001b[0m | \u001b[36mstochastic_volatility_models.src.core.calibration\u001b[0m:\u001b[36mminimise_cost_function\u001b[0m:\u001b[36m130\u001b[0m - \u001b[34m\u001b[1mCost is 2.5870357006245044 with parameters {'initial_variance': 0.0895791230480412, 'long_term_variance': 0.44285019067920556, 'volatility_of_volatility': 14.427478171206193, 'mean_reversion_rate': 7.6138150809672025, 'wiener_correlation': -0.8227701793334625}\u001b[0m\n",
      "\u001b[32m2024-08-29 19:07:27.978\u001b[0m | \u001b[34m\u001b[1mDEBUG   \u001b[0m | \u001b[36mstochastic_volatility_models.src.core.calibration\u001b[0m:\u001b[36mminimise_cost_function\u001b[0m:\u001b[36m130\u001b[0m - \u001b[34m\u001b[1mCost is 0.08152612405955145 with parameters {'initial_variance': 0.0895791230480412, 'long_term_variance': 0.03611296296186173, 'volatility_of_volatility': 2.784516441399866, 'mean_reversion_rate': 10.629144791306516, 'wiener_correlation': -0.9315498920702796}\u001b[0m\n",
      "\u001b[32m2024-08-29 19:07:47.388\u001b[0m | \u001b[34m\u001b[1mDEBUG   \u001b[0m | \u001b[36mstochastic_volatility_models.src.core.calibration\u001b[0m:\u001b[36mminimise_cost_function\u001b[0m:\u001b[36m130\u001b[0m - \u001b[34m\u001b[1mCost is 1.9138545588475273 with parameters {'initial_variance': 0.0895791230480412, 'long_term_variance': 0.996203438774468, 'volatility_of_volatility': 11.673017753204503, 'mean_reversion_rate': 7.498203630000467, 'wiener_correlation': -0.4585166111679103}\u001b[0m\n",
      "\u001b[32m2024-08-29 19:08:07.082\u001b[0m | \u001b[34m\u001b[1mDEBUG   \u001b[0m | \u001b[36mstochastic_volatility_models.src.core.calibration\u001b[0m:\u001b[36mminimise_cost_function\u001b[0m:\u001b[36m130\u001b[0m - \u001b[34m\u001b[1mCost is 1.1696265086351818 with parameters {'initial_variance': 0.0895791230480412, 'long_term_variance': 0.02050676198282586, 'volatility_of_volatility': 9.976909091639843, 'mean_reversion_rate': 9.639475177867144, 'wiener_correlation': -0.7293393495172322}\u001b[0m\n",
      "\u001b[32m2024-08-29 19:08:25.802\u001b[0m | \u001b[34m\u001b[1mDEBUG   \u001b[0m | \u001b[36mstochastic_volatility_models.src.core.calibration\u001b[0m:\u001b[36mminimise_cost_function\u001b[0m:\u001b[36m130\u001b[0m - \u001b[34m\u001b[1mCost is 0.07562880771260676 with parameters {'initial_variance': 0.0895791230480412, 'long_term_variance': 0.020655209335757818, 'volatility_of_volatility': 2.6193370255748842, 'mean_reversion_rate': 7.5728699826879184, 'wiener_correlation': -0.7119188367806222}\u001b[0m\n",
      "\u001b[32m2024-08-29 19:08:46.417\u001b[0m | \u001b[34m\u001b[1mDEBUG   \u001b[0m | \u001b[36mstochastic_volatility_models.src.core.calibration\u001b[0m:\u001b[36mminimise_cost_function\u001b[0m:\u001b[36m130\u001b[0m - \u001b[34m\u001b[1mCost is 0.11702124123999204 with parameters {'initial_variance': 0.0895791230480412, 'long_term_variance': 0.04967131163668115, 'volatility_of_volatility': 2.7798746248120736, 'mean_reversion_rate': 7.809116898993745, 'wiener_correlation': -0.671205901891599}\u001b[0m\n",
      "\u001b[32m2024-08-29 19:09:01.089\u001b[0m | \u001b[34m\u001b[1mDEBUG   \u001b[0m | \u001b[36mstochastic_volatility_models.src.core.calibration\u001b[0m:\u001b[36mminimise_cost_function\u001b[0m:\u001b[36m130\u001b[0m - \u001b[34m\u001b[1mCost is 2.20728934058873 with parameters {'initial_variance': 0.0895791230480412, 'long_term_variance': 0.8147789115601466, 'volatility_of_volatility': 2.664785451795134, 'mean_reversion_rate': 0.653231331808561, 'wiener_correlation': -0.711750438440939}\u001b[0m\n",
      "\u001b[32m2024-08-29 19:09:22.231\u001b[0m | \u001b[34m\u001b[1mDEBUG   \u001b[0m | \u001b[36mstochastic_volatility_models.src.core.calibration\u001b[0m:\u001b[36mminimise_cost_function\u001b[0m:\u001b[36m130\u001b[0m - \u001b[34m\u001b[1mCost is 0.08359069324263017 with parameters {'initial_variance': 0.0895791230480412, 'long_term_variance': 0.028481912863045022, 'volatility_of_volatility': 3.692167154146601, 'mean_reversion_rate': 12.953804848147941, 'wiener_correlation': -0.7155365185271466}\u001b[0m\n",
      "\u001b[32m2024-08-29 19:09:39.616\u001b[0m | \u001b[34m\u001b[1mDEBUG   \u001b[0m | \u001b[36mstochastic_volatility_models.src.core.calibration\u001b[0m:\u001b[36mminimise_cost_function\u001b[0m:\u001b[36m130\u001b[0m - \u001b[34m\u001b[1mCost is 2.5250582860379387 with parameters {'initial_variance': 0.0895791230480412, 'long_term_variance': 1.0980537911511934, 'volatility_of_volatility': 2.790089208354379, 'mean_reversion_rate': 3.607221865712411, 'wiener_correlation': 0.5215327101312655}\u001b[0m\n",
      "\u001b[32m2024-08-29 19:10:02.987\u001b[0m | \u001b[34m\u001b[1mDEBUG   \u001b[0m | \u001b[36mstochastic_volatility_models.src.core.calibration\u001b[0m:\u001b[36mminimise_cost_function\u001b[0m:\u001b[36m130\u001b[0m - \u001b[34m\u001b[1mCost is 1.4911672160553437 with parameters {'initial_variance': 0.0895791230480412, 'long_term_variance': 1.1408940329789523, 'volatility_of_volatility': 10.21623519046096, 'mean_reversion_rate': 7.666930026929673, 'wiener_correlation': -0.7172698369047341}\u001b[0m\n",
      "\u001b[32m2024-08-29 19:10:24.845\u001b[0m | \u001b[34m\u001b[1mDEBUG   \u001b[0m | \u001b[36mstochastic_volatility_models.src.core.calibration\u001b[0m:\u001b[36mminimise_cost_function\u001b[0m:\u001b[36m130\u001b[0m - \u001b[34m\u001b[1mCost is 3.1225384165897383 with parameters {'initial_variance': 0.0895791230480412, 'long_term_variance': 0.2684165157652419, 'volatility_of_volatility': 2.880433330171778, 'mean_reversion_rate': 8.738024361991044, 'wiener_correlation': -0.7209891733879826}\u001b[0m\n",
      "\u001b[32m2024-08-29 19:10:44.084\u001b[0m | \u001b[34m\u001b[1mDEBUG   \u001b[0m | \u001b[36mstochastic_volatility_models.src.core.calibration\u001b[0m:\u001b[36mminimise_cost_function\u001b[0m:\u001b[36m130\u001b[0m - \u001b[34m\u001b[1mCost is 0.4553255471287149 with parameters {'initial_variance': 0.0895791230480412, 'long_term_variance': 0.035926912269391154, 'volatility_of_volatility': 2.324465935293114, 'mean_reversion_rate': 0.34976607032948337, 'wiener_correlation': -0.7053640435297703}\u001b[0m\n",
      "\u001b[32m2024-08-29 19:11:00.084\u001b[0m | \u001b[34m\u001b[1mDEBUG   \u001b[0m | \u001b[36mstochastic_volatility_models.src.core.calibration\u001b[0m:\u001b[36mminimise_cost_function\u001b[0m:\u001b[36m130\u001b[0m - \u001b[34m\u001b[1mCost is 2.614546659887609 with parameters {'initial_variance': 0.0895791230480412, 'long_term_variance': 0.5450771372671196, 'volatility_of_volatility': 2.9850109648223295, 'mean_reversion_rate': 9.267039249959586, 'wiener_correlation': -0.8863594474773271}\u001b[0m\n",
      "\u001b[32m2024-08-29 19:11:13.982\u001b[0m | \u001b[34m\u001b[1mDEBUG   \u001b[0m | \u001b[36mstochastic_volatility_models.src.core.calibration\u001b[0m:\u001b[36mminimise_cost_function\u001b[0m:\u001b[36m130\u001b[0m - \u001b[34m\u001b[1mCost is 0.11021090869214384 with parameters {'initial_variance': 0.0895791230480412, 'long_term_variance': 0.035579266008236354, 'volatility_of_volatility': 2.9363479280866915, 'mean_reversion_rate': 8.228581143107583, 'wiener_correlation': 0.19209012192124786}\u001b[0m\n",
      "\u001b[32m2024-08-29 19:11:28.342\u001b[0m | \u001b[34m\u001b[1mDEBUG   \u001b[0m | \u001b[36mstochastic_volatility_models.src.core.calibration\u001b[0m:\u001b[36mminimise_cost_function\u001b[0m:\u001b[36m130\u001b[0m - \u001b[34m\u001b[1mCost is 0.07773937144566927 with parameters {'initial_variance': 0.0895791230480412, 'long_term_variance': 0.020343748416451035, 'volatility_of_volatility': 2.958952115602793, 'mean_reversion_rate': 9.537560182232799, 'wiener_correlation': -0.6819152072000454}\u001b[0m\n",
      "\u001b[32m2024-08-29 19:11:44.261\u001b[0m | \u001b[34m\u001b[1mDEBUG   \u001b[0m | \u001b[36mstochastic_volatility_models.src.core.calibration\u001b[0m:\u001b[36mminimise_cost_function\u001b[0m:\u001b[36m130\u001b[0m - \u001b[34m\u001b[1mCost is 0.0864662300306882 with parameters {'initial_variance': 0.0895791230480412, 'long_term_variance': 0.021324001262787995, 'volatility_of_volatility': 2.9877369108522647, 'mean_reversion_rate': 7.64742622343704, 'wiener_correlation': -0.9129100964090834}\u001b[0m\n",
      "\u001b[32m2024-08-29 19:11:58.637\u001b[0m | \u001b[34m\u001b[1mDEBUG   \u001b[0m | \u001b[36mstochastic_volatility_models.src.core.calibration\u001b[0m:\u001b[36mminimise_cost_function\u001b[0m:\u001b[36m130\u001b[0m - \u001b[34m\u001b[1mCost is 0.07881228806475511 with parameters {'initial_variance': 0.0895791230480412, 'long_term_variance': 0.03743135450050872, 'volatility_of_volatility': 2.674463697056196, 'mean_reversion_rate': 9.511345955689983, 'wiener_correlation': -0.6975871575953128}\u001b[0m\n",
      "\u001b[32m2024-08-29 19:12:14.141\u001b[0m | \u001b[34m\u001b[1mDEBUG   \u001b[0m | \u001b[36mstochastic_volatility_models.src.core.calibration\u001b[0m:\u001b[36mminimise_cost_function\u001b[0m:\u001b[36m130\u001b[0m - \u001b[34m\u001b[1mCost is 2.1004033451969084 with parameters {'initial_variance': 0.0895791230480412, 'long_term_variance': 0.7476676544012164, 'volatility_of_volatility': 2.4167590936058474, 'mean_reversion_rate': 7.566284557368686, 'wiener_correlation': -0.7210021431267459}\u001b[0m\n",
      "\u001b[32m2024-08-29 19:12:25.746\u001b[0m | \u001b[34m\u001b[1mDEBUG   \u001b[0m | \u001b[36mstochastic_volatility_models.src.core.calibration\u001b[0m:\u001b[36mminimise_cost_function\u001b[0m:\u001b[36m130\u001b[0m - \u001b[34m\u001b[1mCost is 0.09104973516788117 with parameters {'initial_variance': 0.0895791230480412, 'long_term_variance': 0.03513249329534063, 'volatility_of_volatility': 2.735229602337956, 'mean_reversion_rate': 7.38457744594649, 'wiener_correlation': -0.6514964479787048}\u001b[0m\n",
      "\u001b[32m2024-08-29 19:12:38.103\u001b[0m | \u001b[34m\u001b[1mDEBUG   \u001b[0m | \u001b[36mstochastic_volatility_models.src.core.calibration\u001b[0m:\u001b[36mminimise_cost_function\u001b[0m:\u001b[36m130\u001b[0m - \u001b[34m\u001b[1mCost is 0.10429847713033259 with parameters {'initial_variance': 0.0895791230480412, 'long_term_variance': 0.02066892770616713, 'volatility_of_volatility': 2.6130821543589677, 'mean_reversion_rate': 9.729950548434202, 'wiener_correlation': -0.9648200492760167}\u001b[0m\n",
      "\u001b[32m2024-08-29 19:12:49.379\u001b[0m | \u001b[34m\u001b[1mDEBUG   \u001b[0m | \u001b[36mstochastic_volatility_models.src.core.calibration\u001b[0m:\u001b[36mminimise_cost_function\u001b[0m:\u001b[36m130\u001b[0m - \u001b[34m\u001b[1mCost is 0.17341304642712593 with parameters {'initial_variance': 0.0895791230480412, 'long_term_variance': 0.06631528985827584, 'volatility_of_volatility': 2.7303801165342696, 'mean_reversion_rate': 7.4011274355274645, 'wiener_correlation': -0.5395892011782691}\u001b[0m\n",
      "\u001b[32m2024-08-29 19:13:07.554\u001b[0m | \u001b[34m\u001b[1mDEBUG   \u001b[0m | \u001b[36mstochastic_volatility_models.src.core.calibration\u001b[0m:\u001b[36mminimise_cost_function\u001b[0m:\u001b[36m130\u001b[0m - \u001b[34m\u001b[1mCost is 0.33207996441846627 with parameters {'initial_variance': 0.0895791230480412, 'long_term_variance': 0.04388402528559454, 'volatility_of_volatility': 2.2744122687818242, 'mean_reversion_rate': 1.7680434702883137, 'wiener_correlation': -0.7103162566178834}\u001b[0m\n",
      "\u001b[32m2024-08-29 19:17:01.479\u001b[0m | \u001b[34m\u001b[1mDEBUG   \u001b[0m | \u001b[36mstochastic_volatility_models.src.core.calibration\u001b[0m:\u001b[36mminimise_cost_function\u001b[0m:\u001b[36m130\u001b[0m - \u001b[34m\u001b[1mCost is 2.091551040535123 with parameters {'initial_variance': 0.0895791230480412, 'long_term_variance': 1.0162907295768524, 'volatility_of_volatility': 3.087490839574298, 'mean_reversion_rate': 4.570736674762088, 'wiener_correlation': -0.9266860097911956}\u001b[0m\n",
      "\u001b[32m2024-08-29 19:20:13.582\u001b[0m | \u001b[34m\u001b[1mDEBUG   \u001b[0m | \u001b[36mstochastic_volatility_models.src.core.calibration\u001b[0m:\u001b[36mminimise_cost_function\u001b[0m:\u001b[36m130\u001b[0m - \u001b[34m\u001b[1mCost is 0.26189576900281414 with parameters {'initial_variance': 0.0895791230480412, 'long_term_variance': 0.019618396607918975, 'volatility_of_volatility': 0.03594249379513759, 'mean_reversion_rate': 7.393102815471921, 'wiener_correlation': -0.7122625780992733}\u001b[0m\n",
      "\u001b[32m2024-08-29 19:20:27.256\u001b[0m | \u001b[34m\u001b[1mDEBUG   \u001b[0m | \u001b[36mstochastic_volatility_models.src.core.calibration\u001b[0m:\u001b[36mminimise_cost_function\u001b[0m:\u001b[36m130\u001b[0m - \u001b[34m\u001b[1mCost is 0.09521196618608858 with parameters {'initial_variance': 0.0895791230480412, 'long_term_variance': 0.03602265034497376, 'volatility_of_volatility': 2.8058558680317915, 'mean_reversion_rate': 7.589973074364316, 'wiener_correlation': -0.6859732778567719}\u001b[0m\n",
      "\u001b[32m2024-08-29 20:14:41.046\u001b[0m | \u001b[34m\u001b[1mDEBUG   \u001b[0m | \u001b[36mstochastic_volatility_models.src.core.calibration\u001b[0m:\u001b[36mminimise_cost_function\u001b[0m:\u001b[36m130\u001b[0m - \u001b[34m\u001b[1mCost is 0.6316756614179585 with parameters {'initial_variance': 0.0895791230480412, 'long_term_variance': 0.008062043244204897, 'volatility_of_volatility': 8.082141400296976, 'mean_reversion_rate': 9.544590136427269, 'wiener_correlation': -0.7295066194540137}\u001b[0m\n",
      "\u001b[32m2024-08-29 20:16:22.913\u001b[0m | \u001b[34m\u001b[1mDEBUG   \u001b[0m | \u001b[36mstochastic_volatility_models.src.core.calibration\u001b[0m:\u001b[36mminimise_cost_function\u001b[0m:\u001b[36m130\u001b[0m - \u001b[34m\u001b[1mCost is 0.2971379459912905 with parameters {'initial_variance': 0.0895791230480412, 'long_term_variance': 0.05579469179594099, 'volatility_of_volatility': 5.4340977034947855, 'mean_reversion_rate': 14.27347410461844, 'wiener_correlation': -0.7079524255640313}\u001b[0m\n",
      "\u001b[32m2024-08-29 20:16:39.460\u001b[0m | \u001b[34m\u001b[1mDEBUG   \u001b[0m | \u001b[36mstochastic_volatility_models.src.core.calibration\u001b[0m:\u001b[36mminimise_cost_function\u001b[0m:\u001b[36m130\u001b[0m - \u001b[34m\u001b[1mCost is 0.09887766484313401 with parameters {'initial_variance': 0.0895791230480412, 'long_term_variance': 0.04604559702643296, 'volatility_of_volatility': 2.731423611340264, 'mean_reversion_rate': 7.939493162166588, 'wiener_correlation': -0.7118982283976489}\u001b[0m\n",
      "\u001b[32m2024-08-29 20:17:03.245\u001b[0m | \u001b[34m\u001b[1mDEBUG   \u001b[0m | \u001b[36mstochastic_volatility_models.src.core.calibration\u001b[0m:\u001b[36mminimise_cost_function\u001b[0m:\u001b[36m130\u001b[0m - \u001b[34m\u001b[1mCost is 2.194629101058946 with parameters {'initial_variance': 0.0895791230480412, 'long_term_variance': 0.008865691041022972, 'volatility_of_volatility': 13.837751822494747, 'mean_reversion_rate': 7.5945527621868205, 'wiener_correlation': -0.7306746355195265}\u001b[0m\n",
      "\u001b[32m2024-08-29 20:17:20.188\u001b[0m | \u001b[34m\u001b[1mDEBUG   \u001b[0m | \u001b[36mstochastic_volatility_models.src.core.calibration\u001b[0m:\u001b[36mminimise_cost_function\u001b[0m:\u001b[36m130\u001b[0m - \u001b[34m\u001b[1mCost is 3.2148601110945787 with parameters {'initial_variance': 0.0895791230480412, 'long_term_variance': 0.026669916437555452, 'volatility_of_volatility': 14.501905940967191, 'mean_reversion_rate': 7.569162296041207, 'wiener_correlation': -0.7297011192088384}\u001b[0m\n",
      "\u001b[32m2024-08-29 20:17:36.953\u001b[0m | \u001b[34m\u001b[1mDEBUG   \u001b[0m | \u001b[36mstochastic_volatility_models.src.core.calibration\u001b[0m:\u001b[36mminimise_cost_function\u001b[0m:\u001b[36m130\u001b[0m - \u001b[34m\u001b[1mCost is 0.08838043615583717 with parameters {'initial_variance': 0.0895791230480412, 'long_term_variance': 0.054559525642698725, 'volatility_of_volatility': 2.7673799307712335, 'mean_reversion_rate': 9.541048078517626, 'wiener_correlation': -0.7216280530279582}\u001b[0m\n",
      "\u001b[32m2024-08-29 20:17:51.049\u001b[0m | \u001b[34m\u001b[1mDEBUG   \u001b[0m | \u001b[36mstochastic_volatility_models.src.core.calibration\u001b[0m:\u001b[36mminimise_cost_function\u001b[0m:\u001b[36m130\u001b[0m - \u001b[34m\u001b[1mCost is 0.09415103497696295 with parameters {'initial_variance': 0.0895791230480412, 'long_term_variance': 0.021273182023750836, 'volatility_of_volatility': 2.730366832494804, 'mean_reversion_rate': 9.50094644013944, 'wiener_correlation': -0.9473445244449296}\u001b[0m\n",
      "\u001b[32m2024-08-29 20:18:08.816\u001b[0m | \u001b[34m\u001b[1mDEBUG   \u001b[0m | \u001b[36mstochastic_volatility_models.src.core.calibration\u001b[0m:\u001b[36mminimise_cost_function\u001b[0m:\u001b[36m130\u001b[0m - \u001b[34m\u001b[1mCost is 2.0025617725572005 with parameters {'initial_variance': 0.0895791230480412, 'long_term_variance': 0.019551552336377176, 'volatility_of_volatility': 11.779981507774918, 'mean_reversion_rate': 7.509011300821336, 'wiener_correlation': -0.5248293489957655}\u001b[0m\n",
      "\u001b[32m2024-08-29 20:18:26.335\u001b[0m | \u001b[34m\u001b[1mDEBUG   \u001b[0m | \u001b[36mstochastic_volatility_models.src.core.calibration\u001b[0m:\u001b[36mminimise_cost_function\u001b[0m:\u001b[36m130\u001b[0m - \u001b[34m\u001b[1mCost is 0.7603436963221247 with parameters {'initial_variance': 0.0895791230480412, 'long_term_variance': 0.14681380437857355, 'volatility_of_volatility': 2.6592918155461174, 'mean_reversion_rate': 2.2844540506865494, 'wiener_correlation': 0.7264310044570097}\u001b[0m\n",
      "\u001b[32m2024-08-29 20:18:45.518\u001b[0m | \u001b[34m\u001b[1mDEBUG   \u001b[0m | \u001b[36mstochastic_volatility_models.src.core.calibration\u001b[0m:\u001b[36mminimise_cost_function\u001b[0m:\u001b[36m130\u001b[0m - \u001b[34m\u001b[1mCost is 0.14639278610170375 with parameters {'initial_variance': 0.0895791230480412, 'long_term_variance': 0.020377325758612508, 'volatility_of_volatility': 2.5712428034948296, 'mean_reversion_rate': 12.285365703408306, 'wiener_correlation': -0.7168299804903475}\u001b[0m\n",
      "\u001b[32m2024-08-29 20:19:08.600\u001b[0m | \u001b[34m\u001b[1mDEBUG   \u001b[0m | \u001b[36mstochastic_volatility_models.src.core.calibration\u001b[0m:\u001b[36mminimise_cost_function\u001b[0m:\u001b[36m130\u001b[0m - \u001b[34m\u001b[1mCost is 0.5303971330065207 with parameters {'initial_variance': 0.0895791230480412, 'long_term_variance': 0.02093133613546161, 'volatility_of_volatility': 8.831072196585117, 'mean_reversion_rate': 14.934714788644847, 'wiener_correlation': -0.6903153020714696}\u001b[0m\n",
      "\u001b[32m2024-08-29 20:19:26.757\u001b[0m | \u001b[34m\u001b[1mDEBUG   \u001b[0m | \u001b[36mstochastic_volatility_models.src.core.calibration\u001b[0m:\u001b[36mminimise_cost_function\u001b[0m:\u001b[36m130\u001b[0m - \u001b[34m\u001b[1mCost is 0.07647689892288476 with parameters {'initial_variance': 0.0895791230480412, 'long_term_variance': 0.016285123007597102, 'volatility_of_volatility': 2.645734698668292, 'mean_reversion_rate': 7.792333349345845, 'wiener_correlation': -0.9347075342323476}\u001b[0m\n",
      "\u001b[32m2024-08-29 20:19:43.475\u001b[0m | \u001b[34m\u001b[1mDEBUG   \u001b[0m | \u001b[36mstochastic_volatility_models.src.core.calibration\u001b[0m:\u001b[36mminimise_cost_function\u001b[0m:\u001b[36m130\u001b[0m - \u001b[34m\u001b[1mCost is 0.15681602010682505 with parameters {'initial_variance': 0.0895791230480412, 'long_term_variance': 0.05868113676094022, 'volatility_of_volatility': 2.667557446154163, 'mean_reversion_rate': 7.421432916446415, 'wiener_correlation': 0.3832097577634248}\u001b[0m\n",
      "\u001b[32m2024-08-29 20:19:59.036\u001b[0m | \u001b[34m\u001b[1mDEBUG   \u001b[0m | \u001b[36mstochastic_volatility_models.src.core.calibration\u001b[0m:\u001b[36mminimise_cost_function\u001b[0m:\u001b[36m130\u001b[0m - \u001b[34m\u001b[1mCost is 0.08003792301333174 with parameters {'initial_variance': 0.0895791230480412, 'long_term_variance': 0.013761731981662417, 'volatility_of_volatility': 2.4937143006368325, 'mean_reversion_rate': 7.433909742156089, 'wiener_correlation': -0.6804189387365296}\u001b[0m\n",
      "\u001b[32m2024-08-29 20:20:14.721\u001b[0m | \u001b[34m\u001b[1mDEBUG   \u001b[0m | \u001b[36mstochastic_volatility_models.src.core.calibration\u001b[0m:\u001b[36mminimise_cost_function\u001b[0m:\u001b[36m130\u001b[0m - \u001b[34m\u001b[1mCost is 0.0792149207684737 with parameters {'initial_variance': 0.0895791230480412, 'long_term_variance': 0.036331676549045566, 'volatility_of_volatility': 2.663682325607949, 'mean_reversion_rate': 9.662494997661533, 'wiener_correlation': -0.7138837532642901}\u001b[0m\n",
      "\u001b[32m2024-08-29 20:20:30.123\u001b[0m | \u001b[34m\u001b[1mDEBUG   \u001b[0m | \u001b[36mstochastic_volatility_models.src.core.calibration\u001b[0m:\u001b[36mminimise_cost_function\u001b[0m:\u001b[36m130\u001b[0m - \u001b[34m\u001b[1mCost is 3.416552031619248 with parameters {'initial_variance': 0.0895791230480412, 'long_term_variance': 0.021483430260718306, 'volatility_of_volatility': 13.50011987975791, 'mean_reversion_rate': 3.9600733394395924, 'wiener_correlation': -0.8984419764101153}\u001b[0m\n",
      "\u001b[32m2024-08-29 20:20:49.719\u001b[0m | \u001b[34m\u001b[1mDEBUG   \u001b[0m | \u001b[36mstochastic_volatility_models.src.core.calibration\u001b[0m:\u001b[36mminimise_cost_function\u001b[0m:\u001b[36m130\u001b[0m - \u001b[34m\u001b[1mCost is 0.2033875195114879 with parameters {'initial_variance': 0.0895791230480412, 'long_term_variance': 0.020444044087073343, 'volatility_of_volatility': 1.3737335386521679, 'mean_reversion_rate': 7.491619659716417, 'wiener_correlation': 0.03044584976457232}\u001b[0m\n",
      "\u001b[32m2024-08-29 20:21:09.545\u001b[0m | \u001b[34m\u001b[1mDEBUG   \u001b[0m | \u001b[36mstochastic_volatility_models.src.core.calibration\u001b[0m:\u001b[36mminimise_cost_function\u001b[0m:\u001b[36m130\u001b[0m - \u001b[34m\u001b[1mCost is 0.16597354186852167 with parameters {'initial_variance': 0.0895791230480412, 'long_term_variance': 0.0023810572260415386, 'volatility_of_volatility': 2.6741573821231146, 'mean_reversion_rate': 9.68260183616573, 'wiener_correlation': 0.9950686028788907}\u001b[0m\n",
      "\u001b[32m2024-08-29 20:21:22.806\u001b[0m | \u001b[34m\u001b[1mDEBUG   \u001b[0m | \u001b[36mstochastic_volatility_models.src.core.calibration\u001b[0m:\u001b[36mminimise_cost_function\u001b[0m:\u001b[36m130\u001b[0m - \u001b[34m\u001b[1mCost is 0.12486124505762428 with parameters {'initial_variance': 0.0895791230480412, 'long_term_variance': 0.01996233340930076, 'volatility_of_volatility': 3.3490375962710273, 'mean_reversion_rate': 7.65018121523168, 'wiener_correlation': -0.6865481150596491}\u001b[0m\n",
      "\u001b[32m2024-08-29 20:21:38.495\u001b[0m | \u001b[34m\u001b[1mDEBUG   \u001b[0m | \u001b[36mstochastic_volatility_models.src.core.calibration\u001b[0m:\u001b[36mminimise_cost_function\u001b[0m:\u001b[36m130\u001b[0m - \u001b[34m\u001b[1mCost is 0.24468743730868572 with parameters {'initial_variance': 0.0895791230480412, 'long_term_variance': 0.035796566021123244, 'volatility_of_volatility': 3.7836873681520906, 'mean_reversion_rate': 7.500248414630982, 'wiener_correlation': -0.8372965874398414}\u001b[0m\n",
      "\u001b[32m2024-08-29 20:21:53.489\u001b[0m | \u001b[34m\u001b[1mDEBUG   \u001b[0m | \u001b[36mstochastic_volatility_models.src.core.calibration\u001b[0m:\u001b[36mminimise_cost_function\u001b[0m:\u001b[36m130\u001b[0m - \u001b[34m\u001b[1mCost is 0.9272527464678466 with parameters {'initial_variance': 0.0895791230480412, 'long_term_variance': 0.15838061494209887, 'volatility_of_volatility': 2.677157441964499, 'mean_reversion_rate': 3.2971951210322548, 'wiener_correlation': -0.7192989677535948}\u001b[0m\n",
      "\u001b[32m2024-08-29 20:22:08.660\u001b[0m | \u001b[34m\u001b[1mDEBUG   \u001b[0m | \u001b[36mstochastic_volatility_models.src.core.calibration\u001b[0m:\u001b[36mminimise_cost_function\u001b[0m:\u001b[36m130\u001b[0m - \u001b[34m\u001b[1mCost is 1.298213564421223 with parameters {'initial_variance': 0.0895791230480412, 'long_term_variance': 1.205643547131439, 'volatility_of_volatility': 2.3298035090226374, 'mean_reversion_rate': 9.455785488327164, 'wiener_correlation': -0.9827033528782618}\u001b[0m\n",
      "\u001b[32m2024-08-29 20:22:23.674\u001b[0m | \u001b[34m\u001b[1mDEBUG   \u001b[0m | \u001b[36mstochastic_volatility_models.src.core.calibration\u001b[0m:\u001b[36mminimise_cost_function\u001b[0m:\u001b[36m130\u001b[0m - \u001b[34m\u001b[1mCost is 0.11647837975122308 with parameters {'initial_variance': 0.0895791230480412, 'long_term_variance': 0.02096614677329378, 'volatility_of_volatility': 2.5594866821756437, 'mean_reversion_rate': 9.55580792572577, 'wiener_correlation': -0.03063784008054815}\u001b[0m\n",
      "\u001b[32m2024-08-29 20:22:42.226\u001b[0m | \u001b[34m\u001b[1mDEBUG   \u001b[0m | \u001b[36mstochastic_volatility_models.src.core.calibration\u001b[0m:\u001b[36mminimise_cost_function\u001b[0m:\u001b[36m130\u001b[0m - \u001b[34m\u001b[1mCost is 0.1775115961290105 with parameters {'initial_variance': 0.0895791230480412, 'long_term_variance': 0.008544953175364967, 'volatility_of_volatility': 2.7203260500833606, 'mean_reversion_rate': 14.561777078947433, 'wiener_correlation': -0.3069212894352584}\u001b[0m\n",
      "\u001b[32m2024-08-29 20:22:55.489\u001b[0m | \u001b[34m\u001b[1mDEBUG   \u001b[0m | \u001b[36mstochastic_volatility_models.src.core.calibration\u001b[0m:\u001b[36mminimise_cost_function\u001b[0m:\u001b[36m130\u001b[0m - \u001b[34m\u001b[1mCost is 0.13320247585532416 with parameters {'initial_variance': 0.0895791230480412, 'long_term_variance': 0.02191957280809187, 'volatility_of_volatility': 2.669539204959011, 'mean_reversion_rate': 9.79229962608866, 'wiener_correlation': 0.5877814833154562}\u001b[0m\n",
      "\u001b[32m2024-08-29 20:23:10.588\u001b[0m | \u001b[34m\u001b[1mDEBUG   \u001b[0m | \u001b[36mstochastic_volatility_models.src.core.calibration\u001b[0m:\u001b[36mminimise_cost_function\u001b[0m:\u001b[36m130\u001b[0m - \u001b[34m\u001b[1mCost is 0.11220950484753835 with parameters {'initial_variance': 0.0895791230480412, 'long_term_variance': 0.036484190342414013, 'volatility_of_volatility': 2.2342174109160453, 'mean_reversion_rate': 9.418767492228406, 'wiener_correlation': -0.7078872718530921}\u001b[0m\n",
      "\u001b[32m2024-08-29 20:23:25.022\u001b[0m | \u001b[34m\u001b[1mDEBUG   \u001b[0m | \u001b[36mstochastic_volatility_models.src.core.calibration\u001b[0m:\u001b[36mminimise_cost_function\u001b[0m:\u001b[36m130\u001b[0m - \u001b[34m\u001b[1mCost is 0.0764668394502189 with parameters {'initial_variance': 0.0895791230480412, 'long_term_variance': 0.020899008965524213, 'volatility_of_volatility': 2.6675694369714638, 'mean_reversion_rate': 7.6660161522085755, 'wiener_correlation': -0.7122242753293981}\u001b[0m\n",
      "\u001b[32m2024-08-29 20:23:39.841\u001b[0m | \u001b[34m\u001b[1mDEBUG   \u001b[0m | \u001b[36mstochastic_volatility_models.src.core.calibration\u001b[0m:\u001b[36mminimise_cost_function\u001b[0m:\u001b[36m130\u001b[0m - \u001b[34m\u001b[1mCost is 0.6671816902978704 with parameters {'initial_variance': 0.0895791230480412, 'long_term_variance': 0.02133897277638741, 'volatility_of_volatility': 7.446699879671264, 'mean_reversion_rate': 9.659227792481683, 'wiener_correlation': -0.7074575482082912}\u001b[0m\n",
      "\u001b[32m2024-08-29 20:23:55.049\u001b[0m | \u001b[34m\u001b[1mDEBUG   \u001b[0m | \u001b[36mstochastic_volatility_models.src.core.calibration\u001b[0m:\u001b[36mminimise_cost_function\u001b[0m:\u001b[36m130\u001b[0m - \u001b[34m\u001b[1mCost is 0.12765024574318506 with parameters {'initial_variance': 0.0895791230480412, 'long_term_variance': 0.020779806521769695, 'volatility_of_volatility': 2.6777552479731916, 'mean_reversion_rate': 7.629961957832046, 'wiener_correlation': 0.796910960064013}\u001b[0m\n",
      "\u001b[32m2024-08-29 20:24:12.224\u001b[0m | \u001b[34m\u001b[1mDEBUG   \u001b[0m | \u001b[36mstochastic_volatility_models.src.core.calibration\u001b[0m:\u001b[36mminimise_cost_function\u001b[0m:\u001b[36m130\u001b[0m - \u001b[34m\u001b[1mCost is 1.2974333519202195 with parameters {'initial_variance': 0.0895791230480412, 'long_term_variance': 1.1302784404954722, 'volatility_of_volatility': 2.644562617634361, 'mean_reversion_rate': 14.184274854130305, 'wiener_correlation': 0.4049462253206211}\u001b[0m\n",
      "\u001b[32m2024-08-29 20:24:28.209\u001b[0m | \u001b[34m\u001b[1mDEBUG   \u001b[0m | \u001b[36mstochastic_volatility_models.src.core.calibration\u001b[0m:\u001b[36mminimise_cost_function\u001b[0m:\u001b[36m130\u001b[0m - \u001b[34m\u001b[1mCost is 0.14952315556800186 with parameters {'initial_variance': 0.0895791230480412, 'long_term_variance': 0.03737528035994875, 'volatility_of_volatility': 3.1681191833770317, 'mean_reversion_rate': 7.577207620409513, 'wiener_correlation': -0.24664085848144734}\u001b[0m\n",
      "\u001b[32m2024-08-29 20:24:43.125\u001b[0m | \u001b[34m\u001b[1mDEBUG   \u001b[0m | \u001b[36mstochastic_volatility_models.src.core.calibration\u001b[0m:\u001b[36mminimise_cost_function\u001b[0m:\u001b[36m130\u001b[0m - \u001b[34m\u001b[1mCost is 1.3556493763186606 with parameters {'initial_variance': 0.0895791230480412, 'long_term_variance': 1.2821583659728955, 'volatility_of_volatility': 10.74301586405613, 'mean_reversion_rate': 7.6485055918474725, 'wiener_correlation': 0.9308609438465358}\u001b[0m\n",
      "\u001b[32m2024-08-29 20:24:57.759\u001b[0m | \u001b[34m\u001b[1mDEBUG   \u001b[0m | \u001b[36mstochastic_volatility_models.src.core.calibration\u001b[0m:\u001b[36mminimise_cost_function\u001b[0m:\u001b[36m130\u001b[0m - \u001b[34m\u001b[1mCost is 0.2382073400294971 with parameters {'initial_variance': 0.0895791230480412, 'long_term_variance': 0.02036465327214243, 'volatility_of_volatility': 4.630126703898398, 'mean_reversion_rate': 9.202714540215393, 'wiener_correlation': -0.7033941768922214}\u001b[0m\n",
      "\u001b[32m2024-08-29 20:25:11.610\u001b[0m | \u001b[34m\u001b[1mDEBUG   \u001b[0m | \u001b[36mstochastic_volatility_models.src.core.calibration\u001b[0m:\u001b[36mminimise_cost_function\u001b[0m:\u001b[36m130\u001b[0m - \u001b[34m\u001b[1mCost is 0.09329882083287065 with parameters {'initial_variance': 0.0895791230480412, 'long_term_variance': 0.040115896064385925, 'volatility_of_volatility': 2.747660804147543, 'mean_reversion_rate': 7.674551797581911, 'wiener_correlation': -0.7055331272585971}\u001b[0m\n",
      "\u001b[32m2024-08-29 20:25:25.964\u001b[0m | \u001b[34m\u001b[1mDEBUG   \u001b[0m | \u001b[36mstochastic_volatility_models.src.core.calibration\u001b[0m:\u001b[36mminimise_cost_function\u001b[0m:\u001b[36m130\u001b[0m - \u001b[34m\u001b[1mCost is 1.7228790177048017 with parameters {'initial_variance': 0.0895791230480412, 'long_term_variance': 1.0965401485889332, 'volatility_of_volatility': 2.6693326276692027, 'mean_reversion_rate': 9.850941872121286, 'wiener_correlation': -0.7202033030133752}\u001b[0m\n",
      "\u001b[32m2024-08-29 20:25:43.221\u001b[0m | \u001b[34m\u001b[1mDEBUG   \u001b[0m | \u001b[36mstochastic_volatility_models.src.core.calibration\u001b[0m:\u001b[36mminimise_cost_function\u001b[0m:\u001b[36m130\u001b[0m - \u001b[34m\u001b[1mCost is 2.5223759513722874 with parameters {'initial_variance': 0.0895791230480412, 'long_term_variance': 0.44285019067920556, 'volatility_of_volatility': 14.427478171206193, 'mean_reversion_rate': 7.6138150809672025, 'wiener_correlation': -0.8227701793334625}\u001b[0m\n",
      "\u001b[32m2024-08-29 20:26:01.938\u001b[0m | \u001b[34m\u001b[1mDEBUG   \u001b[0m | \u001b[36mstochastic_volatility_models.src.core.calibration\u001b[0m:\u001b[36mminimise_cost_function\u001b[0m:\u001b[36m130\u001b[0m - \u001b[34m\u001b[1mCost is 0.11445956282908053 with parameters {'initial_variance': 0.0895791230480412, 'long_term_variance': 0.03611296296186173, 'volatility_of_volatility': 2.9068888137746605, 'mean_reversion_rate': 7.385672688426328, 'wiener_correlation': -0.9315498920702796}\u001b[0m\n",
      "\u001b[32m2024-08-29 20:26:17.674\u001b[0m | \u001b[34m\u001b[1mDEBUG   \u001b[0m | \u001b[36mstochastic_volatility_models.src.core.calibration\u001b[0m:\u001b[36mminimise_cost_function\u001b[0m:\u001b[36m130\u001b[0m - \u001b[34m\u001b[1mCost is 1.3015243499015077 with parameters {'initial_variance': 0.0895791230480412, 'long_term_variance': 0.996203438774468, 'volatility_of_volatility': 11.673017753204503, 'mean_reversion_rate': 10.33447708504588, 'wiener_correlation': -0.4585166111679103}\u001b[0m\n",
      "\u001b[32m2024-08-29 20:26:33.455\u001b[0m | \u001b[34m\u001b[1mDEBUG   \u001b[0m | \u001b[36mstochastic_volatility_models.src.core.calibration\u001b[0m:\u001b[36mminimise_cost_function\u001b[0m:\u001b[36m130\u001b[0m - \u001b[34m\u001b[1mCost is 1.16194789269007 with parameters {'initial_variance': 0.0895791230480412, 'long_term_variance': 0.020097289646952232, 'volatility_of_volatility': 9.976909091639843, 'mean_reversion_rate': 9.639475177867144, 'wiener_correlation': -0.7293393495172322}\u001b[0m\n",
      "\u001b[32m2024-08-29 20:26:49.094\u001b[0m | \u001b[34m\u001b[1mDEBUG   \u001b[0m | \u001b[36mstochastic_volatility_models.src.core.calibration\u001b[0m:\u001b[36mminimise_cost_function\u001b[0m:\u001b[36m130\u001b[0m - \u001b[34m\u001b[1mCost is 0.07646733235951365 with parameters {'initial_variance': 0.0895791230480412, 'long_term_variance': 0.02060586076319948, 'volatility_of_volatility': 2.669914744286058, 'mean_reversion_rate': 7.5728699826879184, 'wiener_correlation': -0.704965020158972}\u001b[0m\n",
      "\u001b[32m2024-08-29 20:27:04.874\u001b[0m | \u001b[34m\u001b[1mDEBUG   \u001b[0m | \u001b[36mstochastic_volatility_models.src.core.calibration\u001b[0m:\u001b[36mminimise_cost_function\u001b[0m:\u001b[36m130\u001b[0m - \u001b[34m\u001b[1mCost is 0.07768781069093132 with parameters {'initial_variance': 0.0895791230480412, 'long_term_variance': 0.020989978988624203, 'volatility_of_volatility': 2.7798746248120736, 'mean_reversion_rate': 7.809116898993745, 'wiener_correlation': -0.671205901891599}\u001b[0m\n",
      "\u001b[32m2024-08-29 20:27:21.379\u001b[0m | \u001b[34m\u001b[1mDEBUG   \u001b[0m | \u001b[36mstochastic_volatility_models.src.core.calibration\u001b[0m:\u001b[36mminimise_cost_function\u001b[0m:\u001b[36m130\u001b[0m - \u001b[34m\u001b[1mCost is 2.1691879790942425 with parameters {'initial_variance': 0.0895791230480412, 'long_term_variance': 0.8147789115601466, 'volatility_of_volatility': 2.8065365270252016, 'mean_reversion_rate': 0.653231331808561, 'wiener_correlation': -0.7436806536578504}\u001b[0m\n",
      "\u001b[32m2024-08-29 20:27:39.958\u001b[0m | \u001b[34m\u001b[1mDEBUG   \u001b[0m | \u001b[36mstochastic_volatility_models.src.core.calibration\u001b[0m:\u001b[36mminimise_cost_function\u001b[0m:\u001b[36m130\u001b[0m - \u001b[34m\u001b[1mCost is 0.19819367259568707 with parameters {'initial_variance': 0.0895791230480412, 'long_term_variance': 0.028481912863045022, 'volatility_of_volatility': 3.692167154146601, 'mean_reversion_rate': 7.640867347345094, 'wiener_correlation': -0.9270266866698257}\u001b[0m\n",
      "\u001b[32m2024-08-29 20:27:54.077\u001b[0m | \u001b[34m\u001b[1mDEBUG   \u001b[0m | \u001b[36mstochastic_volatility_models.src.core.calibration\u001b[0m:\u001b[36mminimise_cost_function\u001b[0m:\u001b[36m130\u001b[0m - \u001b[34m\u001b[1mCost is 0.20941990106008138 with parameters {'initial_variance': 0.0895791230480412, 'long_term_variance': 0.03613222639634206, 'volatility_of_volatility': 2.4468167795177473, 'mean_reversion_rate': 3.607221865712411, 'wiener_correlation': -0.7178958924749352}\u001b[0m\n",
      "\u001b[32m2024-08-29 20:28:08.783\u001b[0m | \u001b[34m\u001b[1mDEBUG   \u001b[0m | \u001b[36mstochastic_volatility_models.src.core.calibration\u001b[0m:\u001b[36mminimise_cost_function\u001b[0m:\u001b[36m130\u001b[0m - \u001b[34m\u001b[1mCost is 1.2893335219558868 with parameters {'initial_variance': 0.0895791230480412, 'long_term_variance': 0.021464560755029338, 'volatility_of_volatility': 10.21623519046096, 'mean_reversion_rate': 9.240077228785234, 'wiener_correlation': -0.9155455972267317}\u001b[0m\n",
      "\u001b[32m2024-08-29 20:28:23.789\u001b[0m | \u001b[34m\u001b[1mDEBUG   \u001b[0m | \u001b[36mstochastic_volatility_models.src.core.calibration\u001b[0m:\u001b[36mminimise_cost_function\u001b[0m:\u001b[36m130\u001b[0m - \u001b[34m\u001b[1mCost is 0.08141577663749103 with parameters {'initial_variance': 0.0895791230480412, 'long_term_variance': 0.020603899356114508, 'volatility_of_volatility': 2.6590665072183564, 'mean_reversion_rate': 8.738024361991044, 'wiener_correlation': -0.7502710023159587}\u001b[0m\n",
      "\u001b[32m2024-08-29 20:28:40.068\u001b[0m | \u001b[34m\u001b[1mDEBUG   \u001b[0m | \u001b[36mstochastic_volatility_models.src.core.calibration\u001b[0m:\u001b[36mminimise_cost_function\u001b[0m:\u001b[36m130\u001b[0m - \u001b[34m\u001b[1mCost is 0.4392715926530527 with parameters {'initial_variance': 0.0895791230480412, 'long_term_variance': 0.020286507069056325, 'volatility_of_volatility': 2.324465935293114, 'mean_reversion_rate': 0.34976607032948337, 'wiener_correlation': -0.7070303553522259}\u001b[0m\n",
      "\u001b[32m2024-08-29 20:28:56.662\u001b[0m | \u001b[34m\u001b[1mDEBUG   \u001b[0m | \u001b[36mstochastic_volatility_models.src.core.calibration\u001b[0m:\u001b[36mminimise_cost_function\u001b[0m:\u001b[36m130\u001b[0m - \u001b[34m\u001b[1mCost is 0.09901814273770104 with parameters {'initial_variance': 0.0895791230480412, 'long_term_variance': 0.0472745735045359, 'volatility_of_volatility': 2.9850109648223295, 'mean_reversion_rate': 9.267039249959586, 'wiener_correlation': -0.8863594474773271}\u001b[0m\n",
      "\u001b[32m2024-08-29 20:29:13.199\u001b[0m | \u001b[34m\u001b[1mDEBUG   \u001b[0m | \u001b[36mstochastic_volatility_models.src.core.calibration\u001b[0m:\u001b[36mminimise_cost_function\u001b[0m:\u001b[36m130\u001b[0m - \u001b[34m\u001b[1mCost is 0.09992638455107242 with parameters {'initial_variance': 0.0895791230480412, 'long_term_variance': 0.019472722787880037, 'volatility_of_volatility': 2.9363479280866915, 'mean_reversion_rate': 8.228581143107583, 'wiener_correlation': 0.19209012192124786}\u001b[0m\n",
      "\u001b[32m2024-08-29 20:29:26.548\u001b[0m | \u001b[34m\u001b[1mDEBUG   \u001b[0m | \u001b[36mstochastic_volatility_models.src.core.calibration\u001b[0m:\u001b[36mminimise_cost_function\u001b[0m:\u001b[36m130\u001b[0m - \u001b[34m\u001b[1mCost is 0.07792223140020997 with parameters {'initial_variance': 0.0895791230480412, 'long_term_variance': 0.020343748416451035, 'volatility_of_volatility': 2.958952115602793, 'mean_reversion_rate': 9.537560182232799, 'wiener_correlation': -0.7074985224921037}\u001b[0m\n",
      "\u001b[32m2024-08-29 20:29:44.187\u001b[0m | \u001b[34m\u001b[1mDEBUG   \u001b[0m | \u001b[36mstochastic_volatility_models.src.core.calibration\u001b[0m:\u001b[36mminimise_cost_function\u001b[0m:\u001b[36m130\u001b[0m - \u001b[34m\u001b[1mCost is 0.08898166524465574 with parameters {'initial_variance': 0.0895791230480412, 'long_term_variance': 0.021324001262787995, 'volatility_of_volatility': 2.969583797208843, 'mean_reversion_rate': 7.509114250915979, 'wiener_correlation': -0.9129100964090834}\u001b[0m\n",
      "\u001b[32m2024-08-29 20:30:00.171\u001b[0m | \u001b[34m\u001b[1mDEBUG   \u001b[0m | \u001b[36mstochastic_volatility_models.src.core.calibration\u001b[0m:\u001b[36mminimise_cost_function\u001b[0m:\u001b[36m130\u001b[0m - \u001b[34m\u001b[1mCost is 0.09377559924022467 with parameters {'initial_variance': 0.0895791230480412, 'long_term_variance': 0.03743135450050872, 'volatility_of_volatility': 2.7273204085946903, 'mean_reversion_rate': 7.398998998229382, 'wiener_correlation': -0.7119543770042261}\u001b[0m\n",
      "\u001b[32m2024-08-29 20:30:16.199\u001b[0m | \u001b[34m\u001b[1mDEBUG   \u001b[0m | \u001b[36mstochastic_volatility_models.src.core.calibration\u001b[0m:\u001b[36mminimise_cost_function\u001b[0m:\u001b[36m130\u001b[0m - \u001b[34m\u001b[1mCost is 1.9595157801471916 with parameters {'initial_variance': 0.0895791230480412, 'long_term_variance': 0.7476676544012164, 'volatility_of_volatility': 2.4167590936058474, 'mean_reversion_rate': 7.561839470429319, 'wiener_correlation': -0.7210021431267459}\u001b[0m\n",
      "\u001b[32m2024-08-29 20:30:32.796\u001b[0m | \u001b[34m\u001b[1mDEBUG   \u001b[0m | \u001b[36mstochastic_volatility_models.src.core.calibration\u001b[0m:\u001b[36mminimise_cost_function\u001b[0m:\u001b[36m130\u001b[0m - \u001b[34m\u001b[1mCost is 0.07811638222286088 with parameters {'initial_variance': 0.0895791230480412, 'long_term_variance': 0.010839643144396671, 'volatility_of_volatility': 2.735229602337956, 'mean_reversion_rate': 7.623101425719376, 'wiener_correlation': -0.6514964479787048}\u001b[0m\n",
      "\u001b[32m2024-08-29 20:30:51.600\u001b[0m | \u001b[34m\u001b[1mDEBUG   \u001b[0m | \u001b[36mstochastic_volatility_models.src.core.calibration\u001b[0m:\u001b[36mminimise_cost_function\u001b[0m:\u001b[36m130\u001b[0m - \u001b[34m\u001b[1mCost is 0.07687098823436983 with parameters {'initial_variance': 0.0895791230480412, 'long_term_variance': 0.02934290326559441, 'volatility_of_volatility': 2.8221735236372245, 'mean_reversion_rate': 9.729950548434202, 'wiener_correlation': -0.9648200492760167}\u001b[0m\n",
      "\u001b[32m2024-08-29 20:31:06.668\u001b[0m | \u001b[34m\u001b[1mDEBUG   \u001b[0m | \u001b[36mstochastic_volatility_models.src.core.calibration\u001b[0m:\u001b[36mminimise_cost_function\u001b[0m:\u001b[36m130\u001b[0m - \u001b[34m\u001b[1mCost is 0.08709883756736504 with parameters {'initial_variance': 0.0895791230480412, 'long_term_variance': 0.05060116614956944, 'volatility_of_volatility': 2.861806259659242, 'mean_reversion_rate': 9.702574325320203, 'wiener_correlation': -0.5395892011782691}\u001b[0m\n",
      "\u001b[32m2024-08-29 20:31:21.890\u001b[0m | \u001b[34m\u001b[1mDEBUG   \u001b[0m | \u001b[36mstochastic_volatility_models.src.core.calibration\u001b[0m:\u001b[36mminimise_cost_function\u001b[0m:\u001b[36m130\u001b[0m - \u001b[34m\u001b[1mCost is 0.4623145117596328 with parameters {'initial_variance': 0.0895791230480412, 'long_term_variance': 0.10125399980149763, 'volatility_of_volatility': 2.2744122687818242, 'mean_reversion_rate': 1.7680434702883137, 'wiener_correlation': -0.7103162566178834}\u001b[0m\n",
      "\u001b[32m2024-08-29 20:31:36.477\u001b[0m | \u001b[34m\u001b[1mDEBUG   \u001b[0m | \u001b[36mstochastic_volatility_models.src.core.calibration\u001b[0m:\u001b[36mminimise_cost_function\u001b[0m:\u001b[36m130\u001b[0m - \u001b[34m\u001b[1mCost is 2.2958592178333297 with parameters {'initial_variance': 0.0895791230480412, 'long_term_variance': 0.04397576956698057, 'volatility_of_volatility': 9.279544047965235, 'mean_reversion_rate': 4.570736674762088, 'wiener_correlation': -0.9266860097911956}\u001b[0m\n",
      "\u001b[32m2024-08-29 20:31:53.903\u001b[0m | \u001b[34m\u001b[1mDEBUG   \u001b[0m | \u001b[36mstochastic_volatility_models.src.core.calibration\u001b[0m:\u001b[36mminimise_cost_function\u001b[0m:\u001b[36m130\u001b[0m - \u001b[34m\u001b[1mCost is 0.07556318845894934 with parameters {'initial_variance': 0.0895791230480412, 'long_term_variance': 0.019618396607918975, 'volatility_of_volatility': 2.685228131178147, 'mean_reversion_rate': 7.788730086384202, 'wiener_correlation': -0.7122625780992733}\u001b[0m\n",
      "\u001b[32m2024-08-29 20:32:08.990\u001b[0m | \u001b[34m\u001b[1mDEBUG   \u001b[0m | \u001b[36mstochastic_volatility_models.src.core.calibration\u001b[0m:\u001b[36mminimise_cost_function\u001b[0m:\u001b[36m130\u001b[0m - \u001b[34m\u001b[1mCost is 0.09264044533166645 with parameters {'initial_variance': 0.0895791230480412, 'long_term_variance': 0.02065022039886888, 'volatility_of_volatility': 2.8058558680317915, 'mean_reversion_rate': 9.657071009007467, 'wiener_correlation': -0.6770696366001068}\u001b[0m\n",
      "\u001b[32m2024-08-29 20:32:24.946\u001b[0m | \u001b[34m\u001b[1mDEBUG   \u001b[0m | \u001b[36mstochastic_volatility_models.src.core.calibration\u001b[0m:\u001b[36mminimise_cost_function\u001b[0m:\u001b[36m130\u001b[0m - \u001b[34m\u001b[1mCost is 0.6308325519529242 with parameters {'initial_variance': 0.0895791230480412, 'long_term_variance': 0.008062043244204897, 'volatility_of_volatility': 8.082141400296976, 'mean_reversion_rate': 9.544590136427269, 'wiener_correlation': -0.9462694605548927}\u001b[0m\n",
      "\u001b[32m2024-08-29 20:32:39.966\u001b[0m | \u001b[34m\u001b[1mDEBUG   \u001b[0m | \u001b[36mstochastic_volatility_models.src.core.calibration\u001b[0m:\u001b[36mminimise_cost_function\u001b[0m:\u001b[36m130\u001b[0m - \u001b[34m\u001b[1mCost is 0.08046013666921903 with parameters {'initial_variance': 0.0895791230480412, 'long_term_variance': 0.02118333385946425, 'volatility_of_volatility': 2.4290854750243023, 'mean_reversion_rate': 7.7000844120029805, 'wiener_correlation': -0.7079524255640313}\u001b[0m\n",
      "\u001b[32m2024-08-29 20:32:55.036\u001b[0m | \u001b[34m\u001b[1mDEBUG   \u001b[0m | \u001b[36mstochastic_volatility_models.src.core.calibration\u001b[0m:\u001b[36mminimise_cost_function\u001b[0m:\u001b[36m130\u001b[0m - \u001b[34m\u001b[1mCost is 0.10897971776300185 with parameters {'initial_variance': 0.0895791230480412, 'long_term_variance': 0.04604559702643296, 'volatility_of_volatility': 2.731423611340264, 'mean_reversion_rate': 7.57715968891023, 'wiener_correlation': -0.7126376479444883}\u001b[0m\n",
      "\u001b[32m2024-08-29 20:33:08.914\u001b[0m | \u001b[34m\u001b[1mDEBUG   \u001b[0m | \u001b[36mstochastic_volatility_models.src.core.calibration\u001b[0m:\u001b[36mminimise_cost_function\u001b[0m:\u001b[36m130\u001b[0m - \u001b[34m\u001b[1mCost is 0.07639889495255561 with parameters {'initial_variance': 0.0895791230480412, 'long_term_variance': 0.02066221445511851, 'volatility_of_volatility': 2.6701165812847103, 'mean_reversion_rate': 7.547423351247353, 'wiener_correlation': -0.7306746355195265}\u001b[0m\n",
      "\u001b[32m2024-08-29 20:33:23.341\u001b[0m | \u001b[34m\u001b[1mDEBUG   \u001b[0m | \u001b[36mstochastic_volatility_models.src.core.calibration\u001b[0m:\u001b[36mminimise_cost_function\u001b[0m:\u001b[36m130\u001b[0m - \u001b[34m\u001b[1mCost is 3.2448973127242193 with parameters {'initial_variance': 0.0895791230480412, 'long_term_variance': 0.026669916437555452, 'volatility_of_volatility': 14.501905940967191, 'mean_reversion_rate': 7.578254001164153, 'wiener_correlation': -0.7297011192088384}\u001b[0m\n",
      "\u001b[32m2024-08-29 20:33:38.881\u001b[0m | \u001b[34m\u001b[1mDEBUG   \u001b[0m | \u001b[36mstochastic_volatility_models.src.core.calibration\u001b[0m:\u001b[36mminimise_cost_function\u001b[0m:\u001b[36m130\u001b[0m - \u001b[34m\u001b[1mCost is 0.13792495011214626 with parameters {'initial_variance': 0.0895791230480412, 'long_term_variance': 0.054559525642698725, 'volatility_of_volatility': 2.7673799307712335, 'mean_reversion_rate': 7.565087883208715, 'wiener_correlation': -0.7071014034150909}\u001b[0m\n",
      "\u001b[32m2024-08-29 20:33:56.056\u001b[0m | \u001b[34m\u001b[1mDEBUG   \u001b[0m | \u001b[36mstochastic_volatility_models.src.core.calibration\u001b[0m:\u001b[36mminimise_cost_function\u001b[0m:\u001b[36m130\u001b[0m - \u001b[34m\u001b[1mCost is 0.09701221456864802 with parameters {'initial_variance': 0.0895791230480412, 'long_term_variance': 0.020475936609060552, 'volatility_of_volatility': 2.679154982911574, 'mean_reversion_rate': 9.50094644013944, 'wiener_correlation': -0.7120035196883631}\u001b[0m\n",
      "\u001b[32m2024-08-29 20:34:11.432\u001b[0m | \u001b[34m\u001b[1mDEBUG   \u001b[0m | \u001b[36mstochastic_volatility_models.src.core.calibration\u001b[0m:\u001b[36mminimise_cost_function\u001b[0m:\u001b[36m130\u001b[0m - \u001b[34m\u001b[1mCost is 0.09738689269772005 with parameters {'initial_variance': 0.0895791230480412, 'long_term_variance': 0.019551552336377176, 'volatility_of_volatility': 2.700189548673511, 'mean_reversion_rate': 9.358716843573863, 'wiener_correlation': -0.5248293489957655}\u001b[0m\n",
      "\u001b[32m2024-08-29 20:34:24.585\u001b[0m | \u001b[34m\u001b[1mDEBUG   \u001b[0m | \u001b[36mstochastic_volatility_models.src.core.calibration\u001b[0m:\u001b[36mminimise_cost_function\u001b[0m:\u001b[36m130\u001b[0m - \u001b[34m\u001b[1mCost is 1.2494049944535701 with parameters {'initial_variance': 0.0895791230480412, 'long_term_variance': 0.14681380437857355, 'volatility_of_volatility': 2.6690058100318828, 'mean_reversion_rate': 7.595765840386462, 'wiener_correlation': 0.7264310044570097}\u001b[0m\n",
      "\u001b[32m2024-08-29 20:34:39.430\u001b[0m | \u001b[34m\u001b[1mDEBUG   \u001b[0m | \u001b[36mstochastic_volatility_models.src.core.calibration\u001b[0m:\u001b[36mminimise_cost_function\u001b[0m:\u001b[36m130\u001b[0m - \u001b[34m\u001b[1mCost is 3.1217185532848273 with parameters {'initial_variance': 0.0895791230480412, 'long_term_variance': 0.3521896181909795, 'volatility_of_volatility': 2.52013302485482, 'mean_reversion_rate': 12.285365703408306, 'wiener_correlation': -0.7168299804903475}\u001b[0m\n",
      "\u001b[32m2024-08-29 20:34:54.040\u001b[0m | \u001b[34m\u001b[1mDEBUG   \u001b[0m | \u001b[36mstochastic_volatility_models.src.core.calibration\u001b[0m:\u001b[36mminimise_cost_function\u001b[0m:\u001b[36m130\u001b[0m - \u001b[34m\u001b[1mCost is 0.1672373085342484 with parameters {'initial_variance': 0.0895791230480412, 'long_term_variance': 0.020663138138565462, 'volatility_of_volatility': 2.6744179368426293, 'mean_reversion_rate': 14.934714788644847, 'wiener_correlation': -0.6903153020714696}\u001b[0m\n",
      "\u001b[32m2024-08-29 20:35:09.654\u001b[0m | \u001b[34m\u001b[1mDEBUG   \u001b[0m | \u001b[36mstochastic_volatility_models.src.core.calibration\u001b[0m:\u001b[36mminimise_cost_function\u001b[0m:\u001b[36m130\u001b[0m - \u001b[34m\u001b[1mCost is 0.07581757530490078 with parameters {'initial_variance': 0.0895791230480412, 'long_term_variance': 0.016285123007597102, 'volatility_of_volatility': 2.6791508696470183, 'mean_reversion_rate': 7.622605221894406, 'wiener_correlation': -0.7110873444318022}\u001b[0m\n",
      "\u001b[32m2024-08-29 20:35:25.257\u001b[0m | \u001b[34m\u001b[1mDEBUG   \u001b[0m | \u001b[36mstochastic_volatility_models.src.core.calibration\u001b[0m:\u001b[36mminimise_cost_function\u001b[0m:\u001b[36m130\u001b[0m - \u001b[34m\u001b[1mCost is 0.10570490078826345 with parameters {'initial_variance': 0.0895791230480412, 'long_term_variance': 0.019856197953040056, 'volatility_of_volatility': 2.667557446154163, 'mean_reversion_rate': 7.421432916446415, 'wiener_correlation': 0.3832097577634248}\u001b[0m\n",
      "\u001b[32m2024-08-29 20:35:40.209\u001b[0m | \u001b[34m\u001b[1mDEBUG   \u001b[0m | \u001b[36mstochastic_volatility_models.src.core.calibration\u001b[0m:\u001b[36mminimise_cost_function\u001b[0m:\u001b[36m130\u001b[0m - \u001b[34m\u001b[1mCost is 0.07617873080001773 with parameters {'initial_variance': 0.0895791230480412, 'long_term_variance': 0.013761731981662417, 'volatility_of_volatility': 2.702380343447878, 'mean_reversion_rate': 7.433909742156089, 'wiener_correlation': -0.6804189387365296}\u001b[0m\n",
      "\u001b[32m2024-08-29 20:35:56.166\u001b[0m | \u001b[34m\u001b[1mDEBUG   \u001b[0m | \u001b[36mstochastic_volatility_models.src.core.calibration\u001b[0m:\u001b[36mminimise_cost_function\u001b[0m:\u001b[36m130\u001b[0m - \u001b[34m\u001b[1mCost is 0.08055135558907686 with parameters {'initial_variance': 0.0895791230480412, 'long_term_variance': 0.036331676549045566, 'volatility_of_volatility': 2.663682325607949, 'mean_reversion_rate': 7.701853230424323, 'wiener_correlation': -0.7138837532642901}\u001b[0m\n",
      "\u001b[32m2024-08-29 20:36:09.491\u001b[0m | \u001b[34m\u001b[1mDEBUG   \u001b[0m | \u001b[36mstochastic_volatility_models.src.core.calibration\u001b[0m:\u001b[36mminimise_cost_function\u001b[0m:\u001b[36m130\u001b[0m - \u001b[34m\u001b[1mCost is 2.89569050576466 with parameters {'initial_variance': 0.0895791230480412, 'long_term_variance': 0.4544135763650674, 'volatility_of_volatility': 13.50011987975791, 'mean_reversion_rate': 7.580985202530398, 'wiener_correlation': -0.8984419764101153}\u001b[0m\n",
      "\u001b[32m2024-08-29 20:36:26.028\u001b[0m | \u001b[34m\u001b[1mDEBUG   \u001b[0m | \u001b[36mstochastic_volatility_models.src.core.calibration\u001b[0m:\u001b[36mminimise_cost_function\u001b[0m:\u001b[36m130\u001b[0m - \u001b[34m\u001b[1mCost is 0.1807926369795194 with parameters {'initial_variance': 0.0895791230480412, 'long_term_variance': 0.0466277955414538, 'volatility_of_volatility': 1.3737335386521679, 'mean_reversion_rate': 7.491619659716417, 'wiener_correlation': 0.03044584976457232}\u001b[0m\n",
      "\u001b[32m2024-08-29 20:36:40.389\u001b[0m | \u001b[34m\u001b[1mDEBUG   \u001b[0m | \u001b[36mstochastic_volatility_models.src.core.calibration\u001b[0m:\u001b[36mminimise_cost_function\u001b[0m:\u001b[36m130\u001b[0m - \u001b[34m\u001b[1mCost is 0.12352766109315486 with parameters {'initial_variance': 0.0895791230480412, 'long_term_variance': 0.0023810572260415386, 'volatility_of_volatility': 2.6734220700006714, 'mean_reversion_rate': 9.68260183616573, 'wiener_correlation': -0.7184348513661982}\u001b[0m\n",
      "\u001b[32m2024-08-29 20:36:55.226\u001b[0m | \u001b[34m\u001b[1mDEBUG   \u001b[0m | \u001b[36mstochastic_volatility_models.src.core.calibration\u001b[0m:\u001b[36mminimise_cost_function\u001b[0m:\u001b[36m130\u001b[0m - \u001b[34m\u001b[1mCost is 0.12639662427333254 with parameters {'initial_variance': 0.0895791230480412, 'long_term_variance': 0.01996233340930076, 'volatility_of_volatility': 3.3490375962710273, 'mean_reversion_rate': 7.58834377202284, 'wiener_correlation': -0.6865481150596491}\u001b[0m\n",
      "\u001b[32m2024-08-29 20:37:10.235\u001b[0m | \u001b[34m\u001b[1mDEBUG   \u001b[0m | \u001b[36mstochastic_volatility_models.src.core.calibration\u001b[0m:\u001b[36mminimise_cost_function\u001b[0m:\u001b[36m130\u001b[0m - \u001b[34m\u001b[1mCost is 0.09752857509629287 with parameters {'initial_variance': 0.0895791230480412, 'long_term_variance': 0.01265090900244037, 'volatility_of_volatility': 2.4150869357318685, 'mean_reversion_rate': 7.699627175647679, 'wiener_correlation': -0.8372965874398414}\u001b[0m\n",
      "\u001b[32m2024-08-29 20:37:30.141\u001b[0m | \u001b[34m\u001b[1mDEBUG   \u001b[0m | \u001b[36mstochastic_volatility_models.src.core.calibration\u001b[0m:\u001b[36mminimise_cost_function\u001b[0m:\u001b[36m130\u001b[0m - \u001b[34m\u001b[1mCost is 0.07628859505572973 with parameters {'initial_variance': 0.0895791230480412, 'long_term_variance': 0.02051054287892895, 'volatility_of_volatility': 2.670741347501443, 'mean_reversion_rate': 7.573166149435976, 'wiener_correlation': -0.7371665608021913}\u001b[0m\n",
      "\u001b[32m2024-08-29 20:37:43.154\u001b[0m | \u001b[34m\u001b[1mDEBUG   \u001b[0m | \u001b[36mstochastic_volatility_models.src.core.calibration\u001b[0m:\u001b[36mminimise_cost_function\u001b[0m:\u001b[36m130\u001b[0m - \u001b[34m\u001b[1mCost is 0.07615865214177887 with parameters {'initial_variance': 0.0895791230480412, 'long_term_variance': 0.030958078661048605, 'volatility_of_volatility': 2.9155454553493714, 'mean_reversion_rate': 9.455785488327164, 'wiener_correlation': -0.7162298238450717}\u001b[0m\n",
      "\u001b[32m2024-08-29 20:37:58.866\u001b[0m | \u001b[34m\u001b[1mDEBUG   \u001b[0m | \u001b[36mstochastic_volatility_models.src.core.calibration\u001b[0m:\u001b[36mminimise_cost_function\u001b[0m:\u001b[36m130\u001b[0m - \u001b[34m\u001b[1mCost is 0.0930640954712577 with parameters {'initial_variance': 0.0895791230480412, 'long_term_variance': 0.045893917544954754, 'volatility_of_volatility': 2.5594866821756437, 'mean_reversion_rate': 9.55580792572577, 'wiener_correlation': -0.03063784008054815}\u001b[0m\n",
      "\u001b[32m2024-08-29 20:38:14.201\u001b[0m | \u001b[34m\u001b[1mDEBUG   \u001b[0m | \u001b[36mstochastic_volatility_models.src.core.calibration\u001b[0m:\u001b[36mminimise_cost_function\u001b[0m:\u001b[36m130\u001b[0m - \u001b[34m\u001b[1mCost is 0.08543527176921245 with parameters {'initial_variance': 0.0895791230480412, 'long_term_variance': 0.008544953175364967, 'volatility_of_volatility': 2.671300428031307, 'mean_reversion_rate': 7.5234970332089395, 'wiener_correlation': -0.3069212894352584}\u001b[0m\n",
      "\u001b[32m2024-08-29 20:38:29.052\u001b[0m | \u001b[34m\u001b[1mDEBUG   \u001b[0m | \u001b[36mstochastic_volatility_models.src.core.calibration\u001b[0m:\u001b[36mminimise_cost_function\u001b[0m:\u001b[36m130\u001b[0m - \u001b[34m\u001b[1mCost is 0.13441356216859893 with parameters {'initial_variance': 0.0895791230480412, 'long_term_variance': 0.02091301565913617, 'volatility_of_volatility': 2.669539204959011, 'mean_reversion_rate': 9.79229962608866, 'wiener_correlation': 0.5877814833154562}\u001b[0m\n",
      "\u001b[32m2024-08-29 20:38:44.789\u001b[0m | \u001b[34m\u001b[1mDEBUG   \u001b[0m | \u001b[36mstochastic_volatility_models.src.core.calibration\u001b[0m:\u001b[36mminimise_cost_function\u001b[0m:\u001b[36m130\u001b[0m - \u001b[34m\u001b[1mCost is 0.09889484008938385 with parameters {'initial_variance': 0.0895791230480412, 'long_term_variance': 0.020888393050484733, 'volatility_of_volatility': 2.6045132979257453, 'mean_reversion_rate': 9.418767492228406, 'wiener_correlation': -0.6945686129836327}\u001b[0m\n",
      "\u001b[32m2024-08-29 20:38:59.295\u001b[0m | \u001b[34m\u001b[1mDEBUG   \u001b[0m | \u001b[36mstochastic_volatility_models.src.core.calibration\u001b[0m:\u001b[36mminimise_cost_function\u001b[0m:\u001b[36m130\u001b[0m - \u001b[34m\u001b[1mCost is 0.07616639668312475 with parameters {'initial_variance': 0.0895791230480412, 'long_term_variance': 0.020899008965524213, 'volatility_of_volatility': 2.6675694369714638, 'mean_reversion_rate': 7.6660161522085755, 'wiener_correlation': -0.7120653501762666}\u001b[0m\n",
      "\u001b[32m2024-08-29 20:39:15.023\u001b[0m | \u001b[34m\u001b[1mDEBUG   \u001b[0m | \u001b[36mstochastic_volatility_models.src.core.calibration\u001b[0m:\u001b[36mminimise_cost_function\u001b[0m:\u001b[36m130\u001b[0m - \u001b[34m\u001b[1mCost is 0.5684989852571549 with parameters {'initial_variance': 0.0895791230480412, 'long_term_variance': 0.0018307935715355939, 'volatility_of_volatility': 7.446699879671264, 'mean_reversion_rate': 7.398403775265555, 'wiener_correlation': -0.7074575482082912}\u001b[0m\n",
      "\u001b[32m2024-08-29 20:39:28.494\u001b[0m | \u001b[34m\u001b[1mDEBUG   \u001b[0m | \u001b[36mstochastic_volatility_models.src.core.calibration\u001b[0m:\u001b[36mminimise_cost_function\u001b[0m:\u001b[36m130\u001b[0m - \u001b[34m\u001b[1mCost is 0.12869998500887186 with parameters {'initial_variance': 0.0895791230480412, 'long_term_variance': 0.020629401260790936, 'volatility_of_volatility': 2.4884429030615056, 'mean_reversion_rate': 7.629961957832046, 'wiener_correlation': 0.796910960064013}\u001b[0m\n",
      "\u001b[32m2024-08-29 20:39:42.374\u001b[0m | \u001b[34m\u001b[1mDEBUG   \u001b[0m | \u001b[36mstochastic_volatility_models.src.core.calibration\u001b[0m:\u001b[36mminimise_cost_function\u001b[0m:\u001b[36m130\u001b[0m - \u001b[34m\u001b[1mCost is 1.1546719831987764 with parameters {'initial_variance': 0.0895791230480412, 'long_term_variance': 1.1302784404954722, 'volatility_of_volatility': 12.21416813460786, 'mean_reversion_rate': 14.184274854130305, 'wiener_correlation': 0.4049462253206211}\u001b[0m\n",
      "\u001b[32m2024-08-29 20:39:58.123\u001b[0m | \u001b[34m\u001b[1mDEBUG   \u001b[0m | \u001b[36mstochastic_volatility_models.src.core.calibration\u001b[0m:\u001b[36mminimise_cost_function\u001b[0m:\u001b[36m130\u001b[0m - \u001b[34m\u001b[1mCost is 0.1537467882771356 with parameters {'initial_variance': 0.0895791230480412, 'long_term_variance': 0.03737528035994875, 'volatility_of_volatility': 3.1681191833770317, 'mean_reversion_rate': 7.5561331561268315, 'wiener_correlation': -0.24664085848144734}\u001b[0m\n",
      "\u001b[32m2024-08-29 20:40:13.119\u001b[0m | \u001b[34m\u001b[1mDEBUG   \u001b[0m | \u001b[36mstochastic_volatility_models.src.core.calibration\u001b[0m:\u001b[36mminimise_cost_function\u001b[0m:\u001b[36m130\u001b[0m - \u001b[34m\u001b[1mCost is 1.3251966216382758 with parameters {'initial_variance': 0.0895791230480412, 'long_term_variance': 0.020752347374659807, 'volatility_of_volatility': 10.74301586405613, 'mean_reversion_rate': 9.771299070401344, 'wiener_correlation': 0.9308609438465358}\u001b[0m\n",
      "\u001b[32m2024-08-29 20:40:28.737\u001b[0m | \u001b[34m\u001b[1mDEBUG   \u001b[0m | \u001b[36mstochastic_volatility_models.src.core.calibration\u001b[0m:\u001b[36mminimise_cost_function\u001b[0m:\u001b[36m130\u001b[0m - \u001b[34m\u001b[1mCost is 0.09513342137570834 with parameters {'initial_variance': 0.0895791230480412, 'long_term_variance': 0.020630581975511153, 'volatility_of_volatility': 2.654601357393968, 'mean_reversion_rate': 9.202714540215393, 'wiener_correlation': -0.7033941768922214}\u001b[0m\n",
      "\u001b[32m2024-08-29 20:40:45.409\u001b[0m | \u001b[34m\u001b[1mDEBUG   \u001b[0m | \u001b[36mstochastic_volatility_models.src.core.calibration\u001b[0m:\u001b[36mminimise_cost_function\u001b[0m:\u001b[36m130\u001b[0m - \u001b[34m\u001b[1mCost is 1.3713666025990863 with parameters {'initial_variance': 0.0895791230480412, 'long_term_variance': 0.1533753064982727, 'volatility_of_volatility': 2.673466910092274, 'mean_reversion_rate': 7.674551797581911, 'wiener_correlation': -0.7055331272585971}\u001b[0m\n",
      "\u001b[32m2024-08-29 20:41:00.219\u001b[0m | \u001b[34m\u001b[1mDEBUG   \u001b[0m | \u001b[36mstochastic_volatility_models.src.core.calibration\u001b[0m:\u001b[36mminimise_cost_function\u001b[0m:\u001b[36m130\u001b[0m - \u001b[34m\u001b[1mCost is 1.8122560383247444 with parameters {'initial_variance': 0.0895791230480412, 'long_term_variance': 1.0965401485889332, 'volatility_of_volatility': 2.521096750507695, 'mean_reversion_rate': 7.615882995897883, 'wiener_correlation': 0.2846694594992627}\u001b[0m\n",
      "\u001b[32m2024-08-29 20:41:14.260\u001b[0m | \u001b[34m\u001b[1mDEBUG   \u001b[0m | \u001b[36mstochastic_volatility_models.src.core.calibration\u001b[0m:\u001b[36mminimise_cost_function\u001b[0m:\u001b[36m130\u001b[0m - \u001b[34m\u001b[1mCost is 2.55867468383529 with parameters {'initial_variance': 0.0895791230480412, 'long_term_variance': 0.44285019067920556, 'volatility_of_volatility': 14.427478171206193, 'mean_reversion_rate': 7.624335188850281, 'wiener_correlation': -0.7177064271551865}\u001b[0m\n",
      "\u001b[32m2024-08-29 20:41:28.702\u001b[0m | \u001b[34m\u001b[1mDEBUG   \u001b[0m | \u001b[36mstochastic_volatility_models.src.core.calibration\u001b[0m:\u001b[36mminimise_cost_function\u001b[0m:\u001b[36m130\u001b[0m - \u001b[34m\u001b[1mCost is 0.08618584681213616 with parameters {'initial_variance': 0.0895791230480412, 'long_term_variance': 0.03611296296186173, 'volatility_of_volatility': 2.784516441399866, 'mean_reversion_rate': 10.629144791306516, 'wiener_correlation': -0.7100420410136211}\u001b[0m\n",
      "\u001b[32m2024-08-29 20:41:43.936\u001b[0m | \u001b[34m\u001b[1mDEBUG   \u001b[0m | \u001b[36mstochastic_volatility_models.src.core.calibration\u001b[0m:\u001b[36mminimise_cost_function\u001b[0m:\u001b[36m130\u001b[0m - \u001b[34m\u001b[1mCost is 1.8742809326291903 with parameters {'initial_variance': 0.0895791230480412, 'long_term_variance': 0.996203438774468, 'volatility_of_volatility': 2.668484563133756, 'mean_reversion_rate': 10.33447708504588, 'wiener_correlation': -0.4585166111679103}\u001b[0m\n",
      "\u001b[32m2024-08-29 20:41:58.811\u001b[0m | \u001b[34m\u001b[1mDEBUG   \u001b[0m | \u001b[36mstochastic_volatility_models.src.core.calibration\u001b[0m:\u001b[36mminimise_cost_function\u001b[0m:\u001b[36m130\u001b[0m - \u001b[34m\u001b[1mCost is 0.11875870716814993 with parameters {'initial_variance': 0.0895791230480412, 'long_term_variance': 0.020865862730174656, 'volatility_of_volatility': 2.3904896293960407, 'mean_reversion_rate': 9.639475177867144, 'wiener_correlation': -0.7293393495172322}\u001b[0m\n",
      "\u001b[32m2024-08-29 20:42:16.762\u001b[0m | \u001b[34m\u001b[1mDEBUG   \u001b[0m | \u001b[36mstochastic_volatility_models.src.core.calibration\u001b[0m:\u001b[36mminimise_cost_function\u001b[0m:\u001b[36m130\u001b[0m - \u001b[34m\u001b[1mCost is 0.07649546345978883 with parameters {'initial_variance': 0.0895791230480412, 'long_term_variance': 0.020655209335757818, 'volatility_of_volatility': 2.669914744286058, 'mean_reversion_rate': 7.5728699826879184, 'wiener_correlation': -0.7119188367806222}\u001b[0m\n",
      "\u001b[32m2024-08-29 20:42:30.761\u001b[0m | \u001b[34m\u001b[1mDEBUG   \u001b[0m | \u001b[36mstochastic_volatility_models.src.core.calibration\u001b[0m:\u001b[36mminimise_cost_function\u001b[0m:\u001b[36m130\u001b[0m - \u001b[34m\u001b[1mCost is 0.07540890433019189 with parameters {'initial_variance': 0.0895791230480412, 'long_term_variance': 0.02065521933575782, 'volatility_of_volatility': 2.669914744286058, 'mean_reversion_rate': 7.5728699826879184, 'wiener_correlation': -0.7119188367806222}\u001b[0m\n",
      "\u001b[32m2024-08-29 20:42:45.734\u001b[0m | \u001b[34m\u001b[1mDEBUG   \u001b[0m | \u001b[36mstochastic_volatility_models.src.core.calibration\u001b[0m:\u001b[36mminimise_cost_function\u001b[0m:\u001b[36m130\u001b[0m - \u001b[34m\u001b[1mCost is 0.07537035605416091 with parameters {'initial_variance': 0.0895791230480412, 'long_term_variance': 0.020655209335757818, 'volatility_of_volatility': 2.669914754286058, 'mean_reversion_rate': 7.5728699826879184, 'wiener_correlation': -0.7119188367806222}\u001b[0m\n",
      "\u001b[32m2024-08-29 20:43:00.111\u001b[0m | \u001b[34m\u001b[1mDEBUG   \u001b[0m | \u001b[36mstochastic_volatility_models.src.core.calibration\u001b[0m:\u001b[36mminimise_cost_function\u001b[0m:\u001b[36m130\u001b[0m - \u001b[34m\u001b[1mCost is 0.07634779726678485 with parameters {'initial_variance': 0.0895791230480412, 'long_term_variance': 0.020655209335757818, 'volatility_of_volatility': 2.669914744286058, 'mean_reversion_rate': 7.572869992687918, 'wiener_correlation': -0.7119188367806222}\u001b[0m\n",
      "\u001b[32m2024-08-29 20:43:16.090\u001b[0m | \u001b[34m\u001b[1mDEBUG   \u001b[0m | \u001b[36mstochastic_volatility_models.src.core.calibration\u001b[0m:\u001b[36mminimise_cost_function\u001b[0m:\u001b[36m130\u001b[0m - \u001b[34m\u001b[1mCost is 0.0754816390792937 with parameters {'initial_variance': 0.0895791230480412, 'long_term_variance': 0.020655209335757818, 'volatility_of_volatility': 2.669914744286058, 'mean_reversion_rate': 7.5728699826879184, 'wiener_correlation': -0.7119188267806221}\u001b[0m\n",
      "\u001b[32m2024-08-29 20:43:32.076\u001b[0m | \u001b[34m\u001b[1mDEBUG   \u001b[0m | \u001b[36mstochastic_volatility_models.src.core.calibration\u001b[0m:\u001b[36mminimise_cost_function\u001b[0m:\u001b[36m130\u001b[0m - \u001b[34m\u001b[1mCost is 1.5425423165189505 with parameters {'initial_variance': 0.0895791230480412, 'long_term_variance': 1.2871965312908853, 'volatility_of_volatility': 15.0, 'mean_reversion_rate': 15.0, 'wiener_correlation': 1.0}\u001b[0m\n",
      "\u001b[32m2024-08-29 20:43:48.742\u001b[0m | \u001b[34m\u001b[1mDEBUG   \u001b[0m | \u001b[36mstochastic_volatility_models.src.core.calibration\u001b[0m:\u001b[36mminimise_cost_function\u001b[0m:\u001b[36m130\u001b[0m - \u001b[34m\u001b[1mCost is 1.5041227682523821 with parameters {'initial_variance': 0.0895791230480412, 'long_term_variance': 1.2871965212908854, 'volatility_of_volatility': 15.0, 'mean_reversion_rate': 15.0, 'wiener_correlation': 1.0}\u001b[0m\n",
      "\u001b[32m2024-08-29 20:44:02.974\u001b[0m | \u001b[34m\u001b[1mDEBUG   \u001b[0m | \u001b[36mstochastic_volatility_models.src.core.calibration\u001b[0m:\u001b[36mminimise_cost_function\u001b[0m:\u001b[36m130\u001b[0m - \u001b[34m\u001b[1mCost is 1.4435106152447397 with parameters {'initial_variance': 0.0895791230480412, 'long_term_variance': 1.2871965312908853, 'volatility_of_volatility': 14.99999999, 'mean_reversion_rate': 15.0, 'wiener_correlation': 1.0}\u001b[0m\n",
      "\u001b[32m2024-08-29 20:44:29.363\u001b[0m | \u001b[34m\u001b[1mDEBUG   \u001b[0m | \u001b[36mstochastic_volatility_models.src.core.calibration\u001b[0m:\u001b[36mminimise_cost_function\u001b[0m:\u001b[36m130\u001b[0m - \u001b[34m\u001b[1mCost is 1.4878955144530905 with parameters {'initial_variance': 0.0895791230480412, 'long_term_variance': 1.2871965312908853, 'volatility_of_volatility': 15.0, 'mean_reversion_rate': 14.99999999, 'wiener_correlation': 1.0}\u001b[0m\n",
      "\u001b[32m2024-08-29 20:44:44.180\u001b[0m | \u001b[34m\u001b[1mDEBUG   \u001b[0m | \u001b[36mstochastic_volatility_models.src.core.calibration\u001b[0m:\u001b[36mminimise_cost_function\u001b[0m:\u001b[36m130\u001b[0m - \u001b[34m\u001b[1mCost is 1.5526201989571262 with parameters {'initial_variance': 0.0895791230480412, 'long_term_variance': 1.2871965312908853, 'volatility_of_volatility': 15.0, 'mean_reversion_rate': 15.0, 'wiener_correlation': 0.99999999}\u001b[0m\n",
      "\u001b[32m2024-08-29 20:44:59.357\u001b[0m | \u001b[34m\u001b[1mDEBUG   \u001b[0m | \u001b[36mstochastic_volatility_models.src.core.calibration\u001b[0m:\u001b[36mminimise_cost_function\u001b[0m:\u001b[36m130\u001b[0m - \u001b[34m\u001b[1mCost is 2.2200259100279993 with parameters {'initial_variance': 0.0895791230480412, 'long_term_variance': 0.758316828101771, 'volatility_of_volatility': 9.851228525041758, 'mean_reversion_rate': 11.898594423244454, 'wiener_correlation': 0.2851404762043233}\u001b[0m\n",
      "\u001b[32m2024-08-29 20:45:15.579\u001b[0m | \u001b[34m\u001b[1mDEBUG   \u001b[0m | \u001b[36mstochastic_volatility_models.src.core.calibration\u001b[0m:\u001b[36mminimise_cost_function\u001b[0m:\u001b[36m130\u001b[0m - \u001b[34m\u001b[1mCost is 2.1850125839438364 with parameters {'initial_variance': 0.0895791230480412, 'long_term_variance': 0.7583168381017711, 'volatility_of_volatility': 9.851228525041758, 'mean_reversion_rate': 11.898594423244454, 'wiener_correlation': 0.2851404762043233}\u001b[0m\n",
      "\u001b[32m2024-08-29 20:45:30.660\u001b[0m | \u001b[34m\u001b[1mDEBUG   \u001b[0m | \u001b[36mstochastic_volatility_models.src.core.calibration\u001b[0m:\u001b[36mminimise_cost_function\u001b[0m:\u001b[36m130\u001b[0m - \u001b[34m\u001b[1mCost is 2.2663719462106995 with parameters {'initial_variance': 0.0895791230480412, 'long_term_variance': 0.758316828101771, 'volatility_of_volatility': 9.85122853504176, 'mean_reversion_rate': 11.898594423244454, 'wiener_correlation': 0.2851404762043233}\u001b[0m\n",
      "\u001b[32m2024-08-29 20:45:46.341\u001b[0m | \u001b[34m\u001b[1mDEBUG   \u001b[0m | \u001b[36mstochastic_volatility_models.src.core.calibration\u001b[0m:\u001b[36mminimise_cost_function\u001b[0m:\u001b[36m130\u001b[0m - \u001b[34m\u001b[1mCost is 2.3500980830536213 with parameters {'initial_variance': 0.0895791230480412, 'long_term_variance': 0.758316828101771, 'volatility_of_volatility': 9.851228525041758, 'mean_reversion_rate': 11.898594433244455, 'wiener_correlation': 0.2851404762043233}\u001b[0m\n",
      "\u001b[32m2024-08-29 20:46:00.302\u001b[0m | \u001b[34m\u001b[1mDEBUG   \u001b[0m | \u001b[36mstochastic_volatility_models.src.core.calibration\u001b[0m:\u001b[36mminimise_cost_function\u001b[0m:\u001b[36m130\u001b[0m - \u001b[34m\u001b[1mCost is 2.2632893299835026 with parameters {'initial_variance': 0.0895791230480412, 'long_term_variance': 0.758316828101771, 'volatility_of_volatility': 9.851228525041758, 'mean_reversion_rate': 11.898594423244454, 'wiener_correlation': 0.2851404862043233}\u001b[0m\n",
      "\u001b[32m2024-08-29 20:46:14.901\u001b[0m | \u001b[34m\u001b[1mDEBUG   \u001b[0m | \u001b[36mstochastic_volatility_models.src.core.calibration\u001b[0m:\u001b[36mminimise_cost_function\u001b[0m:\u001b[36m130\u001b[0m - \u001b[34m\u001b[1mCost is 2.9255493688534475 with parameters {'initial_variance': 0.0895791230480412, 'long_term_variance': 0.45024620463828324, 'volatility_of_volatility': 6.8520866997896235, 'mean_reversion_rate': 10.092036251541325, 'wiener_correlation': -0.13126275851349362}\u001b[0m\n",
      "\u001b[32m2024-08-29 20:46:29.443\u001b[0m | \u001b[34m\u001b[1mDEBUG   \u001b[0m | \u001b[36mstochastic_volatility_models.src.core.calibration\u001b[0m:\u001b[36mminimise_cost_function\u001b[0m:\u001b[36m130\u001b[0m - \u001b[34m\u001b[1mCost is 2.901638105491324 with parameters {'initial_variance': 0.0895791230480412, 'long_term_variance': 0.45024621463828324, 'volatility_of_volatility': 6.8520866997896235, 'mean_reversion_rate': 10.092036251541325, 'wiener_correlation': -0.13126275851349362}\u001b[0m\n",
      "\u001b[32m2024-08-29 20:46:45.758\u001b[0m | \u001b[34m\u001b[1mDEBUG   \u001b[0m | \u001b[36mstochastic_volatility_models.src.core.calibration\u001b[0m:\u001b[36mminimise_cost_function\u001b[0m:\u001b[36m130\u001b[0m - \u001b[34m\u001b[1mCost is 2.889371064813013 with parameters {'initial_variance': 0.0895791230480412, 'long_term_variance': 0.45024620463828324, 'volatility_of_volatility': 6.852086709789623, 'mean_reversion_rate': 10.092036251541325, 'wiener_correlation': -0.13126275851349362}\u001b[0m\n",
      "\u001b[32m2024-08-29 20:47:03.180\u001b[0m | \u001b[34m\u001b[1mDEBUG   \u001b[0m | \u001b[36mstochastic_volatility_models.src.core.calibration\u001b[0m:\u001b[36mminimise_cost_function\u001b[0m:\u001b[36m130\u001b[0m - \u001b[34m\u001b[1mCost is 2.8621173818733596 with parameters {'initial_variance': 0.0895791230480412, 'long_term_variance': 0.45024620463828324, 'volatility_of_volatility': 6.8520866997896235, 'mean_reversion_rate': 10.092036261541326, 'wiener_correlation': -0.13126275851349362}\u001b[0m\n",
      "\u001b[32m2024-08-29 20:47:18.668\u001b[0m | \u001b[34m\u001b[1mDEBUG   \u001b[0m | \u001b[36mstochastic_volatility_models.src.core.calibration\u001b[0m:\u001b[36mminimise_cost_function\u001b[0m:\u001b[36m130\u001b[0m - \u001b[34m\u001b[1mCost is 2.9310624732408685 with parameters {'initial_variance': 0.0895791230480412, 'long_term_variance': 0.45024620463828324, 'volatility_of_volatility': 6.8520866997896235, 'mean_reversion_rate': 10.092036251541325, 'wiener_correlation': -0.13126274851349362}\u001b[0m\n",
      "\u001b[32m2024-08-29 20:47:32.690\u001b[0m | \u001b[34m\u001b[1mDEBUG   \u001b[0m | \u001b[36mstochastic_volatility_models.src.core.calibration\u001b[0m:\u001b[36mminimise_cost_function\u001b[0m:\u001b[36m130\u001b[0m - \u001b[34m\u001b[1mCost is 0.07824442447547125 with parameters {'initial_variance': 0.0895791230480412, 'long_term_variance': 0.02469778578907242, 'volatility_of_volatility': 2.7092702011180276, 'mean_reversion_rate': 7.5965760713904515, 'wiener_correlation': -0.7064546938745921}\u001b[0m\n",
      "\u001b[32m2024-08-29 20:47:48.017\u001b[0m | \u001b[34m\u001b[1mDEBUG   \u001b[0m | \u001b[36mstochastic_volatility_models.src.core.calibration\u001b[0m:\u001b[36mminimise_cost_function\u001b[0m:\u001b[36m130\u001b[0m - \u001b[34m\u001b[1mCost is 0.0786232528607455 with parameters {'initial_variance': 0.0895791230480412, 'long_term_variance': 0.02469779578907242, 'volatility_of_volatility': 2.7092702011180276, 'mean_reversion_rate': 7.5965760713904515, 'wiener_correlation': -0.7064546938745921}\u001b[0m\n",
      "\u001b[32m2024-08-29 20:48:03.200\u001b[0m | \u001b[34m\u001b[1mDEBUG   \u001b[0m | \u001b[36mstochastic_volatility_models.src.core.calibration\u001b[0m:\u001b[36mminimise_cost_function\u001b[0m:\u001b[36m130\u001b[0m - \u001b[34m\u001b[1mCost is 0.07851091771889344 with parameters {'initial_variance': 0.0895791230480412, 'long_term_variance': 0.02469778578907242, 'volatility_of_volatility': 2.7092702111180276, 'mean_reversion_rate': 7.5965760713904515, 'wiener_correlation': -0.7064546938745921}\u001b[0m\n",
      "\u001b[32m2024-08-29 20:48:18.322\u001b[0m | \u001b[34m\u001b[1mDEBUG   \u001b[0m | \u001b[36mstochastic_volatility_models.src.core.calibration\u001b[0m:\u001b[36mminimise_cost_function\u001b[0m:\u001b[36m130\u001b[0m - \u001b[34m\u001b[1mCost is 0.07922077024410284 with parameters {'initial_variance': 0.0895791230480412, 'long_term_variance': 0.02469778578907242, 'volatility_of_volatility': 2.7092702011180276, 'mean_reversion_rate': 7.5965760813904515, 'wiener_correlation': -0.7064546938745921}\u001b[0m\n",
      "\u001b[32m2024-08-29 20:48:34.349\u001b[0m | \u001b[34m\u001b[1mDEBUG   \u001b[0m | \u001b[36mstochastic_volatility_models.src.core.calibration\u001b[0m:\u001b[36mminimise_cost_function\u001b[0m:\u001b[36m130\u001b[0m - \u001b[34m\u001b[1mCost is 0.07848090265526142 with parameters {'initial_variance': 0.0895791230480412, 'long_term_variance': 0.02469778578907242, 'volatility_of_volatility': 2.7092702011180276, 'mean_reversion_rate': 7.5965760713904515, 'wiener_correlation': -0.7064546838745921}\u001b[0m\n",
      "\u001b[32m2024-08-29 20:48:51.372\u001b[0m | \u001b[34m\u001b[1mDEBUG   \u001b[0m | \u001b[36mstochastic_volatility_models.src.core.calibration\u001b[0m:\u001b[36mminimise_cost_function\u001b[0m:\u001b[36m130\u001b[0m - \u001b[34m\u001b[1mCost is 0.07544540978280964 with parameters {'initial_variance': 0.0895791230480412, 'long_term_variance': 0.022456489934969914, 'volatility_of_volatility': 2.6874506453835947, 'mean_reversion_rate': 7.583432879433647, 'wiener_correlation': -0.7094841383348118}\u001b[0m\n",
      "\u001b[32m2024-08-29 20:49:04.628\u001b[0m | \u001b[34m\u001b[1mDEBUG   \u001b[0m | \u001b[36mstochastic_volatility_models.src.core.calibration\u001b[0m:\u001b[36mminimise_cost_function\u001b[0m:\u001b[36m130\u001b[0m - \u001b[34m\u001b[1mCost is 0.07643180697945269 with parameters {'initial_variance': 0.0895791230480412, 'long_term_variance': 0.022456499934969915, 'volatility_of_volatility': 2.6874506453835947, 'mean_reversion_rate': 7.583432879433647, 'wiener_correlation': -0.7094841383348118}\u001b[0m\n",
      "\u001b[32m2024-08-29 20:49:18.805\u001b[0m | \u001b[34m\u001b[1mDEBUG   \u001b[0m | \u001b[36mstochastic_volatility_models.src.core.calibration\u001b[0m:\u001b[36mminimise_cost_function\u001b[0m:\u001b[36m130\u001b[0m - \u001b[34m\u001b[1mCost is 0.07633415908219272 with parameters {'initial_variance': 0.0895791230480412, 'long_term_variance': 0.022456489934969914, 'volatility_of_volatility': 2.6874506553835946, 'mean_reversion_rate': 7.583432879433647, 'wiener_correlation': -0.7094841383348118}\u001b[0m\n",
      "\u001b[32m2024-08-29 20:49:33.967\u001b[0m | \u001b[34m\u001b[1mDEBUG   \u001b[0m | \u001b[36mstochastic_volatility_models.src.core.calibration\u001b[0m:\u001b[36mminimise_cost_function\u001b[0m:\u001b[36m130\u001b[0m - \u001b[34m\u001b[1mCost is 0.07614645705906638 with parameters {'initial_variance': 0.0895791230480412, 'long_term_variance': 0.022456489934969914, 'volatility_of_volatility': 2.6874506453835947, 'mean_reversion_rate': 7.583432889433647, 'wiener_correlation': -0.7094841383348118}\u001b[0m\n",
      "\u001b[32m2024-08-29 20:49:49.379\u001b[0m | \u001b[34m\u001b[1mDEBUG   \u001b[0m | \u001b[36mstochastic_volatility_models.src.core.calibration\u001b[0m:\u001b[36mminimise_cost_function\u001b[0m:\u001b[36m130\u001b[0m - \u001b[34m\u001b[1mCost is 0.07565597998861624 with parameters {'initial_variance': 0.0895791230480412, 'long_term_variance': 0.022456489934969914, 'volatility_of_volatility': 2.6874506453835947, 'mean_reversion_rate': 7.583432879433647, 'wiener_correlation': -0.7094841283348118}\u001b[0m\n",
      "\u001b[32m2024-08-29 20:50:05.858\u001b[0m | \u001b[34m\u001b[1mDEBUG   \u001b[0m | \u001b[36mstochastic_volatility_models.src.core.calibration\u001b[0m:\u001b[36mminimise_cost_function\u001b[0m:\u001b[36m130\u001b[0m - \u001b[34m\u001b[1mCost is 0.07578204738724176 with parameters {'initial_variance': 0.0895791230480412, 'long_term_variance': 0.02155109598680015, 'volatility_of_volatility': 2.678636416919491, 'mean_reversion_rate': 7.578123555171281, 'wiener_correlation': -0.7107079128202636}\u001b[0m\n",
      "\u001b[32m2024-08-29 20:50:21.020\u001b[0m | \u001b[34m\u001b[1mDEBUG   \u001b[0m | \u001b[36mstochastic_volatility_models.src.core.calibration\u001b[0m:\u001b[36mminimise_cost_function\u001b[0m:\u001b[36m130\u001b[0m - \u001b[34m\u001b[1mCost is 0.07561720830338482 with parameters {'initial_variance': 0.0895791230480412, 'long_term_variance': 0.021551105986800153, 'volatility_of_volatility': 2.678636416919491, 'mean_reversion_rate': 7.578123555171281, 'wiener_correlation': -0.7107079128202636}\u001b[0m\n",
      "\u001b[32m2024-08-29 20:50:36.148\u001b[0m | \u001b[34m\u001b[1mDEBUG   \u001b[0m | \u001b[36mstochastic_volatility_models.src.core.calibration\u001b[0m:\u001b[36mminimise_cost_function\u001b[0m:\u001b[36m130\u001b[0m - \u001b[34m\u001b[1mCost is 0.07565025261243628 with parameters {'initial_variance': 0.0895791230480412, 'long_term_variance': 0.02155109598680015, 'volatility_of_volatility': 2.678636426919491, 'mean_reversion_rate': 7.578123555171281, 'wiener_correlation': -0.7107079128202636}\u001b[0m\n",
      "\u001b[32m2024-08-29 20:50:49.625\u001b[0m | \u001b[34m\u001b[1mDEBUG   \u001b[0m | \u001b[36mstochastic_volatility_models.src.core.calibration\u001b[0m:\u001b[36mminimise_cost_function\u001b[0m:\u001b[36m130\u001b[0m - \u001b[34m\u001b[1mCost is 0.07598040583219523 with parameters {'initial_variance': 0.0895791230480412, 'long_term_variance': 0.02155109598680015, 'volatility_of_volatility': 2.678636416919491, 'mean_reversion_rate': 7.578123565171281, 'wiener_correlation': -0.7107079128202636}\u001b[0m\n",
      "\u001b[32m2024-08-29 20:51:04.180\u001b[0m | \u001b[34m\u001b[1mDEBUG   \u001b[0m | \u001b[36mstochastic_volatility_models.src.core.calibration\u001b[0m:\u001b[36mminimise_cost_function\u001b[0m:\u001b[36m130\u001b[0m - \u001b[34m\u001b[1mCost is 0.07552123865304848 with parameters {'initial_variance': 0.0895791230480412, 'long_term_variance': 0.02155109598680015, 'volatility_of_volatility': 2.678636416919491, 'mean_reversion_rate': 7.578123555171281, 'wiener_correlation': -0.7107079028202635}\u001b[0m\n",
      "\u001b[32m2024-08-29 20:51:18.543\u001b[0m | \u001b[34m\u001b[1mDEBUG   \u001b[0m | \u001b[36mstochastic_volatility_models.src.core.calibration\u001b[0m:\u001b[36mminimise_cost_function\u001b[0m:\u001b[36m130\u001b[0m - \u001b[34m\u001b[1mCost is 0.07517018946709074 with parameters {'initial_variance': 0.0895791230480412, 'long_term_variance': 0.020946812189852254, 'volatility_of_volatility': 2.672753568404519, 'mean_reversion_rate': 7.574579972147587, 'wiener_correlation': -0.7115246921837347}\u001b[0m\n",
      "\u001b[32m2024-08-29 20:51:34.487\u001b[0m | \u001b[34m\u001b[1mDEBUG   \u001b[0m | \u001b[36mstochastic_volatility_models.src.core.calibration\u001b[0m:\u001b[36mminimise_cost_function\u001b[0m:\u001b[36m130\u001b[0m - \u001b[34m\u001b[1mCost is 0.07513404267123765 with parameters {'initial_variance': 0.0895791230480412, 'long_term_variance': 0.020946822189852256, 'volatility_of_volatility': 2.672753568404519, 'mean_reversion_rate': 7.574579972147587, 'wiener_correlation': -0.7115246921837347}\u001b[0m\n",
      "\u001b[32m2024-08-29 20:51:49.764\u001b[0m | \u001b[34m\u001b[1mDEBUG   \u001b[0m | \u001b[36mstochastic_volatility_models.src.core.calibration\u001b[0m:\u001b[36mminimise_cost_function\u001b[0m:\u001b[36m130\u001b[0m - \u001b[34m\u001b[1mCost is 0.07551664148909709 with parameters {'initial_variance': 0.0895791230480412, 'long_term_variance': 0.020946812189852254, 'volatility_of_volatility': 2.672753578404519, 'mean_reversion_rate': 7.574579972147587, 'wiener_correlation': -0.7115246921837347}\u001b[0m\n",
      "\u001b[32m2024-08-29 20:52:05.883\u001b[0m | \u001b[34m\u001b[1mDEBUG   \u001b[0m | \u001b[36mstochastic_volatility_models.src.core.calibration\u001b[0m:\u001b[36mminimise_cost_function\u001b[0m:\u001b[36m130\u001b[0m - \u001b[34m\u001b[1mCost is 0.07648364227780592 with parameters {'initial_variance': 0.0895791230480412, 'long_term_variance': 0.020946812189852254, 'volatility_of_volatility': 2.672753568404519, 'mean_reversion_rate': 7.574579982147587, 'wiener_correlation': -0.7115246921837347}\u001b[0m\n",
      "\u001b[32m2024-08-29 20:52:18.885\u001b[0m | \u001b[34m\u001b[1mDEBUG   \u001b[0m | \u001b[36mstochastic_volatility_models.src.core.calibration\u001b[0m:\u001b[36mminimise_cost_function\u001b[0m:\u001b[36m130\u001b[0m - \u001b[34m\u001b[1mCost is 0.07529082424750219 with parameters {'initial_variance': 0.0895791230480412, 'long_term_variance': 0.020946812189852254, 'volatility_of_volatility': 2.672753568404519, 'mean_reversion_rate': 7.574579972147587, 'wiener_correlation': -0.7115246821837347}\u001b[0m\n",
      "\u001b[32m2024-08-29 20:52:34.027\u001b[0m | \u001b[34m\u001b[1mDEBUG   \u001b[0m | \u001b[36mstochastic_volatility_models.src.core.calibration\u001b[0m:\u001b[36mminimise_cost_function\u001b[0m:\u001b[36m130\u001b[0m - \u001b[34m\u001b[1mCost is 0.07612543965255132 with parameters {'initial_variance': 0.0895791230480412, 'long_term_variance': 0.02079214964312595, 'volatility_of_volatility': 2.671247891207934, 'mean_reversion_rate': 7.5736730148905025, 'wiener_correlation': -0.7117337416024119}\u001b[0m\n",
      "\u001b[32m2024-08-29 20:52:49.420\u001b[0m | \u001b[34m\u001b[1mDEBUG   \u001b[0m | \u001b[36mstochastic_volatility_models.src.core.calibration\u001b[0m:\u001b[36mminimise_cost_function\u001b[0m:\u001b[36m130\u001b[0m - \u001b[34m\u001b[1mCost is 0.07521041818893641 with parameters {'initial_variance': 0.0895791230480412, 'long_term_variance': 0.020792159643125953, 'volatility_of_volatility': 2.671247891207934, 'mean_reversion_rate': 7.5736730148905025, 'wiener_correlation': -0.7117337416024119}\u001b[0m\n",
      "\u001b[32m2024-08-29 20:53:04.809\u001b[0m | \u001b[34m\u001b[1mDEBUG   \u001b[0m | \u001b[36mstochastic_volatility_models.src.core.calibration\u001b[0m:\u001b[36mminimise_cost_function\u001b[0m:\u001b[36m130\u001b[0m - \u001b[34m\u001b[1mCost is 0.07555576052937896 with parameters {'initial_variance': 0.0895791230480412, 'long_term_variance': 0.02079214964312595, 'volatility_of_volatility': 2.6712479012079338, 'mean_reversion_rate': 7.5736730148905025, 'wiener_correlation': -0.7117337416024119}\u001b[0m\n",
      "\u001b[32m2024-08-29 20:53:20.167\u001b[0m | \u001b[34m\u001b[1mDEBUG   \u001b[0m | \u001b[36mstochastic_volatility_models.src.core.calibration\u001b[0m:\u001b[36mminimise_cost_function\u001b[0m:\u001b[36m130\u001b[0m - \u001b[34m\u001b[1mCost is 0.07503762541161235 with parameters {'initial_variance': 0.0895791230480412, 'long_term_variance': 0.02079214964312595, 'volatility_of_volatility': 2.671247891207934, 'mean_reversion_rate': 7.573673024890502, 'wiener_correlation': -0.7117337416024119}\u001b[0m\n",
      "\u001b[32m2024-08-29 20:53:35.083\u001b[0m | \u001b[34m\u001b[1mDEBUG   \u001b[0m | \u001b[36mstochastic_volatility_models.src.core.calibration\u001b[0m:\u001b[36mminimise_cost_function\u001b[0m:\u001b[36m130\u001b[0m - \u001b[34m\u001b[1mCost is 0.07664324063593707 with parameters {'initial_variance': 0.0895791230480412, 'long_term_variance': 0.02079214964312595, 'volatility_of_volatility': 2.671247891207934, 'mean_reversion_rate': 7.5736730148905025, 'wiener_correlation': -0.7117337316024118}\u001b[0m\n",
      "\u001b[32m2024-08-29 20:53:49.667\u001b[0m | \u001b[34m\u001b[1mDEBUG   \u001b[0m | \u001b[36mstochastic_volatility_models.src.core.calibration\u001b[0m:\u001b[36mminimise_cost_function\u001b[0m:\u001b[36m130\u001b[0m - \u001b[34m\u001b[1mCost is 0.07520257076287098 with parameters {'initial_variance': 0.0895791230480412, 'long_term_variance': 0.02068590797268867, 'volatility_of_volatility': 2.6702136029210113, 'mean_reversion_rate': 7.573050002687177, 'wiener_correlation': -0.7118773430102142}\u001b[0m\n",
      "\u001b[32m2024-08-29 20:54:05.757\u001b[0m | \u001b[34m\u001b[1mDEBUG   \u001b[0m | \u001b[36mstochastic_volatility_models.src.core.calibration\u001b[0m:\u001b[36mminimise_cost_function\u001b[0m:\u001b[36m130\u001b[0m - \u001b[34m\u001b[1mCost is 0.07491730309798775 with parameters {'initial_variance': 0.0895791230480412, 'long_term_variance': 0.02068591797268867, 'volatility_of_volatility': 2.6702136029210113, 'mean_reversion_rate': 7.573050002687177, 'wiener_correlation': -0.7118773430102142}\u001b[0m\n",
      "\u001b[32m2024-08-29 20:54:19.993\u001b[0m | \u001b[34m\u001b[1mDEBUG   \u001b[0m | \u001b[36mstochastic_volatility_models.src.core.calibration\u001b[0m:\u001b[36mminimise_cost_function\u001b[0m:\u001b[36m130\u001b[0m - \u001b[34m\u001b[1mCost is 0.07584499783941841 with parameters {'initial_variance': 0.0895791230480412, 'long_term_variance': 0.02068590797268867, 'volatility_of_volatility': 2.6702136129210112, 'mean_reversion_rate': 7.573050002687177, 'wiener_correlation': -0.7118773430102142}\u001b[0m\n",
      "\u001b[32m2024-08-29 20:54:34.798\u001b[0m | \u001b[34m\u001b[1mDEBUG   \u001b[0m | \u001b[36mstochastic_volatility_models.src.core.calibration\u001b[0m:\u001b[36mminimise_cost_function\u001b[0m:\u001b[36m130\u001b[0m - \u001b[34m\u001b[1mCost is 0.07616983678021863 with parameters {'initial_variance': 0.0895791230480412, 'long_term_variance': 0.02068590797268867, 'volatility_of_volatility': 2.6702136029210113, 'mean_reversion_rate': 7.573050012687177, 'wiener_correlation': -0.7118773430102142}\u001b[0m\n",
      "\u001b[32m2024-08-29 20:54:49.679\u001b[0m | \u001b[34m\u001b[1mDEBUG   \u001b[0m | \u001b[36mstochastic_volatility_models.src.core.calibration\u001b[0m:\u001b[36mminimise_cost_function\u001b[0m:\u001b[36m130\u001b[0m - \u001b[34m\u001b[1mCost is 0.0753884534608901 with parameters {'initial_variance': 0.0895791230480412, 'long_term_variance': 0.02068590797268867, 'volatility_of_volatility': 2.6702136029210113, 'mean_reversion_rate': 7.573050002687177, 'wiener_correlation': -0.7118773330102142}\u001b[0m\n",
      "\u001b[32m2024-08-29 20:55:04.843\u001b[0m | \u001b[34m\u001b[1mDEBUG   \u001b[0m | \u001b[36mstochastic_volatility_models.src.core.calibration\u001b[0m:\u001b[36mminimise_cost_function\u001b[0m:\u001b[36m130\u001b[0m - \u001b[34m\u001b[1mCost is 0.07640767797625653 with parameters {'initial_variance': 0.0895791230480412, 'long_term_variance': 0.02066984804752091, 'volatility_of_volatility': 2.670057255675891, 'mean_reversion_rate': 7.572955825615951, 'wiener_correlation': -0.7118990503859906}\u001b[0m\n",
      "\u001b[32m2024-08-29 20:55:20.390\u001b[0m | \u001b[34m\u001b[1mDEBUG   \u001b[0m | \u001b[36mstochastic_volatility_models.src.core.calibration\u001b[0m:\u001b[36mminimise_cost_function\u001b[0m:\u001b[36m130\u001b[0m - \u001b[34m\u001b[1mCost is 0.07531611314209381 with parameters {'initial_variance': 0.0895791230480412, 'long_term_variance': 0.02066985804752091, 'volatility_of_volatility': 2.670057255675891, 'mean_reversion_rate': 7.572955825615951, 'wiener_correlation': -0.7118990503859906}\u001b[0m\n",
      "\u001b[32m2024-08-29 20:55:36.067\u001b[0m | \u001b[34m\u001b[1mDEBUG   \u001b[0m | \u001b[36mstochastic_volatility_models.src.core.calibration\u001b[0m:\u001b[36mminimise_cost_function\u001b[0m:\u001b[36m130\u001b[0m - \u001b[34m\u001b[1mCost is 0.07663419860054678 with parameters {'initial_variance': 0.0895791230480412, 'long_term_variance': 0.02066984804752091, 'volatility_of_volatility': 2.670057265675891, 'mean_reversion_rate': 7.572955825615951, 'wiener_correlation': -0.7118990503859906}\u001b[0m\n",
      "\u001b[32m2024-08-29 20:55:49.943\u001b[0m | \u001b[34m\u001b[1mDEBUG   \u001b[0m | \u001b[36mstochastic_volatility_models.src.core.calibration\u001b[0m:\u001b[36mminimise_cost_function\u001b[0m:\u001b[36m130\u001b[0m - \u001b[34m\u001b[1mCost is 0.07571832168394173 with parameters {'initial_variance': 0.0895791230480412, 'long_term_variance': 0.02066984804752091, 'volatility_of_volatility': 2.670057255675891, 'mean_reversion_rate': 7.572955835615951, 'wiener_correlation': -0.7118990503859906}\u001b[0m\n",
      "\u001b[32m2024-08-29 20:56:04.892\u001b[0m | \u001b[34m\u001b[1mDEBUG   \u001b[0m | \u001b[36mstochastic_volatility_models.src.core.calibration\u001b[0m:\u001b[36mminimise_cost_function\u001b[0m:\u001b[36m130\u001b[0m - \u001b[34m\u001b[1mCost is 0.07496570072548078 with parameters {'initial_variance': 0.0895791230480412, 'long_term_variance': 0.02066984804752091, 'volatility_of_volatility': 2.670057255675891, 'mean_reversion_rate': 7.572955825615951, 'wiener_correlation': -0.7118990403859905}\u001b[0m\n",
      "\u001b[32m2024-08-29 20:56:19.379\u001b[0m | \u001b[34m\u001b[1mDEBUG   \u001b[0m | \u001b[36mstochastic_volatility_models.src.core.calibration\u001b[0m:\u001b[36mminimise_cost_function\u001b[0m:\u001b[36m130\u001b[0m - \u001b[34m\u001b[1mCost is 0.07547229325447184 with parameters {'initial_variance': 0.0895791230480412, 'long_term_variance': 0.020659327665019107, 'volatility_of_volatility': 2.669954837214747, 'mean_reversion_rate': 7.5728941329989645, 'wiener_correlation': -0.7119132702465374}\u001b[0m\n",
      "\u001b[32m2024-08-29 20:56:35.769\u001b[0m | \u001b[34m\u001b[1mDEBUG   \u001b[0m | \u001b[36mstochastic_volatility_models.src.core.calibration\u001b[0m:\u001b[36mminimise_cost_function\u001b[0m:\u001b[36m130\u001b[0m - \u001b[34m\u001b[1mCost is 0.07649761335676168 with parameters {'initial_variance': 0.0895791230480412, 'long_term_variance': 0.02065933766501911, 'volatility_of_volatility': 2.669954837214747, 'mean_reversion_rate': 7.5728941329989645, 'wiener_correlation': -0.7119132702465374}\u001b[0m\n",
      "\u001b[32m2024-08-29 20:56:55.023\u001b[0m | \u001b[34m\u001b[1mDEBUG   \u001b[0m | \u001b[36mstochastic_volatility_models.src.core.calibration\u001b[0m:\u001b[36mminimise_cost_function\u001b[0m:\u001b[36m130\u001b[0m - \u001b[34m\u001b[1mCost is 0.07528342891716594 with parameters {'initial_variance': 0.0895791230480412, 'long_term_variance': 0.020659327665019107, 'volatility_of_volatility': 2.669954847214747, 'mean_reversion_rate': 7.5728941329989645, 'wiener_correlation': -0.7119132702465374}\u001b[0m\n",
      "\u001b[32m2024-08-29 20:57:08.361\u001b[0m | \u001b[34m\u001b[1mDEBUG   \u001b[0m | \u001b[36mstochastic_volatility_models.src.core.calibration\u001b[0m:\u001b[36mminimise_cost_function\u001b[0m:\u001b[36m130\u001b[0m - \u001b[34m\u001b[1mCost is 0.07651040622845627 with parameters {'initial_variance': 0.0895791230480412, 'long_term_variance': 0.020659327665019107, 'volatility_of_volatility': 2.669954837214747, 'mean_reversion_rate': 7.5728941429989645, 'wiener_correlation': -0.7119132702465374}\u001b[0m\n",
      "\u001b[32m2024-08-29 20:57:23.772\u001b[0m | \u001b[34m\u001b[1mDEBUG   \u001b[0m | \u001b[36mstochastic_volatility_models.src.core.calibration\u001b[0m:\u001b[36mminimise_cost_function\u001b[0m:\u001b[36m130\u001b[0m - \u001b[34m\u001b[1mCost is 0.07590942513742022 with parameters {'initial_variance': 0.0895791230480412, 'long_term_variance': 0.020659327665019107, 'volatility_of_volatility': 2.669954837214747, 'mean_reversion_rate': 7.5728941329989645, 'wiener_correlation': -0.7119132602465373}\u001b[0m\n",
      "\u001b[32m2024-08-29 20:57:39.158\u001b[0m | \u001b[34m\u001b[1mDEBUG   \u001b[0m | \u001b[36mstochastic_volatility_models.src.core.calibration\u001b[0m:\u001b[36mminimise_cost_function\u001b[0m:\u001b[36m130\u001b[0m - \u001b[34m\u001b[1mCost is 0.07606085888791321 with parameters {'initial_variance': 0.0895791230480412, 'long_term_variance': 0.020656881844476224, 'volatility_of_volatility': 2.6699310265618363, 'mean_reversion_rate': 7.572879790452965, 'wiener_correlation': -0.711916576136512}\u001b[0m\n",
      "\u001b[32m2024-08-29 20:57:54.927\u001b[0m | \u001b[34m\u001b[1mDEBUG   \u001b[0m | \u001b[36mstochastic_volatility_models.src.core.calibration\u001b[0m:\u001b[36mminimise_cost_function\u001b[0m:\u001b[36m130\u001b[0m - \u001b[34m\u001b[1mCost is 0.07624477387076851 with parameters {'initial_variance': 0.0895791230480412, 'long_term_variance': 0.020656891844476225, 'volatility_of_volatility': 2.6699310265618363, 'mean_reversion_rate': 7.572879790452965, 'wiener_correlation': -0.711916576136512}\u001b[0m\n",
      "\u001b[32m2024-08-29 20:58:10.287\u001b[0m | \u001b[34m\u001b[1mDEBUG   \u001b[0m | \u001b[36mstochastic_volatility_models.src.core.calibration\u001b[0m:\u001b[36mminimise_cost_function\u001b[0m:\u001b[36m130\u001b[0m - \u001b[34m\u001b[1mCost is 0.07659041435493764 with parameters {'initial_variance': 0.0895791230480412, 'long_term_variance': 0.020656881844476224, 'volatility_of_volatility': 2.6699310365618363, 'mean_reversion_rate': 7.572879790452965, 'wiener_correlation': -0.711916576136512}\u001b[0m\n",
      "\u001b[32m2024-08-29 20:58:29.397\u001b[0m | \u001b[34m\u001b[1mDEBUG   \u001b[0m | \u001b[36mstochastic_volatility_models.src.core.calibration\u001b[0m:\u001b[36mminimise_cost_function\u001b[0m:\u001b[36m130\u001b[0m - \u001b[34m\u001b[1mCost is 0.07640674606086015 with parameters {'initial_variance': 0.0895791230480412, 'long_term_variance': 0.020656881844476224, 'volatility_of_volatility': 2.6699310265618363, 'mean_reversion_rate': 7.572879800452965, 'wiener_correlation': -0.711916576136512}\u001b[0m\n",
      "\u001b[32m2024-08-29 20:58:43.985\u001b[0m | \u001b[34m\u001b[1mDEBUG   \u001b[0m | \u001b[36mstochastic_volatility_models.src.core.calibration\u001b[0m:\u001b[36mminimise_cost_function\u001b[0m:\u001b[36m130\u001b[0m - \u001b[34m\u001b[1mCost is 0.07568181177283306 with parameters {'initial_variance': 0.0895791230480412, 'long_term_variance': 0.020656881844476224, 'volatility_of_volatility': 2.6699310265618363, 'mean_reversion_rate': 7.572879790452965, 'wiener_correlation': -0.711916566136512}\u001b[0m\n",
      "\u001b[32m2024-08-29 20:58:59.043\u001b[0m | \u001b[34m\u001b[1mDEBUG   \u001b[0m | \u001b[36mstochastic_volatility_models.src.core.calibration\u001b[0m:\u001b[36mminimise_cost_function\u001b[0m:\u001b[36m130\u001b[0m - \u001b[34m\u001b[1mCost is 0.07498509316522212 with parameters {'initial_variance': 0.0895791230480412, 'long_term_variance': 0.020655909577623498, 'volatility_of_volatility': 2.669921561309517, 'mean_reversion_rate': 7.572874088979035, 'wiener_correlation': -0.711917890299667}\u001b[0m\n",
      "\u001b[32m2024-08-29 20:59:13.884\u001b[0m | \u001b[34m\u001b[1mDEBUG   \u001b[0m | \u001b[36mstochastic_volatility_models.src.core.calibration\u001b[0m:\u001b[36mminimise_cost_function\u001b[0m:\u001b[36m130\u001b[0m - \u001b[34m\u001b[1mCost is 0.0765340226997827 with parameters {'initial_variance': 0.0895791230480412, 'long_term_variance': 0.0206559195776235, 'volatility_of_volatility': 2.669921561309517, 'mean_reversion_rate': 7.572874088979035, 'wiener_correlation': -0.711917890299667}\u001b[0m\n",
      "\u001b[32m2024-08-29 20:59:28.776\u001b[0m | \u001b[34m\u001b[1mDEBUG   \u001b[0m | \u001b[36mstochastic_volatility_models.src.core.calibration\u001b[0m:\u001b[36mminimise_cost_function\u001b[0m:\u001b[36m130\u001b[0m - \u001b[34m\u001b[1mCost is 0.07598328307162061 with parameters {'initial_variance': 0.0895791230480412, 'long_term_variance': 0.020655909577623498, 'volatility_of_volatility': 2.669921571309517, 'mean_reversion_rate': 7.572874088979035, 'wiener_correlation': -0.711917890299667}\u001b[0m\n",
      "\u001b[32m2024-08-29 20:59:44.788\u001b[0m | \u001b[34m\u001b[1mDEBUG   \u001b[0m | \u001b[36mstochastic_volatility_models.src.core.calibration\u001b[0m:\u001b[36mminimise_cost_function\u001b[0m:\u001b[36m130\u001b[0m - \u001b[34m\u001b[1mCost is 0.07653669775006418 with parameters {'initial_variance': 0.0895791230480412, 'long_term_variance': 0.020655909577623498, 'volatility_of_volatility': 2.669921561309517, 'mean_reversion_rate': 7.572874098979035, 'wiener_correlation': -0.711917890299667}\u001b[0m\n",
      "\u001b[32m2024-08-29 21:00:01.755\u001b[0m | \u001b[34m\u001b[1mDEBUG   \u001b[0m | \u001b[36mstochastic_volatility_models.src.core.calibration\u001b[0m:\u001b[36mminimise_cost_function\u001b[0m:\u001b[36m130\u001b[0m - \u001b[34m\u001b[1mCost is 0.07628076286997885 with parameters {'initial_variance': 0.0895791230480412, 'long_term_variance': 0.020655909577623498, 'volatility_of_volatility': 2.669921561309517, 'mean_reversion_rate': 7.572874088979035, 'wiener_correlation': -0.711917880299667}\u001b[0m\n",
      "\u001b[32m2024-08-29 21:00:17.053\u001b[0m | \u001b[34m\u001b[1mDEBUG   \u001b[0m | \u001b[36mstochastic_volatility_models.src.core.calibration\u001b[0m:\u001b[36mminimise_cost_function\u001b[0m:\u001b[36m130\u001b[0m - \u001b[34m\u001b[1mCost is 0.0763374784192243 with parameters {'initial_variance': 0.0895791230480412, 'long_term_variance': 0.02065548402502696, 'volatility_of_volatility': 2.6699174184523473, 'mean_reversion_rate': 7.572871593494357, 'wiener_correlation': -0.7119184654972491}\u001b[0m\n",
      "\u001b[32m2024-08-29 21:00:31.670\u001b[0m | \u001b[34m\u001b[1mDEBUG   \u001b[0m | \u001b[36mstochastic_volatility_models.src.core.calibration\u001b[0m:\u001b[36mminimise_cost_function\u001b[0m:\u001b[36m130\u001b[0m - \u001b[34m\u001b[1mCost is 0.07652985922502065 with parameters {'initial_variance': 0.0895791230480412, 'long_term_variance': 0.020655494025026963, 'volatility_of_volatility': 2.6699174184523473, 'mean_reversion_rate': 7.572871593494357, 'wiener_correlation': -0.7119184654972491}\u001b[0m\n",
      "\u001b[32m2024-08-29 21:00:45.351\u001b[0m | \u001b[34m\u001b[1mDEBUG   \u001b[0m | \u001b[36mstochastic_volatility_models.src.core.calibration\u001b[0m:\u001b[36mminimise_cost_function\u001b[0m:\u001b[36m130\u001b[0m - \u001b[34m\u001b[1mCost is 0.0752875541583343 with parameters {'initial_variance': 0.0895791230480412, 'long_term_variance': 0.02065548402502696, 'volatility_of_volatility': 2.6699174284523473, 'mean_reversion_rate': 7.572871593494357, 'wiener_correlation': -0.7119184654972491}\u001b[0m\n",
      "\u001b[32m2024-08-29 21:01:00.275\u001b[0m | \u001b[34m\u001b[1mDEBUG   \u001b[0m | \u001b[36mstochastic_volatility_models.src.core.calibration\u001b[0m:\u001b[36mminimise_cost_function\u001b[0m:\u001b[36m130\u001b[0m - \u001b[34m\u001b[1mCost is 0.07634898584427326 with parameters {'initial_variance': 0.0895791230480412, 'long_term_variance': 0.02065548402502696, 'volatility_of_volatility': 2.6699174184523473, 'mean_reversion_rate': 7.572871603494357, 'wiener_correlation': -0.7119184654972491}\u001b[0m\n",
      "\u001b[32m2024-08-29 21:01:14.813\u001b[0m | \u001b[34m\u001b[1mDEBUG   \u001b[0m | \u001b[36mstochastic_volatility_models.src.core.calibration\u001b[0m:\u001b[36mminimise_cost_function\u001b[0m:\u001b[36m130\u001b[0m - \u001b[34m\u001b[1mCost is 0.0753786505424827 with parameters {'initial_variance': 0.0895791230480412, 'long_term_variance': 0.02065548402502696, 'volatility_of_volatility': 2.6699174184523473, 'mean_reversion_rate': 7.572871593494357, 'wiener_correlation': -0.7119184554972491}\u001b[0m\n",
      "\u001b[32m2024-08-29 21:01:31.217\u001b[0m | \u001b[34m\u001b[1mDEBUG   \u001b[0m | \u001b[36mstochastic_volatility_models.src.core.calibration\u001b[0m:\u001b[36mminimise_cost_function\u001b[0m:\u001b[36m130\u001b[0m - \u001b[34m\u001b[1mCost is 0.07645024329172712 with parameters {'initial_variance': 0.0895791230480412, 'long_term_variance': 0.020655729551028755, 'volatility_of_volatility': 2.669919808707195, 'mean_reversion_rate': 7.572873033284363, 'wiener_correlation': -0.7119181336323663}\u001b[0m\n",
      "\u001b[32m2024-08-29 21:01:49.919\u001b[0m | \u001b[34m\u001b[1mDEBUG   \u001b[0m | \u001b[36mstochastic_volatility_models.src.core.calibration\u001b[0m:\u001b[36mminimise_cost_function\u001b[0m:\u001b[36m130\u001b[0m - \u001b[34m\u001b[1mCost is 0.07549919397377382 with parameters {'initial_variance': 0.0895791230480412, 'long_term_variance': 0.020655739551028757, 'volatility_of_volatility': 2.669919808707195, 'mean_reversion_rate': 7.572873033284363, 'wiener_correlation': -0.7119181336323663}\u001b[0m\n",
      "\u001b[32m2024-08-29 21:02:03.583\u001b[0m | \u001b[34m\u001b[1mDEBUG   \u001b[0m | \u001b[36mstochastic_volatility_models.src.core.calibration\u001b[0m:\u001b[36mminimise_cost_function\u001b[0m:\u001b[36m130\u001b[0m - \u001b[34m\u001b[1mCost is 0.07504694966054691 with parameters {'initial_variance': 0.0895791230480412, 'long_term_variance': 0.020655729551028755, 'volatility_of_volatility': 2.669919818707195, 'mean_reversion_rate': 7.572873033284363, 'wiener_correlation': -0.7119181336323663}\u001b[0m\n",
      "\u001b[32m2024-08-29 21:02:17.875\u001b[0m | \u001b[34m\u001b[1mDEBUG   \u001b[0m | \u001b[36mstochastic_volatility_models.src.core.calibration\u001b[0m:\u001b[36mminimise_cost_function\u001b[0m:\u001b[36m130\u001b[0m - \u001b[34m\u001b[1mCost is 0.07651705860869559 with parameters {'initial_variance': 0.0895791230480412, 'long_term_variance': 0.020655729551028755, 'volatility_of_volatility': 2.669919808707195, 'mean_reversion_rate': 7.572873043284363, 'wiener_correlation': -0.7119181336323663}\u001b[0m\n",
      "\u001b[32m2024-08-29 21:02:31.486\u001b[0m | \u001b[34m\u001b[1mDEBUG   \u001b[0m | \u001b[36mstochastic_volatility_models.src.core.calibration\u001b[0m:\u001b[36mminimise_cost_function\u001b[0m:\u001b[36m130\u001b[0m - \u001b[34m\u001b[1mCost is 0.07535118803243246 with parameters {'initial_variance': 0.0895791230480412, 'long_term_variance': 0.020655729551028755, 'volatility_of_volatility': 2.669919808707195, 'mean_reversion_rate': 7.572873033284363, 'wiener_correlation': -0.7119181236323663}\u001b[0m\n",
      "\u001b[32m2024-08-29 21:02:46.310\u001b[0m | \u001b[34m\u001b[1mDEBUG   \u001b[0m | \u001b[36mstochastic_volatility_models.src.core.calibration\u001b[0m:\u001b[36mminimise_cost_function\u001b[0m:\u001b[36m130\u001b[0m - \u001b[34m\u001b[1mCost is 0.07623915539292721 with parameters {'initial_variance': 0.0895791230480412, 'long_term_variance': 0.020655827586983606, 'volatility_of_volatility': 2.6699207631108615, 'mean_reversion_rate': 7.572873608177398, 'wiener_correlation': -0.7119180011222027}\u001b[0m\n",
      "\u001b[32m2024-08-29 21:03:04.251\u001b[0m | \u001b[34m\u001b[1mDEBUG   \u001b[0m | \u001b[36mstochastic_volatility_models.src.core.calibration\u001b[0m:\u001b[36mminimise_cost_function\u001b[0m:\u001b[36m130\u001b[0m - \u001b[34m\u001b[1mCost is 0.07634583934645528 with parameters {'initial_variance': 0.0895791230480412, 'long_term_variance': 0.020655837586983607, 'volatility_of_volatility': 2.6699207631108615, 'mean_reversion_rate': 7.572873608177398, 'wiener_correlation': -0.7119180011222027}\u001b[0m\n",
      "\u001b[32m2024-08-29 21:03:19.027\u001b[0m | \u001b[34m\u001b[1mDEBUG   \u001b[0m | \u001b[36mstochastic_volatility_models.src.core.calibration\u001b[0m:\u001b[36mminimise_cost_function\u001b[0m:\u001b[36m130\u001b[0m - \u001b[34m\u001b[1mCost is 0.07534523176310906 with parameters {'initial_variance': 0.0895791230480412, 'long_term_variance': 0.020655827586983606, 'volatility_of_volatility': 2.6699207731108614, 'mean_reversion_rate': 7.572873608177398, 'wiener_correlation': -0.7119180011222027}\u001b[0m\n",
      "\u001b[32m2024-08-29 21:03:34.322\u001b[0m | \u001b[34m\u001b[1mDEBUG   \u001b[0m | \u001b[36mstochastic_volatility_models.src.core.calibration\u001b[0m:\u001b[36mminimise_cost_function\u001b[0m:\u001b[36m130\u001b[0m - \u001b[34m\u001b[1mCost is 0.07676044783462128 with parameters {'initial_variance': 0.0895791230480412, 'long_term_variance': 0.020655827586983606, 'volatility_of_volatility': 2.6699207631108615, 'mean_reversion_rate': 7.572873618177398, 'wiener_correlation': -0.7119180011222027}\u001b[0m\n",
      "\u001b[32m2024-08-29 21:03:48.726\u001b[0m | \u001b[34m\u001b[1mDEBUG   \u001b[0m | \u001b[36mstochastic_volatility_models.src.core.calibration\u001b[0m:\u001b[36mminimise_cost_function\u001b[0m:\u001b[36m130\u001b[0m - \u001b[34m\u001b[1mCost is 0.07612309730286136 with parameters {'initial_variance': 0.0895791230480412, 'long_term_variance': 0.020655827586983606, 'volatility_of_volatility': 2.6699207631108615, 'mean_reversion_rate': 7.572873608177398, 'wiener_correlation': -0.7119179911222027}\u001b[0m\n",
      "\u001b[32m2024-08-29 21:04:04.044\u001b[0m | \u001b[34m\u001b[1mDEBUG   \u001b[0m | \u001b[36mstochastic_volatility_models.src.core.calibration\u001b[0m:\u001b[36mminimise_cost_function\u001b[0m:\u001b[36m130\u001b[0m - \u001b[34m\u001b[1mCost is 0.07521796054056942 with parameters {'initial_variance': 0.0895791230480412, 'long_term_variance': 0.020655878981137406, 'volatility_of_volatility': 2.669921263445345, 'mean_reversion_rate': 7.5728739095580595, 'wiener_correlation': -0.7119179316553654}\u001b[0m\n",
      "\u001b[32m2024-08-29 21:04:18.998\u001b[0m | \u001b[34m\u001b[1mDEBUG   \u001b[0m | \u001b[36mstochastic_volatility_models.src.core.calibration\u001b[0m:\u001b[36mminimise_cost_function\u001b[0m:\u001b[36m130\u001b[0m - \u001b[34m\u001b[1mCost is 0.07629486871028106 with parameters {'initial_variance': 0.0895791230480412, 'long_term_variance': 0.020655888981137408, 'volatility_of_volatility': 2.669921263445345, 'mean_reversion_rate': 7.5728739095580595, 'wiener_correlation': -0.7119179316553654}\u001b[0m\n",
      "\u001b[32m2024-08-29 21:04:35.103\u001b[0m | \u001b[34m\u001b[1mDEBUG   \u001b[0m | \u001b[36mstochastic_volatility_models.src.core.calibration\u001b[0m:\u001b[36mminimise_cost_function\u001b[0m:\u001b[36m130\u001b[0m - \u001b[34m\u001b[1mCost is 0.07617219657805505 with parameters {'initial_variance': 0.0895791230480412, 'long_term_variance': 0.020655878981137406, 'volatility_of_volatility': 2.669921273445345, 'mean_reversion_rate': 7.5728739095580595, 'wiener_correlation': -0.7119179316553654}\u001b[0m\n",
      "\u001b[32m2024-08-29 21:04:50.156\u001b[0m | \u001b[34m\u001b[1mDEBUG   \u001b[0m | \u001b[36mstochastic_volatility_models.src.core.calibration\u001b[0m:\u001b[36mminimise_cost_function\u001b[0m:\u001b[36m130\u001b[0m - \u001b[34m\u001b[1mCost is 0.0761575414604944 with parameters {'initial_variance': 0.0895791230480412, 'long_term_variance': 0.020655878981137406, 'volatility_of_volatility': 2.669921263445345, 'mean_reversion_rate': 7.572873919558059, 'wiener_correlation': -0.7119179316553654}\u001b[0m\n",
      "\u001b[32m2024-08-29 21:05:06.769\u001b[0m | \u001b[34m\u001b[1mDEBUG   \u001b[0m | \u001b[36mstochastic_volatility_models.src.core.calibration\u001b[0m:\u001b[36mminimise_cost_function\u001b[0m:\u001b[36m130\u001b[0m - \u001b[34m\u001b[1mCost is 0.07621656362444552 with parameters {'initial_variance': 0.0895791230480412, 'long_term_variance': 0.020655878981137406, 'volatility_of_volatility': 2.669921263445345, 'mean_reversion_rate': 7.5728739095580595, 'wiener_correlation': -0.7119179216553654}\u001b[0m\n",
      "\u001b[32m2024-08-29 21:05:20.320\u001b[0m | \u001b[34m\u001b[1mDEBUG   \u001b[0m | \u001b[36mstochastic_volatility_models.src.core.calibration\u001b[0m:\u001b[36mminimise_cost_function\u001b[0m:\u001b[36m130\u001b[0m - \u001b[34m\u001b[1mCost is 0.07475017877647999 with parameters {'initial_variance': 0.0895791230480412, 'long_term_variance': 0.020655909577623498, 'volatility_of_volatility': 2.669921561309517, 'mean_reversion_rate': 7.572874088979035, 'wiener_correlation': -0.711917890299667}\u001b[0m\n",
      "\u001b[32m2024-08-29 21:05:34.631\u001b[0m | \u001b[34m\u001b[1mDEBUG   \u001b[0m | \u001b[36mstochastic_volatility_models.src.core.calibration\u001b[0m:\u001b[36mminimise_cost_function\u001b[0m:\u001b[36m130\u001b[0m - \u001b[34m\u001b[1mCost is 0.07516388393686056 with parameters {'initial_variance': 0.0895791230480412, 'long_term_variance': 0.0206559195776235, 'volatility_of_volatility': 2.669921561309517, 'mean_reversion_rate': 7.572874088979035, 'wiener_correlation': -0.711917890299667}\u001b[0m\n",
      "\u001b[32m2024-08-29 21:05:48.923\u001b[0m | \u001b[34m\u001b[1mDEBUG   \u001b[0m | \u001b[36mstochastic_volatility_models.src.core.calibration\u001b[0m:\u001b[36mminimise_cost_function\u001b[0m:\u001b[36m130\u001b[0m - \u001b[34m\u001b[1mCost is 0.07671514326958379 with parameters {'initial_variance': 0.0895791230480412, 'long_term_variance': 0.020655909577623498, 'volatility_of_volatility': 2.669921571309517, 'mean_reversion_rate': 7.572874088979035, 'wiener_correlation': -0.711917890299667}\u001b[0m\n",
      "\u001b[32m2024-08-29 21:06:04.800\u001b[0m | \u001b[34m\u001b[1mDEBUG   \u001b[0m | \u001b[36mstochastic_volatility_models.src.core.calibration\u001b[0m:\u001b[36mminimise_cost_function\u001b[0m:\u001b[36m130\u001b[0m - \u001b[34m\u001b[1mCost is 0.07634943555717298 with parameters {'initial_variance': 0.0895791230480412, 'long_term_variance': 0.020655909577623498, 'volatility_of_volatility': 2.669921561309517, 'mean_reversion_rate': 7.572874098979035, 'wiener_correlation': -0.711917890299667}\u001b[0m\n",
      "\u001b[32m2024-08-29 21:06:19.810\u001b[0m | \u001b[34m\u001b[1mDEBUG   \u001b[0m | \u001b[36mstochastic_volatility_models.src.core.calibration\u001b[0m:\u001b[36mminimise_cost_function\u001b[0m:\u001b[36m130\u001b[0m - \u001b[34m\u001b[1mCost is 0.07486219052971957 with parameters {'initial_variance': 0.0895791230480412, 'long_term_variance': 0.020655909577623498, 'volatility_of_volatility': 2.669921561309517, 'mean_reversion_rate': 7.572874088979035, 'wiener_correlation': -0.711917880299667}\u001b[0m\n",
      "\u001b[32m2024-08-29 21:06:36.162\u001b[0m | \u001b[34m\u001b[1mDEBUG   \u001b[0m | \u001b[36mstochastic_volatility_models.src.core.calibration\u001b[0m:\u001b[36mminimise_cost_function\u001b[0m:\u001b[36m130\u001b[0m - \u001b[34m\u001b[1mCost is 0.07672622069400074 with parameters {'initial_variance': 0.0895791230480412, 'long_term_variance': 0.020656503666012883, 'volatility_of_volatility': 2.669916685098255, 'mean_reversion_rate': 7.572870224511531, 'wiener_correlation': -0.711917384411432}\u001b[0m\n",
      "\u001b[32m2024-08-29 21:06:51.026\u001b[0m | \u001b[34m\u001b[1mDEBUG   \u001b[0m | \u001b[36mstochastic_volatility_models.src.core.calibration\u001b[0m:\u001b[36mminimise_cost_function\u001b[0m:\u001b[36m130\u001b[0m - \u001b[34m\u001b[1mCost is 0.07633274921910772 with parameters {'initial_variance': 0.0895791230480412, 'long_term_variance': 0.020656513666012885, 'volatility_of_volatility': 2.669916685098255, 'mean_reversion_rate': 7.572870224511531, 'wiener_correlation': -0.711917384411432}\u001b[0m\n",
      "\u001b[32m2024-08-29 21:07:06.310\u001b[0m | \u001b[34m\u001b[1mDEBUG   \u001b[0m | \u001b[36mstochastic_volatility_models.src.core.calibration\u001b[0m:\u001b[36mminimise_cost_function\u001b[0m:\u001b[36m130\u001b[0m - \u001b[34m\u001b[1mCost is 0.07500955607886996 with parameters {'initial_variance': 0.0895791230480412, 'long_term_variance': 0.020656503666012883, 'volatility_of_volatility': 2.669916695098255, 'mean_reversion_rate': 7.572870224511531, 'wiener_correlation': -0.711917384411432}\u001b[0m\n",
      "\u001b[32m2024-08-29 21:07:20.542\u001b[0m | \u001b[34m\u001b[1mDEBUG   \u001b[0m | \u001b[36mstochastic_volatility_models.src.core.calibration\u001b[0m:\u001b[36mminimise_cost_function\u001b[0m:\u001b[36m130\u001b[0m - \u001b[34m\u001b[1mCost is 0.07504697032824059 with parameters {'initial_variance': 0.0895791230480412, 'long_term_variance': 0.020656503666012883, 'volatility_of_volatility': 2.669916685098255, 'mean_reversion_rate': 7.572870234511531, 'wiener_correlation': -0.711917384411432}\u001b[0m\n",
      "\u001b[32m2024-08-29 21:07:34.643\u001b[0m | \u001b[34m\u001b[1mDEBUG   \u001b[0m | \u001b[36mstochastic_volatility_models.src.core.calibration\u001b[0m:\u001b[36mminimise_cost_function\u001b[0m:\u001b[36m130\u001b[0m - \u001b[34m\u001b[1mCost is 0.07663124986813644 with parameters {'initial_variance': 0.0895791230480412, 'long_term_variance': 0.020656503666012883, 'volatility_of_volatility': 2.669916685098255, 'mean_reversion_rate': 7.572870224511531, 'wiener_correlation': -0.711917374411432}\u001b[0m\n",
      "\u001b[32m2024-08-29 21:07:49.313\u001b[0m | \u001b[34m\u001b[1mDEBUG   \u001b[0m | \u001b[36mstochastic_volatility_models.src.core.calibration\u001b[0m:\u001b[36mminimise_cost_function\u001b[0m:\u001b[36m130\u001b[0m - \u001b[34m\u001b[1mCost is 0.07650315054114669 with parameters {'initial_variance': 0.0895791230480412, 'long_term_variance': 0.020656201683311934, 'volatility_of_volatility': 2.669919163738595, 'mean_reversion_rate': 7.572872188869622, 'wiener_correlation': -0.7119176415608702}\u001b[0m\n",
      "\u001b[32m2024-08-29 21:08:05.402\u001b[0m | \u001b[34m\u001b[1mDEBUG   \u001b[0m | \u001b[36mstochastic_volatility_models.src.core.calibration\u001b[0m:\u001b[36mminimise_cost_function\u001b[0m:\u001b[36m130\u001b[0m - \u001b[34m\u001b[1mCost is 0.07654492748501841 with parameters {'initial_variance': 0.0895791230480412, 'long_term_variance': 0.020656211683311936, 'volatility_of_volatility': 2.669919163738595, 'mean_reversion_rate': 7.572872188869622, 'wiener_correlation': -0.7119176415608702}\u001b[0m\n",
      "\u001b[32m2024-08-29 21:08:21.977\u001b[0m | \u001b[34m\u001b[1mDEBUG   \u001b[0m | \u001b[36mstochastic_volatility_models.src.core.calibration\u001b[0m:\u001b[36mminimise_cost_function\u001b[0m:\u001b[36m130\u001b[0m - \u001b[34m\u001b[1mCost is 0.07655220855433598 with parameters {'initial_variance': 0.0895791230480412, 'long_term_variance': 0.020656201683311934, 'volatility_of_volatility': 2.6699191737385948, 'mean_reversion_rate': 7.572872188869622, 'wiener_correlation': -0.7119176415608702}\u001b[0m\n",
      "\u001b[32m2024-08-29 21:08:35.551\u001b[0m | \u001b[34m\u001b[1mDEBUG   \u001b[0m | \u001b[36mstochastic_volatility_models.src.core.calibration\u001b[0m:\u001b[36mminimise_cost_function\u001b[0m:\u001b[36m130\u001b[0m - \u001b[34m\u001b[1mCost is 0.07667809526762313 with parameters {'initial_variance': 0.0895791230480412, 'long_term_variance': 0.020656201683311934, 'volatility_of_volatility': 2.669919163738595, 'mean_reversion_rate': 7.572872198869622, 'wiener_correlation': -0.7119176415608702}\u001b[0m\n",
      "\u001b[32m2024-08-29 21:08:51.227\u001b[0m | \u001b[34m\u001b[1mDEBUG   \u001b[0m | \u001b[36mstochastic_volatility_models.src.core.calibration\u001b[0m:\u001b[36mminimise_cost_function\u001b[0m:\u001b[36m130\u001b[0m - \u001b[34m\u001b[1mCost is 0.07511914635039497 with parameters {'initial_variance': 0.0895791230480412, 'long_term_variance': 0.020656201683311934, 'volatility_of_volatility': 2.669919163738595, 'mean_reversion_rate': 7.572872188869622, 'wiener_correlation': -0.7119176315608702}\u001b[0m\n",
      "\u001b[32m2024-08-29 21:09:05.911\u001b[0m | \u001b[34m\u001b[1mDEBUG   \u001b[0m | \u001b[36mstochastic_volatility_models.src.core.calibration\u001b[0m:\u001b[36mminimise_cost_function\u001b[0m:\u001b[36m130\u001b[0m - \u001b[34m\u001b[1mCost is 0.0749979243179168 with parameters {'initial_variance': 0.0895791230480412, 'long_term_variance': 0.020656001659132707, 'volatility_of_volatility': 2.669920805514756, 'mean_reversion_rate': 7.572873490000825, 'wiener_correlation': -0.7119178118888564}\u001b[0m\n",
      "\u001b[32m2024-08-29 21:09:21.180\u001b[0m | \u001b[34m\u001b[1mDEBUG   \u001b[0m | \u001b[36mstochastic_volatility_models.src.core.calibration\u001b[0m:\u001b[36mminimise_cost_function\u001b[0m:\u001b[36m130\u001b[0m - \u001b[34m\u001b[1mCost is 0.07609817556658995 with parameters {'initial_variance': 0.0895791230480412, 'long_term_variance': 0.02065601165913271, 'volatility_of_volatility': 2.669920805514756, 'mean_reversion_rate': 7.572873490000825, 'wiener_correlation': -0.7119178118888564}\u001b[0m\n",
      "\u001b[32m2024-08-29 21:09:38.239\u001b[0m | \u001b[34m\u001b[1mDEBUG   \u001b[0m | \u001b[36mstochastic_volatility_models.src.core.calibration\u001b[0m:\u001b[36mminimise_cost_function\u001b[0m:\u001b[36m130\u001b[0m - \u001b[34m\u001b[1mCost is 0.0764914327441671 with parameters {'initial_variance': 0.0895791230480412, 'long_term_variance': 0.020656001659132707, 'volatility_of_volatility': 2.669920815514756, 'mean_reversion_rate': 7.572873490000825, 'wiener_correlation': -0.7119178118888564}\u001b[0m\n",
      "\u001b[32m2024-08-29 21:09:55.945\u001b[0m | \u001b[34m\u001b[1mDEBUG   \u001b[0m | \u001b[36mstochastic_volatility_models.src.core.calibration\u001b[0m:\u001b[36mminimise_cost_function\u001b[0m:\u001b[36m130\u001b[0m - \u001b[34m\u001b[1mCost is 0.07667803757308503 with parameters {'initial_variance': 0.0895791230480412, 'long_term_variance': 0.020656001659132707, 'volatility_of_volatility': 2.669920805514756, 'mean_reversion_rate': 7.572873500000825, 'wiener_correlation': -0.7119178118888564}\u001b[0m\n",
      "\u001b[32m2024-08-29 21:10:09.491\u001b[0m | \u001b[34m\u001b[1mDEBUG   \u001b[0m | \u001b[36mstochastic_volatility_models.src.core.calibration\u001b[0m:\u001b[36mminimise_cost_function\u001b[0m:\u001b[36m130\u001b[0m - \u001b[34m\u001b[1mCost is 0.07629099273951379 with parameters {'initial_variance': 0.0895791230480412, 'long_term_variance': 0.020656001659132707, 'volatility_of_volatility': 2.669920805514756, 'mean_reversion_rate': 7.572873490000825, 'wiener_correlation': -0.7119178018888563}\u001b[0m\n",
      "\u001b[32m2024-08-29 21:10:25.066\u001b[0m | \u001b[34m\u001b[1mDEBUG   \u001b[0m | \u001b[36mstochastic_volatility_models.src.core.calibration\u001b[0m:\u001b[36mminimise_cost_function\u001b[0m:\u001b[36m130\u001b[0m - \u001b[34m\u001b[1mCost is 0.07625721431723978 with parameters {'initial_variance': 0.0895791230480412, 'long_term_variance': 0.020655930597963043, 'volatility_of_volatility': 2.6699213887769138, 'mean_reversion_rate': 7.572873952244468, 'wiener_correlation': -0.7119178724000705}\u001b[0m\n",
      "\u001b[32m2024-08-29 21:10:38.820\u001b[0m | \u001b[34m\u001b[1mDEBUG   \u001b[0m | \u001b[36mstochastic_volatility_models.src.core.calibration\u001b[0m:\u001b[36mminimise_cost_function\u001b[0m:\u001b[36m130\u001b[0m - \u001b[34m\u001b[1mCost is 0.07650637127821347 with parameters {'initial_variance': 0.0895791230480412, 'long_term_variance': 0.020655940597963045, 'volatility_of_volatility': 2.6699213887769138, 'mean_reversion_rate': 7.572873952244468, 'wiener_correlation': -0.7119178724000705}\u001b[0m\n",
      "\u001b[32m2024-08-29 21:10:54.765\u001b[0m | \u001b[34m\u001b[1mDEBUG   \u001b[0m | \u001b[36mstochastic_volatility_models.src.core.calibration\u001b[0m:\u001b[36mminimise_cost_function\u001b[0m:\u001b[36m130\u001b[0m - \u001b[34m\u001b[1mCost is 0.07639517988412284 with parameters {'initial_variance': 0.0895791230480412, 'long_term_variance': 0.020655930597963043, 'volatility_of_volatility': 2.6699213987769137, 'mean_reversion_rate': 7.572873952244468, 'wiener_correlation': -0.7119178724000705}\u001b[0m\n",
      "\u001b[32m2024-08-29 21:11:13.533\u001b[0m | \u001b[34m\u001b[1mDEBUG   \u001b[0m | \u001b[36mstochastic_volatility_models.src.core.calibration\u001b[0m:\u001b[36mminimise_cost_function\u001b[0m:\u001b[36m130\u001b[0m - \u001b[34m\u001b[1mCost is 0.07520193883073445 with parameters {'initial_variance': 0.0895791230480412, 'long_term_variance': 0.020655930597963043, 'volatility_of_volatility': 2.6699213887769138, 'mean_reversion_rate': 7.572873962244468, 'wiener_correlation': -0.7119178724000705}\u001b[0m\n",
      "\u001b[32m2024-08-29 21:11:29.770\u001b[0m | \u001b[34m\u001b[1mDEBUG   \u001b[0m | \u001b[36mstochastic_volatility_models.src.core.calibration\u001b[0m:\u001b[36mminimise_cost_function\u001b[0m:\u001b[36m130\u001b[0m - \u001b[34m\u001b[1mCost is 0.07601758611604478 with parameters {'initial_variance': 0.0895791230480412, 'long_term_variance': 0.020655930597963043, 'volatility_of_volatility': 2.6699213887769138, 'mean_reversion_rate': 7.572873952244468, 'wiener_correlation': -0.7119178624000705}\u001b[0m\n",
      "\u001b[32m2024-08-29 21:11:43.520\u001b[0m | \u001b[34m\u001b[1mDEBUG   \u001b[0m | \u001b[36mstochastic_volatility_models.src.core.calibration\u001b[0m:\u001b[36mminimise_cost_function\u001b[0m:\u001b[36m130\u001b[0m - \u001b[34m\u001b[1mCost is 0.07528625855958045 with parameters {'initial_variance': 0.0895791230480412, 'long_term_variance': 0.02065591697439191, 'volatility_of_volatility': 2.6699215005976664, 'mean_reversion_rate': 7.572874040864021, 'wiener_correlation': -0.7119178840010452}\u001b[0m\n",
      "\u001b[32m2024-08-29 21:11:59.237\u001b[0m | \u001b[34m\u001b[1mDEBUG   \u001b[0m | \u001b[36mstochastic_volatility_models.src.core.calibration\u001b[0m:\u001b[36mminimise_cost_function\u001b[0m:\u001b[36m130\u001b[0m - \u001b[34m\u001b[1mCost is 0.07604448182766971 with parameters {'initial_variance': 0.0895791230480412, 'long_term_variance': 0.020655926974391912, 'volatility_of_volatility': 2.6699215005976664, 'mean_reversion_rate': 7.572874040864021, 'wiener_correlation': -0.7119178840010452}\u001b[0m\n",
      "\u001b[32m2024-08-29 21:12:13.641\u001b[0m | \u001b[34m\u001b[1mDEBUG   \u001b[0m | \u001b[36mstochastic_volatility_models.src.core.calibration\u001b[0m:\u001b[36mminimise_cost_function\u001b[0m:\u001b[36m130\u001b[0m - \u001b[34m\u001b[1mCost is 0.07668528911436519 with parameters {'initial_variance': 0.0895791230480412, 'long_term_variance': 0.02065591697439191, 'volatility_of_volatility': 2.6699215105976664, 'mean_reversion_rate': 7.572874040864021, 'wiener_correlation': -0.7119178840010452}\u001b[0m\n",
      "\u001b[32m2024-08-29 21:12:28.955\u001b[0m | \u001b[34m\u001b[1mDEBUG   \u001b[0m | \u001b[36mstochastic_volatility_models.src.core.calibration\u001b[0m:\u001b[36mminimise_cost_function\u001b[0m:\u001b[36m130\u001b[0m - \u001b[34m\u001b[1mCost is 0.07519323539239745 with parameters {'initial_variance': 0.0895791230480412, 'long_term_variance': 0.02065591697439191, 'volatility_of_volatility': 2.6699215005976664, 'mean_reversion_rate': 7.572874050864021, 'wiener_correlation': -0.7119178840010452}\u001b[0m\n",
      "\u001b[32m2024-08-29 21:12:43.452\u001b[0m | \u001b[34m\u001b[1mDEBUG   \u001b[0m | \u001b[36mstochastic_volatility_models.src.core.calibration\u001b[0m:\u001b[36mminimise_cost_function\u001b[0m:\u001b[36m130\u001b[0m - \u001b[34m\u001b[1mCost is 0.07503153267496154 with parameters {'initial_variance': 0.0895791230480412, 'long_term_variance': 0.02065591697439191, 'volatility_of_volatility': 2.6699215005976664, 'mean_reversion_rate': 7.572874040864021, 'wiener_correlation': -0.7119178740010451}\u001b[0m\n",
      "\u001b[32m2024-08-29 21:13:01.213\u001b[0m | \u001b[34m\u001b[1mDEBUG   \u001b[0m | \u001b[36mstochastic_volatility_models.src.core.calibration\u001b[0m:\u001b[36mminimise_cost_function\u001b[0m:\u001b[36m130\u001b[0m - \u001b[34m\u001b[1mCost is 0.07546570806118032 with parameters {'initial_variance': 0.0895791230480412, 'long_term_variance': 0.020655911513576427, 'volatility_of_volatility': 2.6699215454194314, 'mean_reversion_rate': 7.572874076385914, 'wiener_correlation': -0.7119178886511315}\u001b[0m\n",
      "\u001b[32m2024-08-29 21:13:16.169\u001b[0m | \u001b[34m\u001b[1mDEBUG   \u001b[0m | \u001b[36mstochastic_volatility_models.src.core.calibration\u001b[0m:\u001b[36mminimise_cost_function\u001b[0m:\u001b[36m130\u001b[0m - \u001b[34m\u001b[1mCost is 0.07658093130061149 with parameters {'initial_variance': 0.0895791230480412, 'long_term_variance': 0.02065592151357643, 'volatility_of_volatility': 2.6699215454194314, 'mean_reversion_rate': 7.572874076385914, 'wiener_correlation': -0.7119178886511315}\u001b[0m\n",
      "\u001b[32m2024-08-29 21:13:29.691\u001b[0m | \u001b[34m\u001b[1mDEBUG   \u001b[0m | \u001b[36mstochastic_volatility_models.src.core.calibration\u001b[0m:\u001b[36mminimise_cost_function\u001b[0m:\u001b[36m130\u001b[0m - \u001b[34m\u001b[1mCost is 0.07691665038210309 with parameters {'initial_variance': 0.0895791230480412, 'long_term_variance': 0.020655911513576427, 'volatility_of_volatility': 2.6699215554194313, 'mean_reversion_rate': 7.572874076385914, 'wiener_correlation': -0.7119178886511315}\u001b[0m\n",
      "\u001b[32m2024-08-29 21:13:44.078\u001b[0m | \u001b[34m\u001b[1mDEBUG   \u001b[0m | \u001b[36mstochastic_volatility_models.src.core.calibration\u001b[0m:\u001b[36mminimise_cost_function\u001b[0m:\u001b[36m130\u001b[0m - \u001b[34m\u001b[1mCost is 0.07530038502463186 with parameters {'initial_variance': 0.0895791230480412, 'long_term_variance': 0.020655911513576427, 'volatility_of_volatility': 2.6699215454194314, 'mean_reversion_rate': 7.572874086385914, 'wiener_correlation': -0.7119178886511315}\u001b[0m\n",
      "\u001b[32m2024-08-29 21:13:59.350\u001b[0m | \u001b[34m\u001b[1mDEBUG   \u001b[0m | \u001b[36mstochastic_volatility_models.src.core.calibration\u001b[0m:\u001b[36mminimise_cost_function\u001b[0m:\u001b[36m130\u001b[0m - \u001b[34m\u001b[1mCost is 0.07518909372876303 with parameters {'initial_variance': 0.0895791230480412, 'long_term_variance': 0.020655911513576427, 'volatility_of_volatility': 2.6699215454194314, 'mean_reversion_rate': 7.572874076385914, 'wiener_correlation': -0.7119178786511314}\u001b[0m\n",
      "\u001b[32m2024-08-29 21:14:14.139\u001b[0m | \u001b[34m\u001b[1mDEBUG   \u001b[0m | \u001b[36mstochastic_volatility_models.src.core.calibration\u001b[0m:\u001b[36mminimise_cost_function\u001b[0m:\u001b[36m130\u001b[0m - \u001b[34m\u001b[1mCost is 0.07646739712465052 with parameters {'initial_variance': 0.0895791230480412, 'long_term_variance': 0.020655910007051463, 'volatility_of_volatility': 2.66992155778482, 'mean_reversion_rate': 7.572874086185663, 'wiener_correlation': -0.7119178899339932}\u001b[0m\n",
      "\u001b[32m2024-08-29 21:14:29.403\u001b[0m | \u001b[34m\u001b[1mDEBUG   \u001b[0m | \u001b[36mstochastic_volatility_models.src.core.calibration\u001b[0m:\u001b[36mminimise_cost_function\u001b[0m:\u001b[36m130\u001b[0m - \u001b[34m\u001b[1mCost is 0.07498988644861482 with parameters {'initial_variance': 0.0895791230480412, 'long_term_variance': 0.020655920007051465, 'volatility_of_volatility': 2.66992155778482, 'mean_reversion_rate': 7.572874086185663, 'wiener_correlation': -0.7119178899339932}\u001b[0m\n",
      "\u001b[32m2024-08-29 21:14:45.156\u001b[0m | \u001b[34m\u001b[1mDEBUG   \u001b[0m | \u001b[36mstochastic_volatility_models.src.core.calibration\u001b[0m:\u001b[36mminimise_cost_function\u001b[0m:\u001b[36m130\u001b[0m - \u001b[34m\u001b[1mCost is 0.07642960402642276 with parameters {'initial_variance': 0.0895791230480412, 'long_term_variance': 0.020655910007051463, 'volatility_of_volatility': 2.66992156778482, 'mean_reversion_rate': 7.572874086185663, 'wiener_correlation': -0.7119178899339932}\u001b[0m\n",
      "\u001b[32m2024-08-29 21:14:59.227\u001b[0m | \u001b[34m\u001b[1mDEBUG   \u001b[0m | \u001b[36mstochastic_volatility_models.src.core.calibration\u001b[0m:\u001b[36mminimise_cost_function\u001b[0m:\u001b[36m130\u001b[0m - \u001b[34m\u001b[1mCost is 0.0748317400528787 with parameters {'initial_variance': 0.0895791230480412, 'long_term_variance': 0.020655910007051463, 'volatility_of_volatility': 2.66992155778482, 'mean_reversion_rate': 7.572874096185663, 'wiener_correlation': -0.7119178899339932}\u001b[0m\n",
      "\u001b[32m2024-08-29 21:15:14.447\u001b[0m | \u001b[34m\u001b[1mDEBUG   \u001b[0m | \u001b[36mstochastic_volatility_models.src.core.calibration\u001b[0m:\u001b[36mminimise_cost_function\u001b[0m:\u001b[36m130\u001b[0m - \u001b[34m\u001b[1mCost is 0.07545603194156023 with parameters {'initial_variance': 0.0895791230480412, 'long_term_variance': 0.020655910007051463, 'volatility_of_volatility': 2.66992155778482, 'mean_reversion_rate': 7.572874086185663, 'wiener_correlation': -0.7119178799339931}\u001b[0m\n",
      "\u001b[32m2024-08-29 21:15:28.770\u001b[0m | \u001b[34m\u001b[1mDEBUG   \u001b[0m | \u001b[36mstochastic_volatility_models.src.core.calibration\u001b[0m:\u001b[36mminimise_cost_function\u001b[0m:\u001b[36m130\u001b[0m - \u001b[34m\u001b[1mCost is 0.07458774472385882 with parameters {'initial_variance': 0.0895791230480412, 'long_term_variance': 0.020655909614676057, 'volatility_of_volatility': 2.6699215610053937, 'mean_reversion_rate': 7.572874088738013, 'wiener_correlation': -0.7119178902681154}\u001b[0m\n",
      "\u001b[32m2024-08-29 21:15:43.876\u001b[0m | \u001b[34m\u001b[1mDEBUG   \u001b[0m | \u001b[36mstochastic_volatility_models.src.core.calibration\u001b[0m:\u001b[36mminimise_cost_function\u001b[0m:\u001b[36m130\u001b[0m - \u001b[34m\u001b[1mCost is 0.07529567156442 with parameters {'initial_variance': 0.0895791230480412, 'long_term_variance': 0.02065591961467606, 'volatility_of_volatility': 2.6699215610053937, 'mean_reversion_rate': 7.572874088738013, 'wiener_correlation': -0.7119178902681154}\u001b[0m\n",
      "\u001b[32m2024-08-29 21:15:59.505\u001b[0m | \u001b[34m\u001b[1mDEBUG   \u001b[0m | \u001b[36mstochastic_volatility_models.src.core.calibration\u001b[0m:\u001b[36mminimise_cost_function\u001b[0m:\u001b[36m130\u001b[0m - \u001b[34m\u001b[1mCost is 0.0750686126001374 with parameters {'initial_variance': 0.0895791230480412, 'long_term_variance': 0.020655909614676057, 'volatility_of_volatility': 2.6699215710053936, 'mean_reversion_rate': 7.572874088738013, 'wiener_correlation': -0.7119178902681154}\u001b[0m\n",
      "\u001b[32m2024-08-29 21:16:15.844\u001b[0m | \u001b[34m\u001b[1mDEBUG   \u001b[0m | \u001b[36mstochastic_volatility_models.src.core.calibration\u001b[0m:\u001b[36mminimise_cost_function\u001b[0m:\u001b[36m130\u001b[0m - \u001b[34m\u001b[1mCost is 0.07541215790263364 with parameters {'initial_variance': 0.0895791230480412, 'long_term_variance': 0.020655909614676057, 'volatility_of_volatility': 2.6699215610053937, 'mean_reversion_rate': 7.572874098738013, 'wiener_correlation': -0.7119178902681154}\u001b[0m\n",
      "\u001b[32m2024-08-29 21:16:29.625\u001b[0m | \u001b[34m\u001b[1mDEBUG   \u001b[0m | \u001b[36mstochastic_volatility_models.src.core.calibration\u001b[0m:\u001b[36mminimise_cost_function\u001b[0m:\u001b[36m130\u001b[0m - \u001b[34m\u001b[1mCost is 0.07623924270157952 with parameters {'initial_variance': 0.0895791230480412, 'long_term_variance': 0.020655909614676057, 'volatility_of_volatility': 2.6699215610053937, 'mean_reversion_rate': 7.572874088738013, 'wiener_correlation': -0.7119178802681153}\u001b[0m\n",
      "\u001b[32m2024-08-29 21:16:44.252\u001b[0m | \u001b[34m\u001b[1mDEBUG   \u001b[0m | \u001b[36mstochastic_volatility_models.src.core.calibration\u001b[0m:\u001b[36mminimise_cost_function\u001b[0m:\u001b[36m130\u001b[0m - \u001b[34m\u001b[1mCost is 0.07672211675251739 with parameters {'initial_variance': 0.0895791230480412, 'long_term_variance': 0.020655723920744933, 'volatility_of_volatility': 2.6699213150956127, 'mean_reversion_rate': 7.572874076317201, 'wiener_correlation': -0.7119180979193904}\u001b[0m\n",
      "\u001b[32m2024-08-29 21:16:58.066\u001b[0m | \u001b[34m\u001b[1mDEBUG   \u001b[0m | \u001b[36mstochastic_volatility_models.src.core.calibration\u001b[0m:\u001b[36mminimise_cost_function\u001b[0m:\u001b[36m130\u001b[0m - \u001b[34m\u001b[1mCost is 0.07559048913663469 with parameters {'initial_variance': 0.0895791230480412, 'long_term_variance': 0.020655733920744934, 'volatility_of_volatility': 2.6699213150956127, 'mean_reversion_rate': 7.572874076317201, 'wiener_correlation': -0.7119180979193904}\u001b[0m\n",
      "\u001b[32m2024-08-29 21:17:13.027\u001b[0m | \u001b[34m\u001b[1mDEBUG   \u001b[0m | \u001b[36mstochastic_volatility_models.src.core.calibration\u001b[0m:\u001b[36mminimise_cost_function\u001b[0m:\u001b[36m130\u001b[0m - \u001b[34m\u001b[1mCost is 0.07484672934279137 with parameters {'initial_variance': 0.0895791230480412, 'long_term_variance': 0.020655723920744933, 'volatility_of_volatility': 2.6699213250956126, 'mean_reversion_rate': 7.572874076317201, 'wiener_correlation': -0.7119180979193904}\u001b[0m\n",
      "\u001b[32m2024-08-29 21:17:28.960\u001b[0m | \u001b[34m\u001b[1mDEBUG   \u001b[0m | \u001b[36mstochastic_volatility_models.src.core.calibration\u001b[0m:\u001b[36mminimise_cost_function\u001b[0m:\u001b[36m130\u001b[0m - \u001b[34m\u001b[1mCost is 0.07523323684296583 with parameters {'initial_variance': 0.0895791230480412, 'long_term_variance': 0.020655723920744933, 'volatility_of_volatility': 2.6699213150956127, 'mean_reversion_rate': 7.572874086317201, 'wiener_correlation': -0.7119180979193904}\u001b[0m\n",
      "\u001b[32m2024-08-29 21:17:45.388\u001b[0m | \u001b[34m\u001b[1mDEBUG   \u001b[0m | \u001b[36mstochastic_volatility_models.src.core.calibration\u001b[0m:\u001b[36mminimise_cost_function\u001b[0m:\u001b[36m130\u001b[0m - \u001b[34m\u001b[1mCost is 0.07646781968981013 with parameters {'initial_variance': 0.0895791230480412, 'long_term_variance': 0.020655723920744933, 'volatility_of_volatility': 2.6699213150956127, 'mean_reversion_rate': 7.572874076317201, 'wiener_correlation': -0.7119180879193904}\u001b[0m\n",
      "\u001b[32m2024-08-29 21:18:00.740\u001b[0m | \u001b[34m\u001b[1mDEBUG   \u001b[0m | \u001b[36mstochastic_volatility_models.src.core.calibration\u001b[0m:\u001b[36mminimise_cost_function\u001b[0m:\u001b[36m130\u001b[0m - \u001b[34m\u001b[1mCost is 0.0763454625114202 with parameters {'initial_variance': 0.0895791230480412, 'long_term_variance': 0.020655818153889116, 'volatility_of_volatility': 2.6699214398861844, 'mean_reversion_rate': 7.572874082620326, 'wiener_correlation': -0.7119179925436658}\u001b[0m\n",
      "\u001b[32m2024-08-29 21:18:14.274\u001b[0m | \u001b[34m\u001b[1mDEBUG   \u001b[0m | \u001b[36mstochastic_volatility_models.src.core.calibration\u001b[0m:\u001b[36mminimise_cost_function\u001b[0m:\u001b[36m130\u001b[0m - \u001b[34m\u001b[1mCost is 0.07486318982015502 with parameters {'initial_variance': 0.0895791230480412, 'long_term_variance': 0.020655828153889118, 'volatility_of_volatility': 2.6699214398861844, 'mean_reversion_rate': 7.572874082620326, 'wiener_correlation': -0.7119179925436658}\u001b[0m\n",
      "\u001b[32m2024-08-29 21:18:28.075\u001b[0m | \u001b[34m\u001b[1mDEBUG   \u001b[0m | \u001b[36mstochastic_volatility_models.src.core.calibration\u001b[0m:\u001b[36mminimise_cost_function\u001b[0m:\u001b[36m130\u001b[0m - \u001b[34m\u001b[1mCost is 0.07621840164335114 with parameters {'initial_variance': 0.0895791230480412, 'long_term_variance': 0.020655818153889116, 'volatility_of_volatility': 2.6699214498861843, 'mean_reversion_rate': 7.572874082620326, 'wiener_correlation': -0.7119179925436658}\u001b[0m\n",
      "\u001b[32m2024-08-29 21:18:41.786\u001b[0m | \u001b[34m\u001b[1mDEBUG   \u001b[0m | \u001b[36mstochastic_volatility_models.src.core.calibration\u001b[0m:\u001b[36mminimise_cost_function\u001b[0m:\u001b[36m130\u001b[0m - \u001b[34m\u001b[1mCost is 0.07529683314417984 with parameters {'initial_variance': 0.0895791230480412, 'long_term_variance': 0.020655818153889116, 'volatility_of_volatility': 2.6699214398861844, 'mean_reversion_rate': 7.572874092620326, 'wiener_correlation': -0.7119179925436658}\u001b[0m\n",
      "\u001b[32m2024-08-29 21:18:56.271\u001b[0m | \u001b[34m\u001b[1mDEBUG   \u001b[0m | \u001b[36mstochastic_volatility_models.src.core.calibration\u001b[0m:\u001b[36mminimise_cost_function\u001b[0m:\u001b[36m130\u001b[0m - \u001b[34m\u001b[1mCost is 0.07495684776000432 with parameters {'initial_variance': 0.0895791230480412, 'long_term_variance': 0.020655818153889116, 'volatility_of_volatility': 2.6699214398861844, 'mean_reversion_rate': 7.572874082620326, 'wiener_correlation': -0.7119179825436658}\u001b[0m\n",
      "\u001b[32m2024-08-29 21:19:12.470\u001b[0m | \u001b[34m\u001b[1mDEBUG   \u001b[0m | \u001b[36mstochastic_volatility_models.src.core.calibration\u001b[0m:\u001b[36mminimise_cost_function\u001b[0m:\u001b[36m130\u001b[0m - \u001b[34m\u001b[1mCost is 0.07490812328352243 with parameters {'initial_variance': 0.0895791230480412, 'long_term_variance': 0.020655867806242678, 'volatility_of_volatility': 2.669921505639542, 'mean_reversion_rate': 7.572874085941504, 'wiener_correlation': -0.711917937020179}\u001b[0m\n",
      "\u001b[32m2024-08-29 21:19:28.755\u001b[0m | \u001b[34m\u001b[1mDEBUG   \u001b[0m | \u001b[36mstochastic_volatility_models.src.core.calibration\u001b[0m:\u001b[36mminimise_cost_function\u001b[0m:\u001b[36m130\u001b[0m - \u001b[34m\u001b[1mCost is 0.07647580930039238 with parameters {'initial_variance': 0.0895791230480412, 'long_term_variance': 0.02065587780624268, 'volatility_of_volatility': 2.669921505639542, 'mean_reversion_rate': 7.572874085941504, 'wiener_correlation': -0.711917937020179}\u001b[0m\n",
      "\u001b[32m2024-08-29 21:19:43.079\u001b[0m | \u001b[34m\u001b[1mDEBUG   \u001b[0m | \u001b[36mstochastic_volatility_models.src.core.calibration\u001b[0m:\u001b[36mminimise_cost_function\u001b[0m:\u001b[36m130\u001b[0m - \u001b[34m\u001b[1mCost is 0.07618230701393917 with parameters {'initial_variance': 0.0895791230480412, 'long_term_variance': 0.020655867806242678, 'volatility_of_volatility': 2.6699215156395417, 'mean_reversion_rate': 7.572874085941504, 'wiener_correlation': -0.711917937020179}\u001b[0m\n",
      "\u001b[32m2024-08-29 21:19:58.239\u001b[0m | \u001b[34m\u001b[1mDEBUG   \u001b[0m | \u001b[36mstochastic_volatility_models.src.core.calibration\u001b[0m:\u001b[36mminimise_cost_function\u001b[0m:\u001b[36m130\u001b[0m - \u001b[34m\u001b[1mCost is 0.07584797919981728 with parameters {'initial_variance': 0.0895791230480412, 'long_term_variance': 0.020655867806242678, 'volatility_of_volatility': 2.669921505639542, 'mean_reversion_rate': 7.572874095941504, 'wiener_correlation': -0.711917937020179}\u001b[0m\n",
      "\u001b[32m2024-08-29 21:20:11.743\u001b[0m | \u001b[34m\u001b[1mDEBUG   \u001b[0m | \u001b[36mstochastic_volatility_models.src.core.calibration\u001b[0m:\u001b[36mminimise_cost_function\u001b[0m:\u001b[36m130\u001b[0m - \u001b[34m\u001b[1mCost is 0.07484514773780246 with parameters {'initial_variance': 0.0895791230480412, 'long_term_variance': 0.020655867806242678, 'volatility_of_volatility': 2.669921505639542, 'mean_reversion_rate': 7.572874085941504, 'wiener_correlation': -0.711917927020179}\u001b[0m\n",
      "\u001b[32m2024-08-29 21:20:25.103\u001b[0m | \u001b[34m\u001b[1mDEBUG   \u001b[0m | \u001b[36mstochastic_volatility_models.src.core.calibration\u001b[0m:\u001b[36mminimise_cost_function\u001b[0m:\u001b[36m130\u001b[0m - \u001b[34m\u001b[1mCost is 0.07596550943500736 with parameters {'initial_variance': 0.0895791230480412, 'long_term_variance': 0.02065590105552734, 'volatility_of_volatility': 2.6699215496707294, 'mean_reversion_rate': 7.572874088165503, 'wiener_correlation': -0.711917899839339}\u001b[0m\n",
      "\u001b[32m2024-08-29 21:20:39.768\u001b[0m | \u001b[34m\u001b[1mDEBUG   \u001b[0m | \u001b[36mstochastic_volatility_models.src.core.calibration\u001b[0m:\u001b[36mminimise_cost_function\u001b[0m:\u001b[36m130\u001b[0m - \u001b[34m\u001b[1mCost is 0.07549482563725311 with parameters {'initial_variance': 0.0895791230480412, 'long_term_variance': 0.020655911055527342, 'volatility_of_volatility': 2.6699215496707294, 'mean_reversion_rate': 7.572874088165503, 'wiener_correlation': -0.711917899839339}\u001b[0m\n",
      "\u001b[32m2024-08-29 21:20:57.105\u001b[0m | \u001b[34m\u001b[1mDEBUG   \u001b[0m | \u001b[36mstochastic_volatility_models.src.core.calibration\u001b[0m:\u001b[36mminimise_cost_function\u001b[0m:\u001b[36m130\u001b[0m - \u001b[34m\u001b[1mCost is 0.07524048672751472 with parameters {'initial_variance': 0.0895791230480412, 'long_term_variance': 0.02065590105552734, 'volatility_of_volatility': 2.6699215596707293, 'mean_reversion_rate': 7.572874088165503, 'wiener_correlation': -0.711917899839339}\u001b[0m\n",
      "\u001b[32m2024-08-29 21:21:11.987\u001b[0m | \u001b[34m\u001b[1mDEBUG   \u001b[0m | \u001b[36mstochastic_volatility_models.src.core.calibration\u001b[0m:\u001b[36mminimise_cost_function\u001b[0m:\u001b[36m130\u001b[0m - \u001b[34m\u001b[1mCost is 0.07508976477490818 with parameters {'initial_variance': 0.0895791230480412, 'long_term_variance': 0.02065590105552734, 'volatility_of_volatility': 2.6699215496707294, 'mean_reversion_rate': 7.572874098165503, 'wiener_correlation': -0.711917899839339}\u001b[0m\n",
      "\u001b[32m2024-08-29 21:21:26.174\u001b[0m | \u001b[34m\u001b[1mDEBUG   \u001b[0m | \u001b[36mstochastic_volatility_models.src.core.calibration\u001b[0m:\u001b[36mminimise_cost_function\u001b[0m:\u001b[36m130\u001b[0m - \u001b[34m\u001b[1mCost is 0.07615094780457679 with parameters {'initial_variance': 0.0895791230480412, 'long_term_variance': 0.02065590105552734, 'volatility_of_volatility': 2.6699215496707294, 'mean_reversion_rate': 7.572874088165503, 'wiener_correlation': -0.7119178898393389}\u001b[0m\n",
      "\u001b[32m2024-08-29 21:21:39.674\u001b[0m | \u001b[34m\u001b[1mDEBUG   \u001b[0m | \u001b[36mstochastic_volatility_models.src.core.calibration\u001b[0m:\u001b[36mminimise_cost_function\u001b[0m:\u001b[36m130\u001b[0m - \u001b[34m\u001b[1mCost is 0.076446165667778 with parameters {'initial_variance': 0.0895791230480412, 'long_term_variance': 0.020655907992820757, 'volatility_of_volatility': 2.6699215588576117, 'mean_reversion_rate': 7.572874088629529, 'wiener_correlation': -0.7119178920817466}\u001b[0m\n",
      "\u001b[32m2024-08-29 21:21:54.485\u001b[0m | \u001b[34m\u001b[1mDEBUG   \u001b[0m | \u001b[36mstochastic_volatility_models.src.core.calibration\u001b[0m:\u001b[36mminimise_cost_function\u001b[0m:\u001b[36m130\u001b[0m - \u001b[34m\u001b[1mCost is 0.07525013898667782 with parameters {'initial_variance': 0.0895791230480412, 'long_term_variance': 0.02065591799282076, 'volatility_of_volatility': 2.6699215588576117, 'mean_reversion_rate': 7.572874088629529, 'wiener_correlation': -0.7119178920817466}\u001b[0m\n",
      "\u001b[32m2024-08-29 21:22:08.923\u001b[0m | \u001b[34m\u001b[1mDEBUG   \u001b[0m | \u001b[36mstochastic_volatility_models.src.core.calibration\u001b[0m:\u001b[36mminimise_cost_function\u001b[0m:\u001b[36m130\u001b[0m - \u001b[34m\u001b[1mCost is 0.0760624699878754 with parameters {'initial_variance': 0.0895791230480412, 'long_term_variance': 0.020655907992820757, 'volatility_of_volatility': 2.6699215688576117, 'mean_reversion_rate': 7.572874088629529, 'wiener_correlation': -0.7119178920817466}\u001b[0m\n",
      "\u001b[32m2024-08-29 21:22:24.492\u001b[0m | \u001b[34m\u001b[1mDEBUG   \u001b[0m | \u001b[36mstochastic_volatility_models.src.core.calibration\u001b[0m:\u001b[36mminimise_cost_function\u001b[0m:\u001b[36m130\u001b[0m - \u001b[34m\u001b[1mCost is 0.07634971851393567 with parameters {'initial_variance': 0.0895791230480412, 'long_term_variance': 0.020655907992820757, 'volatility_of_volatility': 2.6699215588576117, 'mean_reversion_rate': 7.572874098629529, 'wiener_correlation': -0.7119178920817466}\u001b[0m\n",
      "\u001b[32m2024-08-29 21:22:41.931\u001b[0m | \u001b[34m\u001b[1mDEBUG   \u001b[0m | \u001b[36mstochastic_volatility_models.src.core.calibration\u001b[0m:\u001b[36mminimise_cost_function\u001b[0m:\u001b[36m130\u001b[0m - \u001b[34m\u001b[1mCost is 0.07574467599155912 with parameters {'initial_variance': 0.0895791230480412, 'long_term_variance': 0.020655907992820757, 'volatility_of_volatility': 2.6699215588576117, 'mean_reversion_rate': 7.572874088629529, 'wiener_correlation': -0.7119178820817466}\u001b[0m\n",
      "\u001b[32m2024-08-29 21:22:55.484\u001b[0m | \u001b[34m\u001b[1mDEBUG   \u001b[0m | \u001b[36mstochastic_volatility_models.src.core.calibration\u001b[0m:\u001b[36mminimise_cost_function\u001b[0m:\u001b[36m130\u001b[0m - \u001b[34m\u001b[1mCost is 0.0754942962775867 with parameters {'initial_variance': 0.0895791230480412, 'long_term_variance': 0.020655909543148804, 'volatility_of_volatility': 2.669921560910672, 'mean_reversion_rate': 7.572874088733228, 'wiener_correlation': -0.7119178903481004}\u001b[0m\n",
      "\u001b[32m2024-08-29 21:23:09.086\u001b[0m | \u001b[34m\u001b[1mDEBUG   \u001b[0m | \u001b[36mstochastic_volatility_models.src.core.calibration\u001b[0m:\u001b[36mminimise_cost_function\u001b[0m:\u001b[36m130\u001b[0m - \u001b[34m\u001b[1mCost is 0.07666352943562871 with parameters {'initial_variance': 0.0895791230480412, 'long_term_variance': 0.020655919543148805, 'volatility_of_volatility': 2.669921560910672, 'mean_reversion_rate': 7.572874088733228, 'wiener_correlation': -0.7119178903481004}\u001b[0m\n",
      "\u001b[32m2024-08-29 21:23:23.447\u001b[0m | \u001b[34m\u001b[1mDEBUG   \u001b[0m | \u001b[36mstochastic_volatility_models.src.core.calibration\u001b[0m:\u001b[36mminimise_cost_function\u001b[0m:\u001b[36m130\u001b[0m - \u001b[34m\u001b[1mCost is 0.07645152075825265 with parameters {'initial_variance': 0.0895791230480412, 'long_term_variance': 0.020655909543148804, 'volatility_of_volatility': 2.669921570910672, 'mean_reversion_rate': 7.572874088733228, 'wiener_correlation': -0.7119178903481004}\u001b[0m\n",
      "\u001b[32m2024-08-29 21:23:38.354\u001b[0m | \u001b[34m\u001b[1mDEBUG   \u001b[0m | \u001b[36mstochastic_volatility_models.src.core.calibration\u001b[0m:\u001b[36mminimise_cost_function\u001b[0m:\u001b[36m130\u001b[0m - \u001b[34m\u001b[1mCost is 0.07650964342053672 with parameters {'initial_variance': 0.0895791230480412, 'long_term_variance': 0.020655909543148804, 'volatility_of_volatility': 2.669921560910672, 'mean_reversion_rate': 7.572874098733228, 'wiener_correlation': -0.7119178903481004}\u001b[0m\n",
      "\u001b[32m2024-08-29 21:23:53.330\u001b[0m | \u001b[34m\u001b[1mDEBUG   \u001b[0m | \u001b[36mstochastic_volatility_models.src.core.calibration\u001b[0m:\u001b[36mminimise_cost_function\u001b[0m:\u001b[36m130\u001b[0m - \u001b[34m\u001b[1mCost is 0.07501023624066636 with parameters {'initial_variance': 0.0895791230480412, 'long_term_variance': 0.020655909543148804, 'volatility_of_volatility': 2.669921560910672, 'mean_reversion_rate': 7.572874088733228, 'wiener_correlation': -0.7119178803481003}\u001b[0m\n",
      "\u001b[32m2024-08-29 21:24:08.083\u001b[0m | \u001b[34m\u001b[1mDEBUG   \u001b[0m | \u001b[36mstochastic_volatility_models.src.core.calibration\u001b[0m:\u001b[36mminimise_cost_function\u001b[0m:\u001b[36m130\u001b[0m - \u001b[34m\u001b[1mCost is 0.07543142412883692 with parameters {'initial_variance': 0.0895791230480412, 'long_term_variance': 0.020655909614376067, 'volatility_of_volatility': 2.6699215610049962, 'mean_reversion_rate': 7.572874088737993, 'wiener_correlation': -0.7119178902684509}\u001b[0m\n",
      "\u001b[32m2024-08-29 21:24:21.577\u001b[0m | \u001b[34m\u001b[1mDEBUG   \u001b[0m | \u001b[36mstochastic_volatility_models.src.core.calibration\u001b[0m:\u001b[36mminimise_cost_function\u001b[0m:\u001b[36m130\u001b[0m - \u001b[34m\u001b[1mCost is 0.07643502554596447 with parameters {'initial_variance': 0.0895791230480412, 'long_term_variance': 0.02065591961437607, 'volatility_of_volatility': 2.6699215610049962, 'mean_reversion_rate': 7.572874088737993, 'wiener_correlation': -0.7119178902684509}\u001b[0m\n",
      "\u001b[32m2024-08-29 21:24:35.505\u001b[0m | \u001b[34m\u001b[1mDEBUG   \u001b[0m | \u001b[36mstochastic_volatility_models.src.core.calibration\u001b[0m:\u001b[36mminimise_cost_function\u001b[0m:\u001b[36m130\u001b[0m - \u001b[34m\u001b[1mCost is 0.07599091651525673 with parameters {'initial_variance': 0.0895791230480412, 'long_term_variance': 0.020655909614376067, 'volatility_of_volatility': 2.669921571004996, 'mean_reversion_rate': 7.572874088737993, 'wiener_correlation': -0.7119178902684509}\u001b[0m\n",
      "\u001b[32m2024-08-29 21:24:48.448\u001b[0m | \u001b[34m\u001b[1mDEBUG   \u001b[0m | \u001b[36mstochastic_volatility_models.src.core.calibration\u001b[0m:\u001b[36mminimise_cost_function\u001b[0m:\u001b[36m130\u001b[0m - \u001b[34m\u001b[1mCost is 0.07635145373544039 with parameters {'initial_variance': 0.0895791230480412, 'long_term_variance': 0.020655909614376067, 'volatility_of_volatility': 2.6699215610049962, 'mean_reversion_rate': 7.5728740987379926, 'wiener_correlation': -0.7119178902684509}\u001b[0m\n",
      "\u001b[32m2024-08-29 21:25:03.325\u001b[0m | \u001b[34m\u001b[1mDEBUG   \u001b[0m | \u001b[36mstochastic_volatility_models.src.core.calibration\u001b[0m:\u001b[36mminimise_cost_function\u001b[0m:\u001b[36m130\u001b[0m - \u001b[34m\u001b[1mCost is 0.07623484757995909 with parameters {'initial_variance': 0.0895791230480412, 'long_term_variance': 0.020655909614376067, 'volatility_of_volatility': 2.6699215610049962, 'mean_reversion_rate': 7.572874088737993, 'wiener_correlation': -0.7119178802684508}\u001b[0m\n",
      "\u001b[32m2024-08-29 21:25:18.182\u001b[0m | \u001b[34m\u001b[1mDEBUG   \u001b[0m | \u001b[36mstochastic_volatility_models.src.core.calibration\u001b[0m:\u001b[36mminimise_cost_function\u001b[0m:\u001b[36m130\u001b[0m - \u001b[34m\u001b[1mCost is 0.07492109259901684 with parameters {'initial_variance': 0.0895791230480412, 'long_term_variance': 0.02065590961467605, 'volatility_of_volatility': 2.6699215610053937, 'mean_reversion_rate': 7.572874088738013, 'wiener_correlation': -0.7119178902681154}\u001b[0m\n",
      "\u001b[32m2024-08-29 21:25:34.308\u001b[0m | \u001b[34m\u001b[1mDEBUG   \u001b[0m | \u001b[36mstochastic_volatility_models.src.core.calibration\u001b[0m:\u001b[36mminimise_cost_function\u001b[0m:\u001b[36m130\u001b[0m - \u001b[34m\u001b[1mCost is 0.07666976427722628 with parameters {'initial_variance': 0.0895791230480412, 'long_term_variance': 0.02065591961467605, 'volatility_of_volatility': 2.6699215610053937, 'mean_reversion_rate': 7.572874088738013, 'wiener_correlation': -0.7119178902681154}\u001b[0m\n",
      "\u001b[32m2024-08-29 21:25:49.862\u001b[0m | \u001b[34m\u001b[1mDEBUG   \u001b[0m | \u001b[36mstochastic_volatility_models.src.core.calibration\u001b[0m:\u001b[36mminimise_cost_function\u001b[0m:\u001b[36m130\u001b[0m - \u001b[34m\u001b[1mCost is 0.0769191436767006 with parameters {'initial_variance': 0.0895791230480412, 'long_term_variance': 0.02065590961467605, 'volatility_of_volatility': 2.6699215710053936, 'mean_reversion_rate': 7.572874088738013, 'wiener_correlation': -0.7119178902681154}\u001b[0m\n",
      "\u001b[32m2024-08-29 21:26:04.736\u001b[0m | \u001b[34m\u001b[1mDEBUG   \u001b[0m | \u001b[36mstochastic_volatility_models.src.core.calibration\u001b[0m:\u001b[36mminimise_cost_function\u001b[0m:\u001b[36m130\u001b[0m - \u001b[34m\u001b[1mCost is 0.0749389694895485 with parameters {'initial_variance': 0.0895791230480412, 'long_term_variance': 0.02065590961467605, 'volatility_of_volatility': 2.6699215610053937, 'mean_reversion_rate': 7.572874098738013, 'wiener_correlation': -0.7119178902681154}\u001b[0m\n",
      "\u001b[32m2024-08-29 21:26:20.801\u001b[0m | \u001b[34m\u001b[1mDEBUG   \u001b[0m | \u001b[36mstochastic_volatility_models.src.core.calibration\u001b[0m:\u001b[36mminimise_cost_function\u001b[0m:\u001b[36m130\u001b[0m - \u001b[34m\u001b[1mCost is 0.07587928680613214 with parameters {'initial_variance': 0.0895791230480412, 'long_term_variance': 0.02065590961467605, 'volatility_of_volatility': 2.6699215610053937, 'mean_reversion_rate': 7.572874088738013, 'wiener_correlation': -0.7119178802681153}\u001b[0m\n",
      "\u001b[32m2024-08-29 21:26:43.218\u001b[0m | \u001b[34m\u001b[1mDEBUG   \u001b[0m | \u001b[36mstochastic_volatility_models.src.core.calibration\u001b[0m:\u001b[36mminimise_cost_function\u001b[0m:\u001b[36m130\u001b[0m - \u001b[34m\u001b[1mCost is 0.07500863372288923 with parameters {'initial_variance': 0.0895791230480412, 'long_term_variance': 0.020655909614676057, 'volatility_of_volatility': 2.6699215610053937, 'mean_reversion_rate': 7.572874088738013, 'wiener_correlation': -0.7119178902681154}\u001b[0m\n",
      "\u001b[32m2024-08-29 21:26:58.928\u001b[0m | \u001b[34m\u001b[1mDEBUG   \u001b[0m | \u001b[36mstochastic_volatility_models.src.core.calibration\u001b[0m:\u001b[36mminimise_cost_function\u001b[0m:\u001b[36m130\u001b[0m - \u001b[34m\u001b[1mCost is 0.07516525673606388 with parameters {'initial_variance': 0.0895791230480412, 'long_term_variance': 0.02065591961467606, 'volatility_of_volatility': 2.6699215610053937, 'mean_reversion_rate': 7.572874088738013, 'wiener_correlation': -0.7119178902681154}\u001b[0m\n",
      "\u001b[32m2024-08-29 21:27:20.224\u001b[0m | \u001b[34m\u001b[1mDEBUG   \u001b[0m | \u001b[36mstochastic_volatility_models.src.core.calibration\u001b[0m:\u001b[36mminimise_cost_function\u001b[0m:\u001b[36m130\u001b[0m - \u001b[34m\u001b[1mCost is 0.07500716567920858 with parameters {'initial_variance': 0.0895791230480412, 'long_term_variance': 0.020655909614676057, 'volatility_of_volatility': 2.6699215710053936, 'mean_reversion_rate': 7.572874088738013, 'wiener_correlation': -0.7119178902681154}\u001b[0m\n",
      "\u001b[32m2024-08-29 21:27:34.457\u001b[0m | \u001b[34m\u001b[1mDEBUG   \u001b[0m | \u001b[36mstochastic_volatility_models.src.core.calibration\u001b[0m:\u001b[36mminimise_cost_function\u001b[0m:\u001b[36m130\u001b[0m - \u001b[34m\u001b[1mCost is 0.07499301482697923 with parameters {'initial_variance': 0.0895791230480412, 'long_term_variance': 0.020655909614676057, 'volatility_of_volatility': 2.6699215610053937, 'mean_reversion_rate': 7.572874098738013, 'wiener_correlation': -0.7119178902681154}\u001b[0m\n",
      "\u001b[32m2024-08-29 21:27:48.405\u001b[0m | \u001b[34m\u001b[1mDEBUG   \u001b[0m | \u001b[36mstochastic_volatility_models.src.core.calibration\u001b[0m:\u001b[36mminimise_cost_function\u001b[0m:\u001b[36m130\u001b[0m - \u001b[34m\u001b[1mCost is 0.07544969058796877 with parameters {'initial_variance': 0.0895791230480412, 'long_term_variance': 0.020655909614676057, 'volatility_of_volatility': 2.6699215610053937, 'mean_reversion_rate': 7.572874088738013, 'wiener_correlation': -0.7119178802681153}\u001b[0m\n",
      "{'initial_variance': 0.0895791230480412, 'long_term_variance': 0.020655909614676057, 'volatility_of_volatility': 2.6699215610053937, 'mean_reversion_rate': 7.572874088738013, 'wiener_correlation': -0.7119178902681154}\n"
     ]
    }
   ],
   "source": [
    "nb.to_fit = True\n",
    "WEIGHTS = dict(\n",
    "\tskew_weight=0.00,\n",
    "\tvol_weight=1.0,\n",
    ")\n",
    "parameters = nb.fit(**WEIGHTS)\n",
    "print(parameters)"
   ]
  },
  {
   "cell_type": "code",
   "execution_count": 4,
   "metadata": {},
   "outputs": [
    {
     "data": {
      "application/vnd.plotly.v1+json": {
       "config": {
        "plotlyServerURL": "https://plot.ly",
        "toImageButtonOptions": {
         "filename": "surface",
         "format": "svg",
         "height": 400,
         "scale": 1,
         "width": 600
        }
       },
       "data": [
        {
         "colorscale": [
          [
           0,
           "orange"
          ],
          [
           1,
           "red"
          ]
         ],
         "name": "Model",
         "opacity": 0.4,
         "showlegend": true,
         "showscale": false,
         "type": "surface",
         "x": [
          "2015-09-18",
          "2015-10-16",
          "2015-11-20",
          "2015-12-19",
          "2016-01-15",
          "2016-03-18",
          "2016-06-17",
          "2016-12-16",
          "2017-01-20",
          "2017-06-16",
          "2017-12-15"
         ],
         "y": [
          500,
          600,
          700,
          800,
          850,
          900,
          950,
          1000,
          1025,
          1050,
          1075,
          1100,
          1125,
          1150,
          1175,
          1200,
          1225,
          1250,
          1275,
          1300,
          1325,
          1350,
          1375,
          1400,
          1425,
          1450,
          1475,
          1500,
          1525,
          1550,
          1575,
          1600,
          1625,
          1650,
          1675,
          1700,
          1725,
          1750,
          1775,
          1800,
          1825,
          1850,
          1875,
          1900,
          1925,
          1950,
          1975,
          2000,
          2025,
          2050,
          2075,
          2100,
          2125,
          2150,
          2175,
          2200,
          2225,
          2250,
          2275,
          2300,
          2350,
          2400,
          2500
         ],
         "z": [
          [
           1.7053768665381124,
           1.0703728228986888,
           0.8305289321355844,
           0.775750471280588,
           0.7314373630304829,
           0.6429266705058906,
           0.5638343759567127,
           0.48112470656711753,
           0.46985135301651065,
           0.4333293706128336,
           0.4033610418841894
          ],
          [
           1.478846072476277,
           0.9281916955062062,
           0.7771056871694165,
           0.7241051236339348,
           0.6798113679389713,
           0.5995074743194443,
           0.527244421799556,
           0.4519395968265323,
           0.4417344924842676,
           0.40941149802395194,
           0.38261819281018744
          ],
          [
           1.2878372013139678,
           0.8127389478053848,
           0.7286854522572309,
           0.675987301005592,
           0.633304236791017,
           0.5602145237199222,
           0.49461584649660695,
           0.4262754040593698,
           0.4170428683547018,
           0.38821276155691214,
           0.36435525388486567
          ],
          [
           1.1225566820247954,
           0.7660633526448783,
           0.6837005584871532,
           0.6305787072618833,
           0.5911997758855482,
           0.5239792093286828,
           0.4648775479265201,
           0.40289859859596966,
           0.3946192537061986,
           0.369111610770988,
           0.3479128106603076
          ],
          [
           1.0475127483038913,
           0.7426333029849916,
           0.6620459295372924,
           0.6089719362276628,
           0.5712791089345879,
           0.5069351761772234,
           0.45085725725676945,
           0.39198949905016295,
           0.3841668562747563,
           0.36017420473137307,
           0.3402600062252121
          ],
          [
           0.9767260836660174,
           0.7190078212107068,
           0.6404920231146103,
           0.5880127422239845,
           0.5518188255422433,
           0.49038166899427976,
           0.43721549335390714,
           0.38149061957731906,
           0.3740869453038268,
           0.3516010859275501,
           0.33294692124550834
          ],
          [
           0.9097153638334026,
           0.6963823919278499,
           0.6190859594579451,
           0.5678508161411547,
           0.5328309622634593,
           0.47430896772268216,
           0.4239326321315829,
           0.37132233236066825,
           0.36435549203675904,
           0.34332276228341263,
           0.3259297683244211
          ],
          [
           0.8460734062650399,
           0.6745557784360656,
           0.597835965547729,
           0.5479965202369763,
           0.5141947117835569,
           0.45866594690465384,
           0.4111530684625702,
           0.3614981581609839,
           0.35495850680265534,
           0.335286387487523,
           0.3191478144700228
          ],
          [
           0.8154050120955064,
           0.6639119888947497,
           0.5872675531431325,
           0.53820928463965,
           0.505103259213272,
           0.4509846701902204,
           0.4048586030379071,
           0.3566943565061348,
           0.3503819089372274,
           0.33137124777784593,
           0.3158388718124163
          ],
          [
           0.7854523199773898,
           0.653019173058726,
           0.5767805730709913,
           0.5284182196525342,
           0.4960528464951339,
           0.44337719299150974,
           0.39862037959699415,
           0.3519767879487665,
           0.34587856651910165,
           0.327525404505872,
           0.3125716020523304
          ],
          [
           0.7561792394854865,
           0.6421120832458317,
           0.5663785802394258,
           0.5186747731938591,
           0.48705318461576,
           0.4358512861687281,
           0.3924434280158079,
           0.3473309908184779,
           0.3414418621274393,
           0.3237462255023675,
           0.30934764227675
          ],
          [
           0.7275521030390724,
           0.6311163777184806,
           0.5559707740961123,
           0.5090059073430333,
           0.47815577406823967,
           0.4283871601309024,
           0.386337676179966,
           0.34274269194744,
           0.3370572884670278,
           0.3200176148191965,
           0.3061767431536606
          ],
          [
           0.6995394351058217,
           0.6200038620576807,
           0.5456213706643989,
           0.49945478717829667,
           0.4693253955362318,
           0.42097200266580337,
           0.3802920435268649,
           0.3382121071529602,
           0.3327330545423023,
           0.3163295915717482,
           0.3030547353716136
          ],
          [
           0.6745276834370563,
           0.6089969896960885,
           0.5353925508534356,
           0.48999248639276466,
           0.4605649384108329,
           0.4136241369210584,
           0.3743150177636304,
           0.33372524213908644,
           0.3284721677020588,
           0.31269227658046916,
           0.29998149372532545
          ],
          [
           0.6639049513343905,
           0.5980484590055033,
           0.5251750310737278,
           0.4806213128569517,
           0.4518866732616407,
           0.4063503123099191,
           0.3683943974250895,
           0.3292743712528148,
           0.3242692722500483,
           0.3091217317004645,
           0.2969380335161565
          ],
          [
           0.6533825271829083,
           0.587025139184468,
           0.5149771547667562,
           0.471285226195647,
           0.44327125891496216,
           0.3991422242115636,
           0.36254226493502933,
           0.3248746333675524,
           0.3201204858056621,
           0.30559219385908026,
           0.29393738331884345
          ],
          [
           0.6422596578408333,
           0.5759209180332412,
           0.5048035248709345,
           0.4619963837513172,
           0.4346922707982496,
           0.3920199728869581,
           0.35675172954998285,
           0.32052127652364915,
           0.3160112099062475,
           0.3020852939887037,
           0.29097311140487214
          ],
          [
           0.6305849916720535,
           0.5647598813352939,
           0.49461561993072406,
           0.4526965949229565,
           0.42616793636564504,
           0.3849698893468708,
           0.3509982664821556,
           0.3162257422835092,
           0.31193590823378303,
           0.298628491522424,
           0.2880555126880432
          ],
          [
           0.6188669599153953,
           0.5535665418286017,
           0.48441460045397505,
           0.4434152001159159,
           0.41770637902581104,
           0.37795122389501346,
           0.34530843813258066,
           0.3119963415839517,
           0.3079083750540445,
           0.2952365634064641,
           0.2851772450289072
          ],
          [
           0.6073474622994333,
           0.5423385875294087,
           0.4742086226126565,
           0.4341532759843704,
           0.409272873248132,
           0.37096890412483285,
           0.33967452317109875,
           0.30782377032832736,
           0.3039325300634469,
           0.2918895995568242,
           0.2823438834395803
          ],
          [
           0.5958961088419513,
           0.5310246093621936,
           0.46396574779666183,
           0.4249105792466855,
           0.400888087147584,
           0.3640169984738208,
           0.33407926117531406,
           0.3036863526546958,
           0.29999944785883426,
           0.28857952506534157,
           0.2795369199789239
          ],
          [
           0.5846401658086875,
           0.5196200690309388,
           0.453635357444242,
           0.41568709892465666,
           0.39255538840106013,
           0.3570928658113853,
           0.3285163523728789,
           0.2995865926558708,
           0.2960989470235909,
           0.2853044056675529,
           0.2767658307062981
          ],
          [
           0.5733965755672238,
           0.5081650620295433,
           0.4432332755303424,
           0.4064825459279555,
           0.38428176501574474,
           0.3502211408805107,
           0.3229811668137231,
           0.29552325865887796,
           0.29222784948309494,
           0.28204744327410936,
           0.27403309814438204
          ],
          [
           0.5619717550441782,
           0.496563556176206,
           0.4327846720991199,
           0.3972986432865718,
           0.3760190658884364,
           0.34339799420088235,
           0.3174812857244988,
           0.2915128496010259,
           0.28839001383507723,
           0.2788305305268879,
           0.2713326949060426
          ],
          [
           0.5505287492296769,
           0.4848332383945292,
           0.4222916294157385,
           0.38812546957203664,
           0.36776539762080945,
           0.3365984059554842,
           0.31200873985124955,
           0.2875343713922782,
           0.28458374465935077,
           0.2756518798788187,
           0.2686596237336018
          ],
          [
           0.5388146691396156,
           0.4729778538777501,
           0.411774698139834,
           0.3789556135712095,
           0.3594975178478677,
           0.3297989677851652,
           0.30656489808709814,
           0.2835811890196609,
           0.2808055721844918,
           0.2724939894745341,
           0.2660165583831925
          ],
          [
           0.5270726062959844,
           0.4610000881838397,
           0.4012386907125362,
           0.36977766940051027,
           0.3512235870100867,
           0.32299783677630356,
           0.3011504466912447,
           0.27966039132757103,
           0.27704463937822316,
           0.26936176848378585,
           0.26340762717727456
          ],
          [
           0.5150739425817857,
           0.4488787479357568,
           0.3906554869443836,
           0.3605606347973314,
           0.342956669852276,
           0.31620579461656695,
           0.29573876552999423,
           0.2757637717120547,
           0.2733169842209132,
           0.26626290217291126,
           0.2608288049410297
          ],
          [
           0.502946069391731,
           0.4365872034488371,
           0.3799956035276068,
           0.3513314845314209,
           0.33468019726544995,
           0.30944075574917757,
           0.2903310424375226,
           0.27189133536565274,
           0.26961435786286,
           0.2631890683453443,
           0.25828064198587003
          ],
          [
           0.4907646284653789,
           0.4241109403876031,
           0.3692853336567098,
           0.3420986868004426,
           0.3263739840422687,
           0.30268922268341525,
           0.28493198261170744,
           0.26804470302213307,
           0.26594460375543416,
           0.26013781240089456,
           0.2557636944610119
          ],
          [
           0.47812010143357825,
           0.41148549123655376,
           0.35851055432601736,
           0.3328266904511597,
           0.31805309799548015,
           0.29593164131486793,
           0.2795516806460441,
           0.26421226851285423,
           0.26230404105805455,
           0.2571143566496204,
           0.25326668161458993
          ],
          [
           0.46502642037760766,
           0.3985932340925852,
           0.34767692944229506,
           0.32353079817361907,
           0.3097120331175658,
           0.2891809604383933,
           0.274180858301698,
           0.2604121230718889,
           0.25869130645628097,
           0.25411413159720825,
           0.25079161855413756
          ],
          [
           0.4516556694160158,
           0.38548153064151086,
           0.33680039605282985,
           0.3141836140317122,
           0.30134736900246306,
           0.28243190037432153,
           0.2688181790248506,
           0.2566323884589743,
           0.25511314293721893,
           0.25114567352355505,
           0.24833981056065568
          ],
          [
           0.4379985818484553,
           0.37214442394110986,
           0.32588574826585365,
           0.3047890217255808,
           0.29296102344999353,
           0.2756809176521467,
           0.2634682776064682,
           0.25288043088682394,
           0.2515548790530078,
           0.24819695045317744,
           0.24591017393829775
          ],
          [
           0.4239923948365765,
           0.3585626662150974,
           0.31489972117226134,
           0.2953624595688757,
           0.28453663406642943,
           0.2689186236444554,
           0.25813790963086264,
           0.2491460496002449,
           0.24802587798216297,
           0.24526686136772763,
           0.24350905360994685
          ],
          [
           0.40940749485138495,
           0.344683915393715,
           0.3038298680048321,
           0.28588920509103344,
           0.2760827843346385,
           0.26215456794309394,
           0.25281754245318716,
           0.2454445263571416,
           0.2445212247519672,
           0.24236126425935872,
           0.24112930805851965
          ],
          [
           0.3941686748164385,
           0.3304764746096553,
           0.29262354889916553,
           0.2763635159594086,
           0.2675989040193859,
           0.2553854022056968,
           0.247512780640326,
           0.2417614776254272,
           0.24104156232685,
           0.2394772270695379,
           0.23877374418376937
          ],
          [
           0.37825289805322865,
           0.3159849164134678,
           0.2812717340324962,
           0.2667695896061379,
           0.2590912181921903,
           0.24861632206168643,
           0.24223176107409192,
           0.23808763697927177,
           0.23757655579465503,
           0.236617975604346,
           0.23644660899818223
          ],
          [
           0.3614876419264933,
           0.30114985671934613,
           0.269794663631081,
           0.2571198569758194,
           0.25054927631535945,
           0.2418365653071415,
           0.23697402429014572,
           0.23442442667963495,
           0.2341185128287467,
           0.23377360050140003,
           0.2341398652791941
          ],
          [
           0.3436828447683761,
           0.28597596690292587,
           0.2581944911405081,
           0.24737998301623823,
           0.24197272772402237,
           0.23504568346180965,
           0.2317188705055056,
           0.23077403576780117,
           0.23067601940287144,
           0.2309582522113319,
           0.2318534567763843
          ],
          [
           0.3246849274681023,
           0.2703642363461542,
           0.2464731003738116,
           0.237543969766199,
           0.23334304963540548,
           0.2282547289361549,
           0.22646976545354883,
           0.2271443384587467,
           0.22724230468670717,
           0.22816141816009464,
           0.22958984788515915
          ],
          [
           0.3042804362139946,
           0.25430047368645164,
           0.2345778561192536,
           0.2276587080083295,
           0.22465078162468172,
           0.22145852276344336,
           0.22124823203559965,
           0.2235318292765349,
           0.2238221704896958,
           0.22538449676404465,
           0.2273424495831476
          ],
          [
           0.28229197703958786,
           0.23783882909111892,
           0.22250234570981955,
           0.2176603224756705,
           0.215906280613075,
           0.2146472882198049,
           0.2160295065980756,
           0.21995221122129627,
           0.22043310633977817,
           0.2226263757420584,
           0.22510813186102216
          ],
          [
           0.2584172275658196,
           0.22097186837755692,
           0.21026106692656815,
           0.2075505297222974,
           0.2071134038280033,
           0.20782545576906056,
           0.2108081434187102,
           0.2163959169825356,
           0.21706460960841495,
           0.21988593251215016,
           0.2228938957417563
          ],
          [
           0.2331364829832667,
           0.20333081284901192,
           0.19686824382098744,
           0.19654157362626076,
           0.19774271748761463,
           0.2010385669849566,
           0.2054543188162084,
           0.21139893521901312,
           0.21257855747348195,
           0.21623799415769135,
           0.2193192582787156
          ],
          [
           0.20607584898941292,
           0.18587891033977524,
           0.18439831298140377,
           0.18632094447616965,
           0.18886323385111356,
           0.19422963955506065,
           0.2002729666144744,
           0.20788922277783367,
           0.20925421900793115,
           0.21354345830566543,
           0.21713937827880933
          ],
          [
           0.17989196005181968,
           0.16858485937946868,
           0.17192718255690204,
           0.17611557980717438,
           0.17997749907150987,
           0.18742046613555008,
           0.19510938051149548,
           0.2043955533623628,
           0.2059524957078086,
           0.2108718625463694,
           0.2149785610933261
          ],
          [
           0.15847083180359156,
           0.15232477065583577,
           0.15965212997586686,
           0.1659618180758372,
           0.17114465948818253,
           0.1806324517096576,
           0.1899548308859132,
           0.20092399923926232,
           0.20266468765954973,
           0.20821277128339225,
           0.2128385055806538
          ],
          [
           0.14488243982988722,
           0.13830250936223357,
           0.1479593920376758,
           0.15601563548494524,
           0.16243621482050508,
           0.17388845200386385,
           0.18482774306480249,
           0.19748189454068543,
           0.1994047996673152,
           0.2055674449777076,
           0.21071563314186528
          ],
          [
           0.13852574472885587,
           0.1276314682827063,
           0.13720996840433103,
           0.1464954467882642,
           0.1539004214776707,
           0.16721634230051738,
           0.1797267096567788,
           0.19406585573464585,
           0.1961757293828785,
           0.202941484861364,
           0.20861003847283469
          ],
          [
           0.13698414185610966,
           0.1205624781274115,
           0.12791104160449118,
           0.1376033850066547,
           0.14566453078275182,
           0.16066023140442945,
           0.17467338563925072,
           0.1906727411163424,
           0.19297213597698015,
           0.20033296340853352,
           0.206521067586094
          ],
          [
           0.1378885020163656,
           0.11662360002793495,
           0.12042647450257428,
           0.1296237146330801,
           0.13796689906501977,
           0.15423166133814836,
           0.16970197672634335,
           0.1873106377901231,
           0.1897921733543992,
           0.19773913217803496,
           0.2044467038855832
          ],
          [
           0.15263808804759085,
           0.11492835852314089,
           0.11488458202389522,
           0.1227291012918978,
           0.13094255228130572,
           0.14798315678253882,
           0.1648102619558252,
           0.18398405849857455,
           0.18663583447423465,
           0.19515995446639825,
           0.20239205058385024
          ],
          [
           0.16809727445127812,
           0.11450211024732222,
           0.11108731489461124,
           0.11700934698940418,
           0.12471835257298894,
           0.14197026403396168,
           0.16000364265685338,
           0.1806820493055395,
           0.1835091980853953,
           0.1926059357783901,
           0.20035660988208795
          ],
          [
           0.1832552692533247,
           0.11501942105027188,
           0.10868753003732835,
           0.1125329598876601,
           0.11936882149876515,
           0.13625392946071985,
           0.15530672079863556,
           0.1774200784458709,
           0.1804087248588514,
           0.19007860641860871,
           0.1983369518496657
          ],
          [
           0.19813214366305085,
           0.12435683049348364,
           0.10738995834356016,
           0.10923655812372796,
           0.11488373371223684,
           0.13088539286534795,
           0.15070766947768052,
           0.17418620208508476,
           0.17733494334862698,
           0.1875734606086593,
           0.19633418504700015
          ],
          [
           0.21274481527793349,
           0.1335284141319227,
           0.1068023080507599,
           0.10686412175203512,
           0.11121095105574448,
           0.12597283719541885,
           0.1462541262148487,
           0.17097938539019772,
           0.17428391107264518,
           0.1850871617179758,
           0.19434298503004943
          ],
          [
           0.22710781542948583,
           0.14254329249644507,
           0.10752012464225526,
           0.10527785621487772,
           0.10827307609678752,
           0.12159806255271452,
           0.1419641482304722,
           0.16780193122725895,
           0.17128504909597148,
           0.1826187466142,
           0.19236254999702904
          ],
          [
           0.24123382077774536,
           0.1514094220409323,
           0.11420782868656462,
           0.10433856917789304,
           0.10603368604535944,
           0.11769317222456112,
           0.13784675034143046,
           0.1646765840551886,
           0.1683160858574023,
           0.18017050902301612,
           0.19039237682340904
          ],
          [
           0.25513403350102687,
           0.16013383376683665,
           0.12078863525957809,
           0.1035078286740532,
           0.10444040304728276,
           0.11416080058332156,
           0.13390135156835123,
           0.16160823455967557,
           0.1653866742096191,
           0.17774827691717193,
           0.1884379134185688
          ],
          [
           0.2822961242374313,
           0.17718200904575568,
           0.1336480402782892,
           0.1145151763129656,
           0.1028166747213054,
           0.10852613057962328,
           0.12672950289264356,
           0.15561041063093276,
           0.15966277725444808,
           0.17298388806583728,
           0.18455445560268355
          ],
          [
           0.30866325569004743,
           0.19373123137804235,
           0.14613108607256417,
           0.12521116696930176,
           0.11241999742090224,
           0.10471977993735818,
           0.12056071146793172,
           0.1497895347323692,
           0.15410605664090626,
           0.16835880860838753,
           0.1807439141836731
          ],
          [
           0.35923540792285,
           0.22547263611245297,
           0.1700735651158991,
           0.14572607465749465,
           0.1308391682122912,
           0.10831355086275991,
           0.11124095120954754,
           0.13902930590920798,
           0.14362663929854166,
           0.15955156263948744,
           0.17336111934954945
          ]
         ]
        },
        {
         "colorscale": [
          [
           0,
           "purple"
          ],
          [
           1,
           "blue"
          ]
         ],
         "name": "Market",
         "opacity": 0.4,
         "showlegend": true,
         "showscale": false,
         "type": "surface",
         "x": [
          "2015-09-18",
          "2015-10-16",
          "2015-11-20",
          "2015-12-19",
          "2016-01-15",
          "2016-03-18",
          "2016-06-17",
          "2016-12-16",
          "2017-01-20",
          "2017-06-16",
          "2017-12-15"
         ],
         "y": [
          500,
          600,
          700,
          800,
          850,
          900,
          950,
          1000,
          1025,
          1050,
          1075,
          1100,
          1125,
          1150,
          1175,
          1200,
          1225,
          1250,
          1275,
          1300,
          1325,
          1350,
          1375,
          1400,
          1425,
          1450,
          1475,
          1500,
          1525,
          1550,
          1575,
          1600,
          1625,
          1650,
          1675,
          1700,
          1725,
          1750,
          1775,
          1800,
          1825,
          1850,
          1875,
          1900,
          1925,
          1950,
          1975,
          2000,
          2025,
          2050,
          2075,
          2100,
          2125,
          2150,
          2175,
          2200,
          2225,
          2250,
          2275,
          2300,
          2350,
          2400,
          2500
         ],
         "z": [
          [
           1.7928231884120032,
           1.159450096399722,
           0.936732055570529,
           0.8422735852172881,
           0.7435188091270073,
           0.7041290495953452,
           0.6083806193274407,
           0.4595386042756491,
           0.5157926382125304,
           0.474930266736735,
           0.4123345740182516
          ],
          [
           1.5552706689626536,
           1.0483899117424658,
           0.9153265502956854,
           0.7309631373340104,
           0.7153381439292775,
           0.6218438756212226,
           0.5316241010905411,
           0.41819364234420936,
           0.4600083097416221,
           0.43600972668673527,
           0.380654815420756
          ],
          [
           1.3550371407361366,
           1.0402812030003392,
           0.8088036831944829,
           0.6670256470777374,
           0.6356204509931423,
           0.5574567328915324,
           0.4695996175530142,
           0.41692553923618414,
           0.41439294539451127,
           0.40044839332348864,
           0.3705281118595802
          ],
          [
           1.2922813383648115,
           0.9267336559835436,
           0.7202928149821297,
           0.6207413778679993,
           0.5876663792040954,
           0.5165601646294289,
           0.46099614364167374,
           0.3982517460559672,
           0.3927346995581014,
           0.3723982368427741,
           0.35495378395997107
          ],
          [
           1.347834643126389,
           0.8620769899325793,
           0.6801504500604653,
           0.5858390998563334,
           0.5580778914705486,
           0.5006791677824591,
           0.4478320776729428,
           0.38945985385939896,
           0.3806951230340951,
           0.3594629565792992,
           0.3390359013354753
          ],
          [
           1.2655524451270477,
           0.8088364640447896,
           0.6473147000005216,
           0.5703053119826059,
           0.5398690787858174,
           0.4855692104485454,
           0.42688562236287014,
           0.380008867816474,
           0.3695045190351536,
           0.34821657085116714,
           0.32991520568225896
          ],
          [
           1.1869662508044452,
           0.7708352549368948,
           0.6127029150302937,
           0.5511829100934901,
           0.5227467670010915,
           0.4719082371776477,
           0.4145218625898217,
           0.36989562566300377,
           0.35879170076957273,
           0.33829597712457465,
           0.32181026932421447
          ],
          [
           0.9618410431283944,
           0.734334657600787,
           0.5934578224039753,
           0.5227526240959108,
           0.5052366972125846,
           0.45698223461951015,
           0.4094119865772763,
           0.35349893929547765,
           0.3493044660935831,
           0.32921919360377283,
           0.3140678410753496
          ],
          [
           1.0670455023629084,
           0.710954202327609,
           0.570288709677465,
           0.5273803198332718,
           0.49792666240573774,
           0.4493205502054402,
           0.4031692340622647,
           0.35513589176526333,
           0.3442174160743779,
           0.3251071167519967,
           0.3100445979779375
          ],
          [
           1.0342245439404305,
           0.690202820914725,
           0.5638192162613131,
           0.5185610604144333,
           0.48920817571434616,
           0.4423165961726942,
           0.3949224226446542,
           0.3500580886771532,
           0.33965713432231087,
           0.3209825371210244,
           0.3064054566606844
          ],
          [
           0.9968112419737782,
           0.669578211549887,
           0.5564957343475532,
           0.5094958943227025,
           0.4807383693887959,
           0.4357810830857891,
           0.3914610192653252,
           0.34546250877057016,
           0.3351125079385911,
           0.31683827118629465,
           0.3028405812847539
          ],
          [
           0.8424911072943627,
           0.6510039048896681,
           0.5476330521211783,
           0.5001974870187681,
           0.4728144673516702,
           0.4285848858307495,
           0.3855187524003248,
           0.340464543953568,
           0.33019335348502493,
           0.31295844963885805,
           0.29933181117657726
          ],
          [
           0.929019793719042,
           0.632305212549867,
           0.53833986229544,
           0.4911660651888594,
           0.46488355572728457,
           0.4222024110182516,
           0.3797045315309291,
           0.33585725715956577,
           0.3258330838745473,
           0.30887901557335645,
           0.29586390271343366
          ],
          [
           0.8798798451339312,
           0.6273421783909799,
           0.5273332185280931,
           0.4831593667168693,
           0.4575608893888566,
           0.4151674183337722,
           0.37368960505821947,
           0.331557883463332,
           0.32142539403331577,
           0.30526902802810657,
           0.29232030583411783
          ],
          [
           0.8675054548372383,
           0.6141892125833227,
           0.51681716303814,
           0.4742450657029571,
           0.44882541505651063,
           0.40835810382451865,
           0.368273320174947,
           0.3271737462042412,
           0.3175852169502744,
           0.30130993038853154,
           0.2889024466508904
          ],
          [
           0.7814768482188407,
           0.5940690895017238,
           0.5027656179375367,
           0.4660478474106706,
           0.4411943356913735,
           0.4016934791076765,
           0.36258518860203715,
           0.3227038091426101,
           0.3134701952683565,
           0.2977411097713222,
           0.2857743019693498
          ],
          [
           0.807119300041003,
           0.5900782246543496,
           0.4975095374451405,
           0.457004412030995,
           0.4338484786289928,
           0.3947797854709982,
           0.3571059866958014,
           0.31843520576055634,
           0.3093861379851172,
           0.2940532204888855,
           0.2825301701055132
          ],
          [
           0.7007110468546583,
           0.5766575889845664,
           0.4869539988301766,
           0.4484725410313193,
           0.42620009842318984,
           0.3882466564397064,
           0.3513469608347841,
           0.3140480303141651,
           0.3051827673299639,
           0.29046238457569357,
           0.27934961513807693
          ],
          [
           0.7413678385080703,
           0.5494659008112063,
           0.4780441077678998,
           0.4408174185137006,
           0.41783687728159735,
           0.3811288669412582,
           0.346924804043004,
           0.3098033480926757,
           0.3006162513405019,
           0.28684446750802456,
           0.27613502740027335
          ],
          [
           0.6958947336591922,
           0.5288860205315213,
           0.4688128071186685,
           0.4317448661396229,
           0.4104553003018725,
           0.37456984505257657,
           0.34021267412394673,
           0.30541927143099673,
           0.2971364293329492,
           0.2834781343138375,
           0.2731987026641014
          ],
          [
           0.6578226525021991,
           0.5242988907168311,
           0.45859770940640937,
           0.4238363292003222,
           0.4030557067018997,
           0.3679311959967961,
           0.33492095647998527,
           0.3009005710153937,
           0.29311795223406606,
           0.27995517799208447,
           0.2701215388628346
          ],
          [
           0.620317482573705,
           0.5110763735388235,
           0.4487638652052478,
           0.41505804572770216,
           0.3949104042355595,
           0.36142279988666653,
           0.32946005284986296,
           0.2965835579157791,
           0.2890466179358172,
           0.2766329762509642,
           0.2669850461672701
          ],
          [
           0.6270531933904655,
           0.499731054471212,
           0.4396829297945711,
           0.4071050527091324,
           0.3873775913763969,
           0.35476567370079104,
           0.3241436693622315,
           0.29242471586482166,
           0.28511697208153697,
           0.27314183753899746,
           0.2640689352097207
          ],
          [
           0.6208911981351265,
           0.4828682569571275,
           0.42957985797695625,
           0.3986418560258831,
           0.3796939394484875,
           0.34794815790908556,
           0.3183286546654825,
           0.2882855781573265,
           0.2811012185738078,
           0.2698113842142843,
           0.26093631867612854
          ],
          [
           0.6093311923570303,
           0.4740875845929266,
           0.4199837164410607,
           0.3900416437247032,
           0.37183254828487566,
           0.3419166667973505,
           0.31304715407399,
           0.2846291865348034,
           0.2771799138362302,
           0.266457941902453,
           0.2580593672605255
          ],
          [
           0.5884317230740461,
           0.46253841137131424,
           0.4111012803545117,
           0.3824952830852259,
           0.3642755439371281,
           0.3348733161457392,
           0.30805636613818727,
           0.28008444861078263,
           0.2730593740387549,
           0.26307293831815715,
           0.255026092460454
          ],
          [
           0.5511476660681506,
           0.4503282025716568,
           0.40150664877795134,
           0.3745578908338666,
           0.3576072568492137,
           0.32915249892032195,
           0.3029038552199961,
           0.2758056545843224,
           0.26934354333591337,
           0.25979160448783756,
           0.2515987233218725
          ],
          [
           0.5407161461825605,
           0.4388061935279396,
           0.3916120657273364,
           0.3670200451008634,
           0.35005321803747164,
           0.3225702605569817,
           0.29770217053351755,
           0.2718298867790645,
           0.2654781598960677,
           0.25645387233523603,
           0.2493495939343596
          ],
          [
           0.512507471275267,
           0.4275933092316796,
           0.3833363544754576,
           0.35824080841132233,
           0.3421212812812523,
           0.31627796925522556,
           0.29219768818859837,
           0.2683510350457066,
           0.2614634543800206,
           0.25318764279996636,
           0.2465534690494432
          ],
          [
           0.4921856625674382,
           0.4201154022252674,
           0.37379462571595223,
           0.34975422333123063,
           0.3343910553565225,
           0.30961001194181637,
           0.2871648518498411,
           0.26363838022599695,
           0.2577546523556343,
           0.24965102449796647,
           0.24358555896458112
          ],
          [
           0.47612830588425525,
           0.4035489112962414,
           0.36480548168028226,
           0.3412039943952027,
           0.32730104796398585,
           0.30475035224104907,
           0.2829273758725949,
           0.259556463734606,
           0.2541565745111898,
           0.24654785436511711,
           0.24061574507219968
          ],
          [
           0.4536858120250401,
           0.3936709302722536,
           0.3558662848812992,
           0.33331353262770613,
           0.31998268796202317,
           0.2985388395855334,
           0.277448579511984,
           0.2556549587960254,
           0.25007320872367544,
           0.243157688427123,
           0.23768967767540863
          ],
          [
           0.4362015422586357,
           0.3833337103594351,
           0.347306659818632,
           0.326426169002939,
           0.31239478307724267,
           0.2923437752342526,
           0.27180364065305995,
           0.2519695441399853,
           0.2467716740095766,
           0.24002720244237324,
           0.23479644551383969
          ],
          [
           0.4202623241347164,
           0.3727458588710272,
           0.33757471826300806,
           0.31831519112777534,
           0.30541202112796223,
           0.2854029579543981,
           0.26671672950131975,
           0.24707343600839407,
           0.24088754256769251,
           0.2367770401236068,
           0.2318242155285143
          ],
          [
           0.40095474413295606,
           0.36169124419146265,
           0.3302679344285531,
           0.3087444646266517,
           0.2976995230941314,
           0.2802312240213594,
           0.26200118618857404,
           0.24320913329944224,
           0.23925492204726043,
           0.2334041028719845,
           0.22886976981232304
          ],
          [
           0.38558868223307735,
           0.34999325328415476,
           0.32031509786076723,
           0.30114598588269065,
           0.2917439366014428,
           0.2746097866773968,
           0.25654479457644147,
           0.23922124583952473,
           0.23537029281071825,
           0.2301260007426068,
           0.22592396436636455
          ],
          [
           0.37145627888026944,
           0.3396819418546787,
           0.31056858651902847,
           0.29300090016881325,
           0.28328083542683746,
           0.2685317430015111,
           0.2514674477860715,
           0.2351628744032928,
           0.2305585700069516,
           0.22692453240056,
           0.22302627001588912
          ],
          [
           0.3604217399147058,
           0.3275889425835574,
           0.30236311947206357,
           0.2848295251758251,
           0.27554264092747366,
           0.2623843941587613,
           0.24726472589039308,
           0.23108061243699424,
           0.22655799865194548,
           0.2235699583694577,
           0.22007150484692772
          ],
          [
           0.3457655784542721,
           0.3179401842891665,
           0.2929845739314046,
           0.27717842755862193,
           0.26833328393961936,
           0.2563999294425555,
           0.2412101670809593,
           0.22707751729483805,
           0.2232978321288285,
           0.22037231058594045,
           0.21714730033134452
          ],
          [
           0.3326386168938615,
           0.30572389909649794,
           0.2864368301129264,
           0.26905656242815146,
           0.261017532318063,
           0.25040131777960517,
           0.23618390373749656,
           0.2246422196911334,
           0.21966643554843415,
           0.21700172125392797,
           0.21286247870239225
          ],
          [
           0.31884204397356614,
           0.29467812280578237,
           0.27471400891359604,
           0.26124611447233315,
           0.25393864820844153,
           0.24441140631582473,
           0.2311617478681586,
           0.21896630374731185,
           0.21595148530391292,
           0.21375862339326013,
           0.21176260940941785
          ],
          [
           0.30582942078499364,
           0.284744307784817,
           0.26548663321952165,
           0.2534346446168706,
           0.24640654402500337,
           0.23844695310212377,
           0.22729589109041728,
           0.21487498998596685,
           0.21207975463432976,
           0.2103225913856189,
           0.20873527966540037
          ],
          [
           0.29004100152106255,
           0.2719456330514409,
           0.25616383395771036,
           0.2450960966498592,
           0.23885883089975937,
           0.23065259577184208,
           0.22279767692384084,
           0.21117763654204963,
           0.2084871791729366,
           0.20863998960405275,
           0.20570558588143495
          ],
          [
           0.2758532108085079,
           0.2613117770306865,
           0.24690018213020432,
           0.23737584894797087,
           0.232003827930852,
           0.2242633325476216,
           0.2177221708329796,
           0.2072036984251764,
           0.20486643802480767,
           0.20637447590077845,
           0.20257547849164817
          ],
          [
           0.26069972658246954,
           0.24872377749772925,
           0.2368657435701756,
           0.2287762231935375,
           0.22462814918450355,
           0.2181856460532894,
           0.212327016592193,
           0.20316641804871788,
           0.2012544719440903,
           0.20005459544546592,
           0.19955873738104937
          ],
          [
           0.2444567468182885,
           0.2353583899517351,
           0.22721515078987137,
           0.22056781107651943,
           0.21704496109135335,
           0.21267195945037193,
           0.20745402999705867,
           0.1993045861950952,
           0.1964660851058579,
           0.1969421665272673,
           0.19758927390887351
          ],
          [
           0.2286235253212699,
           0.22139289836987236,
           0.21783400641015507,
           0.2122549716327629,
           0.20992171689553732,
           0.2064203257331172,
           0.20245643272223848,
           0.19562311725658668,
           0.1941640587570879,
           0.19382339566443607,
           0.19491722083480928
          ],
          [
           0.21242011592648607,
           0.21070019008725216,
           0.20858692723943512,
           0.20461963764137103,
           0.20346922694215316,
           0.20067609758158117,
           0.19773254389465947,
           0.191752358997465,
           0.1897368524963133,
           0.19068668939215588,
           0.19229000354687512
          ],
          [
           0.2043606601162384,
           0.20029224318952824,
           0.20001965908150415,
           0.19345727358151607,
           0.19578647529619567,
           0.19436775300881573,
           0.19294695206657164,
           0.18837802645622345,
           0.18630951656476125,
           0.18757071900244127,
           0.189746390952477
          ],
          [
           0.1929210432790632,
           0.1917388313817913,
           0.19106647710158167,
           0.1889621460655591,
           0.18937616922992032,
           0.1888166979866411,
           0.18829111780488372,
           0.18465916695018056,
           0.18326274333313416,
           0.18446517041732896,
           0.1872372877278948
          ],
          [
           0.20456628619861017,
           0.1832353868904697,
           0.1829418719606056,
           0.1818735784168252,
           0.1826991700804565,
           0.1834536216327524,
           0.18366134932761052,
           0.18117687160663656,
           0.17983533761561954,
           0.1814635545418009,
           0.18471326479523123
          ],
          [
           0.1951794475596856,
           0.1782682315926932,
           0.17605225732875826,
           0.17526654323798246,
           0.17653558773516276,
           0.17817060359498205,
           0.17920378415164476,
           0.17768074631376082,
           0.17653719139803217,
           0.17929842280160602,
           0.1822612970470825
          ],
          [
           0.20482162759178557,
           0.17099041077840182,
           0.1697617414214587,
           0.1697914729014344,
           0.17113562439386565,
           0.17381785846130884,
           0.17492834232120244,
           0.174224324412146,
           0.17336924290738556,
           0.17576006848299752,
           0.18025372977227727
          ],
          [
           0.2073677672949026,
           0.16587670669065813,
           0.1645621205223882,
           0.16581143648395266,
           0.16626736991141727,
           0.16873541676107723,
           0.17057886771263478,
           0.1709407005093332,
           0.1701443283397281,
           0.17300472903340805,
           0.17709715537336213
          ],
          [
           0.21131096307516156,
           0.17629190455964516,
           0.1557003540636085,
           0.1600192473962447,
           0.16118257455951232,
           0.16408223985768158,
           0.16688030339001633,
           0.167636356839602,
           0.166988540796336,
           0.17018382364816892,
           0.175144640554839
          ],
          [
           0.21683514145592964,
           0.17092818174875068,
           0.1515488619380177,
           0.15672701964302857,
           0.15710185670941,
           0.15984780915985708,
           0.16290965464169832,
           0.16446163278925102,
           0.1639840918063551,
           0.1674664066531562,
           0.17283745587293764
          ],
          [
           0.2326842217138839,
           0.1778579141804767,
           0.16102914788298842,
           0.14848742545968305,
           0.15010367151700896,
           0.15745335793957543,
           0.1592752856158853,
           0.16144902303232703,
           0.1610130637561783,
           0.1648655415388562,
           0.17055788187170975
          ],
          [
           0.22571786322291815,
           0.17962860990462745,
           0.15237780000392254,
           0.15286905531903683,
           0.146445563500251,
           0.15262260428125785,
           0.15576874490985143,
           0.160510901886335,
           0.15809568154242518,
           0.16240098609327583,
           0.16825734678171914
          ],
          [
           0.23985022349654475,
           0.17122456684222484,
           0.1557610465889695,
           0.15042437812953613,
           0.14238928523149286,
           0.1501169681559576,
           0.15241142988672937,
           0.15567989590567033,
           0.15509317274734616,
           0.15983264699631092,
           0.16604506271114897
          ],
          [
           0.26870844889975287,
           0.17607160544220038,
           0.15445959917704347,
           0.1503515629528477,
           0.14665486920846932,
           0.14326046799948444,
           0.14925727421842228,
           0.15313244219406444,
           0.15275165137174856,
           0.15743890735930224,
           0.16387848219796677
          ],
          [
           0.2972098707451419,
           0.18771506614051447,
           0.1480155250829988,
           0.1477678155925604,
           0.1498795833951271,
           0.13676666046865377,
           0.14114120055675092,
           0.1489600412891292,
           0.14725088423753988,
           0.1527394865545342,
           0.1595487332812219
          ],
          [
           0.3248570216545455,
           0.20505985314540065,
           0.15594025065834655,
           0.13905389310150595,
           0.14550973700270214,
           0.1431389537218062,
           0.13113392548735267,
           0.14565150283397643,
           0.14239918707207505,
           0.14825318114259936,
           0.15549269502482452
          ],
          [
           0.3778355069001888,
           0.2257269775835739,
           0.18099856705684927,
           0.1557521409044136,
           0.15143114336198868,
           0.14448490636018754,
           0.13705050457486553,
           0.1405566422023065,
           0.13351949656061882,
           0.13986783909705483,
           0.14816139030779957
          ]
         ]
        }
       ],
       "layout": {
        "coloraxis": {
         "showscale": false
        },
        "margin": {
         "b": 0,
         "l": 0,
         "r": 0,
         "t": 0
        },
        "scene": {
         "aspectmode": "cube",
         "xaxis": {
          "title": {
           "text": "Expiries"
          }
         },
         "yaxis": {
          "title": {
           "text": "Strikes"
          }
         },
         "zaxis": {
          "title": {
           "text": "Implied Volatility"
          }
         }
        },
        "template": {
         "data": {
          "bar": [
           {
            "error_x": {
             "color": "#2a3f5f"
            },
            "error_y": {
             "color": "#2a3f5f"
            },
            "marker": {
             "line": {
              "color": "#E5ECF6",
              "width": 0.5
             },
             "pattern": {
              "fillmode": "overlay",
              "size": 10,
              "solidity": 0.2
             }
            },
            "type": "bar"
           }
          ],
          "barpolar": [
           {
            "marker": {
             "line": {
              "color": "#E5ECF6",
              "width": 0.5
             },
             "pattern": {
              "fillmode": "overlay",
              "size": 10,
              "solidity": 0.2
             }
            },
            "type": "barpolar"
           }
          ],
          "carpet": [
           {
            "aaxis": {
             "endlinecolor": "#2a3f5f",
             "gridcolor": "white",
             "linecolor": "white",
             "minorgridcolor": "white",
             "startlinecolor": "#2a3f5f"
            },
            "baxis": {
             "endlinecolor": "#2a3f5f",
             "gridcolor": "white",
             "linecolor": "white",
             "minorgridcolor": "white",
             "startlinecolor": "#2a3f5f"
            },
            "type": "carpet"
           }
          ],
          "choropleth": [
           {
            "colorbar": {
             "outlinewidth": 0,
             "ticks": ""
            },
            "type": "choropleth"
           }
          ],
          "contour": [
           {
            "colorbar": {
             "outlinewidth": 0,
             "ticks": ""
            },
            "colorscale": [
             [
              0,
              "#0d0887"
             ],
             [
              0.1111111111111111,
              "#46039f"
             ],
             [
              0.2222222222222222,
              "#7201a8"
             ],
             [
              0.3333333333333333,
              "#9c179e"
             ],
             [
              0.4444444444444444,
              "#bd3786"
             ],
             [
              0.5555555555555556,
              "#d8576b"
             ],
             [
              0.6666666666666666,
              "#ed7953"
             ],
             [
              0.7777777777777778,
              "#fb9f3a"
             ],
             [
              0.8888888888888888,
              "#fdca26"
             ],
             [
              1,
              "#f0f921"
             ]
            ],
            "type": "contour"
           }
          ],
          "contourcarpet": [
           {
            "colorbar": {
             "outlinewidth": 0,
             "ticks": ""
            },
            "type": "contourcarpet"
           }
          ],
          "heatmap": [
           {
            "colorbar": {
             "outlinewidth": 0,
             "ticks": ""
            },
            "colorscale": [
             [
              0,
              "#0d0887"
             ],
             [
              0.1111111111111111,
              "#46039f"
             ],
             [
              0.2222222222222222,
              "#7201a8"
             ],
             [
              0.3333333333333333,
              "#9c179e"
             ],
             [
              0.4444444444444444,
              "#bd3786"
             ],
             [
              0.5555555555555556,
              "#d8576b"
             ],
             [
              0.6666666666666666,
              "#ed7953"
             ],
             [
              0.7777777777777778,
              "#fb9f3a"
             ],
             [
              0.8888888888888888,
              "#fdca26"
             ],
             [
              1,
              "#f0f921"
             ]
            ],
            "type": "heatmap"
           }
          ],
          "heatmapgl": [
           {
            "colorbar": {
             "outlinewidth": 0,
             "ticks": ""
            },
            "colorscale": [
             [
              0,
              "#0d0887"
             ],
             [
              0.1111111111111111,
              "#46039f"
             ],
             [
              0.2222222222222222,
              "#7201a8"
             ],
             [
              0.3333333333333333,
              "#9c179e"
             ],
             [
              0.4444444444444444,
              "#bd3786"
             ],
             [
              0.5555555555555556,
              "#d8576b"
             ],
             [
              0.6666666666666666,
              "#ed7953"
             ],
             [
              0.7777777777777778,
              "#fb9f3a"
             ],
             [
              0.8888888888888888,
              "#fdca26"
             ],
             [
              1,
              "#f0f921"
             ]
            ],
            "type": "heatmapgl"
           }
          ],
          "histogram": [
           {
            "marker": {
             "pattern": {
              "fillmode": "overlay",
              "size": 10,
              "solidity": 0.2
             }
            },
            "type": "histogram"
           }
          ],
          "histogram2d": [
           {
            "colorbar": {
             "outlinewidth": 0,
             "ticks": ""
            },
            "colorscale": [
             [
              0,
              "#0d0887"
             ],
             [
              0.1111111111111111,
              "#46039f"
             ],
             [
              0.2222222222222222,
              "#7201a8"
             ],
             [
              0.3333333333333333,
              "#9c179e"
             ],
             [
              0.4444444444444444,
              "#bd3786"
             ],
             [
              0.5555555555555556,
              "#d8576b"
             ],
             [
              0.6666666666666666,
              "#ed7953"
             ],
             [
              0.7777777777777778,
              "#fb9f3a"
             ],
             [
              0.8888888888888888,
              "#fdca26"
             ],
             [
              1,
              "#f0f921"
             ]
            ],
            "type": "histogram2d"
           }
          ],
          "histogram2dcontour": [
           {
            "colorbar": {
             "outlinewidth": 0,
             "ticks": ""
            },
            "colorscale": [
             [
              0,
              "#0d0887"
             ],
             [
              0.1111111111111111,
              "#46039f"
             ],
             [
              0.2222222222222222,
              "#7201a8"
             ],
             [
              0.3333333333333333,
              "#9c179e"
             ],
             [
              0.4444444444444444,
              "#bd3786"
             ],
             [
              0.5555555555555556,
              "#d8576b"
             ],
             [
              0.6666666666666666,
              "#ed7953"
             ],
             [
              0.7777777777777778,
              "#fb9f3a"
             ],
             [
              0.8888888888888888,
              "#fdca26"
             ],
             [
              1,
              "#f0f921"
             ]
            ],
            "type": "histogram2dcontour"
           }
          ],
          "mesh3d": [
           {
            "colorbar": {
             "outlinewidth": 0,
             "ticks": ""
            },
            "type": "mesh3d"
           }
          ],
          "parcoords": [
           {
            "line": {
             "colorbar": {
              "outlinewidth": 0,
              "ticks": ""
             }
            },
            "type": "parcoords"
           }
          ],
          "pie": [
           {
            "automargin": true,
            "type": "pie"
           }
          ],
          "scatter": [
           {
            "fillpattern": {
             "fillmode": "overlay",
             "size": 10,
             "solidity": 0.2
            },
            "type": "scatter"
           }
          ],
          "scatter3d": [
           {
            "line": {
             "colorbar": {
              "outlinewidth": 0,
              "ticks": ""
             }
            },
            "marker": {
             "colorbar": {
              "outlinewidth": 0,
              "ticks": ""
             }
            },
            "type": "scatter3d"
           }
          ],
          "scattercarpet": [
           {
            "marker": {
             "colorbar": {
              "outlinewidth": 0,
              "ticks": ""
             }
            },
            "type": "scattercarpet"
           }
          ],
          "scattergeo": [
           {
            "marker": {
             "colorbar": {
              "outlinewidth": 0,
              "ticks": ""
             }
            },
            "type": "scattergeo"
           }
          ],
          "scattergl": [
           {
            "marker": {
             "colorbar": {
              "outlinewidth": 0,
              "ticks": ""
             }
            },
            "type": "scattergl"
           }
          ],
          "scattermapbox": [
           {
            "marker": {
             "colorbar": {
              "outlinewidth": 0,
              "ticks": ""
             }
            },
            "type": "scattermapbox"
           }
          ],
          "scatterpolar": [
           {
            "marker": {
             "colorbar": {
              "outlinewidth": 0,
              "ticks": ""
             }
            },
            "type": "scatterpolar"
           }
          ],
          "scatterpolargl": [
           {
            "marker": {
             "colorbar": {
              "outlinewidth": 0,
              "ticks": ""
             }
            },
            "type": "scatterpolargl"
           }
          ],
          "scatterternary": [
           {
            "marker": {
             "colorbar": {
              "outlinewidth": 0,
              "ticks": ""
             }
            },
            "type": "scatterternary"
           }
          ],
          "surface": [
           {
            "colorbar": {
             "outlinewidth": 0,
             "ticks": ""
            },
            "colorscale": [
             [
              0,
              "#0d0887"
             ],
             [
              0.1111111111111111,
              "#46039f"
             ],
             [
              0.2222222222222222,
              "#7201a8"
             ],
             [
              0.3333333333333333,
              "#9c179e"
             ],
             [
              0.4444444444444444,
              "#bd3786"
             ],
             [
              0.5555555555555556,
              "#d8576b"
             ],
             [
              0.6666666666666666,
              "#ed7953"
             ],
             [
              0.7777777777777778,
              "#fb9f3a"
             ],
             [
              0.8888888888888888,
              "#fdca26"
             ],
             [
              1,
              "#f0f921"
             ]
            ],
            "type": "surface"
           }
          ],
          "table": [
           {
            "cells": {
             "fill": {
              "color": "#EBF0F8"
             },
             "line": {
              "color": "white"
             }
            },
            "header": {
             "fill": {
              "color": "#C8D4E3"
             },
             "line": {
              "color": "white"
             }
            },
            "type": "table"
           }
          ]
         },
         "layout": {
          "annotationdefaults": {
           "arrowcolor": "#2a3f5f",
           "arrowhead": 0,
           "arrowwidth": 1
          },
          "autotypenumbers": "strict",
          "coloraxis": {
           "colorbar": {
            "outlinewidth": 0,
            "ticks": ""
           }
          },
          "colorscale": {
           "diverging": [
            [
             0,
             "#8e0152"
            ],
            [
             0.1,
             "#c51b7d"
            ],
            [
             0.2,
             "#de77ae"
            ],
            [
             0.3,
             "#f1b6da"
            ],
            [
             0.4,
             "#fde0ef"
            ],
            [
             0.5,
             "#f7f7f7"
            ],
            [
             0.6,
             "#e6f5d0"
            ],
            [
             0.7,
             "#b8e186"
            ],
            [
             0.8,
             "#7fbc41"
            ],
            [
             0.9,
             "#4d9221"
            ],
            [
             1,
             "#276419"
            ]
           ],
           "sequential": [
            [
             0,
             "#0d0887"
            ],
            [
             0.1111111111111111,
             "#46039f"
            ],
            [
             0.2222222222222222,
             "#7201a8"
            ],
            [
             0.3333333333333333,
             "#9c179e"
            ],
            [
             0.4444444444444444,
             "#bd3786"
            ],
            [
             0.5555555555555556,
             "#d8576b"
            ],
            [
             0.6666666666666666,
             "#ed7953"
            ],
            [
             0.7777777777777778,
             "#fb9f3a"
            ],
            [
             0.8888888888888888,
             "#fdca26"
            ],
            [
             1,
             "#f0f921"
            ]
           ],
           "sequentialminus": [
            [
             0,
             "#0d0887"
            ],
            [
             0.1111111111111111,
             "#46039f"
            ],
            [
             0.2222222222222222,
             "#7201a8"
            ],
            [
             0.3333333333333333,
             "#9c179e"
            ],
            [
             0.4444444444444444,
             "#bd3786"
            ],
            [
             0.5555555555555556,
             "#d8576b"
            ],
            [
             0.6666666666666666,
             "#ed7953"
            ],
            [
             0.7777777777777778,
             "#fb9f3a"
            ],
            [
             0.8888888888888888,
             "#fdca26"
            ],
            [
             1,
             "#f0f921"
            ]
           ]
          },
          "colorway": [
           "#636efa",
           "#EF553B",
           "#00cc96",
           "#ab63fa",
           "#FFA15A",
           "#19d3f3",
           "#FF6692",
           "#B6E880",
           "#FF97FF",
           "#FECB52"
          ],
          "font": {
           "color": "#2a3f5f"
          },
          "geo": {
           "bgcolor": "white",
           "lakecolor": "white",
           "landcolor": "#E5ECF6",
           "showlakes": true,
           "showland": true,
           "subunitcolor": "white"
          },
          "hoverlabel": {
           "align": "left"
          },
          "hovermode": "closest",
          "mapbox": {
           "style": "light"
          },
          "paper_bgcolor": "white",
          "plot_bgcolor": "#E5ECF6",
          "polar": {
           "angularaxis": {
            "gridcolor": "white",
            "linecolor": "white",
            "ticks": ""
           },
           "bgcolor": "#E5ECF6",
           "radialaxis": {
            "gridcolor": "white",
            "linecolor": "white",
            "ticks": ""
           }
          },
          "scene": {
           "xaxis": {
            "backgroundcolor": "#E5ECF6",
            "gridcolor": "white",
            "gridwidth": 2,
            "linecolor": "white",
            "showbackground": true,
            "ticks": "",
            "zerolinecolor": "white"
           },
           "yaxis": {
            "backgroundcolor": "#E5ECF6",
            "gridcolor": "white",
            "gridwidth": 2,
            "linecolor": "white",
            "showbackground": true,
            "ticks": "",
            "zerolinecolor": "white"
           },
           "zaxis": {
            "backgroundcolor": "#E5ECF6",
            "gridcolor": "white",
            "gridwidth": 2,
            "linecolor": "white",
            "showbackground": true,
            "ticks": "",
            "zerolinecolor": "white"
           }
          },
          "shapedefaults": {
           "line": {
            "color": "#2a3f5f"
           }
          },
          "ternary": {
           "aaxis": {
            "gridcolor": "white",
            "linecolor": "white",
            "ticks": ""
           },
           "baxis": {
            "gridcolor": "white",
            "linecolor": "white",
            "ticks": ""
           },
           "bgcolor": "#E5ECF6",
           "caxis": {
            "gridcolor": "white",
            "linecolor": "white",
            "ticks": ""
           }
          },
          "title": {
           "x": 0.05
          },
          "xaxis": {
           "automargin": true,
           "gridcolor": "white",
           "linecolor": "white",
           "ticks": "",
           "title": {
            "standoff": 15
           },
           "zerolinecolor": "white",
           "zerolinewidth": 2
          },
          "yaxis": {
           "automargin": true,
           "gridcolor": "white",
           "linecolor": "white",
           "ticks": "",
           "title": {
            "standoff": 15
           },
           "zerolinecolor": "white",
           "zerolinewidth": 2
          }
         }
        },
        "title": {
         "text": "Volatility Surface Comparison"
        }
       }
      }
     },
     "metadata": {},
     "output_type": "display_data"
    },
    {
     "data": {
      "application/vnd.plotly.v1+json": {
       "config": {
        "plotlyServerURL": "https://plot.ly",
        "toImageButtonOptions": {
         "filename": "surface",
         "format": "svg",
         "height": 400,
         "scale": 1,
         "width": 600
        }
       },
       "data": [
        {
         "name": "Percentage Error in Model Implied Volatility surface",
         "opacity": 1,
         "type": "surface",
         "x": [
          "2015-09-18",
          "2015-10-16",
          "2015-11-20",
          "2015-12-19",
          "2016-01-15",
          "2016-03-18",
          "2016-06-17",
          "2016-12-16",
          "2017-01-20",
          "2017-06-16",
          "2017-12-15"
         ],
         "y": [
          500,
          600,
          700,
          800,
          850,
          900,
          950,
          1000,
          1025,
          1050,
          1075,
          1100,
          1125,
          1150,
          1175,
          1200,
          1225,
          1250,
          1275,
          1300,
          1325,
          1350,
          1375,
          1400,
          1425,
          1450,
          1475,
          1500,
          1525,
          1550,
          1575,
          1600,
          1625,
          1650,
          1675,
          1700,
          1725,
          1750,
          1775,
          1800,
          1825,
          1850,
          1875,
          1900,
          1925,
          1950,
          1975,
          2000,
          2025,
          2050,
          2075,
          2100,
          2125,
          2150,
          2175,
          2200,
          2225,
          2250,
          2275,
          2300,
          2350,
          2400,
          2500
         ],
         "z": [
          [
           4.877576463708423,
           7.682717331054799,
           11.33762027288157,
           7.898041100213129,
           1.6249012060245878,
           8.691926447946848,
           7.322100993285003,
           4.697342528054569,
           8.906929217762473,
           8.759369330100359,
           2.1762744866660166
          ],
          [
           4.913909714336143,
           11.465029841472376,
           15.100716032067275,
           0.9382160809214544,
           4.9664310916179195,
           3.5919628989614463,
           0.8238300863337356,
           8.06945660224722,
           3.9724972071957785,
           6.1003750684428315,
           0.5157894527779087
          ],
          [
           4.959269189157556,
           21.87314877349372,
           9.905769793334011,
           1.343524640636527,
           0.3644020890936287,
           0.4947093945901596,
           5.327139973824304,
           2.242574259258574,
           0.6394710599302611,
           3.0554827964292404,
           1.6659621165407954
          ],
          [
           13.13372338524808,
           17.337268620955133,
           5.0801917961495136,
           1.584771008446587,
           0.6012589466557969,
           1.4362401918034484,
           0.8419602502929635,
           1.1668128479088788,
           0.47985425026554895,
           0.882556829390602,
           1.9836310015101832
          ],
          [
           22.281805587507513,
           13.855338715968864,
           2.66184055624214,
           3.9486671983830135,
           2.3654793830398324,
           1.2495044326434688,
           0.675516501530283,
           0.649526559848509,
           0.9119458145383862,
           0.1978641022825245,
           0.36105465082458593
          ],
          [
           22.82215664575126,
           11.10590914569703,
           1.053996902264975,
           3.1049036137889985,
           2.213452710294366,
           0.9910963138063982,
           2.4198217156763793,
           0.38992557446334225,
           1.2401543235895485,
           0.971956925573648,
           0.9189378091803456
          ],
          [
           23.357941877719,
           9.65872571761654,
           1.0417845698246382,
           3.024024464916283,
           1.929078456136441,
           0.5087282560254899,
           2.2702709774980763,
           0.3857052094377276,
           1.5507023309771466,
           1.485913371351414,
           1.2801017844636784
          ],
          [
           12.03604667220474,
           8.140549890431496,
           0.7377345075710312,
           4.829032888113042,
           1.7730332377664055,
           0.36844151863924707,
           0.4252640231297562,
           2.262869269551041,
           1.6186568618213506,
           1.8429040595525672,
           1.6174764589967798
          ],
          [
           23.58292028879361,
           6.616771274274312,
           2.9772364729559695,
           2.0533501913385193,
           1.4412959476523102,
           0.37036364885142464,
           0.41902229458846096,
           0.4388361686352914,
           1.7908718661456464,
           1.9267898803420291,
           1.8688517304504535
          ],
          [
           24.053985705580924,
           5.387350895888759,
           2.2988497794780622,
           1.9008676105034004,
           1.399132541232189,
           0.23978227993087783,
           0.9363755361308777,
           0.5481088235566706,
           1.8316801174230817,
           2.0383873351903268,
           2.012413701389933
          ],
          [
           24.140177433374262,
           4.102004490331133,
           1.7759068546067929,
           1.8015609101931185,
           1.3135658871982097,
           0.016109713262876888,
           0.2509595341897678,
           0.5408639144540692,
           1.8887251412316932,
           2.180277745554005,
           2.148675373819095
          ],
          [
           13.642755782243665,
           3.0549013641566405,
           1.5225015989518915,
           1.7609885201072002,
           1.1296834351298943,
           0.04613454799364754,
           0.21242125695375697,
           0.6691292924125112,
           2.078762309888282,
           2.255623770019454,
           2.2867372332322873
          ],
          [
           24.70134222808827,
           1.9454766856308716,
           1.3525857695009091,
           1.6875599877304508,
           0.9554736351123956,
           0.29142617861436326,
           0.15472872909023017,
           0.7011460801264227,
           2.1176396778700446,
           2.4121340792807326,
           2.4304528508652825
          ],
          [
           23.338659571821108,
           2.924271526257576,
           1.5283187256509143,
           1.4142579336352876,
           0.6565353577288241,
           0.37172507874235455,
           0.16736154737660064,
           0.6536893809053873,
           2.1923512577268904,
           2.431707075006353,
           2.620819607227386
          ],
          [
           23.46965109758847,
           2.6279773801187867,
           1.617180820090336,
           1.3445046907432354,
           0.6820599062432002,
           0.4916742182401657,
           0.03287700832766542,
           0.642051837271265,
           2.104649380081329,
           2.592613294178459,
           2.781418765544869
          ],
          [
           16.391313617017282,
           1.1857123088433907,
           2.428872698040511,
           1.123785640052816,
           0.47075020134472345,
           0.6351247975895145,
           0.011838229568423468,
           0.672698667769046,
           2.1215064901504883,
           2.6368827918281266,
           2.8564784493355844
          ],
          [
           20.42568455391843,
           2.399225395819563,
           1.4661000195595864,
           1.092324622893052,
           0.19449006065971644,
           0.6990764688590702,
           0.09920224219604593,
           0.6551005433304392,
           2.1413602963197267,
           2.731503326664572,
           2.9883326429194725
          ],
          [
           10.007842105156708,
           2.0632187760197827,
           1.5733767704861643,
           0.9418757014472876,
           0.007546234189948404,
           0.843991065598387,
           0.09924501746081382,
           0.693432774332497,
           2.2128185555502284,
           2.811416341795666,
           3.116488113170697
          ],
          [
           16.523630002509407,
           0.7462958140516782,
           1.3326160876285211,
           0.5893101073397388,
           0.03123186652057218,
           0.8337450458021841,
           0.4659124662135703,
           0.7078662980168879,
           2.4257250501347505,
           2.9256607147930302,
           3.2745637935771996
          ],
          [
           12.724233576844988,
           2.5435663783224465,
           1.1509530908830672,
           0.5578317274000172,
           0.28807693623906744,
           0.9613536634905208,
           0.15818074803760024,
           0.7872780542186183,
           2.2871987611059565,
           2.9672359962953596,
           3.347446633640462
          ],
          [
           9.413866096689446,
           1.282802379415109,
           1.170533188489021,
           0.25345869911391355,
           0.5377965175218042,
           1.0638395345550875,
           0.2513116269335352,
           0.925814673565236,
           2.347688216405474,
           3.0806170956055494,
           3.485609165313676
          ],
          [
           5.751460786981511,
           1.6717062134875418,
           1.085535760943264,
           0.1515578853197771,
           0.5963418054427074,
           1.1980246062614268,
           0.28643851320393776,
           1.0125425567065462,
           2.4398587114206163,
           3.134633308764264,
           3.6634203598430095
          ],
          [
           8.556948340079625,
           1.6877093154148075,
           0.8074786386249023,
           0.15291060060156894,
           0.7991753858689445,
           1.2809956422427686,
           0.3586380541676768,
           1.0596035922930185,
           2.494021085326488,
           3.2604326804532144,
           3.773318859618197
          ],
          [
           9.489495626273236,
           2.836239289238368,
           0.7460345411109993,
           0.33694724199360154,
           0.9678515188809602,
           1.3077131189733484,
           0.26619310846337646,
           1.1194703059124806,
           2.592943317090465,
           3.3427597352380727,
           3.9842580299517247
          ],
          [
           9.650325449431252,
           2.2665967535997167,
           0.5495243944777302,
           0.4912742481464367,
           1.093812438643807,
           1.5554260316354749,
           0.331711759467071,
           1.0206911289891851,
           2.671128192750314,
           3.4504274523487406,
           4.107681339222526
          ],
          [
           8.432083449754266,
           2.2569893115439736,
           0.16380824324886492,
           0.9254152065524346,
           1.3116516243772405,
           1.5153038823689298,
           0.48415427013772183,
           1.2484593222587246,
           2.8368182462168456,
           3.5811555595974216,
           4.30954566911335
          ],
          [
           4.368168687697798,
           2.369801747090176,
           0.06673813901480907,
           1.2762303372421993,
           1.785106346938219,
           1.869851258673946,
           0.578866362555176,
           1.3976278873100991,
           2.859209449363083,
           3.683784937860194,
           4.693546811163596
          ],
          [
           4.742267043772951,
           2.295444904009962,
           0.24426693318966375,
           1.7599611764411298,
           2.0272769451975052,
           1.973047958427791,
           0.659519881902328,
           1.4471863192098269,
           2.9527190967100023,
           3.8248710180725545,
           4.603661399862551
          ],
          [
           1.865612194831892,
           2.103375806632284,
           0.871493378816667,
           1.9286814114064736,
           2.174984259364197,
           2.161773557022744,
           0.6388297466169324,
           1.3192795471584908,
           3.117415970108214,
           3.9502028751378098,
           4.756442073859077
          ],
          [
           0.28871911762862174,
           0.9510572907282508,
           1.2063555088855311,
           2.188833192026378,
           2.397513685198952,
           2.2353247606546103,
           0.7775565929291447,
           1.6713510348375369,
           3.1774213675491256,
           4.2005787574941476,
           4.999530985415072
          ],
          [
           0.4183316817562179,
           1.9666959117345295,
           1.72555722717506,
           2.455218602845523,
           2.825517982919286,
           2.8937492151627717,
           1.1931313525740102,
           1.7937541262731738,
           3.205687896342834,
           4.285781481129882,
           5.257734292738897
          ],
          [
           2.499661230742146,
           1.2503599940507142,
           2.3012450987695328,
           2.934994681123213,
           3.2097532869266807,
           3.1345600325008953,
           1.1777754335717592,
           1.8607752801927804,
           3.446229916667444,
           4.505900364885644,
           5.512204403180297
          ],
          [
           3.542886867698642,
           0.5603003920687951,
           3.025068327595176,
           3.750482079491798,
           3.5363631767333397,
           3.3904860303554463,
           1.0983891242354964,
           1.8505586994269796,
           3.38023760673546,
           4.632171257277046,
           5.768130355285867
          ],
          [
           4.220282593795742,
           0.16135254506622915,
           3.4626319344351515,
           4.249300623784862,
           4.076787034113485,
           3.4064259081031576,
           1.217940809684191,
           2.350311297015588,
           4.428347091596736,
           4.823064906803894,
           6.076137636299215
          ],
          [
           5.745698496082941,
           0.864985820532915,
           4.653256236601556,
           4.33433035761732,
           4.421535140833903,
           4.036880763880102,
           1.474526361468772,
           2.4410745683193724,
           3.6659458705597463,
           5.082497843771648,
           6.3963378866629075
          ],
          [
           6.177259270257783,
           1.5169829248477449,
           5.146566604581609,
           5.0662407957848,
           5.368115769343074,
           4.535606281554305,
           1.452866010946762,
           2.6014748379797283,
           3.887887393082368,
           5.316767109005184,
           6.730292527754009
          ],
          [
           6.114419711690998,
           2.7100255005494693,
           5.778123866614386,
           5.678270681018033,
           5.535825035189048,
           4.895637532036709,
           1.5726358145209358,
           2.8059714948109207,
           4.546780594441711,
           5.531660475924341,
           7.06081582530987
          ],
          [
           4.9473037177897865,
           3.5422520914697184,
           6.975515226987216,
           6.340612181457953,
           5.9705542052976135,
           5.247290770175988,
           2.0354560474315964,
           3.0322857761111464,
           4.863459779955526,
           5.836212221914879,
           7.440810732241018
          ],
          [
           4.5470296790403095,
           5.280970572297824,
           7.915061871398373,
           7.236699753107674,
           6.627581701069066,
           5.679940773414602,
           1.7562040779946764,
           3.235419108117904,
           4.8458512099102675,
           6.081204067710388,
           7.825363208255698
          ],
          [
           3.3201881301829093,
           6.459400868539519,
           9.859883926687756,
           8.056513922681859,
           7.296369874048765,
           6.132409547185783,
           1.8904900636046689,
           2.7295920086164416,
           5.011955434588804,
           6.431530071170484,
           8.92171236084486
          ],
          [
           1.8325323165412164,
           8.250998149480228,
           10.280112270745844,
           9.072726212218669,
           8.110462396464552,
           6.610443278081893,
           2.029739979854186,
           3.734837082911339,
           5.228405522149777,
           6.73787776988868,
           8.418501512358329
          ],
          [
           0.5064864482374424,
           10.691639223696775,
           11.642310095028645,
           10.170644446621669,
           8.829214535030378,
           7.124616237559748,
           2.660698803574897,
           4.028779380575378,
           5.5367924560326065,
           7.161335013607863,
           8.91424293371694
          ],
          [
           2.6716996703350437,
           12.541772992497512,
           13.140609167119166,
           11.193884582088264,
           9.609253382101974,
           6.939140441267519,
           3.0378100971307744,
           4.1550681326521275,
           5.729813801611557,
           6.703597984522701,
           9.432192079980997
          ],
          [
           6.3207468898348385,
           15.43746290791645,
           14.839646891922614,
           12.564597181160886,
           10.728454062519685,
           7.329721088074222,
           3.1756193628867244,
           4.436319731367455,
           5.954206897534959,
           6.547057988831831,
           10.030047763626945
          ],
          [
           10.57279344344978,
           18.250351898556115,
           16.88614788543208,
           14.090034845975769,
           11.968861335720629,
           7.858940025846081,
           3.236845638529695,
           4.052105288542886,
           5.626749766105845,
           8.089491109259217,
           9.902107598493322
          ],
          [
           15.7004862121499,
           21.023036239373763,
           18.844182555442636,
           15.52668380449623,
           12.984280813770305,
           8.671721435667164,
           3.4615203101554943,
           4.307295053579525,
           6.50907961808415,
           8.429526328024663,
           9.89431459672863
          ],
          [
           21.315201574715857,
           23.852634560201373,
           21.074222803769235,
           17.026405340514618,
           14.26446880621146,
           9.204451901762916,
           3.6289546901297225,
           4.48435554488679,
           6.071379546854681,
           8.795876691505862,
           10.292235941286403
          ],
          [
           25.397445946957852,
           27.70544222444357,
           23.46014580645145,
           18.892526646581164,
           15.886710703019771,
           9.98805842523184,
           3.933451143424202,
           4.783065141805407,
           6.813560461844184,
           9.1910358017665,
           10.68620399123842
          ],
          [
           29.104535213636783,
           30.94964280201124,
           26.027575130809925,
           19.35395728648799,
           17.033996053729776,
           10.536367626796109,
           4.208000652411368,
           4.83276540036246,
           7.028778424210031,
           9.594635064032625,
           11.05119421988907
          ],
          [
           28.195627405727684,
           33.434731315032415,
           28.187314443766866,
           22.473654200858505,
           18.73295245991525,
           11.439854587252654,
           4.54849291243773,
           5.094081674809644,
           7.046159964042009,
           10.016153402962042,
           11.41479403183843
          ],
          [
           33.03679486896784,
           34.20349629327952,
           30.08104692837333,
           24.341190070341213,
           20.27083061263796,
           12.42460629856194,
           4.893769822156373,
           5.241215076460117,
           7.304903772271519,
           10.398456546482992,
           11.80630032988609
          ],
          [
           29.352960191057253,
           34.57970666675133,
           31.59617699323726,
           26.041951739144583,
           21.8475431299458,
           13.435966300732616,
           5.302235926703893,
           5.4197720778126355,
           7.508322666401496,
           10.284925594038056,
           12.172308217893187
          ],
          [
           25.477553399877166,
           32.78666446852133,
           32.32598755058879,
           27.717747425900928,
           23.486093123461117,
           14.863088239302366,
           5.784128650118039,
           5.601820595005362,
           7.65221751238547,
           11.037709617914384,
           12.28175463528069
          ],
          [
           18.93760701381184,
           30.971555601922994,
           32.49520938234498,
           29.43228195195787,
           24.98927923173652,
           15.86220204440776,
           6.1996103020199,
           5.698671391412976,
           7.855019251056938,
           11.32986760217229,
           13.133725643243372
          ],
          [
           13.2769703064851,
           34.75626612715099,
           30.19442332614986,
           29.675359859053437,
           25.941857036976756,
           16.959977156027918,
           6.935259797755839,
           5.836276682885796,
           8.036589815395208,
           11.690172628609789,
           13.241804728569493
          ],
          [
           8.625445888197996,
           27.24615144138304,
           29.138393406423724,
           30.301387487280685,
           26.873089778476437,
           18.118744602589477,
           7.490031938779016,
           5.912971390898971,
           8.141552875773824,
           12.006619331808595,
           13.594697431404136
          ],
          [
           8.569298893187751,
           24.924108804948528,
           33.67517033104613,
           28.031534373225007,
           25.910572385204688,
           19.993553110653632,
           8.175254152385543,
           5.903016431361367,
           8.242093533828346,
           12.265522552724372,
           13.945472878368856
          ],
          [
           0.6157918503751596,
           20.645551634493287,
           29.438458463445823,
           31.132003141405267,
           26.065991001084893,
           20.327619145700268,
           8.862237856104189,
           4.542388869067016,
           8.342648847120417,
           12.449284334586505,
           14.326389709794778
          ],
          [
           0.576858866767145,
           11.572606178382824,
           26.67754153710697,
           30.63719426644851,
           25.532538580432817,
           21.59902130298232,
           9.556159637189438,
           5.778965933385221,
           8.525786709900416,
           12.724473009055917,
           14.663076224443069
          ],
          [
           5.051726305706976,
           9.051869343348324,
           21.799204514878564,
           31.156133902968037,
           28.78490594211289,
           20.312419624559386,
           10.288223961265214,
           5.534942331076899,
           8.271611288260937,
           12.89984153124251,
           14.986367271167408
          ],
          [
           5.01791763184715,
           5.611194301726562,
           9.70674177364377,
           22.503303000216356,
           31.40048004386956,
           20.64869449342375,
           10.210836812538384,
           4.464532423762746,
           8.429078766607459,
           13.254202935974256,
           15.67278022658215
          ],
          [
           4.984890239410799,
           5.524543977570075,
           6.2903352690342595,
           9.954936049218944,
           22.740567238593403,
           26.84047408863737,
           8.06291276656757,
           2.8410499156397826,
           8.221163202923206,
           13.561683675744735,
           16.23948903504261
          ],
          [
           4.92280334633883,
           0.11267659446102254,
           6.035960460128266,
           6.437193215258636,
           13.598243196561876,
           25.034694909415503,
           18.83214764176166,
           1.0866340211088543,
           7.569787932307048,
           14.073087615784214,
           17.008296823753085
          ]
         ]
        }
       ],
       "layout": {
        "margin": {
         "b": 0,
         "l": 0,
         "r": 0,
         "t": 0
        },
        "scene": {
         "aspectmode": "cube",
         "xaxis": {
          "title": {
           "text": "Expiries"
          }
         },
         "yaxis": {
          "title": {
           "text": "Strikes"
          }
         },
         "zaxis": {
          "title": {
           "text": "Absolute % Error in Volatility"
          }
         }
        },
        "template": {
         "data": {
          "bar": [
           {
            "error_x": {
             "color": "#2a3f5f"
            },
            "error_y": {
             "color": "#2a3f5f"
            },
            "marker": {
             "line": {
              "color": "#E5ECF6",
              "width": 0.5
             },
             "pattern": {
              "fillmode": "overlay",
              "size": 10,
              "solidity": 0.2
             }
            },
            "type": "bar"
           }
          ],
          "barpolar": [
           {
            "marker": {
             "line": {
              "color": "#E5ECF6",
              "width": 0.5
             },
             "pattern": {
              "fillmode": "overlay",
              "size": 10,
              "solidity": 0.2
             }
            },
            "type": "barpolar"
           }
          ],
          "carpet": [
           {
            "aaxis": {
             "endlinecolor": "#2a3f5f",
             "gridcolor": "white",
             "linecolor": "white",
             "minorgridcolor": "white",
             "startlinecolor": "#2a3f5f"
            },
            "baxis": {
             "endlinecolor": "#2a3f5f",
             "gridcolor": "white",
             "linecolor": "white",
             "minorgridcolor": "white",
             "startlinecolor": "#2a3f5f"
            },
            "type": "carpet"
           }
          ],
          "choropleth": [
           {
            "colorbar": {
             "outlinewidth": 0,
             "ticks": ""
            },
            "type": "choropleth"
           }
          ],
          "contour": [
           {
            "colorbar": {
             "outlinewidth": 0,
             "ticks": ""
            },
            "colorscale": [
             [
              0,
              "#0d0887"
             ],
             [
              0.1111111111111111,
              "#46039f"
             ],
             [
              0.2222222222222222,
              "#7201a8"
             ],
             [
              0.3333333333333333,
              "#9c179e"
             ],
             [
              0.4444444444444444,
              "#bd3786"
             ],
             [
              0.5555555555555556,
              "#d8576b"
             ],
             [
              0.6666666666666666,
              "#ed7953"
             ],
             [
              0.7777777777777778,
              "#fb9f3a"
             ],
             [
              0.8888888888888888,
              "#fdca26"
             ],
             [
              1,
              "#f0f921"
             ]
            ],
            "type": "contour"
           }
          ],
          "contourcarpet": [
           {
            "colorbar": {
             "outlinewidth": 0,
             "ticks": ""
            },
            "type": "contourcarpet"
           }
          ],
          "heatmap": [
           {
            "colorbar": {
             "outlinewidth": 0,
             "ticks": ""
            },
            "colorscale": [
             [
              0,
              "#0d0887"
             ],
             [
              0.1111111111111111,
              "#46039f"
             ],
             [
              0.2222222222222222,
              "#7201a8"
             ],
             [
              0.3333333333333333,
              "#9c179e"
             ],
             [
              0.4444444444444444,
              "#bd3786"
             ],
             [
              0.5555555555555556,
              "#d8576b"
             ],
             [
              0.6666666666666666,
              "#ed7953"
             ],
             [
              0.7777777777777778,
              "#fb9f3a"
             ],
             [
              0.8888888888888888,
              "#fdca26"
             ],
             [
              1,
              "#f0f921"
             ]
            ],
            "type": "heatmap"
           }
          ],
          "heatmapgl": [
           {
            "colorbar": {
             "outlinewidth": 0,
             "ticks": ""
            },
            "colorscale": [
             [
              0,
              "#0d0887"
             ],
             [
              0.1111111111111111,
              "#46039f"
             ],
             [
              0.2222222222222222,
              "#7201a8"
             ],
             [
              0.3333333333333333,
              "#9c179e"
             ],
             [
              0.4444444444444444,
              "#bd3786"
             ],
             [
              0.5555555555555556,
              "#d8576b"
             ],
             [
              0.6666666666666666,
              "#ed7953"
             ],
             [
              0.7777777777777778,
              "#fb9f3a"
             ],
             [
              0.8888888888888888,
              "#fdca26"
             ],
             [
              1,
              "#f0f921"
             ]
            ],
            "type": "heatmapgl"
           }
          ],
          "histogram": [
           {
            "marker": {
             "pattern": {
              "fillmode": "overlay",
              "size": 10,
              "solidity": 0.2
             }
            },
            "type": "histogram"
           }
          ],
          "histogram2d": [
           {
            "colorbar": {
             "outlinewidth": 0,
             "ticks": ""
            },
            "colorscale": [
             [
              0,
              "#0d0887"
             ],
             [
              0.1111111111111111,
              "#46039f"
             ],
             [
              0.2222222222222222,
              "#7201a8"
             ],
             [
              0.3333333333333333,
              "#9c179e"
             ],
             [
              0.4444444444444444,
              "#bd3786"
             ],
             [
              0.5555555555555556,
              "#d8576b"
             ],
             [
              0.6666666666666666,
              "#ed7953"
             ],
             [
              0.7777777777777778,
              "#fb9f3a"
             ],
             [
              0.8888888888888888,
              "#fdca26"
             ],
             [
              1,
              "#f0f921"
             ]
            ],
            "type": "histogram2d"
           }
          ],
          "histogram2dcontour": [
           {
            "colorbar": {
             "outlinewidth": 0,
             "ticks": ""
            },
            "colorscale": [
             [
              0,
              "#0d0887"
             ],
             [
              0.1111111111111111,
              "#46039f"
             ],
             [
              0.2222222222222222,
              "#7201a8"
             ],
             [
              0.3333333333333333,
              "#9c179e"
             ],
             [
              0.4444444444444444,
              "#bd3786"
             ],
             [
              0.5555555555555556,
              "#d8576b"
             ],
             [
              0.6666666666666666,
              "#ed7953"
             ],
             [
              0.7777777777777778,
              "#fb9f3a"
             ],
             [
              0.8888888888888888,
              "#fdca26"
             ],
             [
              1,
              "#f0f921"
             ]
            ],
            "type": "histogram2dcontour"
           }
          ],
          "mesh3d": [
           {
            "colorbar": {
             "outlinewidth": 0,
             "ticks": ""
            },
            "type": "mesh3d"
           }
          ],
          "parcoords": [
           {
            "line": {
             "colorbar": {
              "outlinewidth": 0,
              "ticks": ""
             }
            },
            "type": "parcoords"
           }
          ],
          "pie": [
           {
            "automargin": true,
            "type": "pie"
           }
          ],
          "scatter": [
           {
            "fillpattern": {
             "fillmode": "overlay",
             "size": 10,
             "solidity": 0.2
            },
            "type": "scatter"
           }
          ],
          "scatter3d": [
           {
            "line": {
             "colorbar": {
              "outlinewidth": 0,
              "ticks": ""
             }
            },
            "marker": {
             "colorbar": {
              "outlinewidth": 0,
              "ticks": ""
             }
            },
            "type": "scatter3d"
           }
          ],
          "scattercarpet": [
           {
            "marker": {
             "colorbar": {
              "outlinewidth": 0,
              "ticks": ""
             }
            },
            "type": "scattercarpet"
           }
          ],
          "scattergeo": [
           {
            "marker": {
             "colorbar": {
              "outlinewidth": 0,
              "ticks": ""
             }
            },
            "type": "scattergeo"
           }
          ],
          "scattergl": [
           {
            "marker": {
             "colorbar": {
              "outlinewidth": 0,
              "ticks": ""
             }
            },
            "type": "scattergl"
           }
          ],
          "scattermapbox": [
           {
            "marker": {
             "colorbar": {
              "outlinewidth": 0,
              "ticks": ""
             }
            },
            "type": "scattermapbox"
           }
          ],
          "scatterpolar": [
           {
            "marker": {
             "colorbar": {
              "outlinewidth": 0,
              "ticks": ""
             }
            },
            "type": "scatterpolar"
           }
          ],
          "scatterpolargl": [
           {
            "marker": {
             "colorbar": {
              "outlinewidth": 0,
              "ticks": ""
             }
            },
            "type": "scatterpolargl"
           }
          ],
          "scatterternary": [
           {
            "marker": {
             "colorbar": {
              "outlinewidth": 0,
              "ticks": ""
             }
            },
            "type": "scatterternary"
           }
          ],
          "surface": [
           {
            "colorbar": {
             "outlinewidth": 0,
             "ticks": ""
            },
            "colorscale": [
             [
              0,
              "#0d0887"
             ],
             [
              0.1111111111111111,
              "#46039f"
             ],
             [
              0.2222222222222222,
              "#7201a8"
             ],
             [
              0.3333333333333333,
              "#9c179e"
             ],
             [
              0.4444444444444444,
              "#bd3786"
             ],
             [
              0.5555555555555556,
              "#d8576b"
             ],
             [
              0.6666666666666666,
              "#ed7953"
             ],
             [
              0.7777777777777778,
              "#fb9f3a"
             ],
             [
              0.8888888888888888,
              "#fdca26"
             ],
             [
              1,
              "#f0f921"
             ]
            ],
            "type": "surface"
           }
          ],
          "table": [
           {
            "cells": {
             "fill": {
              "color": "#EBF0F8"
             },
             "line": {
              "color": "white"
             }
            },
            "header": {
             "fill": {
              "color": "#C8D4E3"
             },
             "line": {
              "color": "white"
             }
            },
            "type": "table"
           }
          ]
         },
         "layout": {
          "annotationdefaults": {
           "arrowcolor": "#2a3f5f",
           "arrowhead": 0,
           "arrowwidth": 1
          },
          "autotypenumbers": "strict",
          "coloraxis": {
           "colorbar": {
            "outlinewidth": 0,
            "ticks": ""
           }
          },
          "colorscale": {
           "diverging": [
            [
             0,
             "#8e0152"
            ],
            [
             0.1,
             "#c51b7d"
            ],
            [
             0.2,
             "#de77ae"
            ],
            [
             0.3,
             "#f1b6da"
            ],
            [
             0.4,
             "#fde0ef"
            ],
            [
             0.5,
             "#f7f7f7"
            ],
            [
             0.6,
             "#e6f5d0"
            ],
            [
             0.7,
             "#b8e186"
            ],
            [
             0.8,
             "#7fbc41"
            ],
            [
             0.9,
             "#4d9221"
            ],
            [
             1,
             "#276419"
            ]
           ],
           "sequential": [
            [
             0,
             "#0d0887"
            ],
            [
             0.1111111111111111,
             "#46039f"
            ],
            [
             0.2222222222222222,
             "#7201a8"
            ],
            [
             0.3333333333333333,
             "#9c179e"
            ],
            [
             0.4444444444444444,
             "#bd3786"
            ],
            [
             0.5555555555555556,
             "#d8576b"
            ],
            [
             0.6666666666666666,
             "#ed7953"
            ],
            [
             0.7777777777777778,
             "#fb9f3a"
            ],
            [
             0.8888888888888888,
             "#fdca26"
            ],
            [
             1,
             "#f0f921"
            ]
           ],
           "sequentialminus": [
            [
             0,
             "#0d0887"
            ],
            [
             0.1111111111111111,
             "#46039f"
            ],
            [
             0.2222222222222222,
             "#7201a8"
            ],
            [
             0.3333333333333333,
             "#9c179e"
            ],
            [
             0.4444444444444444,
             "#bd3786"
            ],
            [
             0.5555555555555556,
             "#d8576b"
            ],
            [
             0.6666666666666666,
             "#ed7953"
            ],
            [
             0.7777777777777778,
             "#fb9f3a"
            ],
            [
             0.8888888888888888,
             "#fdca26"
            ],
            [
             1,
             "#f0f921"
            ]
           ]
          },
          "colorway": [
           "#636efa",
           "#EF553B",
           "#00cc96",
           "#ab63fa",
           "#FFA15A",
           "#19d3f3",
           "#FF6692",
           "#B6E880",
           "#FF97FF",
           "#FECB52"
          ],
          "font": {
           "color": "#2a3f5f"
          },
          "geo": {
           "bgcolor": "white",
           "lakecolor": "white",
           "landcolor": "#E5ECF6",
           "showlakes": true,
           "showland": true,
           "subunitcolor": "white"
          },
          "hoverlabel": {
           "align": "left"
          },
          "hovermode": "closest",
          "mapbox": {
           "style": "light"
          },
          "paper_bgcolor": "white",
          "plot_bgcolor": "#E5ECF6",
          "polar": {
           "angularaxis": {
            "gridcolor": "white",
            "linecolor": "white",
            "ticks": ""
           },
           "bgcolor": "#E5ECF6",
           "radialaxis": {
            "gridcolor": "white",
            "linecolor": "white",
            "ticks": ""
           }
          },
          "scene": {
           "xaxis": {
            "backgroundcolor": "#E5ECF6",
            "gridcolor": "white",
            "gridwidth": 2,
            "linecolor": "white",
            "showbackground": true,
            "ticks": "",
            "zerolinecolor": "white"
           },
           "yaxis": {
            "backgroundcolor": "#E5ECF6",
            "gridcolor": "white",
            "gridwidth": 2,
            "linecolor": "white",
            "showbackground": true,
            "ticks": "",
            "zerolinecolor": "white"
           },
           "zaxis": {
            "backgroundcolor": "#E5ECF6",
            "gridcolor": "white",
            "gridwidth": 2,
            "linecolor": "white",
            "showbackground": true,
            "ticks": "",
            "zerolinecolor": "white"
           }
          },
          "shapedefaults": {
           "line": {
            "color": "#2a3f5f"
           }
          },
          "ternary": {
           "aaxis": {
            "gridcolor": "white",
            "linecolor": "white",
            "ticks": ""
           },
           "baxis": {
            "gridcolor": "white",
            "linecolor": "white",
            "ticks": ""
           },
           "bgcolor": "#E5ECF6",
           "caxis": {
            "gridcolor": "white",
            "linecolor": "white",
            "ticks": ""
           }
          },
          "title": {
           "x": 0.05
          },
          "xaxis": {
           "automargin": true,
           "gridcolor": "white",
           "linecolor": "white",
           "ticks": "",
           "title": {
            "standoff": 15
           },
           "zerolinecolor": "white",
           "zerolinewidth": 2
          },
          "yaxis": {
           "automargin": true,
           "gridcolor": "white",
           "linecolor": "white",
           "ticks": "",
           "title": {
            "standoff": 15
           },
           "zerolinecolor": "white",
           "zerolinewidth": 2
          }
         }
        }
       }
      }
     },
     "metadata": {},
     "output_type": "display_data"
    },
    {
     "data": {
      "application/vnd.plotly.v1+json": {
       "config": {
        "plotlyServerURL": "https://plot.ly",
        "toImageButtonOptions": {
         "filename": "surface",
         "format": "svg",
         "height": 400,
         "scale": 1,
         "width": 600
        }
       },
       "data": [
        {
         "colorscale": [
          [
           0,
           "orange"
          ],
          [
           1,
           "red"
          ]
         ],
         "name": "Model",
         "opacity": 0.4,
         "showlegend": true,
         "showscale": false,
         "type": "surface",
         "x": [
          "2015-09-16",
          "2015-10-21",
          "2015-11-18",
          "2015-12-16",
          "2016-01-20",
          "2016-02-17"
         ],
         "y": [
          10,
          11,
          12,
          13,
          14,
          15,
          16,
          17,
          18,
          19,
          20,
          21,
          22,
          23,
          24,
          25,
          26,
          27,
          28,
          29,
          30,
          32.5,
          35,
          37.5,
          40,
          42.5,
          45,
          47.5,
          50,
          55,
          60,
          65,
          70
         ],
         "z": [
          [
           0,
           0,
           0,
           0,
           0,
           0
          ],
          [
           0,
           0,
           0,
           0,
           0,
           0
          ],
          [
           0,
           0,
           0,
           0,
           0,
           0
          ],
          [
           0,
           0,
           0,
           0,
           0,
           0
          ],
          [
           0,
           0,
           0,
           0,
           0,
           0
          ],
          [
           0,
           0,
           0,
           0,
           0,
           0
          ],
          [
           0,
           0,
           0,
           0,
           0,
           0
          ],
          [
           0,
           0,
           0,
           0,
           0,
           0
          ],
          [
           0,
           0,
           0,
           0,
           0,
           0
          ],
          [
           0,
           0,
           0,
           0,
           0,
           0
          ],
          [
           0,
           0,
           0,
           0,
           0,
           0
          ],
          [
           0,
           0,
           0,
           0,
           0,
           0
          ],
          [
           0,
           0,
           0,
           0,
           0,
           0
          ],
          [
           0,
           0,
           0,
           0,
           0,
           0
          ],
          [
           0,
           0,
           0,
           0,
           0,
           0
          ],
          [
           0,
           0,
           0,
           0,
           0,
           0
          ],
          [
           0,
           0,
           0,
           0,
           0,
           0
          ],
          [
           0,
           0,
           0,
           0,
           0,
           0
          ],
          [
           0.4766098280656831,
           0,
           0,
           0,
           0,
           0
          ],
          [
           0.7627498063378557,
           0.3224358644090867,
           0.21681122396324545,
           0.17227779415745448,
           0.1424913782248417,
           0.12322353379867944
          ],
          [
           0.92588787653956,
           0.44026510173371575,
           0.3214616392105317,
           0.265935506983693,
           0.22593769994358928,
           0.2016877725700115
          ],
          [
           1.184552049697742,
           0.6176503997971693,
           0.46966593181282656,
           0.39443612523037946,
           0.3382853454917203,
           0.3047753674085247
          ],
          [
           1.3468266735628185,
           0.7328835630722484,
           0.5651045850375439,
           0.47657507361843776,
           0.40990396443743177,
           0.3700891081772508
          ],
          [
           1.4582754598780632,
           0.8173680335580268,
           0.6353099408402194,
           0.5368570225969723,
           0.462477357997989,
           0.4179075547425143
          ],
          [
           1.5376076112158017,
           0.8824308611302416,
           0.6896423094396399,
           0.583534620684709,
           0.5031217747240644,
           0.4548753298087615
          ],
          [
           1.5948761795011492,
           0.9338904209423916,
           0.7330041955671304,
           0.6206583368538751,
           0.5353778015430151,
           0.48434478902422934
          ],
          [
           1.6357491293865172,
           0.9751355622074498,
           0.7681042187521331,
           0.6508089118509356,
           0.5613700470271611,
           0.5083273091579046
          ],
          [
           1.6644571953384952,
           1.0084625469903858,
           0.7969820733826904,
           0.67541399283965,
           0.5827836097586665,
           0.5280081490551201
          ],
          [
           1.68343870069179,
           1.035427349852729,
           0.820827129753167,
           0.6956115497050344,
           0.6004700097524464,
           0.5442668896916761
          ],
          [
           1.7016924537004747,
           1.0743914759416129,
           0.8570687019670935,
           0.725633329075147,
           0.6274790744819703,
           0.5692749064725829
          ],
          [
           1.702559539131809,
           1.0993643046473591,
           0.8823064346383509,
           0.7456888988264276,
           0.6460765214776412,
           0.5865615776031335
          ],
          [
           1.6901565283911844,
           1.114561454223346,
           0.8994735355294521,
           0.7592161221442995,
           0.6590585533307461,
           0.5984376519943337
          ],
          [
           1.6694804307354023,
           1.122281863185539,
           0.9099345681471775,
           0.767988259525399,
           0.6678851348582828,
           0.6064173301121824
          ]
         ]
        },
        {
         "colorscale": [
          [
           0,
           "purple"
          ],
          [
           1,
           "blue"
          ]
         ],
         "name": "Market",
         "opacity": 0.4,
         "showlegend": true,
         "showscale": false,
         "type": "surface",
         "x": [
          "2015-09-16",
          "2015-10-21",
          "2015-11-18",
          "2015-12-16",
          "2016-01-20",
          "2016-02-17"
         ],
         "y": [
          10,
          11,
          12,
          13,
          14,
          15,
          16,
          17,
          18,
          19,
          20,
          21,
          22,
          23,
          24,
          25,
          26,
          27,
          28,
          29,
          30,
          32.5,
          35,
          37.5,
          40,
          42.5,
          45,
          47.5,
          50,
          55,
          60,
          65,
          70
         ],
         "z": [
          [
           0,
           0,
           0,
           0,
           0,
           0
          ],
          [
           0,
           0,
           0,
           0,
           0,
           0
          ],
          [
           0,
           0,
           0,
           0,
           0,
           0
          ],
          [
           0,
           0,
           0,
           0,
           0,
           0
          ],
          [
           0,
           0,
           0,
           0,
           0,
           0
          ],
          [
           0,
           0,
           0,
           0,
           0,
           0
          ],
          [
           0,
           0,
           0,
           0,
           0,
           0
          ],
          [
           0,
           0,
           0,
           0,
           0,
           0
          ],
          [
           0,
           0,
           0,
           0,
           0,
           0
          ],
          [
           0,
           0,
           0,
           0,
           0,
           0
          ],
          [
           0,
           0,
           0,
           0,
           0,
           0
          ],
          [
           0,
           0,
           0,
           0,
           0,
           0
          ],
          [
           0,
           0,
           0,
           0,
           0,
           0
          ],
          [
           0,
           0,
           0,
           0,
           0,
           0
          ],
          [
           0,
           0,
           0,
           0,
           0,
           0
          ],
          [
           0,
           0,
           0,
           0,
           0,
           0
          ],
          [
           0.6532791683208284,
           0,
           0,
           0,
           0,
           0
          ],
          [
           0.8973954651543471,
           0,
           0,
           0,
           0,
           0
          ],
          [
           1.0079211537273225,
           0.32428825847200876,
           0,
           0,
           0,
           0
          ],
          [
           1.0885495367805316,
           0.4567527895009351,
           0.28359583037982233,
           0.18958728119358717,
           0.14892185337242975,
           0.14732243402695408
          ],
          [
           1.1743650366686322,
           0.5370586597434545,
           0.3622359703218688,
           0.2672159134060471,
           0.21362687430047153,
           0.2099775848690388
          ],
          [
           1.2886216353632092,
           0.6639954383972532,
           0.4850325289985899,
           0.3830132378192438,
           0.32206837732213117,
           0.29946824260829685
          ],
          [
           1.3620502208024414,
           0.7522348648281032,
           0.5631200280586829,
           0.4487431396395312,
           0.3787322803358491,
           0.35163386255464313
          ],
          [
           1.436005714358638,
           0.8221295047616933,
           0.6166565186034018,
           0.5003047768753264,
           0.4226893164702998,
           0.38578602107474136
          ],
          [
           1.492265677424657,
           0.8684968722949451,
           0.6553074713033371,
           0.5351920752967062,
           0.45584601994789936,
           0.4161170936632058
          ],
          [
           1.5210427787604943,
           0.903419272659942,
           0.6904853700172846,
           0.5675574300820576,
           0.48307004736271514,
           0.4410176786909575
          ],
          [
           1.5438285542993448,
           0.9394701851458248,
           0.715894078549847,
           0.5976554884328829,
           0.5082278964345646,
           0.45946214563709153
          ],
          [
           1.5909901368208164,
           0.9503887862716102,
           0.7408622671488175,
           0.6171329592536492,
           0.5124055979049227,
           0.4678621105090053
          ],
          [
           1.58777034923172,
           0.9796020431575392,
           0.7540504888883698,
           0.6257636661595588,
           0.5295643186153021,
           0.48355304960932577
          ],
          [
           1.6391245038728166,
           1.0245556644477103,
           0.7820586058037573,
           0.6620555540385757,
           0.5489515426675086,
           0.5012904624005335
          ],
          [
           1.6922662048697137,
           1.0399856059862895,
           0.7947673471000314,
           0.6697731019115071,
           0.5694990835536109,
           0.5200806284086824
          ],
          [
           1.7148895505194734,
           1.1003726822382132,
           0.801623312843081,
           0.6878741975370658,
           0.5650796553598919,
           0.5446887802975775
          ],
          [
           1.721758825597968,
           1.0786384789601051,
           0.8203301779982641,
           0.7039443780440368,
           0.6103758377644626,
           0.539447954595066
          ]
         ]
        }
       ],
       "layout": {
        "coloraxis": {
         "showscale": false
        },
        "margin": {
         "b": 0,
         "l": 0,
         "r": 0,
         "t": 0
        },
        "scene": {
         "aspectmode": "cube",
         "xaxis": {
          "title": {
           "text": "Expiries"
          }
         },
         "yaxis": {
          "title": {
           "text": "Strikes"
          }
         },
         "zaxis": {
          "title": {
           "text": "Implied Volatility"
          }
         }
        },
        "template": {
         "data": {
          "bar": [
           {
            "error_x": {
             "color": "#2a3f5f"
            },
            "error_y": {
             "color": "#2a3f5f"
            },
            "marker": {
             "line": {
              "color": "#E5ECF6",
              "width": 0.5
             },
             "pattern": {
              "fillmode": "overlay",
              "size": 10,
              "solidity": 0.2
             }
            },
            "type": "bar"
           }
          ],
          "barpolar": [
           {
            "marker": {
             "line": {
              "color": "#E5ECF6",
              "width": 0.5
             },
             "pattern": {
              "fillmode": "overlay",
              "size": 10,
              "solidity": 0.2
             }
            },
            "type": "barpolar"
           }
          ],
          "carpet": [
           {
            "aaxis": {
             "endlinecolor": "#2a3f5f",
             "gridcolor": "white",
             "linecolor": "white",
             "minorgridcolor": "white",
             "startlinecolor": "#2a3f5f"
            },
            "baxis": {
             "endlinecolor": "#2a3f5f",
             "gridcolor": "white",
             "linecolor": "white",
             "minorgridcolor": "white",
             "startlinecolor": "#2a3f5f"
            },
            "type": "carpet"
           }
          ],
          "choropleth": [
           {
            "colorbar": {
             "outlinewidth": 0,
             "ticks": ""
            },
            "type": "choropleth"
           }
          ],
          "contour": [
           {
            "colorbar": {
             "outlinewidth": 0,
             "ticks": ""
            },
            "colorscale": [
             [
              0,
              "#0d0887"
             ],
             [
              0.1111111111111111,
              "#46039f"
             ],
             [
              0.2222222222222222,
              "#7201a8"
             ],
             [
              0.3333333333333333,
              "#9c179e"
             ],
             [
              0.4444444444444444,
              "#bd3786"
             ],
             [
              0.5555555555555556,
              "#d8576b"
             ],
             [
              0.6666666666666666,
              "#ed7953"
             ],
             [
              0.7777777777777778,
              "#fb9f3a"
             ],
             [
              0.8888888888888888,
              "#fdca26"
             ],
             [
              1,
              "#f0f921"
             ]
            ],
            "type": "contour"
           }
          ],
          "contourcarpet": [
           {
            "colorbar": {
             "outlinewidth": 0,
             "ticks": ""
            },
            "type": "contourcarpet"
           }
          ],
          "heatmap": [
           {
            "colorbar": {
             "outlinewidth": 0,
             "ticks": ""
            },
            "colorscale": [
             [
              0,
              "#0d0887"
             ],
             [
              0.1111111111111111,
              "#46039f"
             ],
             [
              0.2222222222222222,
              "#7201a8"
             ],
             [
              0.3333333333333333,
              "#9c179e"
             ],
             [
              0.4444444444444444,
              "#bd3786"
             ],
             [
              0.5555555555555556,
              "#d8576b"
             ],
             [
              0.6666666666666666,
              "#ed7953"
             ],
             [
              0.7777777777777778,
              "#fb9f3a"
             ],
             [
              0.8888888888888888,
              "#fdca26"
             ],
             [
              1,
              "#f0f921"
             ]
            ],
            "type": "heatmap"
           }
          ],
          "heatmapgl": [
           {
            "colorbar": {
             "outlinewidth": 0,
             "ticks": ""
            },
            "colorscale": [
             [
              0,
              "#0d0887"
             ],
             [
              0.1111111111111111,
              "#46039f"
             ],
             [
              0.2222222222222222,
              "#7201a8"
             ],
             [
              0.3333333333333333,
              "#9c179e"
             ],
             [
              0.4444444444444444,
              "#bd3786"
             ],
             [
              0.5555555555555556,
              "#d8576b"
             ],
             [
              0.6666666666666666,
              "#ed7953"
             ],
             [
              0.7777777777777778,
              "#fb9f3a"
             ],
             [
              0.8888888888888888,
              "#fdca26"
             ],
             [
              1,
              "#f0f921"
             ]
            ],
            "type": "heatmapgl"
           }
          ],
          "histogram": [
           {
            "marker": {
             "pattern": {
              "fillmode": "overlay",
              "size": 10,
              "solidity": 0.2
             }
            },
            "type": "histogram"
           }
          ],
          "histogram2d": [
           {
            "colorbar": {
             "outlinewidth": 0,
             "ticks": ""
            },
            "colorscale": [
             [
              0,
              "#0d0887"
             ],
             [
              0.1111111111111111,
              "#46039f"
             ],
             [
              0.2222222222222222,
              "#7201a8"
             ],
             [
              0.3333333333333333,
              "#9c179e"
             ],
             [
              0.4444444444444444,
              "#bd3786"
             ],
             [
              0.5555555555555556,
              "#d8576b"
             ],
             [
              0.6666666666666666,
              "#ed7953"
             ],
             [
              0.7777777777777778,
              "#fb9f3a"
             ],
             [
              0.8888888888888888,
              "#fdca26"
             ],
             [
              1,
              "#f0f921"
             ]
            ],
            "type": "histogram2d"
           }
          ],
          "histogram2dcontour": [
           {
            "colorbar": {
             "outlinewidth": 0,
             "ticks": ""
            },
            "colorscale": [
             [
              0,
              "#0d0887"
             ],
             [
              0.1111111111111111,
              "#46039f"
             ],
             [
              0.2222222222222222,
              "#7201a8"
             ],
             [
              0.3333333333333333,
              "#9c179e"
             ],
             [
              0.4444444444444444,
              "#bd3786"
             ],
             [
              0.5555555555555556,
              "#d8576b"
             ],
             [
              0.6666666666666666,
              "#ed7953"
             ],
             [
              0.7777777777777778,
              "#fb9f3a"
             ],
             [
              0.8888888888888888,
              "#fdca26"
             ],
             [
              1,
              "#f0f921"
             ]
            ],
            "type": "histogram2dcontour"
           }
          ],
          "mesh3d": [
           {
            "colorbar": {
             "outlinewidth": 0,
             "ticks": ""
            },
            "type": "mesh3d"
           }
          ],
          "parcoords": [
           {
            "line": {
             "colorbar": {
              "outlinewidth": 0,
              "ticks": ""
             }
            },
            "type": "parcoords"
           }
          ],
          "pie": [
           {
            "automargin": true,
            "type": "pie"
           }
          ],
          "scatter": [
           {
            "fillpattern": {
             "fillmode": "overlay",
             "size": 10,
             "solidity": 0.2
            },
            "type": "scatter"
           }
          ],
          "scatter3d": [
           {
            "line": {
             "colorbar": {
              "outlinewidth": 0,
              "ticks": ""
             }
            },
            "marker": {
             "colorbar": {
              "outlinewidth": 0,
              "ticks": ""
             }
            },
            "type": "scatter3d"
           }
          ],
          "scattercarpet": [
           {
            "marker": {
             "colorbar": {
              "outlinewidth": 0,
              "ticks": ""
             }
            },
            "type": "scattercarpet"
           }
          ],
          "scattergeo": [
           {
            "marker": {
             "colorbar": {
              "outlinewidth": 0,
              "ticks": ""
             }
            },
            "type": "scattergeo"
           }
          ],
          "scattergl": [
           {
            "marker": {
             "colorbar": {
              "outlinewidth": 0,
              "ticks": ""
             }
            },
            "type": "scattergl"
           }
          ],
          "scattermapbox": [
           {
            "marker": {
             "colorbar": {
              "outlinewidth": 0,
              "ticks": ""
             }
            },
            "type": "scattermapbox"
           }
          ],
          "scatterpolar": [
           {
            "marker": {
             "colorbar": {
              "outlinewidth": 0,
              "ticks": ""
             }
            },
            "type": "scatterpolar"
           }
          ],
          "scatterpolargl": [
           {
            "marker": {
             "colorbar": {
              "outlinewidth": 0,
              "ticks": ""
             }
            },
            "type": "scatterpolargl"
           }
          ],
          "scatterternary": [
           {
            "marker": {
             "colorbar": {
              "outlinewidth": 0,
              "ticks": ""
             }
            },
            "type": "scatterternary"
           }
          ],
          "surface": [
           {
            "colorbar": {
             "outlinewidth": 0,
             "ticks": ""
            },
            "colorscale": [
             [
              0,
              "#0d0887"
             ],
             [
              0.1111111111111111,
              "#46039f"
             ],
             [
              0.2222222222222222,
              "#7201a8"
             ],
             [
              0.3333333333333333,
              "#9c179e"
             ],
             [
              0.4444444444444444,
              "#bd3786"
             ],
             [
              0.5555555555555556,
              "#d8576b"
             ],
             [
              0.6666666666666666,
              "#ed7953"
             ],
             [
              0.7777777777777778,
              "#fb9f3a"
             ],
             [
              0.8888888888888888,
              "#fdca26"
             ],
             [
              1,
              "#f0f921"
             ]
            ],
            "type": "surface"
           }
          ],
          "table": [
           {
            "cells": {
             "fill": {
              "color": "#EBF0F8"
             },
             "line": {
              "color": "white"
             }
            },
            "header": {
             "fill": {
              "color": "#C8D4E3"
             },
             "line": {
              "color": "white"
             }
            },
            "type": "table"
           }
          ]
         },
         "layout": {
          "annotationdefaults": {
           "arrowcolor": "#2a3f5f",
           "arrowhead": 0,
           "arrowwidth": 1
          },
          "autotypenumbers": "strict",
          "coloraxis": {
           "colorbar": {
            "outlinewidth": 0,
            "ticks": ""
           }
          },
          "colorscale": {
           "diverging": [
            [
             0,
             "#8e0152"
            ],
            [
             0.1,
             "#c51b7d"
            ],
            [
             0.2,
             "#de77ae"
            ],
            [
             0.3,
             "#f1b6da"
            ],
            [
             0.4,
             "#fde0ef"
            ],
            [
             0.5,
             "#f7f7f7"
            ],
            [
             0.6,
             "#e6f5d0"
            ],
            [
             0.7,
             "#b8e186"
            ],
            [
             0.8,
             "#7fbc41"
            ],
            [
             0.9,
             "#4d9221"
            ],
            [
             1,
             "#276419"
            ]
           ],
           "sequential": [
            [
             0,
             "#0d0887"
            ],
            [
             0.1111111111111111,
             "#46039f"
            ],
            [
             0.2222222222222222,
             "#7201a8"
            ],
            [
             0.3333333333333333,
             "#9c179e"
            ],
            [
             0.4444444444444444,
             "#bd3786"
            ],
            [
             0.5555555555555556,
             "#d8576b"
            ],
            [
             0.6666666666666666,
             "#ed7953"
            ],
            [
             0.7777777777777778,
             "#fb9f3a"
            ],
            [
             0.8888888888888888,
             "#fdca26"
            ],
            [
             1,
             "#f0f921"
            ]
           ],
           "sequentialminus": [
            [
             0,
             "#0d0887"
            ],
            [
             0.1111111111111111,
             "#46039f"
            ],
            [
             0.2222222222222222,
             "#7201a8"
            ],
            [
             0.3333333333333333,
             "#9c179e"
            ],
            [
             0.4444444444444444,
             "#bd3786"
            ],
            [
             0.5555555555555556,
             "#d8576b"
            ],
            [
             0.6666666666666666,
             "#ed7953"
            ],
            [
             0.7777777777777778,
             "#fb9f3a"
            ],
            [
             0.8888888888888888,
             "#fdca26"
            ],
            [
             1,
             "#f0f921"
            ]
           ]
          },
          "colorway": [
           "#636efa",
           "#EF553B",
           "#00cc96",
           "#ab63fa",
           "#FFA15A",
           "#19d3f3",
           "#FF6692",
           "#B6E880",
           "#FF97FF",
           "#FECB52"
          ],
          "font": {
           "color": "#2a3f5f"
          },
          "geo": {
           "bgcolor": "white",
           "lakecolor": "white",
           "landcolor": "#E5ECF6",
           "showlakes": true,
           "showland": true,
           "subunitcolor": "white"
          },
          "hoverlabel": {
           "align": "left"
          },
          "hovermode": "closest",
          "mapbox": {
           "style": "light"
          },
          "paper_bgcolor": "white",
          "plot_bgcolor": "#E5ECF6",
          "polar": {
           "angularaxis": {
            "gridcolor": "white",
            "linecolor": "white",
            "ticks": ""
           },
           "bgcolor": "#E5ECF6",
           "radialaxis": {
            "gridcolor": "white",
            "linecolor": "white",
            "ticks": ""
           }
          },
          "scene": {
           "xaxis": {
            "backgroundcolor": "#E5ECF6",
            "gridcolor": "white",
            "gridwidth": 2,
            "linecolor": "white",
            "showbackground": true,
            "ticks": "",
            "zerolinecolor": "white"
           },
           "yaxis": {
            "backgroundcolor": "#E5ECF6",
            "gridcolor": "white",
            "gridwidth": 2,
            "linecolor": "white",
            "showbackground": true,
            "ticks": "",
            "zerolinecolor": "white"
           },
           "zaxis": {
            "backgroundcolor": "#E5ECF6",
            "gridcolor": "white",
            "gridwidth": 2,
            "linecolor": "white",
            "showbackground": true,
            "ticks": "",
            "zerolinecolor": "white"
           }
          },
          "shapedefaults": {
           "line": {
            "color": "#2a3f5f"
           }
          },
          "ternary": {
           "aaxis": {
            "gridcolor": "white",
            "linecolor": "white",
            "ticks": ""
           },
           "baxis": {
            "gridcolor": "white",
            "linecolor": "white",
            "ticks": ""
           },
           "bgcolor": "#E5ECF6",
           "caxis": {
            "gridcolor": "white",
            "linecolor": "white",
            "ticks": ""
           }
          },
          "title": {
           "x": 0.05
          },
          "xaxis": {
           "automargin": true,
           "gridcolor": "white",
           "linecolor": "white",
           "ticks": "",
           "title": {
            "standoff": 15
           },
           "zerolinecolor": "white",
           "zerolinewidth": 2
          },
          "yaxis": {
           "automargin": true,
           "gridcolor": "white",
           "linecolor": "white",
           "ticks": "",
           "title": {
            "standoff": 15
           },
           "zerolinecolor": "white",
           "zerolinewidth": 2
          }
         }
        },
        "title": {
         "text": "Volatility Surface Comparison"
        }
       }
      }
     },
     "metadata": {},
     "output_type": "display_data"
    },
    {
     "name": "stderr",
     "output_type": "stream",
     "text": [
      "/Users/mayurankv/Documents/Mayuran/Programming/Projects/Academic/Imperial College London/MSc Statistics/Dissertation/Project/modules/stochastic_volatility_models/stochastic_volatility_models/visualisations/volatility_surface.py:152: RuntimeWarning:\n",
      "\n",
      "invalid value encountered in divide\n",
      "\n"
     ]
    },
    {
     "data": {
      "application/vnd.plotly.v1+json": {
       "config": {
        "plotlyServerURL": "https://plot.ly",
        "toImageButtonOptions": {
         "filename": "surface",
         "format": "svg",
         "height": 400,
         "scale": 1,
         "width": 600
        }
       },
       "data": [
        {
         "name": "Percentage Error in Model Implied Volatility surface",
         "opacity": 1,
         "type": "surface",
         "x": [
          "2015-09-16",
          "2015-10-21",
          "2015-11-18",
          "2015-12-16",
          "2016-01-20",
          "2016-02-17"
         ],
         "y": [
          10,
          11,
          12,
          13,
          14,
          15,
          16,
          17,
          18,
          19,
          20,
          21,
          22,
          23,
          24,
          25,
          26,
          27,
          28,
          29,
          30,
          32.5,
          35,
          37.5,
          40,
          42.5,
          45,
          47.5,
          50,
          55,
          60,
          65,
          70
         ],
         "z": [
          [
           null,
           null,
           null,
           null,
           null,
           null
          ],
          [
           null,
           null,
           null,
           null,
           null,
           null
          ],
          [
           null,
           null,
           null,
           null,
           null,
           null
          ],
          [
           null,
           null,
           null,
           null,
           null,
           null
          ],
          [
           null,
           null,
           null,
           null,
           null,
           null
          ],
          [
           null,
           null,
           null,
           null,
           null,
           null
          ],
          [
           null,
           null,
           null,
           null,
           null,
           null
          ],
          [
           null,
           null,
           null,
           null,
           null,
           null
          ],
          [
           null,
           null,
           null,
           null,
           null,
           null
          ],
          [
           null,
           null,
           null,
           null,
           null,
           null
          ],
          [
           null,
           null,
           null,
           null,
           null,
           null
          ],
          [
           null,
           null,
           null,
           null,
           null,
           null
          ],
          [
           null,
           null,
           null,
           null,
           null,
           null
          ],
          [
           null,
           null,
           null,
           null,
           null,
           null
          ],
          [
           null,
           null,
           null,
           null,
           null,
           null
          ],
          [
           null,
           null,
           null,
           null,
           null,
           null
          ],
          [
           100,
           null,
           null,
           null,
           null,
           null
          ],
          [
           100,
           null,
           null,
           null,
           null,
           null
          ],
          [
           52.71358019393026,
           100,
           null,
           null,
           null,
           null
          ],
          [
           29.92971099930403,
           29.406919493279503,
           23.5492201444329,
           9.13008875234516,
           4.318019821782941,
           16.357929725669283
          ],
          [
           21.15842624486992,
           18.0229023876043,
           11.256289946883689,
           0.4791654830857585,
           5.762770102511666,
           3.9479510654423393
          ],
          [
           8.076038986892712,
           6.97972243784553,
           3.168158065086807,
           2.982374049569143,
           5.035256272108015,
           1.7721828378208109
          ],
          [
           1.1176935334039535,
           2.5725079573753624,
           0.3524216650049974,
           6.202197096821029,
           8.230532679691425,
           5.248426726746145
          ],
          [
           1.5508117618718178,
           0.5791631581263745,
           3.0249290608431023,
           7.30599574721922,
           9.41307006761902,
           8.326256503096511
          ],
          [
           3.038462552418651,
           1.6043798521089514,
           5.2395004848662,
           9.032746862180655,
           10.37099211298771,
           9.314261955536397
          ],
          [
           4.854130453899669,
           3.3728689662257616,
           6.157817007590097,
           9.356041161180835,
           10.828192405194692,
           9.824347736325842
          ],
          [
           5.954066261515017,
           3.796328784621207,
           7.292997912211499,
           8.89365603542381,
           10.456362384948047,
           10.63529694117814
          ],
          [
           4.617694152679277,
           6.110526718923098,
           7.574931093447103,
           9.443837460323776,
           13.734824939754564,
           12.855505328413876
          ],
          [
           6.025326742394527,
           5.6987740159513045,
           8.855725425394272,
           11.162022872651985,
           13.389438949086973,
           12.555776482312034
          ],
          [
           3.81715663940272,
           4.864138984655996,
           9.591365098047213,
           9.603087633468714,
           14.305002483985112,
           13.561886604921977
          ],
          [
           0.6082573907387978,
           5.70956927858215,
           11.014429299056449,
           11.334554448104852,
           13.44645498745943,
           12.78281588719548
          ],
          [
           1.4422516086121686,
           1.289451493495106,
           12.20650910704308,
           10.371362214584218,
           16.63108856945138,
           9.867813261619204
          ],
          [
           3.0363366857962513,
           4.046154951518983,
           10.922966453283784,
           9.097861063868857,
           9.421948500525748,
           12.414427554440648
          ]
         ]
        }
       ],
       "layout": {
        "margin": {
         "b": 0,
         "l": 0,
         "r": 0,
         "t": 0
        },
        "scene": {
         "aspectmode": "cube",
         "xaxis": {
          "title": {
           "text": "Expiries"
          }
         },
         "yaxis": {
          "title": {
           "text": "Strikes"
          }
         },
         "zaxis": {
          "title": {
           "text": "Absolute % Error in Volatility"
          }
         }
        },
        "template": {
         "data": {
          "bar": [
           {
            "error_x": {
             "color": "#2a3f5f"
            },
            "error_y": {
             "color": "#2a3f5f"
            },
            "marker": {
             "line": {
              "color": "#E5ECF6",
              "width": 0.5
             },
             "pattern": {
              "fillmode": "overlay",
              "size": 10,
              "solidity": 0.2
             }
            },
            "type": "bar"
           }
          ],
          "barpolar": [
           {
            "marker": {
             "line": {
              "color": "#E5ECF6",
              "width": 0.5
             },
             "pattern": {
              "fillmode": "overlay",
              "size": 10,
              "solidity": 0.2
             }
            },
            "type": "barpolar"
           }
          ],
          "carpet": [
           {
            "aaxis": {
             "endlinecolor": "#2a3f5f",
             "gridcolor": "white",
             "linecolor": "white",
             "minorgridcolor": "white",
             "startlinecolor": "#2a3f5f"
            },
            "baxis": {
             "endlinecolor": "#2a3f5f",
             "gridcolor": "white",
             "linecolor": "white",
             "minorgridcolor": "white",
             "startlinecolor": "#2a3f5f"
            },
            "type": "carpet"
           }
          ],
          "choropleth": [
           {
            "colorbar": {
             "outlinewidth": 0,
             "ticks": ""
            },
            "type": "choropleth"
           }
          ],
          "contour": [
           {
            "colorbar": {
             "outlinewidth": 0,
             "ticks": ""
            },
            "colorscale": [
             [
              0,
              "#0d0887"
             ],
             [
              0.1111111111111111,
              "#46039f"
             ],
             [
              0.2222222222222222,
              "#7201a8"
             ],
             [
              0.3333333333333333,
              "#9c179e"
             ],
             [
              0.4444444444444444,
              "#bd3786"
             ],
             [
              0.5555555555555556,
              "#d8576b"
             ],
             [
              0.6666666666666666,
              "#ed7953"
             ],
             [
              0.7777777777777778,
              "#fb9f3a"
             ],
             [
              0.8888888888888888,
              "#fdca26"
             ],
             [
              1,
              "#f0f921"
             ]
            ],
            "type": "contour"
           }
          ],
          "contourcarpet": [
           {
            "colorbar": {
             "outlinewidth": 0,
             "ticks": ""
            },
            "type": "contourcarpet"
           }
          ],
          "heatmap": [
           {
            "colorbar": {
             "outlinewidth": 0,
             "ticks": ""
            },
            "colorscale": [
             [
              0,
              "#0d0887"
             ],
             [
              0.1111111111111111,
              "#46039f"
             ],
             [
              0.2222222222222222,
              "#7201a8"
             ],
             [
              0.3333333333333333,
              "#9c179e"
             ],
             [
              0.4444444444444444,
              "#bd3786"
             ],
             [
              0.5555555555555556,
              "#d8576b"
             ],
             [
              0.6666666666666666,
              "#ed7953"
             ],
             [
              0.7777777777777778,
              "#fb9f3a"
             ],
             [
              0.8888888888888888,
              "#fdca26"
             ],
             [
              1,
              "#f0f921"
             ]
            ],
            "type": "heatmap"
           }
          ],
          "heatmapgl": [
           {
            "colorbar": {
             "outlinewidth": 0,
             "ticks": ""
            },
            "colorscale": [
             [
              0,
              "#0d0887"
             ],
             [
              0.1111111111111111,
              "#46039f"
             ],
             [
              0.2222222222222222,
              "#7201a8"
             ],
             [
              0.3333333333333333,
              "#9c179e"
             ],
             [
              0.4444444444444444,
              "#bd3786"
             ],
             [
              0.5555555555555556,
              "#d8576b"
             ],
             [
              0.6666666666666666,
              "#ed7953"
             ],
             [
              0.7777777777777778,
              "#fb9f3a"
             ],
             [
              0.8888888888888888,
              "#fdca26"
             ],
             [
              1,
              "#f0f921"
             ]
            ],
            "type": "heatmapgl"
           }
          ],
          "histogram": [
           {
            "marker": {
             "pattern": {
              "fillmode": "overlay",
              "size": 10,
              "solidity": 0.2
             }
            },
            "type": "histogram"
           }
          ],
          "histogram2d": [
           {
            "colorbar": {
             "outlinewidth": 0,
             "ticks": ""
            },
            "colorscale": [
             [
              0,
              "#0d0887"
             ],
             [
              0.1111111111111111,
              "#46039f"
             ],
             [
              0.2222222222222222,
              "#7201a8"
             ],
             [
              0.3333333333333333,
              "#9c179e"
             ],
             [
              0.4444444444444444,
              "#bd3786"
             ],
             [
              0.5555555555555556,
              "#d8576b"
             ],
             [
              0.6666666666666666,
              "#ed7953"
             ],
             [
              0.7777777777777778,
              "#fb9f3a"
             ],
             [
              0.8888888888888888,
              "#fdca26"
             ],
             [
              1,
              "#f0f921"
             ]
            ],
            "type": "histogram2d"
           }
          ],
          "histogram2dcontour": [
           {
            "colorbar": {
             "outlinewidth": 0,
             "ticks": ""
            },
            "colorscale": [
             [
              0,
              "#0d0887"
             ],
             [
              0.1111111111111111,
              "#46039f"
             ],
             [
              0.2222222222222222,
              "#7201a8"
             ],
             [
              0.3333333333333333,
              "#9c179e"
             ],
             [
              0.4444444444444444,
              "#bd3786"
             ],
             [
              0.5555555555555556,
              "#d8576b"
             ],
             [
              0.6666666666666666,
              "#ed7953"
             ],
             [
              0.7777777777777778,
              "#fb9f3a"
             ],
             [
              0.8888888888888888,
              "#fdca26"
             ],
             [
              1,
              "#f0f921"
             ]
            ],
            "type": "histogram2dcontour"
           }
          ],
          "mesh3d": [
           {
            "colorbar": {
             "outlinewidth": 0,
             "ticks": ""
            },
            "type": "mesh3d"
           }
          ],
          "parcoords": [
           {
            "line": {
             "colorbar": {
              "outlinewidth": 0,
              "ticks": ""
             }
            },
            "type": "parcoords"
           }
          ],
          "pie": [
           {
            "automargin": true,
            "type": "pie"
           }
          ],
          "scatter": [
           {
            "fillpattern": {
             "fillmode": "overlay",
             "size": 10,
             "solidity": 0.2
            },
            "type": "scatter"
           }
          ],
          "scatter3d": [
           {
            "line": {
             "colorbar": {
              "outlinewidth": 0,
              "ticks": ""
             }
            },
            "marker": {
             "colorbar": {
              "outlinewidth": 0,
              "ticks": ""
             }
            },
            "type": "scatter3d"
           }
          ],
          "scattercarpet": [
           {
            "marker": {
             "colorbar": {
              "outlinewidth": 0,
              "ticks": ""
             }
            },
            "type": "scattercarpet"
           }
          ],
          "scattergeo": [
           {
            "marker": {
             "colorbar": {
              "outlinewidth": 0,
              "ticks": ""
             }
            },
            "type": "scattergeo"
           }
          ],
          "scattergl": [
           {
            "marker": {
             "colorbar": {
              "outlinewidth": 0,
              "ticks": ""
             }
            },
            "type": "scattergl"
           }
          ],
          "scattermapbox": [
           {
            "marker": {
             "colorbar": {
              "outlinewidth": 0,
              "ticks": ""
             }
            },
            "type": "scattermapbox"
           }
          ],
          "scatterpolar": [
           {
            "marker": {
             "colorbar": {
              "outlinewidth": 0,
              "ticks": ""
             }
            },
            "type": "scatterpolar"
           }
          ],
          "scatterpolargl": [
           {
            "marker": {
             "colorbar": {
              "outlinewidth": 0,
              "ticks": ""
             }
            },
            "type": "scatterpolargl"
           }
          ],
          "scatterternary": [
           {
            "marker": {
             "colorbar": {
              "outlinewidth": 0,
              "ticks": ""
             }
            },
            "type": "scatterternary"
           }
          ],
          "surface": [
           {
            "colorbar": {
             "outlinewidth": 0,
             "ticks": ""
            },
            "colorscale": [
             [
              0,
              "#0d0887"
             ],
             [
              0.1111111111111111,
              "#46039f"
             ],
             [
              0.2222222222222222,
              "#7201a8"
             ],
             [
              0.3333333333333333,
              "#9c179e"
             ],
             [
              0.4444444444444444,
              "#bd3786"
             ],
             [
              0.5555555555555556,
              "#d8576b"
             ],
             [
              0.6666666666666666,
              "#ed7953"
             ],
             [
              0.7777777777777778,
              "#fb9f3a"
             ],
             [
              0.8888888888888888,
              "#fdca26"
             ],
             [
              1,
              "#f0f921"
             ]
            ],
            "type": "surface"
           }
          ],
          "table": [
           {
            "cells": {
             "fill": {
              "color": "#EBF0F8"
             },
             "line": {
              "color": "white"
             }
            },
            "header": {
             "fill": {
              "color": "#C8D4E3"
             },
             "line": {
              "color": "white"
             }
            },
            "type": "table"
           }
          ]
         },
         "layout": {
          "annotationdefaults": {
           "arrowcolor": "#2a3f5f",
           "arrowhead": 0,
           "arrowwidth": 1
          },
          "autotypenumbers": "strict",
          "coloraxis": {
           "colorbar": {
            "outlinewidth": 0,
            "ticks": ""
           }
          },
          "colorscale": {
           "diverging": [
            [
             0,
             "#8e0152"
            ],
            [
             0.1,
             "#c51b7d"
            ],
            [
             0.2,
             "#de77ae"
            ],
            [
             0.3,
             "#f1b6da"
            ],
            [
             0.4,
             "#fde0ef"
            ],
            [
             0.5,
             "#f7f7f7"
            ],
            [
             0.6,
             "#e6f5d0"
            ],
            [
             0.7,
             "#b8e186"
            ],
            [
             0.8,
             "#7fbc41"
            ],
            [
             0.9,
             "#4d9221"
            ],
            [
             1,
             "#276419"
            ]
           ],
           "sequential": [
            [
             0,
             "#0d0887"
            ],
            [
             0.1111111111111111,
             "#46039f"
            ],
            [
             0.2222222222222222,
             "#7201a8"
            ],
            [
             0.3333333333333333,
             "#9c179e"
            ],
            [
             0.4444444444444444,
             "#bd3786"
            ],
            [
             0.5555555555555556,
             "#d8576b"
            ],
            [
             0.6666666666666666,
             "#ed7953"
            ],
            [
             0.7777777777777778,
             "#fb9f3a"
            ],
            [
             0.8888888888888888,
             "#fdca26"
            ],
            [
             1,
             "#f0f921"
            ]
           ],
           "sequentialminus": [
            [
             0,
             "#0d0887"
            ],
            [
             0.1111111111111111,
             "#46039f"
            ],
            [
             0.2222222222222222,
             "#7201a8"
            ],
            [
             0.3333333333333333,
             "#9c179e"
            ],
            [
             0.4444444444444444,
             "#bd3786"
            ],
            [
             0.5555555555555556,
             "#d8576b"
            ],
            [
             0.6666666666666666,
             "#ed7953"
            ],
            [
             0.7777777777777778,
             "#fb9f3a"
            ],
            [
             0.8888888888888888,
             "#fdca26"
            ],
            [
             1,
             "#f0f921"
            ]
           ]
          },
          "colorway": [
           "#636efa",
           "#EF553B",
           "#00cc96",
           "#ab63fa",
           "#FFA15A",
           "#19d3f3",
           "#FF6692",
           "#B6E880",
           "#FF97FF",
           "#FECB52"
          ],
          "font": {
           "color": "#2a3f5f"
          },
          "geo": {
           "bgcolor": "white",
           "lakecolor": "white",
           "landcolor": "#E5ECF6",
           "showlakes": true,
           "showland": true,
           "subunitcolor": "white"
          },
          "hoverlabel": {
           "align": "left"
          },
          "hovermode": "closest",
          "mapbox": {
           "style": "light"
          },
          "paper_bgcolor": "white",
          "plot_bgcolor": "#E5ECF6",
          "polar": {
           "angularaxis": {
            "gridcolor": "white",
            "linecolor": "white",
            "ticks": ""
           },
           "bgcolor": "#E5ECF6",
           "radialaxis": {
            "gridcolor": "white",
            "linecolor": "white",
            "ticks": ""
           }
          },
          "scene": {
           "xaxis": {
            "backgroundcolor": "#E5ECF6",
            "gridcolor": "white",
            "gridwidth": 2,
            "linecolor": "white",
            "showbackground": true,
            "ticks": "",
            "zerolinecolor": "white"
           },
           "yaxis": {
            "backgroundcolor": "#E5ECF6",
            "gridcolor": "white",
            "gridwidth": 2,
            "linecolor": "white",
            "showbackground": true,
            "ticks": "",
            "zerolinecolor": "white"
           },
           "zaxis": {
            "backgroundcolor": "#E5ECF6",
            "gridcolor": "white",
            "gridwidth": 2,
            "linecolor": "white",
            "showbackground": true,
            "ticks": "",
            "zerolinecolor": "white"
           }
          },
          "shapedefaults": {
           "line": {
            "color": "#2a3f5f"
           }
          },
          "ternary": {
           "aaxis": {
            "gridcolor": "white",
            "linecolor": "white",
            "ticks": ""
           },
           "baxis": {
            "gridcolor": "white",
            "linecolor": "white",
            "ticks": ""
           },
           "bgcolor": "#E5ECF6",
           "caxis": {
            "gridcolor": "white",
            "linecolor": "white",
            "ticks": ""
           }
          },
          "title": {
           "x": 0.05
          },
          "xaxis": {
           "automargin": true,
           "gridcolor": "white",
           "linecolor": "white",
           "ticks": "",
           "title": {
            "standoff": 15
           },
           "zerolinecolor": "white",
           "zerolinewidth": 2
          },
          "yaxis": {
           "automargin": true,
           "gridcolor": "white",
           "linecolor": "white",
           "ticks": "",
           "title": {
            "standoff": 15
           },
           "zerolinecolor": "white",
           "zerolinewidth": 2
          }
         }
        }
       }
      }
     },
     "metadata": {},
     "output_type": "display_data"
    }
   ],
   "source": [
    "from stochastic_volatility_models.visualisations.volatility_surface import plot_volatility_surface_comparison, plot_volatility_surface_error_comparison\n",
    "\n",
    "nbe = Notebook(\n",
    "\ttime=time,\n",
    "\tmodel=None,\n",
    ")\n",
    "\n",
    "config = {\n",
    "\t\"toImageButtonOptions\": {\n",
    "\t\t\"format\": \"svg\",  # one of png, svg, jpeg, webp\n",
    "\t\t\"filename\": \"surface\",\n",
    "\t\t\"height\": 400,\n",
    "\t\t\"width\": 600,\n",
    "\t\t\"scale\": 1,  # Multiply title/legend/axis/canvas sizes by this factor\n",
    "\t}\n",
    "}\n",
    "\n",
    "model = nb.plot_surfaces(volatility=False)\n",
    "empirical = nbe.plot_surfaces(volatility=False)\n",
    "plot_volatility_surface_comparison(model, empirical, 0.4).show(config=config)\n",
    "plot_volatility_surface_error_comparison(model, empirical, 1).show(config=config)\n",
    "model = nb.plot_surfaces(volatility=True, call=True, price=False)\n",
    "empirical = nbe.plot_surfaces(volatility=True, call=True, price=False)\n",
    "plot_volatility_surface_comparison(model, empirical, 0.4).show(config=config)\n",
    "plot_volatility_surface_error_comparison(model, empirical, 1).show(config=config)"
   ]
  }
 ],
 "metadata": {
  "kernelspec": {
   "display_name": ".venv",
   "language": "python",
   "name": "python3"
  },
  "language_info": {
   "codemirror_mode": {
    "name": "ipython",
    "version": 3
   },
   "file_extension": ".py",
   "mimetype": "text/x-python",
   "name": "python",
   "nbconvert_exporter": "python",
   "pygments_lexer": "ipython3",
   "version": "3.12.5"
  }
 },
 "nbformat": 4,
 "nbformat_minor": 2
}
