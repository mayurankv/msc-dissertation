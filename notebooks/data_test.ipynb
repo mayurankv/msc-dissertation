{
 "cells": [
  {
   "cell_type": "code",
   "execution_count": 1,
   "metadata": {},
   "outputs": [
    {
     "name": "stdout",
     "output_type": "stream",
     "text": [
      "\u001b[32m2024-08-25 22:13:41.941\u001b[0m | \u001b[1mINFO    \u001b[0m | \u001b[36mstochastic_volatility_models.config\u001b[0m:\u001b[36minitialise\u001b[0m:\u001b[36m30\u001b[0m - \u001b[1mLoaded module `stochastic_volatility_models` from project directory path `/Users/mayurankv/Documents/Mayuran/Programming/Projects/Academic/Imperial College London/MSc Statistics/Dissertation/Project/modules`\u001b[0m\n"
     ]
    }
   ],
   "source": [
    "import pandas as pd\n",
    "from pandas import DataFrame\n",
    "from stochastic_volatility_models.config import MODULE_DIRECTORY\n",
    "from stochastic_volatility_models.src.data.pull.wrds_pull_data import PLURAL"
   ]
  },
  {
   "cell_type": "code",
   "execution_count": 2,
   "metadata": {},
   "outputs": [
    {
     "name": "stdout",
     "output_type": "stream",
     "text": [
      "0.04656\n",
      "0.7395999999999999\n"
     ]
    }
   ],
   "source": [
    "print(2 * 0.097 * 0.24)\n",
    "print(0.86**2)"
   ]
  },
  {
   "cell_type": "code",
   "execution_count": 2,
   "metadata": {},
   "outputs": [],
   "source": [
    "INDEX_KEYS = {\n",
    "\t\"option\": [\"symbol\", \"date\"],\n",
    "\t\"future\": [\"expiration\", \"date\", \"amsettlement\"],\n",
    "\t\"security\": [\"date\"],\n",
    "}"
   ]
  },
  {
   "cell_type": "markdown",
   "metadata": {},
   "source": [
    "- Add index column 0 to n\n",
    "- Remove `index_flag`, `issuer` and `exercise_style` columns\n",
    "- ==Maybe== Move `am_settlement` to the end"
   ]
  },
  {
   "cell_type": "code",
   "execution_count": 68,
   "metadata": {},
   "outputs": [
    {
     "name": "stderr",
     "output_type": "stream",
     "text": [
      "/var/folders/5x/hwwm8kmn4z77258t79_46vfm0000gn/T/ipykernel_67429/3969535053.py:7: DtypeWarning: Columns (19,20) have mixed types. Specify dtype option on import or set low_memory=False.\n",
      "  option_prices = pd.read_csv(path)\n"
     ]
    }
   ],
   "source": [
    "# 2010-2018\n",
    "ticker = \"VIX\"\n",
    "year = 2010\n",
    "asset_type = \"option\"\n",
    "\n",
    "path = f\"{MODULE_DIRECTORY}/data/wrds/{PLURAL[asset_type]}/{ticker.lower()}/{year}/{asset_type}_prices_{ticker.lower()}_{year}.csv\"\n",
    "option_prices = pd.read_csv(path)\n",
    "option_prices.columns = [col.lower() for col in option_prices.columns]\n",
    "if \"unnamed: 0\" in option_prices.columns:\n",
    "\toption_prices = option_prices.drop([\"unnamed: 0\"], axis=1)\n",
    "\n",
    "option_prices = option_prices.drop([\"index_flag\", \"issuer\", \"exercise_style\"], axis=1)\n",
    "# option_prices = option_prices.drop([\"secid\"], axis=1)\n",
    "option_prices.to_csv(path)"
   ]
  },
  {
   "cell_type": "code",
   "execution_count": 8,
   "metadata": {},
   "outputs": [],
   "source": []
  },
  {
   "cell_type": "code",
   "execution_count": null,
   "metadata": {},
   "outputs": [],
   "source": [
    "def reformat_wrds_data(\n",
    "\tticker: str,\n",
    "\tyear: int,\n",
    "\tasset_type: str,\n",
    ") -> DataFrame:\n",
    "\tpath = f\"{MODULE_DIRECTORY}/data/wrds/{PLURAL[asset_type]}/{ticker.lower()}/{year}/{asset_type}_prices_{ticker.lower()}_{year}.csv\"\n",
    "\toption_prices = pd.read_csv(path).drop(columns=\"Unnamed: 0\")\n",
    "\toption_prices = option_prices.set_index(keys=INDEX_KEYS[asset_type])\n",
    "\tif not option_prices.index.is_unique:\n",
    "\t\traise IndexError(\"Index is not unique\")\n",
    "\n",
    "\treturn option_prices"
   ]
  }
 ],
 "metadata": {
  "kernelspec": {
   "display_name": ".venv",
   "language": "python",
   "name": "python3"
  },
  "language_info": {
   "codemirror_mode": {
    "name": "ipython",
    "version": 3
   },
   "file_extension": ".py",
   "mimetype": "text/x-python",
   "name": "python",
   "nbconvert_exporter": "python",
   "pygments_lexer": "ipython3",
   "version": "3.12.4"
  }
 },
 "nbformat": 4,
 "nbformat_minor": 2
}
