{
 "cells": [
  {
   "cell_type": "code",
   "execution_count": 4,
   "metadata": {},
   "outputs": [
    {
     "name": "stdout",
     "output_type": "stream",
     "text": [
      "\u001b[32m2024-08-29 09:36:29.533\u001b[0m | \u001b[1mINFO    \u001b[0m | \u001b[36mstochastic_volatility_models.config\u001b[0m:\u001b[36minitialise\u001b[0m:\u001b[36m30\u001b[0m - \u001b[1mLoaded module `stochastic_volatility_models` from project directory path `/Users/mayurankv/Documents/Mayuran/Programming/Projects/Academic/Imperial College London/MSc Statistics/Dissertation/Project/modules`\u001b[0m\n"
     ]
    }
   ],
   "source": []
  },
  {
   "cell_type": "code",
   "execution_count": 5,
   "metadata": {},
   "outputs": [
    {
     "name": "stdout",
     "output_type": "stream",
     "text": [
      "11.28\n"
     ]
    }
   ],
   "source": [
    "from stochastic_volatility_models.src.core.underlying import Underlying\n",
    "from stochastic_volatility_models.src.data.strikes import get_strikes_of_expiries\n",
    "from stochastic_volatility_models.src.data.expiries import get_expiries_of_strikes\n",
    "\n",
    "import numpy as np\n",
    "\n",
    "time = np.datetime64(\"2017-11-30\")\n",
    "vix = Underlying(\"VIX\")\n",
    "\n",
    "print(vix.price(time))"
   ]
  },
  {
   "cell_type": "code",
   "execution_count": 9,
   "metadata": {},
   "outputs": [
    {
     "data": {
      "text/plain": [
       "(10,\n",
       " 11,\n",
       " 12,\n",
       " 13,\n",
       " 14,\n",
       " 15,\n",
       " 16,\n",
       " 17,\n",
       " 18,\n",
       " 19,\n",
       " 20,\n",
       " 21,\n",
       " 22,\n",
       " 23,\n",
       " 24,\n",
       " 25,\n",
       " 30,\n",
       " 35,\n",
       " 40,\n",
       " 45)"
      ]
     },
     "execution_count": 9,
     "metadata": {},
     "output_type": "execute_result"
    }
   ],
   "source": [
    "# print(get_strikes_of_expiry(spx.ticker, np.datetime64(\"2017-01-03\"), time, monthly=False))\n",
    "get_expiries_of_strikes(vix.ticker, np.array([11]), time, monthly=True)\n",
    "tuple(np.array(get_strikes_of_expiries(vix.ticker, np.array([\"2017-12-06\", \"2017-12-13\", \"2017-12-20\", \"2017-12-27\", \"2018-01-03\", \"2018-01-17\", \"2018-02-14\", \"2018-03-21\", \"2018-04-18\", \"2018-05-16\"], dtype=np.datetime64), time, monthly=True), dtype=np.int64))"
   ]
  }
 ],
 "metadata": {
  "kernelspec": {
   "display_name": ".venv",
   "language": "python",
   "name": "python3"
  },
  "language_info": {
   "codemirror_mode": {
    "name": "ipython",
    "version": 3
   },
   "file_extension": ".py",
   "mimetype": "text/x-python",
   "name": "python",
   "nbconvert_exporter": "python",
   "pygments_lexer": "ipython3",
   "version": "3.12.4"
  }
 },
 "nbformat": 4,
 "nbformat_minor": 2
}
